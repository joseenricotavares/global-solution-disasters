{
 "cells": [
  {
   "cell_type": "markdown",
   "id": "1288b16a",
   "metadata": {},
   "source": [
    "## Imports e configurações"
   ]
  },
  {
   "cell_type": "code",
   "execution_count": 38,
   "id": "39e20ec5",
   "metadata": {},
   "outputs": [],
   "source": [
    "import pandas as pd\n",
    "from kaggle.api.kaggle_api_extended import KaggleApi\n",
    "import plotly.express as px\n",
    "import matplotlib.pyplot as plt\n",
    "import numpy as np\n",
    "from sklearn.preprocessing import OneHotEncoder\n",
    "from sklearn.model_selection import train_test_split\n",
    "import pickle\n",
    "from pycaret.classification import setup, compare_models, save_model, get_config\n",
    "from sklearn.metrics import roc_auc_score, accuracy_score, recall_score, precision_score, f1_score\n",
    "import os\n",
    "\n",
    "pd.set_option('display.max_rows', None)\n",
    "pd.set_option('display.max_columns', None)\n",
    "#pd.set_option('display.max_colwidth', None)\n",
    "pd.set_option('display.width', None)"
   ]
  },
  {
   "cell_type": "markdown",
   "id": "5457308a",
   "metadata": {},
   "source": [
    "## Obtenção e tratamento inicial dos dados"
   ]
  },
  {
   "cell_type": "code",
   "execution_count": 39,
   "id": "2222a77b",
   "metadata": {},
   "outputs": [
    {
     "name": "stdout",
     "output_type": "stream",
     "text": [
      "Dataset URL: https://www.kaggle.com/datasets/jseebs/disaster-dataset\n"
     ]
    }
   ],
   "source": [
    "data_path = '../data/raw/'\n",
    "kaggle_api = KaggleApi()\n",
    "kaggle_api.authenticate()\n",
    "kaggle_api.dataset_download_files(\"jseebs/disaster-dataset\", path=data_path, unzip=True)"
   ]
  },
  {
   "cell_type": "code",
   "execution_count": 40,
   "id": "ef99677d",
   "metadata": {},
   "outputs": [
    {
     "name": "stdout",
     "output_type": "stream",
     "text": [
      "(15784, 46)\n"
     ]
    },
    {
     "data": {
      "text/html": [
       "<div>\n",
       "<style scoped>\n",
       "    .dataframe tbody tr th:only-of-type {\n",
       "        vertical-align: middle;\n",
       "    }\n",
       "\n",
       "    .dataframe tbody tr th {\n",
       "        vertical-align: top;\n",
       "    }\n",
       "\n",
       "    .dataframe thead th {\n",
       "        text-align: right;\n",
       "    }\n",
       "</style>\n",
       "<table border=\"1\" class=\"dataframe\">\n",
       "  <thead>\n",
       "    <tr style=\"text-align: right;\">\n",
       "      <th></th>\n",
       "      <th>DisNo.</th>\n",
       "      <th>Historic</th>\n",
       "      <th>Classification Key</th>\n",
       "      <th>Disaster Group</th>\n",
       "      <th>Disaster Subgroup</th>\n",
       "      <th>Disaster Type</th>\n",
       "      <th>Disaster Subtype</th>\n",
       "      <th>External IDs</th>\n",
       "      <th>Event Name</th>\n",
       "      <th>ISO</th>\n",
       "      <th>Country</th>\n",
       "      <th>Subregion</th>\n",
       "      <th>Region</th>\n",
       "      <th>Location</th>\n",
       "      <th>Origin</th>\n",
       "      <th>Associated Types</th>\n",
       "      <th>OFDA/BHA Response</th>\n",
       "      <th>Appeal</th>\n",
       "      <th>Declaration</th>\n",
       "      <th>AID Contribution ('000 US$)</th>\n",
       "      <th>Magnitude</th>\n",
       "      <th>Magnitude Scale</th>\n",
       "      <th>Latitude</th>\n",
       "      <th>Longitude</th>\n",
       "      <th>River Basin</th>\n",
       "      <th>Start Year</th>\n",
       "      <th>Start Month</th>\n",
       "      <th>Start Day</th>\n",
       "      <th>End Year</th>\n",
       "      <th>End Month</th>\n",
       "      <th>End Day</th>\n",
       "      <th>Total Deaths</th>\n",
       "      <th>No. Injured</th>\n",
       "      <th>No. Affected</th>\n",
       "      <th>No. Homeless</th>\n",
       "      <th>Total Affected</th>\n",
       "      <th>Reconstruction Costs ('000 US$)</th>\n",
       "      <th>Reconstruction Costs, Adjusted ('000 US$)</th>\n",
       "      <th>Insured Damage ('000 US$)</th>\n",
       "      <th>Insured Damage, Adjusted ('000 US$)</th>\n",
       "      <th>Total Damage ('000 US$)</th>\n",
       "      <th>Total Damage, Adjusted ('000 US$)</th>\n",
       "      <th>CPI</th>\n",
       "      <th>Admin Units</th>\n",
       "      <th>Entry Date</th>\n",
       "      <th>Last Update</th>\n",
       "    </tr>\n",
       "  </thead>\n",
       "  <tbody>\n",
       "    <tr>\n",
       "      <th>0</th>\n",
       "      <td>1999-9388-DJI</td>\n",
       "      <td>No</td>\n",
       "      <td>nat-cli-dro-dro</td>\n",
       "      <td>Natural</td>\n",
       "      <td>Climatological</td>\n",
       "      <td>Drought</td>\n",
       "      <td>Drought</td>\n",
       "      <td>NaN</td>\n",
       "      <td>NaN</td>\n",
       "      <td>DJI</td>\n",
       "      <td>Djibouti</td>\n",
       "      <td>Sub-Saharan Africa</td>\n",
       "      <td>Africa</td>\n",
       "      <td>Ali Sabieh, Dikhil, Djibouti, Obock, Tadjourah...</td>\n",
       "      <td>NaN</td>\n",
       "      <td>NaN</td>\n",
       "      <td>Yes</td>\n",
       "      <td>No</td>\n",
       "      <td>No</td>\n",
       "      <td>1556.0</td>\n",
       "      <td>NaN</td>\n",
       "      <td>Km2</td>\n",
       "      <td>NaN</td>\n",
       "      <td>NaN</td>\n",
       "      <td>NaN</td>\n",
       "      <td>2001</td>\n",
       "      <td>6.0</td>\n",
       "      <td>NaN</td>\n",
       "      <td>2001</td>\n",
       "      <td>NaN</td>\n",
       "      <td>NaN</td>\n",
       "      <td>NaN</td>\n",
       "      <td>NaN</td>\n",
       "      <td>100000.0</td>\n",
       "      <td>NaN</td>\n",
       "      <td>100000.0</td>\n",
       "      <td>NaN</td>\n",
       "      <td>NaN</td>\n",
       "      <td>NaN</td>\n",
       "      <td>NaN</td>\n",
       "      <td>NaN</td>\n",
       "      <td>NaN</td>\n",
       "      <td>58.111474</td>\n",
       "      <td>[{\"adm1_code\":1093,\"adm1_name\":\"Ali Sabieh\"},{...</td>\n",
       "      <td>2006-03-01</td>\n",
       "      <td>2023-09-25</td>\n",
       "    </tr>\n",
       "    <tr>\n",
       "      <th>1</th>\n",
       "      <td>1999-9388-SDN</td>\n",
       "      <td>No</td>\n",
       "      <td>nat-cli-dro-dro</td>\n",
       "      <td>Natural</td>\n",
       "      <td>Climatological</td>\n",
       "      <td>Drought</td>\n",
       "      <td>Drought</td>\n",
       "      <td>NaN</td>\n",
       "      <td>NaN</td>\n",
       "      <td>SDN</td>\n",
       "      <td>Sudan</td>\n",
       "      <td>Northern Africa</td>\n",
       "      <td>Africa</td>\n",
       "      <td>Northern Darfur, Northern Kordofan, Red Sea pr...</td>\n",
       "      <td>NaN</td>\n",
       "      <td>Food shortage|Water shortage</td>\n",
       "      <td>No</td>\n",
       "      <td>No</td>\n",
       "      <td>No</td>\n",
       "      <td>NaN</td>\n",
       "      <td>NaN</td>\n",
       "      <td>Km2</td>\n",
       "      <td>NaN</td>\n",
       "      <td>NaN</td>\n",
       "      <td>NaN</td>\n",
       "      <td>2000</td>\n",
       "      <td>1.0</td>\n",
       "      <td>NaN</td>\n",
       "      <td>2001</td>\n",
       "      <td>NaN</td>\n",
       "      <td>NaN</td>\n",
       "      <td>NaN</td>\n",
       "      <td>NaN</td>\n",
       "      <td>2000000.0</td>\n",
       "      <td>NaN</td>\n",
       "      <td>2000000.0</td>\n",
       "      <td>NaN</td>\n",
       "      <td>NaN</td>\n",
       "      <td>NaN</td>\n",
       "      <td>NaN</td>\n",
       "      <td>NaN</td>\n",
       "      <td>NaN</td>\n",
       "      <td>56.514291</td>\n",
       "      <td>[{\"adm1_code\":2757,\"adm1_name\":\"Northern Darfu...</td>\n",
       "      <td>2006-03-08</td>\n",
       "      <td>2023-09-25</td>\n",
       "    </tr>\n",
       "    <tr>\n",
       "      <th>2</th>\n",
       "      <td>1999-9388-SOM</td>\n",
       "      <td>No</td>\n",
       "      <td>nat-cli-dro-dro</td>\n",
       "      <td>Natural</td>\n",
       "      <td>Climatological</td>\n",
       "      <td>Drought</td>\n",
       "      <td>Drought</td>\n",
       "      <td>NaN</td>\n",
       "      <td>NaN</td>\n",
       "      <td>SOM</td>\n",
       "      <td>Somalia</td>\n",
       "      <td>Sub-Saharan Africa</td>\n",
       "      <td>Africa</td>\n",
       "      <td>Ceel Barde, Rab Dhuure, Tayeeglow, Xudur distr...</td>\n",
       "      <td>NaN</td>\n",
       "      <td>Food shortage</td>\n",
       "      <td>No</td>\n",
       "      <td>No</td>\n",
       "      <td>No</td>\n",
       "      <td>NaN</td>\n",
       "      <td>NaN</td>\n",
       "      <td>Km2</td>\n",
       "      <td>NaN</td>\n",
       "      <td>NaN</td>\n",
       "      <td>NaN</td>\n",
       "      <td>2000</td>\n",
       "      <td>1.0</td>\n",
       "      <td>NaN</td>\n",
       "      <td>2001</td>\n",
       "      <td>NaN</td>\n",
       "      <td>NaN</td>\n",
       "      <td>21.0</td>\n",
       "      <td>NaN</td>\n",
       "      <td>1200000.0</td>\n",
       "      <td>NaN</td>\n",
       "      <td>1200000.0</td>\n",
       "      <td>NaN</td>\n",
       "      <td>NaN</td>\n",
       "      <td>NaN</td>\n",
       "      <td>NaN</td>\n",
       "      <td>NaN</td>\n",
       "      <td>NaN</td>\n",
       "      <td>56.514291</td>\n",
       "      <td>[{\"adm1_code\":2691,\"adm1_name\":\"Bay\"},{\"adm1_c...</td>\n",
       "      <td>2006-03-08</td>\n",
       "      <td>2023-09-25</td>\n",
       "    </tr>\n",
       "    <tr>\n",
       "      <th>3</th>\n",
       "      <td>2000-0001-AGO</td>\n",
       "      <td>No</td>\n",
       "      <td>tec-tra-roa-roa</td>\n",
       "      <td>Technological</td>\n",
       "      <td>Transport</td>\n",
       "      <td>Road</td>\n",
       "      <td>Road</td>\n",
       "      <td>NaN</td>\n",
       "      <td>NaN</td>\n",
       "      <td>AGO</td>\n",
       "      <td>Angola</td>\n",
       "      <td>Sub-Saharan Africa</td>\n",
       "      <td>Africa</td>\n",
       "      <td>Calulo</td>\n",
       "      <td>NaN</td>\n",
       "      <td>NaN</td>\n",
       "      <td>No</td>\n",
       "      <td>No</td>\n",
       "      <td>No</td>\n",
       "      <td>NaN</td>\n",
       "      <td>NaN</td>\n",
       "      <td>NaN</td>\n",
       "      <td>NaN</td>\n",
       "      <td>NaN</td>\n",
       "      <td>NaN</td>\n",
       "      <td>2000</td>\n",
       "      <td>1.0</td>\n",
       "      <td>26.0</td>\n",
       "      <td>2000</td>\n",
       "      <td>1.0</td>\n",
       "      <td>26.0</td>\n",
       "      <td>14.0</td>\n",
       "      <td>11.0</td>\n",
       "      <td>NaN</td>\n",
       "      <td>NaN</td>\n",
       "      <td>11.0</td>\n",
       "      <td>NaN</td>\n",
       "      <td>NaN</td>\n",
       "      <td>NaN</td>\n",
       "      <td>NaN</td>\n",
       "      <td>NaN</td>\n",
       "      <td>NaN</td>\n",
       "      <td>56.514291</td>\n",
       "      <td>NaN</td>\n",
       "      <td>2004-10-27</td>\n",
       "      <td>2023-09-25</td>\n",
       "    </tr>\n",
       "    <tr>\n",
       "      <th>4</th>\n",
       "      <td>2000-0002-AGO</td>\n",
       "      <td>No</td>\n",
       "      <td>nat-hyd-flo-riv</td>\n",
       "      <td>Natural</td>\n",
       "      <td>Hydrological</td>\n",
       "      <td>Flood</td>\n",
       "      <td>Riverine flood</td>\n",
       "      <td>NaN</td>\n",
       "      <td>NaN</td>\n",
       "      <td>AGO</td>\n",
       "      <td>Angola</td>\n",
       "      <td>Sub-Saharan Africa</td>\n",
       "      <td>Africa</td>\n",
       "      <td>Dombre Grande village (Baia Farta district, Be...</td>\n",
       "      <td>Heavy rain</td>\n",
       "      <td>NaN</td>\n",
       "      <td>No</td>\n",
       "      <td>No</td>\n",
       "      <td>Yes</td>\n",
       "      <td>NaN</td>\n",
       "      <td>47000.0</td>\n",
       "      <td>Km2</td>\n",
       "      <td>NaN</td>\n",
       "      <td>NaN</td>\n",
       "      <td>Coporolo, Kwanza, Lucala</td>\n",
       "      <td>2000</td>\n",
       "      <td>1.0</td>\n",
       "      <td>8.0</td>\n",
       "      <td>2000</td>\n",
       "      <td>1.0</td>\n",
       "      <td>15.0</td>\n",
       "      <td>31.0</td>\n",
       "      <td>NaN</td>\n",
       "      <td>70000.0</td>\n",
       "      <td>NaN</td>\n",
       "      <td>70000.0</td>\n",
       "      <td>NaN</td>\n",
       "      <td>NaN</td>\n",
       "      <td>NaN</td>\n",
       "      <td>NaN</td>\n",
       "      <td>10000.0</td>\n",
       "      <td>17695.0</td>\n",
       "      <td>56.514291</td>\n",
       "      <td>[{\"adm2_code\":4214,\"adm2_name\":\"Baia Farta\"},{...</td>\n",
       "      <td>2005-02-03</td>\n",
       "      <td>2023-09-25</td>\n",
       "    </tr>\n",
       "  </tbody>\n",
       "</table>\n",
       "</div>"
      ],
      "text/plain": [
       "          DisNo. Historic Classification Key Disaster Group Disaster Subgroup  \\\n",
       "0  1999-9388-DJI       No    nat-cli-dro-dro        Natural    Climatological   \n",
       "1  1999-9388-SDN       No    nat-cli-dro-dro        Natural    Climatological   \n",
       "2  1999-9388-SOM       No    nat-cli-dro-dro        Natural    Climatological   \n",
       "3  2000-0001-AGO       No    tec-tra-roa-roa  Technological         Transport   \n",
       "4  2000-0002-AGO       No    nat-hyd-flo-riv        Natural      Hydrological   \n",
       "\n",
       "  Disaster Type Disaster Subtype External IDs Event Name  ISO   Country  \\\n",
       "0       Drought          Drought          NaN        NaN  DJI  Djibouti   \n",
       "1       Drought          Drought          NaN        NaN  SDN     Sudan   \n",
       "2       Drought          Drought          NaN        NaN  SOM   Somalia   \n",
       "3          Road             Road          NaN        NaN  AGO    Angola   \n",
       "4         Flood   Riverine flood          NaN        NaN  AGO    Angola   \n",
       "\n",
       "            Subregion  Region  \\\n",
       "0  Sub-Saharan Africa  Africa   \n",
       "1     Northern Africa  Africa   \n",
       "2  Sub-Saharan Africa  Africa   \n",
       "3  Sub-Saharan Africa  Africa   \n",
       "4  Sub-Saharan Africa  Africa   \n",
       "\n",
       "                                            Location      Origin  \\\n",
       "0  Ali Sabieh, Dikhil, Djibouti, Obock, Tadjourah...         NaN   \n",
       "1  Northern Darfur, Northern Kordofan, Red Sea pr...         NaN   \n",
       "2  Ceel Barde, Rab Dhuure, Tayeeglow, Xudur distr...         NaN   \n",
       "3                                             Calulo         NaN   \n",
       "4  Dombre Grande village (Baia Farta district, Be...  Heavy rain   \n",
       "\n",
       "               Associated Types OFDA/BHA Response Appeal Declaration  \\\n",
       "0                           NaN               Yes     No          No   \n",
       "1  Food shortage|Water shortage                No     No          No   \n",
       "2                 Food shortage                No     No          No   \n",
       "3                           NaN                No     No          No   \n",
       "4                           NaN                No     No         Yes   \n",
       "\n",
       "   AID Contribution ('000 US$)  Magnitude Magnitude Scale  Latitude  \\\n",
       "0                       1556.0        NaN             Km2       NaN   \n",
       "1                          NaN        NaN             Km2       NaN   \n",
       "2                          NaN        NaN             Km2       NaN   \n",
       "3                          NaN        NaN             NaN       NaN   \n",
       "4                          NaN    47000.0             Km2       NaN   \n",
       "\n",
       "   Longitude               River Basin  Start Year  Start Month  Start Day  \\\n",
       "0        NaN                       NaN        2001          6.0        NaN   \n",
       "1        NaN                       NaN        2000          1.0        NaN   \n",
       "2        NaN                       NaN        2000          1.0        NaN   \n",
       "3        NaN                       NaN        2000          1.0       26.0   \n",
       "4        NaN  Coporolo, Kwanza, Lucala        2000          1.0        8.0   \n",
       "\n",
       "   End Year  End Month  End Day  Total Deaths  No. Injured  No. Affected  \\\n",
       "0      2001        NaN      NaN           NaN          NaN      100000.0   \n",
       "1      2001        NaN      NaN           NaN          NaN     2000000.0   \n",
       "2      2001        NaN      NaN          21.0          NaN     1200000.0   \n",
       "3      2000        1.0     26.0          14.0         11.0           NaN   \n",
       "4      2000        1.0     15.0          31.0          NaN       70000.0   \n",
       "\n",
       "   No. Homeless  Total Affected  Reconstruction Costs ('000 US$)  \\\n",
       "0           NaN        100000.0                              NaN   \n",
       "1           NaN       2000000.0                              NaN   \n",
       "2           NaN       1200000.0                              NaN   \n",
       "3           NaN            11.0                              NaN   \n",
       "4           NaN         70000.0                              NaN   \n",
       "\n",
       "   Reconstruction Costs, Adjusted ('000 US$)  Insured Damage ('000 US$)  \\\n",
       "0                                        NaN                        NaN   \n",
       "1                                        NaN                        NaN   \n",
       "2                                        NaN                        NaN   \n",
       "3                                        NaN                        NaN   \n",
       "4                                        NaN                        NaN   \n",
       "\n",
       "   Insured Damage, Adjusted ('000 US$)  Total Damage ('000 US$)  \\\n",
       "0                                  NaN                      NaN   \n",
       "1                                  NaN                      NaN   \n",
       "2                                  NaN                      NaN   \n",
       "3                                  NaN                      NaN   \n",
       "4                                  NaN                  10000.0   \n",
       "\n",
       "   Total Damage, Adjusted ('000 US$)        CPI  \\\n",
       "0                                NaN  58.111474   \n",
       "1                                NaN  56.514291   \n",
       "2                                NaN  56.514291   \n",
       "3                                NaN  56.514291   \n",
       "4                            17695.0  56.514291   \n",
       "\n",
       "                                         Admin Units  Entry Date Last Update  \n",
       "0  [{\"adm1_code\":1093,\"adm1_name\":\"Ali Sabieh\"},{...  2006-03-01  2023-09-25  \n",
       "1  [{\"adm1_code\":2757,\"adm1_name\":\"Northern Darfu...  2006-03-08  2023-09-25  \n",
       "2  [{\"adm1_code\":2691,\"adm1_name\":\"Bay\"},{\"adm1_c...  2006-03-08  2023-09-25  \n",
       "3                                                NaN  2004-10-27  2023-09-25  \n",
       "4  [{\"adm2_code\":4214,\"adm2_name\":\"Baia Farta\"},{...  2005-02-03  2023-09-25  "
      ]
     },
     "execution_count": 40,
     "metadata": {},
     "output_type": "execute_result"
    }
   ],
   "source": [
    "df = pd.read_csv(f\"{data_path}/public_emdat_project.csv\", encoding='latin1')\n",
    "print(df.shape)\n",
    "df.head()"
   ]
  },
  {
   "cell_type": "markdown",
   "id": "54e1cfbd",
   "metadata": {},
   "source": [
    "De acordo com os metadados (disponíveis em https://doc.emdat.be/docs/data-structure-and-content/emdat-public-table/), podemos inferir que algumas colunas são descartáveis."
   ]
  },
  {
   "cell_type": "markdown",
   "id": "698ceb33",
   "metadata": {},
   "source": [
    "Vamos verificar a quantidade de nulos em cada coluna"
   ]
  },
  {
   "cell_type": "code",
   "execution_count": 41,
   "id": "5a97fecc",
   "metadata": {},
   "outputs": [
    {
     "name": "stdout",
     "output_type": "stream",
     "text": [
      "DisNo.                                           0\n",
      "Historic                                         0\n",
      "Classification Key                               0\n",
      "Disaster Group                                   0\n",
      "Disaster Subgroup                                0\n",
      "Disaster Type                                    0\n",
      "Disaster Subtype                                 0\n",
      "External IDs                                 13379\n",
      "Event Name                                   10829\n",
      "ISO                                              0\n",
      "Country                                          0\n",
      "Subregion                                        0\n",
      "Region                                           0\n",
      "Location                                       648\n",
      "Origin                                       11829\n",
      "Associated Types                             12488\n",
      "OFDA/BHA Response                                0\n",
      "Appeal                                           0\n",
      "Declaration                                      0\n",
      "AID Contribution ('000 US$)                  15294\n",
      "Magnitude                                    12406\n",
      "Magnitude Scale                               5892\n",
      "Latitude                                     13969\n",
      "Longitude                                    13969\n",
      "River Basin                                  14572\n",
      "Start Year                                       0\n",
      "Start Month                                     69\n",
      "Start Day                                     1509\n",
      "End Year                                         0\n",
      "End Month                                      162\n",
      "End Day                                       1442\n",
      "Total Deaths                                  3129\n",
      "No. Injured                                   9994\n",
      "No. Affected                                  8612\n",
      "No. Homeless                                 14460\n",
      "Total Affected                                4102\n",
      "Reconstruction Costs ('000 US$)              15751\n",
      "Reconstruction Costs, Adjusted ('000 US$)    15751\n",
      "Insured Damage ('000 US$)                    15089\n",
      "Insured Damage, Adjusted ('000 US$)          15090\n",
      "Total Damage ('000 US$)                      12658\n",
      "Total Damage, Adjusted ('000 US$)            12673\n",
      "CPI                                            163\n",
      "Admin Units                                   7286\n",
      "Entry Date                                       0\n",
      "Last Update                                      0\n",
      "dtype: int64\n"
     ]
    }
   ],
   "source": [
    "print(df.isnull().sum())"
   ]
  },
  {
   "cell_type": "markdown",
   "id": "4a331d7d",
   "metadata": {},
   "source": [
    "Dada a descrição de Historic (\"Binary field specifying whether or not the disaster happened before 2000, using the Start Year. Data before 2000 should be considered of lesser quality (see Time Bias)\"), cabe verificar se a coluna é útil ou não para filtragem do dataset.\n"
   ]
  },
  {
   "cell_type": "code",
   "execution_count": 42,
   "id": "3aaf1f2b",
   "metadata": {},
   "outputs": [
    {
     "name": "stdout",
     "output_type": "stream",
     "text": [
      "Historic\n",
      "No    15784\n",
      "Name: count, dtype: int64\n"
     ]
    }
   ],
   "source": [
    "print(df['Historic'].value_counts())"
   ]
  },
  {
   "cell_type": "markdown",
   "id": "86b1e798",
   "metadata": {},
   "source": [
    "Não é o caso. Vamos dropá-lo com as várias colunas que não serão necessárias, ou que vazarão dados"
   ]
  },
  {
   "cell_type": "code",
   "execution_count": 43,
   "id": "5996ea2e",
   "metadata": {},
   "outputs": [
    {
     "name": "stdout",
     "output_type": "stream",
     "text": [
      "Index(['Disaster Group', 'Disaster Subgroup', 'Disaster Type',\n",
      "       'Disaster Subtype', 'Country', 'Subregion', 'Region',\n",
      "       'OFDA/BHA Response', 'Appeal', 'Declaration', 'Magnitude',\n",
      "       'Magnitude Scale', 'Start Month', 'Total Deaths', 'Total Affected'],\n",
      "      dtype='object')\n"
     ]
    }
   ],
   "source": [
    "df = df.drop(columns=['Historic',\n",
    "                      'DisNo.',\n",
    "                      'Classification Key',\n",
    "                      'External IDs',\n",
    "                      'Event Name',\n",
    "                      'ISO',\n",
    "                      'CPI',\n",
    "                      'Entry Date',\n",
    "                      'Last Update',\n",
    "\n",
    "                      'Location', #Variável categórica demasiado granular\n",
    "                      \n",
    "                      #Muitos nulos\n",
    "                      'Origin',\n",
    "                      'Associated Types',\n",
    "                      'Latitude', #Além de muitos nulos, a informação já está implícita em outras variáveis\n",
    "                      'Longitude', #Idem\n",
    "                      'River Basin',\n",
    "\n",
    "                      #Avaliamos como sem impacto\n",
    "                      'Start Year',\n",
    "                      'Start Day',\n",
    "\n",
    "                      #Obteríamos as seguintes variáveis somente no término do evento, sendo inútil para prever o impacto do desastre no seu início\n",
    "                      'End Year',\n",
    "                      'End Month',\n",
    "                      'End Day',\n",
    "                      \"Insured Damage ('000 US$)\",\n",
    "                      \"Reconstruction Costs, Adjusted ('000 US$)\",\n",
    "                      \"Reconstruction Costs ('000 US$)\",\n",
    "                      \"Insured Damage, Adjusted ('000 US$)\",\n",
    "                      \"Total Damage ('000 US$)\",                      \n",
    "                      \"Total Damage, Adjusted ('000 US$)\",\n",
    "                      \"AID Contribution ('000 US$)\",\n",
    "                      \"Admin Units\",\n",
    "                            \n",
    "\n",
    "                      #Além do motivo acima, 'Total Affected' já entrega as três abaixo combinadas\n",
    "                      'No. Injured',\n",
    "                      'No. Affected',\n",
    "                      'No. Homeless',\n",
    "                      ])\n",
    "\n",
    "print(df.columns)"
   ]
  },
  {
   "cell_type": "code",
   "execution_count": 44,
   "id": "f90e52c8",
   "metadata": {},
   "outputs": [
    {
     "name": "stdout",
     "output_type": "stream",
     "text": [
      "Disaster Group           0\n",
      "Disaster Subgroup        0\n",
      "Disaster Type            0\n",
      "Disaster Subtype         0\n",
      "Country                  0\n",
      "Subregion                0\n",
      "Region                   0\n",
      "OFDA/BHA Response        0\n",
      "Appeal                   0\n",
      "Declaration              0\n",
      "Magnitude            12406\n",
      "Magnitude Scale       5892\n",
      "Start Month             69\n",
      "Total Deaths          3129\n",
      "Total Affected        4102\n",
      "dtype: int64\n"
     ]
    }
   ],
   "source": [
    "print(df.isnull().sum())"
   ]
  },
  {
   "cell_type": "markdown",
   "id": "1bbf412a",
   "metadata": {},
   "source": [
    "## EDA\n",
    "\n",
    "Dado que já fizemos uma limpeza preliminar, cabe agora analisar estatisticasmente o dataset para concluir sua preparação para o treino.\n",
    "\n",
    "Faz parte dessa tarefa a seleção da métrica-alvo mais adequada ao nosso objetivo.\n",
    "\n"
   ]
  },
  {
   "cell_type": "markdown",
   "id": "83c34308",
   "metadata": {},
   "source": [
    "Variáveis que por ora são boas candidatas para serem métricas-alvo, dado nosso objetivo de criar um modelo que ajude com a predição de riscos:"
   ]
  },
  {
   "cell_type": "code",
   "execution_count": 45,
   "id": "876e6575",
   "metadata": {},
   "outputs": [],
   "source": [
    "categorical_potential_target = [\n",
    "#Lembrando que se uma das três abaixo fossem como preditoras, provavelmente vazariam dados sobre as demais\n",
    "                    'OFDA/BHA Response',\n",
    "                    'Appeal',\n",
    "                    'Declaration',\n",
    "                    ]\n",
    "\n",
    "numerical_potential_target = [\n",
    "                    'Total Affected',\n",
    "                    'Total Deaths',\n",
    "                    ]"
   ]
  },
  {
   "cell_type": "code",
   "execution_count": 46,
   "id": "1bc9d524",
   "metadata": {},
   "outputs": [
    {
     "name": "stdout",
     "output_type": "stream",
     "text": [
      "OFDA/BHA Response\n",
      "No     15108\n",
      "Yes      676\n",
      "Name: count, dtype: int64\n",
      "Appeal\n",
      "No     15611\n",
      "Yes      173\n",
      "Name: count, dtype: int64\n",
      "Declaration\n",
      "No     14739\n",
      "Yes     1045\n",
      "Name: count, dtype: int64\n"
     ]
    }
   ],
   "source": [
    "for col in categorical_potential_target:\n",
    "    print(df[col].value_counts())"
   ]
  },
  {
   "cell_type": "markdown",
   "id": "2b0ca9df",
   "metadata": {},
   "source": [
    "Dado o grande desbalanceamento dessas classes, além do fato de não estarem diretamente relacionadas ao nível de risco de um desastre, vamos desconsiderar seu uso como targets.\n",
    "\n",
    "Igualmente, elas não consistem em dados que obteríamos no momento da tragédia, então não faz sentido usá-las sequer como preditoras no nosso contexto.\n",
    "\n",
    "Vamos, pois, entender a usabilidade das numéricas selecionadas como target."
   ]
  },
  {
   "cell_type": "code",
   "execution_count": 47,
   "id": "39642fca",
   "metadata": {},
   "outputs": [
    {
     "name": "stdout",
     "output_type": "stream",
     "text": [
      "Index(['Disaster Group', 'Disaster Subgroup', 'Disaster Type',\n",
      "       'Disaster Subtype', 'Country', 'Subregion', 'Region', 'Magnitude',\n",
      "       'Magnitude Scale', 'Start Month', 'Total Deaths', 'Total Affected'],\n",
      "      dtype='object')\n"
     ]
    }
   ],
   "source": [
    "df = df.drop(columns=categorical_potential_target)\n",
    "print(df.columns)"
   ]
  },
  {
   "cell_type": "code",
   "execution_count": 48,
   "id": "68a39481",
   "metadata": {},
   "outputs": [
    {
     "name": "stdout",
     "output_type": "stream",
     "text": [
      "count    1.168200e+04\n",
      "mean     3.955015e+05\n",
      "std      5.334026e+06\n",
      "min      1.000000e+00\n",
      "25%      4.000000e+01\n",
      "50%      9.570000e+02\n",
      "75%      1.668700e+04\n",
      "max      3.300000e+08\n",
      "Name: Total Affected, dtype: float64\n",
      "count     12655.000000\n",
      "mean        135.976847\n",
      "std        3088.333299\n",
      "min           0.000000\n",
      "25%           9.000000\n",
      "50%          16.000000\n",
      "75%          32.000000\n",
      "max      222570.000000\n",
      "Name: Total Deaths, dtype: float64\n"
     ]
    }
   ],
   "source": [
    "for col in numerical_potential_target:\n",
    "    print(df[col].describe())\n"
   ]
  },
  {
   "cell_type": "markdown",
   "id": "5e940e9e",
   "metadata": {},
   "source": [
    "Parecem ambas utilizáveis, e consideramos criar um sistema que preveja o risco tanto em termo de pessoas afetadas quanto mortas.\n",
    "\n",
    "Nada obstante, não nos parece razoável tratar esse problema com uma regressão, posto que tanto não possuimos um número suficientemente grande de variáveis preditoras numéricas para trazer precisão às nossas predições quanto o risco de um desastre não precisa ser medido em números exatos. É mais conveniente, inclusive, utilizar marcações de intensidade para esses fatores para definir os níveis de risco e por isso estudaremos a melhor maneira de utilizar essas variáveis em um problema de classificação.\n",
    "\n",
    "Primeiramente, cientes de que ambas as potenciais target possuem um número de nulls alto, cabe estudar o quanto elas se interseccionam em null para avaliar se é o caso de dropar todas as linhas nulls, ou se devemos fazer isso apenas posteriormente, no momento dos treinamentos dos classificadores em separado."
   ]
  },
  {
   "cell_type": "code",
   "execution_count": 49,
   "id": "002f8d26",
   "metadata": {},
   "outputs": [
    {
     "name": "stdout",
     "output_type": "stream",
     "text": [
      "Total Affected nulls: 4102\n",
      "Total Deaths nulls: 3129\n",
      "Intersection of nulls: 600\n"
     ]
    }
   ],
   "source": [
    "total_affected_nulls= df['Total Affected'].isna()\n",
    "total_deaths_nulls = df['Total Deaths'].isna()\n",
    "intersecao_nulls = total_affected_nulls & total_deaths_nulls\n",
    "print(f\"Total Affected nulls: {total_affected_nulls.sum()}\")\n",
    "print(f\"Total Deaths nulls: {total_deaths_nulls.sum()}\")    \n",
    "print(f\"Intersection of nulls: {intersecao_nulls.sum()}\")\n"
   ]
  },
  {
   "cell_type": "markdown",
   "id": "ed491eb6",
   "metadata": {},
   "source": [
    "Dado que a interseção é pequena, cabe seguir com a limpeza dos dados para tomar uma decisão final sobre como proceder com os nulls.\n",
    "\n",
    "E dois caminhos significativos são abordagens analíticas sobre nossas principais variáveis preditoras, 1) as relacionadas ao tipo de desastre e 2) as relacionadas à região do desastre, grupos que deverão ser resumidos cada qual a um único para evitar repetição de informação inútil.\n"
   ]
  },
  {
   "cell_type": "code",
   "execution_count": 50,
   "id": "a216d939",
   "metadata": {},
   "outputs": [],
   "source": [
    "disaster_variables = ['Disaster Group', 'Disaster Subgroup', 'Disaster Type', 'Disaster Subtype']\n",
    "\n",
    "region_variables = ['Region', 'Subregion', 'Country']"
   ]
  },
  {
   "cell_type": "markdown",
   "id": "db2b646b",
   "metadata": {},
   "source": [
    "Comecemos com a análise das variáveis relacionadas ao tipo de desastre, destrinchando-as do grupo maior ao último subgrupo.\n",
    "\n",
    "Primeiro é necessário verificar se há interseção do grupo maior até o último subgrupo, no sentido por exemplo de um disaster type poder pertencer a mais de um disaster subgroup. Isso impactaria nossa possibilidade de resumir os quatro grupos em um só."
   ]
  },
  {
   "cell_type": "code",
   "execution_count": 51,
   "id": "b1984fd4",
   "metadata": {},
   "outputs": [
    {
     "name": "stdout",
     "output_type": "stream",
     "text": [
      "\n",
      "Disaster Subgroup associados a múltiplos Disaster Group:\n",
      "✅ Todos os valores de 'Disaster Subgroup' pertencem a apenas um 'Disaster Group'.\n",
      "\n",
      "Disaster Type associados a múltiplos Disaster Subgroup:\n",
      "✅ Todos os valores de 'Disaster Type' pertencem a apenas um 'Disaster Subgroup'.\n",
      "\n",
      "Disaster Subtype associados a múltiplos Disaster Type:\n",
      "✅ Todos os valores de 'Disaster Subtype' pertencem a apenas um 'Disaster Type'.\n"
     ]
    }
   ],
   "source": [
    "hierarchy = [\n",
    "    ('Disaster Group', 'Disaster Subgroup'),\n",
    "    ('Disaster Subgroup', 'Disaster Type'),\n",
    "    ('Disaster Type', 'Disaster Subtype')\n",
    "]\n",
    "\n",
    "for higher, lower in hierarchy:\n",
    "    relation = df.groupby(lower)[higher].nunique()\n",
    "    ambiguous = relation[relation > 1]\n",
    "\n",
    "    print(f\"\\n{lower} associados a múltiplos {higher}:\")\n",
    "    if ambiguous.empty:\n",
    "        print(f\"✅ Todos os valores de '{lower}' pertencem a apenas um '{higher}'.\")\n",
    "    else:\n",
    "        print(f\"⚠️ {len(ambiguous)} casos encontrados onde '{lower}' está ligado a mais de um '{higher}'.\")\n",
    "        print(ambiguous)\n"
   ]
  },
  {
   "cell_type": "markdown",
   "id": "5c277e93",
   "metadata": {},
   "source": [
    "Dado que os dados respeitam uma hierarquia (o que já podemos aliás supor valer de igual para region_variables, por óbvio), podemos avaliar se há classes granulares que desejamos descartar do nosso treino para evitar ruído."
   ]
  },
  {
   "cell_type": "code",
   "execution_count": 52,
   "id": "fead243a",
   "metadata": {},
   "outputs": [
    {
     "name": "stdout",
     "output_type": "stream",
     "text": [
      "Disaster Group\n",
      "Natural          10045\n",
      "Technological     5739\n",
      "Name: count, dtype: int64\n",
      "Disaster Subgroup\n",
      "Hydrological              4531\n",
      "Transport                 3912\n",
      "Meteorological            3067\n",
      "Miscellaneous accident     924\n",
      "Biological                 924\n",
      "Industrial accident        903\n",
      "Geophysical                804\n",
      "Climatological             718\n",
      "Extra-terrestrial            1\n",
      "Name: count, dtype: int64\n",
      "Disaster Type\n",
      "Flood                               4070\n",
      "Storm                               2575\n",
      "Road                                2124\n",
      "Water                               1111\n",
      "Epidemic                             894\n",
      "Earthquake                           665\n",
      "Extreme temperature                  492\n",
      "Mass movement (wet)                  461\n",
      "Explosion (Industrial)               458\n",
      "Air                                  430\n",
      "Fire (Miscellaneous)                 421\n",
      "Drought                              408\n",
      "Wildfire                             306\n",
      "Rail                                 247\n",
      "Miscellaneous accident (General)     186\n",
      "Explosion (Miscellaneous)            159\n",
      "Collapse (Miscellaneous)             158\n",
      "Collapse (Industrial)                148\n",
      "Volcanic activity                    126\n",
      "Fire (Industrial)                    111\n",
      "Industrial accident (General)        102\n",
      "Gas leak                              34\n",
      "Infestation                           29\n",
      "Chemical spill                        23\n",
      "Poisoning                             20\n",
      "Mass movement (dry)                   13\n",
      "Oil spill                              5\n",
      "Glacial lake outburst flood            4\n",
      "Radiation                              2\n",
      "Impact                                 1\n",
      "Animal incident                        1\n",
      "Name: count, dtype: int64\n",
      "Disaster Subtype\n",
      "Road                                2124\n",
      "Riverine flood                      2024\n",
      "Flood (General)                     1303\n",
      "Tropical cyclone                    1301\n",
      "Water                               1111\n",
      "Flash flood                          702\n",
      "Ground movement                      635\n",
      "Explosion (Industrial)               458\n",
      "Air                                  430\n",
      "Bacterial disease                    421\n",
      "Fire (Miscellaneous)                 421\n",
      "Drought                              408\n",
      "Viral disease                        376\n",
      "Landslide (wet)                      362\n",
      "Storm (General)                      320\n",
      "Rail                                 247\n",
      "Cold wave                            225\n",
      "Severe weather                       208\n",
      "Forest fire                          194\n",
      "Heat wave                            192\n",
      "Miscellaneous accident (General)     186\n",
      "Blizzard/Winter storm                183\n",
      "Lightning/Thunderstorms              171\n",
      "Tornado                              166\n",
      "Explosion (Miscellaneous)            159\n",
      "Collapse (Miscellaneous)             158\n",
      "Collapse (Industrial)                148\n",
      "Extra-tropical storm                 144\n",
      "Fire (Industrial)                    111\n",
      "Industrial accident (General)        102\n",
      "Ash fall                             102\n",
      "Infectious disease (General)          80\n",
      "Severe winter conditions              75\n",
      "Wildfire (General)                    66\n",
      "Avalanche (wet)                       52\n",
      "Hail                                  50\n",
      "Land fire (Brush, Bush, Pasture)      46\n",
      "Mudslide                              42\n",
      "Coastal flood                         41\n",
      "Gas leak                              34\n",
      "Tsunami                               30\n",
      "Locust infestation                    27\n",
      "Chemical spill                        23\n",
      "Poisoning                             20\n",
      "Parasitic disease                     17\n",
      "Sand/Dust storm                       16\n",
      "Lava flow                             11\n",
      "Storm surge                           10\n",
      "Volcanic activity (General)            9\n",
      "Landslide (dry)                        9\n",
      "Derecho                                6\n",
      "Oil spill                              5\n",
      "Rockfall (wet)                         4\n",
      "Pyroclastic flow                       4\n",
      "Glacial lake outburst flood            4\n",
      "Rockfall (dry)                         3\n",
      "Worms infestation                      2\n",
      "Radiation                              2\n",
      "Avalanche (dry)                        1\n",
      "Collision                              1\n",
      "Animal incident                        1\n",
      "Sudden Subsidence (wet)                1\n",
      "Name: count, dtype: int64\n"
     ]
    }
   ],
   "source": [
    "for col in disaster_variables:\n",
    "    print(df[col].value_counts())"
   ]
  },
  {
   "cell_type": "markdown",
   "id": "c720b74c",
   "metadata": {},
   "source": [
    "Já de início podemos desconsiderar o elemento Disaster Group, após filtrá-lo por = Natural, dado que nosso projeto foca em desastres naturais."
   ]
  },
  {
   "cell_type": "code",
   "execution_count": 53,
   "id": "39b73150",
   "metadata": {},
   "outputs": [
    {
     "name": "stdout",
     "output_type": "stream",
     "text": [
      "Disaster Subgroup\n",
      "Hydrological         4531\n",
      "Meteorological       3067\n",
      "Biological            924\n",
      "Geophysical           804\n",
      "Climatological        718\n",
      "Extra-terrestrial       1\n",
      "Name: count, dtype: int64\n",
      "Disaster Type\n",
      "Flood                          4070\n",
      "Storm                          2575\n",
      "Epidemic                        894\n",
      "Earthquake                      665\n",
      "Extreme temperature             492\n",
      "Mass movement (wet)             461\n",
      "Drought                         408\n",
      "Wildfire                        306\n",
      "Volcanic activity               126\n",
      "Infestation                      29\n",
      "Mass movement (dry)              13\n",
      "Glacial lake outburst flood       4\n",
      "Impact                            1\n",
      "Animal incident                   1\n",
      "Name: count, dtype: int64\n",
      "Disaster Subtype\n",
      "Riverine flood                      2024\n",
      "Flood (General)                     1303\n",
      "Tropical cyclone                    1301\n",
      "Flash flood                          702\n",
      "Ground movement                      635\n",
      "Bacterial disease                    421\n",
      "Drought                              408\n",
      "Viral disease                        376\n",
      "Landslide (wet)                      362\n",
      "Storm (General)                      320\n",
      "Cold wave                            225\n",
      "Severe weather                       208\n",
      "Forest fire                          194\n",
      "Heat wave                            192\n",
      "Blizzard/Winter storm                183\n",
      "Lightning/Thunderstorms              171\n",
      "Tornado                              166\n",
      "Extra-tropical storm                 144\n",
      "Ash fall                             102\n",
      "Infectious disease (General)          80\n",
      "Severe winter conditions              75\n",
      "Wildfire (General)                    66\n",
      "Avalanche (wet)                       52\n",
      "Hail                                  50\n",
      "Land fire (Brush, Bush, Pasture)      46\n",
      "Mudslide                              42\n",
      "Coastal flood                         41\n",
      "Tsunami                               30\n",
      "Locust infestation                    27\n",
      "Parasitic disease                     17\n",
      "Sand/Dust storm                       16\n",
      "Lava flow                             11\n",
      "Storm surge                           10\n",
      "Volcanic activity (General)            9\n",
      "Landslide (dry)                        9\n",
      "Derecho                                6\n",
      "Pyroclastic flow                       4\n",
      "Glacial lake outburst flood            4\n",
      "Rockfall (wet)                         4\n",
      "Rockfall (dry)                         3\n",
      "Worms infestation                      2\n",
      "Collision                              1\n",
      "Animal incident                        1\n",
      "Avalanche (dry)                        1\n",
      "Sudden Subsidence (wet)                1\n",
      "Name: count, dtype: int64\n"
     ]
    }
   ],
   "source": [
    "df = df[df['Disaster Group'] == 'Natural']\n",
    "df = df.drop(columns=['Disaster Group'])\n",
    "disaster_variables.remove('Disaster Group')\n",
    "\n",
    "#Analisando novamente\n",
    "for col in disaster_variables:\n",
    "    print(df[col].value_counts())"
   ]
  },
  {
   "cell_type": "markdown",
   "id": "8274a49c",
   "metadata": {},
   "source": [
    "Também podemos analisar mais visualmente:"
   ]
  },
  {
   "cell_type": "code",
   "execution_count": 54,
   "id": "d3ba317c",
   "metadata": {},
   "outputs": [
    {
     "data": {
      "application/vnd.plotly.v1+json": {
       "config": {
        "plotlyServerURL": "https://plot.ly"
       },
       "data": [
        {
         "branchvalues": "total",
         "domain": {
          "x": [
           0,
           1
          ],
          "y": [
           0,
           1
          ]
         },
         "hovertemplate": "labels=%{label}<br>count=%{value}<br>parent=%{parent}<br>id=%{id}<extra></extra>",
         "ids": [
          "Biological/Animal incident/Animal incident",
          "Geophysical/Volcanic activity/Ash fall",
          "Geophysical/Mass movement (dry)/Avalanche (dry)",
          "Hydrological/Mass movement (wet)/Avalanche (wet)",
          "Biological/Epidemic/Bacterial disease",
          "Meteorological/Storm/Blizzard/Winter storm",
          "Hydrological/Flood/Coastal flood",
          "Meteorological/Extreme temperature/Cold wave",
          "Extra-terrestrial/Impact/Collision",
          "Meteorological/Storm/Derecho",
          "Climatological/Drought/Drought",
          "Meteorological/Storm/Extra-tropical storm",
          "Hydrological/Flood/Flash flood",
          "Hydrological/Flood/Flood (General)",
          "Climatological/Wildfire/Forest fire",
          "Climatological/Glacial lake outburst flood/Glacial lake outburst flood",
          "Geophysical/Earthquake/Ground movement",
          "Meteorological/Storm/Hail",
          "Meteorological/Extreme temperature/Heat wave",
          "Biological/Epidemic/Infectious disease (General)",
          "Climatological/Wildfire/Land fire (Brush, Bush, Pasture)",
          "Geophysical/Mass movement (dry)/Landslide (dry)",
          "Hydrological/Mass movement (wet)/Landslide (wet)",
          "Geophysical/Volcanic activity/Lava flow",
          "Meteorological/Storm/Lightning/Thunderstorms",
          "Biological/Infestation/Locust infestation",
          "Hydrological/Mass movement (wet)/Mudslide",
          "Biological/Epidemic/Parasitic disease",
          "Geophysical/Volcanic activity/Pyroclastic flow",
          "Hydrological/Flood/Riverine flood",
          "Geophysical/Mass movement (dry)/Rockfall (dry)",
          "Hydrological/Mass movement (wet)/Rockfall (wet)",
          "Meteorological/Storm/Sand/Dust storm",
          "Meteorological/Storm/Severe weather",
          "Meteorological/Extreme temperature/Severe winter conditions",
          "Meteorological/Storm/Storm (General)",
          "Meteorological/Storm/Storm surge",
          "Hydrological/Mass movement (wet)/Sudden Subsidence (wet)",
          "Meteorological/Storm/Tornado",
          "Meteorological/Storm/Tropical cyclone",
          "Geophysical/Earthquake/Tsunami",
          "Biological/Epidemic/Viral disease",
          "Geophysical/Volcanic activity/Volcanic activity (General)",
          "Climatological/Wildfire/Wildfire (General)",
          "Biological/Infestation/Worms infestation",
          "Biological/Animal incident",
          "Climatological/Drought",
          "Geophysical/Earthquake",
          "Biological/Epidemic",
          "Meteorological/Extreme temperature",
          "Hydrological/Flood",
          "Climatological/Glacial lake outburst flood",
          "Extra-terrestrial/Impact",
          "Biological/Infestation",
          "Geophysical/Mass movement (dry)",
          "Hydrological/Mass movement (wet)",
          "Meteorological/Storm",
          "Geophysical/Volcanic activity",
          "Climatological/Wildfire",
          "Biological",
          "Climatological",
          "Extra-terrestrial",
          "Geophysical",
          "Hydrological",
          "Meteorological"
         ],
         "insidetextorientation": "radial",
         "labels": [
          "Animal incident",
          "Ash fall",
          "Avalanche (dry)",
          "Avalanche (wet)",
          "Bacterial disease",
          "Blizzard/Winter storm",
          "Coastal flood",
          "Cold wave",
          "Collision",
          "Derecho",
          "Drought",
          "Extra-tropical storm",
          "Flash flood",
          "Flood (General)",
          "Forest fire",
          "Glacial lake outburst flood",
          "Ground movement",
          "Hail",
          "Heat wave",
          "Infectious disease (General)",
          "Land fire (Brush, Bush, Pasture)",
          "Landslide (dry)",
          "Landslide (wet)",
          "Lava flow",
          "Lightning/Thunderstorms",
          "Locust infestation",
          "Mudslide",
          "Parasitic disease",
          "Pyroclastic flow",
          "Riverine flood",
          "Rockfall (dry)",
          "Rockfall (wet)",
          "Sand/Dust storm",
          "Severe weather",
          "Severe winter conditions",
          "Storm (General)",
          "Storm surge",
          "Sudden Subsidence (wet)",
          "Tornado",
          "Tropical cyclone",
          "Tsunami",
          "Viral disease",
          "Volcanic activity (General)",
          "Wildfire (General)",
          "Worms infestation",
          "Animal incident",
          "Drought",
          "Earthquake",
          "Epidemic",
          "Extreme temperature",
          "Flood",
          "Glacial lake outburst flood",
          "Impact",
          "Infestation",
          "Mass movement (dry)",
          "Mass movement (wet)",
          "Storm",
          "Volcanic activity",
          "Wildfire",
          "Biological",
          "Climatological",
          "Extra-terrestrial",
          "Geophysical",
          "Hydrological",
          "Meteorological"
         ],
         "maxdepth": -1,
         "name": "",
         "parents": [
          "Biological/Animal incident",
          "Geophysical/Volcanic activity",
          "Geophysical/Mass movement (dry)",
          "Hydrological/Mass movement (wet)",
          "Biological/Epidemic",
          "Meteorological/Storm",
          "Hydrological/Flood",
          "Meteorological/Extreme temperature",
          "Extra-terrestrial/Impact",
          "Meteorological/Storm",
          "Climatological/Drought",
          "Meteorological/Storm",
          "Hydrological/Flood",
          "Hydrological/Flood",
          "Climatological/Wildfire",
          "Climatological/Glacial lake outburst flood",
          "Geophysical/Earthquake",
          "Meteorological/Storm",
          "Meteorological/Extreme temperature",
          "Biological/Epidemic",
          "Climatological/Wildfire",
          "Geophysical/Mass movement (dry)",
          "Hydrological/Mass movement (wet)",
          "Geophysical/Volcanic activity",
          "Meteorological/Storm",
          "Biological/Infestation",
          "Hydrological/Mass movement (wet)",
          "Biological/Epidemic",
          "Geophysical/Volcanic activity",
          "Hydrological/Flood",
          "Geophysical/Mass movement (dry)",
          "Hydrological/Mass movement (wet)",
          "Meteorological/Storm",
          "Meteorological/Storm",
          "Meteorological/Extreme temperature",
          "Meteorological/Storm",
          "Meteorological/Storm",
          "Hydrological/Mass movement (wet)",
          "Meteorological/Storm",
          "Meteorological/Storm",
          "Geophysical/Earthquake",
          "Biological/Epidemic",
          "Geophysical/Volcanic activity",
          "Climatological/Wildfire",
          "Biological/Infestation",
          "Biological",
          "Climatological",
          "Geophysical",
          "Biological",
          "Meteorological",
          "Hydrological",
          "Climatological",
          "Extra-terrestrial",
          "Biological",
          "Geophysical",
          "Hydrological",
          "Meteorological",
          "Geophysical",
          "Climatological",
          "",
          "",
          "",
          "",
          "",
          ""
         ],
         "type": "sunburst",
         "values": [
          1,
          102,
          1,
          52,
          421,
          183,
          41,
          225,
          1,
          6,
          408,
          144,
          702,
          1303,
          194,
          4,
          635,
          50,
          192,
          80,
          46,
          9,
          362,
          11,
          171,
          27,
          42,
          17,
          4,
          2024,
          3,
          4,
          16,
          208,
          75,
          320,
          10,
          1,
          166,
          1301,
          30,
          376,
          9,
          66,
          2,
          1,
          408,
          665,
          894,
          492,
          4070,
          4,
          1,
          29,
          13,
          461,
          2575,
          126,
          306,
          924,
          718,
          1,
          804,
          4531,
          3067
         ]
        }
       ],
       "layout": {
        "legend": {
         "tracegroupgap": 0
        },
        "template": {
         "data": {
          "bar": [
           {
            "error_x": {
             "color": "#2a3f5f"
            },
            "error_y": {
             "color": "#2a3f5f"
            },
            "marker": {
             "line": {
              "color": "#E5ECF6",
              "width": 0.5
             },
             "pattern": {
              "fillmode": "overlay",
              "size": 10,
              "solidity": 0.2
             }
            },
            "type": "bar"
           }
          ],
          "barpolar": [
           {
            "marker": {
             "line": {
              "color": "#E5ECF6",
              "width": 0.5
             },
             "pattern": {
              "fillmode": "overlay",
              "size": 10,
              "solidity": 0.2
             }
            },
            "type": "barpolar"
           }
          ],
          "carpet": [
           {
            "aaxis": {
             "endlinecolor": "#2a3f5f",
             "gridcolor": "white",
             "linecolor": "white",
             "minorgridcolor": "white",
             "startlinecolor": "#2a3f5f"
            },
            "baxis": {
             "endlinecolor": "#2a3f5f",
             "gridcolor": "white",
             "linecolor": "white",
             "minorgridcolor": "white",
             "startlinecolor": "#2a3f5f"
            },
            "type": "carpet"
           }
          ],
          "choropleth": [
           {
            "colorbar": {
             "outlinewidth": 0,
             "ticks": ""
            },
            "type": "choropleth"
           }
          ],
          "contour": [
           {
            "colorbar": {
             "outlinewidth": 0,
             "ticks": ""
            },
            "colorscale": [
             [
              0,
              "#0d0887"
             ],
             [
              0.1111111111111111,
              "#46039f"
             ],
             [
              0.2222222222222222,
              "#7201a8"
             ],
             [
              0.3333333333333333,
              "#9c179e"
             ],
             [
              0.4444444444444444,
              "#bd3786"
             ],
             [
              0.5555555555555556,
              "#d8576b"
             ],
             [
              0.6666666666666666,
              "#ed7953"
             ],
             [
              0.7777777777777778,
              "#fb9f3a"
             ],
             [
              0.8888888888888888,
              "#fdca26"
             ],
             [
              1,
              "#f0f921"
             ]
            ],
            "type": "contour"
           }
          ],
          "contourcarpet": [
           {
            "colorbar": {
             "outlinewidth": 0,
             "ticks": ""
            },
            "type": "contourcarpet"
           }
          ],
          "heatmap": [
           {
            "colorbar": {
             "outlinewidth": 0,
             "ticks": ""
            },
            "colorscale": [
             [
              0,
              "#0d0887"
             ],
             [
              0.1111111111111111,
              "#46039f"
             ],
             [
              0.2222222222222222,
              "#7201a8"
             ],
             [
              0.3333333333333333,
              "#9c179e"
             ],
             [
              0.4444444444444444,
              "#bd3786"
             ],
             [
              0.5555555555555556,
              "#d8576b"
             ],
             [
              0.6666666666666666,
              "#ed7953"
             ],
             [
              0.7777777777777778,
              "#fb9f3a"
             ],
             [
              0.8888888888888888,
              "#fdca26"
             ],
             [
              1,
              "#f0f921"
             ]
            ],
            "type": "heatmap"
           }
          ],
          "heatmapgl": [
           {
            "colorbar": {
             "outlinewidth": 0,
             "ticks": ""
            },
            "colorscale": [
             [
              0,
              "#0d0887"
             ],
             [
              0.1111111111111111,
              "#46039f"
             ],
             [
              0.2222222222222222,
              "#7201a8"
             ],
             [
              0.3333333333333333,
              "#9c179e"
             ],
             [
              0.4444444444444444,
              "#bd3786"
             ],
             [
              0.5555555555555556,
              "#d8576b"
             ],
             [
              0.6666666666666666,
              "#ed7953"
             ],
             [
              0.7777777777777778,
              "#fb9f3a"
             ],
             [
              0.8888888888888888,
              "#fdca26"
             ],
             [
              1,
              "#f0f921"
             ]
            ],
            "type": "heatmapgl"
           }
          ],
          "histogram": [
           {
            "marker": {
             "pattern": {
              "fillmode": "overlay",
              "size": 10,
              "solidity": 0.2
             }
            },
            "type": "histogram"
           }
          ],
          "histogram2d": [
           {
            "colorbar": {
             "outlinewidth": 0,
             "ticks": ""
            },
            "colorscale": [
             [
              0,
              "#0d0887"
             ],
             [
              0.1111111111111111,
              "#46039f"
             ],
             [
              0.2222222222222222,
              "#7201a8"
             ],
             [
              0.3333333333333333,
              "#9c179e"
             ],
             [
              0.4444444444444444,
              "#bd3786"
             ],
             [
              0.5555555555555556,
              "#d8576b"
             ],
             [
              0.6666666666666666,
              "#ed7953"
             ],
             [
              0.7777777777777778,
              "#fb9f3a"
             ],
             [
              0.8888888888888888,
              "#fdca26"
             ],
             [
              1,
              "#f0f921"
             ]
            ],
            "type": "histogram2d"
           }
          ],
          "histogram2dcontour": [
           {
            "colorbar": {
             "outlinewidth": 0,
             "ticks": ""
            },
            "colorscale": [
             [
              0,
              "#0d0887"
             ],
             [
              0.1111111111111111,
              "#46039f"
             ],
             [
              0.2222222222222222,
              "#7201a8"
             ],
             [
              0.3333333333333333,
              "#9c179e"
             ],
             [
              0.4444444444444444,
              "#bd3786"
             ],
             [
              0.5555555555555556,
              "#d8576b"
             ],
             [
              0.6666666666666666,
              "#ed7953"
             ],
             [
              0.7777777777777778,
              "#fb9f3a"
             ],
             [
              0.8888888888888888,
              "#fdca26"
             ],
             [
              1,
              "#f0f921"
             ]
            ],
            "type": "histogram2dcontour"
           }
          ],
          "mesh3d": [
           {
            "colorbar": {
             "outlinewidth": 0,
             "ticks": ""
            },
            "type": "mesh3d"
           }
          ],
          "parcoords": [
           {
            "line": {
             "colorbar": {
              "outlinewidth": 0,
              "ticks": ""
             }
            },
            "type": "parcoords"
           }
          ],
          "pie": [
           {
            "automargin": true,
            "type": "pie"
           }
          ],
          "scatter": [
           {
            "fillpattern": {
             "fillmode": "overlay",
             "size": 10,
             "solidity": 0.2
            },
            "type": "scatter"
           }
          ],
          "scatter3d": [
           {
            "line": {
             "colorbar": {
              "outlinewidth": 0,
              "ticks": ""
             }
            },
            "marker": {
             "colorbar": {
              "outlinewidth": 0,
              "ticks": ""
             }
            },
            "type": "scatter3d"
           }
          ],
          "scattercarpet": [
           {
            "marker": {
             "colorbar": {
              "outlinewidth": 0,
              "ticks": ""
             }
            },
            "type": "scattercarpet"
           }
          ],
          "scattergeo": [
           {
            "marker": {
             "colorbar": {
              "outlinewidth": 0,
              "ticks": ""
             }
            },
            "type": "scattergeo"
           }
          ],
          "scattergl": [
           {
            "marker": {
             "colorbar": {
              "outlinewidth": 0,
              "ticks": ""
             }
            },
            "type": "scattergl"
           }
          ],
          "scattermapbox": [
           {
            "marker": {
             "colorbar": {
              "outlinewidth": 0,
              "ticks": ""
             }
            },
            "type": "scattermapbox"
           }
          ],
          "scatterpolar": [
           {
            "marker": {
             "colorbar": {
              "outlinewidth": 0,
              "ticks": ""
             }
            },
            "type": "scatterpolar"
           }
          ],
          "scatterpolargl": [
           {
            "marker": {
             "colorbar": {
              "outlinewidth": 0,
              "ticks": ""
             }
            },
            "type": "scatterpolargl"
           }
          ],
          "scatterternary": [
           {
            "marker": {
             "colorbar": {
              "outlinewidth": 0,
              "ticks": ""
             }
            },
            "type": "scatterternary"
           }
          ],
          "surface": [
           {
            "colorbar": {
             "outlinewidth": 0,
             "ticks": ""
            },
            "colorscale": [
             [
              0,
              "#0d0887"
             ],
             [
              0.1111111111111111,
              "#46039f"
             ],
             [
              0.2222222222222222,
              "#7201a8"
             ],
             [
              0.3333333333333333,
              "#9c179e"
             ],
             [
              0.4444444444444444,
              "#bd3786"
             ],
             [
              0.5555555555555556,
              "#d8576b"
             ],
             [
              0.6666666666666666,
              "#ed7953"
             ],
             [
              0.7777777777777778,
              "#fb9f3a"
             ],
             [
              0.8888888888888888,
              "#fdca26"
             ],
             [
              1,
              "#f0f921"
             ]
            ],
            "type": "surface"
           }
          ],
          "table": [
           {
            "cells": {
             "fill": {
              "color": "#EBF0F8"
             },
             "line": {
              "color": "white"
             }
            },
            "header": {
             "fill": {
              "color": "#C8D4E3"
             },
             "line": {
              "color": "white"
             }
            },
            "type": "table"
           }
          ]
         },
         "layout": {
          "annotationdefaults": {
           "arrowcolor": "#2a3f5f",
           "arrowhead": 0,
           "arrowwidth": 1
          },
          "autotypenumbers": "strict",
          "coloraxis": {
           "colorbar": {
            "outlinewidth": 0,
            "ticks": ""
           }
          },
          "colorscale": {
           "diverging": [
            [
             0,
             "#8e0152"
            ],
            [
             0.1,
             "#c51b7d"
            ],
            [
             0.2,
             "#de77ae"
            ],
            [
             0.3,
             "#f1b6da"
            ],
            [
             0.4,
             "#fde0ef"
            ],
            [
             0.5,
             "#f7f7f7"
            ],
            [
             0.6,
             "#e6f5d0"
            ],
            [
             0.7,
             "#b8e186"
            ],
            [
             0.8,
             "#7fbc41"
            ],
            [
             0.9,
             "#4d9221"
            ],
            [
             1,
             "#276419"
            ]
           ],
           "sequential": [
            [
             0,
             "#0d0887"
            ],
            [
             0.1111111111111111,
             "#46039f"
            ],
            [
             0.2222222222222222,
             "#7201a8"
            ],
            [
             0.3333333333333333,
             "#9c179e"
            ],
            [
             0.4444444444444444,
             "#bd3786"
            ],
            [
             0.5555555555555556,
             "#d8576b"
            ],
            [
             0.6666666666666666,
             "#ed7953"
            ],
            [
             0.7777777777777778,
             "#fb9f3a"
            ],
            [
             0.8888888888888888,
             "#fdca26"
            ],
            [
             1,
             "#f0f921"
            ]
           ],
           "sequentialminus": [
            [
             0,
             "#0d0887"
            ],
            [
             0.1111111111111111,
             "#46039f"
            ],
            [
             0.2222222222222222,
             "#7201a8"
            ],
            [
             0.3333333333333333,
             "#9c179e"
            ],
            [
             0.4444444444444444,
             "#bd3786"
            ],
            [
             0.5555555555555556,
             "#d8576b"
            ],
            [
             0.6666666666666666,
             "#ed7953"
            ],
            [
             0.7777777777777778,
             "#fb9f3a"
            ],
            [
             0.8888888888888888,
             "#fdca26"
            ],
            [
             1,
             "#f0f921"
            ]
           ]
          },
          "colorway": [
           "#636efa",
           "#EF553B",
           "#00cc96",
           "#ab63fa",
           "#FFA15A",
           "#19d3f3",
           "#FF6692",
           "#B6E880",
           "#FF97FF",
           "#FECB52"
          ],
          "font": {
           "color": "#2a3f5f"
          },
          "geo": {
           "bgcolor": "white",
           "lakecolor": "white",
           "landcolor": "#E5ECF6",
           "showlakes": true,
           "showland": true,
           "subunitcolor": "white"
          },
          "hoverlabel": {
           "align": "left"
          },
          "hovermode": "closest",
          "mapbox": {
           "style": "light"
          },
          "paper_bgcolor": "white",
          "plot_bgcolor": "#E5ECF6",
          "polar": {
           "angularaxis": {
            "gridcolor": "white",
            "linecolor": "white",
            "ticks": ""
           },
           "bgcolor": "#E5ECF6",
           "radialaxis": {
            "gridcolor": "white",
            "linecolor": "white",
            "ticks": ""
           }
          },
          "scene": {
           "xaxis": {
            "backgroundcolor": "#E5ECF6",
            "gridcolor": "white",
            "gridwidth": 2,
            "linecolor": "white",
            "showbackground": true,
            "ticks": "",
            "zerolinecolor": "white"
           },
           "yaxis": {
            "backgroundcolor": "#E5ECF6",
            "gridcolor": "white",
            "gridwidth": 2,
            "linecolor": "white",
            "showbackground": true,
            "ticks": "",
            "zerolinecolor": "white"
           },
           "zaxis": {
            "backgroundcolor": "#E5ECF6",
            "gridcolor": "white",
            "gridwidth": 2,
            "linecolor": "white",
            "showbackground": true,
            "ticks": "",
            "zerolinecolor": "white"
           }
          },
          "shapedefaults": {
           "line": {
            "color": "#2a3f5f"
           }
          },
          "ternary": {
           "aaxis": {
            "gridcolor": "white",
            "linecolor": "white",
            "ticks": ""
           },
           "baxis": {
            "gridcolor": "white",
            "linecolor": "white",
            "ticks": ""
           },
           "bgcolor": "#E5ECF6",
           "caxis": {
            "gridcolor": "white",
            "linecolor": "white",
            "ticks": ""
           }
          },
          "title": {
           "x": 0.05
          },
          "xaxis": {
           "automargin": true,
           "gridcolor": "white",
           "linecolor": "white",
           "ticks": "",
           "title": {
            "standoff": 15
           },
           "zerolinecolor": "white",
           "zerolinewidth": 2
          },
          "yaxis": {
           "automargin": true,
           "gridcolor": "white",
           "linecolor": "white",
           "ticks": "",
           "title": {
            "standoff": 15
           },
           "zerolinecolor": "white",
           "zerolinewidth": 2
          }
         }
        },
        "title": {
         "text": "Hierarquia de ['Disaster Subgroup', 'Disaster Type', 'Disaster Subtype']"
        }
       }
      }
     },
     "metadata": {},
     "output_type": "display_data"
    }
   ],
   "source": [
    "\n",
    "def plot_suburst(columns_list,df=df):\n",
    "    df_clean = df.dropna(subset=columns_list)\n",
    "    fig = px.sunburst(\n",
    "        df_clean,\n",
    "        path=columns_list,\n",
    "        title=f'Hierarquia de {columns_list}',\n",
    "        maxdepth=-1 \n",
    "    )\n",
    "    fig.update_traces(insidetextorientation='radial')\n",
    "    fig.show()\n",
    "\n",
    "plot_suburst(disaster_variables)"
   ]
  },
  {
   "cell_type": "markdown",
   "id": "77ed4e35",
   "metadata": {},
   "source": [
    "Aplicaremos o critério de cada grupo ter no mínimo 100 ocorrências."
   ]
  },
  {
   "cell_type": "code",
   "execution_count": 55,
   "id": "2abe4387",
   "metadata": {},
   "outputs": [
    {
     "name": "stdout",
     "output_type": "stream",
     "text": [
      "\n",
      "Processando coluna: Disaster Subgroup\n",
      "Valores mantidos em 'Disaster Subgroup': ['Hydrological', 'Meteorological', 'Biological', 'Geophysical', 'Climatological']\n",
      "\n",
      "Processando coluna: Disaster Type\n",
      "Valores mantidos em 'Disaster Type': ['Flood', 'Storm', 'Epidemic', 'Earthquake', 'Extreme temperature', 'Mass movement (wet)', 'Drought', 'Wildfire', 'Volcanic activity']\n",
      "\n",
      "Processando coluna: Disaster Subtype\n",
      "Valores mantidos em 'Disaster Subtype': ['Riverine flood', 'Flood (General)', 'Tropical cyclone', 'Flash flood', 'Ground movement', 'Bacterial disease', 'Drought', 'Viral disease', 'Landslide (wet)', 'Storm (General)', 'Cold wave', 'Severe weather', 'Forest fire', 'Heat wave', 'Blizzard/Winter storm', 'Lightning/Thunderstorms', 'Tornado', 'Extra-tropical storm', 'Ash fall']\n",
      "\n",
      "Número de linhas no DataFrame final: 9437\n"
     ]
    }
   ],
   "source": [
    "min_count = 100\n",
    "\n",
    "# Itera por cada coluna e filtra o DataFrame\n",
    "for col in disaster_variables:\n",
    "    print(f\"\\nProcessando coluna: {col}\")\n",
    "    value_counts = df[col].value_counts()\n",
    "    valid_values = value_counts[value_counts >= min_count].index.tolist()\n",
    "    print(f\"Valores mantidos em '{col}': {valid_values}\")\n",
    "    \n",
    "    # Filtra o DataFrame com base nos valores válidos\n",
    "    df = df[df[col].isin(valid_values)]\n",
    "\n",
    "# Resultado final\n",
    "print(f\"\\nNúmero de linhas no DataFrame final: {len(df)}\")\n"
   ]
  },
  {
   "cell_type": "code",
   "execution_count": 56,
   "id": "e7169d05",
   "metadata": {},
   "outputs": [
    {
     "data": {
      "application/vnd.plotly.v1+json": {
       "config": {
        "plotlyServerURL": "https://plot.ly"
       },
       "data": [
        {
         "branchvalues": "total",
         "domain": {
          "x": [
           0,
           1
          ],
          "y": [
           0,
           1
          ]
         },
         "hovertemplate": "labels=%{label}<br>count=%{value}<br>parent=%{parent}<br>id=%{id}<extra></extra>",
         "ids": [
          "Geophysical/Volcanic activity/Ash fall",
          "Biological/Epidemic/Bacterial disease",
          "Meteorological/Storm/Blizzard/Winter storm",
          "Meteorological/Extreme temperature/Cold wave",
          "Climatological/Drought/Drought",
          "Meteorological/Storm/Extra-tropical storm",
          "Hydrological/Flood/Flash flood",
          "Hydrological/Flood/Flood (General)",
          "Climatological/Wildfire/Forest fire",
          "Geophysical/Earthquake/Ground movement",
          "Meteorological/Extreme temperature/Heat wave",
          "Hydrological/Mass movement (wet)/Landslide (wet)",
          "Meteorological/Storm/Lightning/Thunderstorms",
          "Hydrological/Flood/Riverine flood",
          "Meteorological/Storm/Severe weather",
          "Meteorological/Storm/Storm (General)",
          "Meteorological/Storm/Tornado",
          "Meteorological/Storm/Tropical cyclone",
          "Biological/Epidemic/Viral disease",
          "Climatological/Drought",
          "Geophysical/Earthquake",
          "Biological/Epidemic",
          "Meteorological/Extreme temperature",
          "Hydrological/Flood",
          "Hydrological/Mass movement (wet)",
          "Meteorological/Storm",
          "Geophysical/Volcanic activity",
          "Climatological/Wildfire",
          "Biological",
          "Climatological",
          "Geophysical",
          "Hydrological",
          "Meteorological"
         ],
         "insidetextorientation": "radial",
         "labels": [
          "Ash fall",
          "Bacterial disease",
          "Blizzard/Winter storm",
          "Cold wave",
          "Drought",
          "Extra-tropical storm",
          "Flash flood",
          "Flood (General)",
          "Forest fire",
          "Ground movement",
          "Heat wave",
          "Landslide (wet)",
          "Lightning/Thunderstorms",
          "Riverine flood",
          "Severe weather",
          "Storm (General)",
          "Tornado",
          "Tropical cyclone",
          "Viral disease",
          "Drought",
          "Earthquake",
          "Epidemic",
          "Extreme temperature",
          "Flood",
          "Mass movement (wet)",
          "Storm",
          "Volcanic activity",
          "Wildfire",
          "Biological",
          "Climatological",
          "Geophysical",
          "Hydrological",
          "Meteorological"
         ],
         "maxdepth": -1,
         "name": "",
         "parents": [
          "Geophysical/Volcanic activity",
          "Biological/Epidemic",
          "Meteorological/Storm",
          "Meteorological/Extreme temperature",
          "Climatological/Drought",
          "Meteorological/Storm",
          "Hydrological/Flood",
          "Hydrological/Flood",
          "Climatological/Wildfire",
          "Geophysical/Earthquake",
          "Meteorological/Extreme temperature",
          "Hydrological/Mass movement (wet)",
          "Meteorological/Storm",
          "Hydrological/Flood",
          "Meteorological/Storm",
          "Meteorological/Storm",
          "Meteorological/Storm",
          "Meteorological/Storm",
          "Biological/Epidemic",
          "Climatological",
          "Geophysical",
          "Biological",
          "Meteorological",
          "Hydrological",
          "Hydrological",
          "Meteorological",
          "Geophysical",
          "Climatological",
          "",
          "",
          "",
          "",
          ""
         ],
         "type": "sunburst",
         "values": [
          102,
          421,
          183,
          225,
          408,
          144,
          702,
          1303,
          194,
          635,
          192,
          362,
          171,
          2024,
          208,
          320,
          166,
          1301,
          376,
          408,
          635,
          797,
          417,
          4029,
          362,
          2493,
          102,
          194,
          797,
          602,
          737,
          4391,
          2910
         ]
        }
       ],
       "layout": {
        "legend": {
         "tracegroupgap": 0
        },
        "template": {
         "data": {
          "bar": [
           {
            "error_x": {
             "color": "#2a3f5f"
            },
            "error_y": {
             "color": "#2a3f5f"
            },
            "marker": {
             "line": {
              "color": "#E5ECF6",
              "width": 0.5
             },
             "pattern": {
              "fillmode": "overlay",
              "size": 10,
              "solidity": 0.2
             }
            },
            "type": "bar"
           }
          ],
          "barpolar": [
           {
            "marker": {
             "line": {
              "color": "#E5ECF6",
              "width": 0.5
             },
             "pattern": {
              "fillmode": "overlay",
              "size": 10,
              "solidity": 0.2
             }
            },
            "type": "barpolar"
           }
          ],
          "carpet": [
           {
            "aaxis": {
             "endlinecolor": "#2a3f5f",
             "gridcolor": "white",
             "linecolor": "white",
             "minorgridcolor": "white",
             "startlinecolor": "#2a3f5f"
            },
            "baxis": {
             "endlinecolor": "#2a3f5f",
             "gridcolor": "white",
             "linecolor": "white",
             "minorgridcolor": "white",
             "startlinecolor": "#2a3f5f"
            },
            "type": "carpet"
           }
          ],
          "choropleth": [
           {
            "colorbar": {
             "outlinewidth": 0,
             "ticks": ""
            },
            "type": "choropleth"
           }
          ],
          "contour": [
           {
            "colorbar": {
             "outlinewidth": 0,
             "ticks": ""
            },
            "colorscale": [
             [
              0,
              "#0d0887"
             ],
             [
              0.1111111111111111,
              "#46039f"
             ],
             [
              0.2222222222222222,
              "#7201a8"
             ],
             [
              0.3333333333333333,
              "#9c179e"
             ],
             [
              0.4444444444444444,
              "#bd3786"
             ],
             [
              0.5555555555555556,
              "#d8576b"
             ],
             [
              0.6666666666666666,
              "#ed7953"
             ],
             [
              0.7777777777777778,
              "#fb9f3a"
             ],
             [
              0.8888888888888888,
              "#fdca26"
             ],
             [
              1,
              "#f0f921"
             ]
            ],
            "type": "contour"
           }
          ],
          "contourcarpet": [
           {
            "colorbar": {
             "outlinewidth": 0,
             "ticks": ""
            },
            "type": "contourcarpet"
           }
          ],
          "heatmap": [
           {
            "colorbar": {
             "outlinewidth": 0,
             "ticks": ""
            },
            "colorscale": [
             [
              0,
              "#0d0887"
             ],
             [
              0.1111111111111111,
              "#46039f"
             ],
             [
              0.2222222222222222,
              "#7201a8"
             ],
             [
              0.3333333333333333,
              "#9c179e"
             ],
             [
              0.4444444444444444,
              "#bd3786"
             ],
             [
              0.5555555555555556,
              "#d8576b"
             ],
             [
              0.6666666666666666,
              "#ed7953"
             ],
             [
              0.7777777777777778,
              "#fb9f3a"
             ],
             [
              0.8888888888888888,
              "#fdca26"
             ],
             [
              1,
              "#f0f921"
             ]
            ],
            "type": "heatmap"
           }
          ],
          "heatmapgl": [
           {
            "colorbar": {
             "outlinewidth": 0,
             "ticks": ""
            },
            "colorscale": [
             [
              0,
              "#0d0887"
             ],
             [
              0.1111111111111111,
              "#46039f"
             ],
             [
              0.2222222222222222,
              "#7201a8"
             ],
             [
              0.3333333333333333,
              "#9c179e"
             ],
             [
              0.4444444444444444,
              "#bd3786"
             ],
             [
              0.5555555555555556,
              "#d8576b"
             ],
             [
              0.6666666666666666,
              "#ed7953"
             ],
             [
              0.7777777777777778,
              "#fb9f3a"
             ],
             [
              0.8888888888888888,
              "#fdca26"
             ],
             [
              1,
              "#f0f921"
             ]
            ],
            "type": "heatmapgl"
           }
          ],
          "histogram": [
           {
            "marker": {
             "pattern": {
              "fillmode": "overlay",
              "size": 10,
              "solidity": 0.2
             }
            },
            "type": "histogram"
           }
          ],
          "histogram2d": [
           {
            "colorbar": {
             "outlinewidth": 0,
             "ticks": ""
            },
            "colorscale": [
             [
              0,
              "#0d0887"
             ],
             [
              0.1111111111111111,
              "#46039f"
             ],
             [
              0.2222222222222222,
              "#7201a8"
             ],
             [
              0.3333333333333333,
              "#9c179e"
             ],
             [
              0.4444444444444444,
              "#bd3786"
             ],
             [
              0.5555555555555556,
              "#d8576b"
             ],
             [
              0.6666666666666666,
              "#ed7953"
             ],
             [
              0.7777777777777778,
              "#fb9f3a"
             ],
             [
              0.8888888888888888,
              "#fdca26"
             ],
             [
              1,
              "#f0f921"
             ]
            ],
            "type": "histogram2d"
           }
          ],
          "histogram2dcontour": [
           {
            "colorbar": {
             "outlinewidth": 0,
             "ticks": ""
            },
            "colorscale": [
             [
              0,
              "#0d0887"
             ],
             [
              0.1111111111111111,
              "#46039f"
             ],
             [
              0.2222222222222222,
              "#7201a8"
             ],
             [
              0.3333333333333333,
              "#9c179e"
             ],
             [
              0.4444444444444444,
              "#bd3786"
             ],
             [
              0.5555555555555556,
              "#d8576b"
             ],
             [
              0.6666666666666666,
              "#ed7953"
             ],
             [
              0.7777777777777778,
              "#fb9f3a"
             ],
             [
              0.8888888888888888,
              "#fdca26"
             ],
             [
              1,
              "#f0f921"
             ]
            ],
            "type": "histogram2dcontour"
           }
          ],
          "mesh3d": [
           {
            "colorbar": {
             "outlinewidth": 0,
             "ticks": ""
            },
            "type": "mesh3d"
           }
          ],
          "parcoords": [
           {
            "line": {
             "colorbar": {
              "outlinewidth": 0,
              "ticks": ""
             }
            },
            "type": "parcoords"
           }
          ],
          "pie": [
           {
            "automargin": true,
            "type": "pie"
           }
          ],
          "scatter": [
           {
            "fillpattern": {
             "fillmode": "overlay",
             "size": 10,
             "solidity": 0.2
            },
            "type": "scatter"
           }
          ],
          "scatter3d": [
           {
            "line": {
             "colorbar": {
              "outlinewidth": 0,
              "ticks": ""
             }
            },
            "marker": {
             "colorbar": {
              "outlinewidth": 0,
              "ticks": ""
             }
            },
            "type": "scatter3d"
           }
          ],
          "scattercarpet": [
           {
            "marker": {
             "colorbar": {
              "outlinewidth": 0,
              "ticks": ""
             }
            },
            "type": "scattercarpet"
           }
          ],
          "scattergeo": [
           {
            "marker": {
             "colorbar": {
              "outlinewidth": 0,
              "ticks": ""
             }
            },
            "type": "scattergeo"
           }
          ],
          "scattergl": [
           {
            "marker": {
             "colorbar": {
              "outlinewidth": 0,
              "ticks": ""
             }
            },
            "type": "scattergl"
           }
          ],
          "scattermapbox": [
           {
            "marker": {
             "colorbar": {
              "outlinewidth": 0,
              "ticks": ""
             }
            },
            "type": "scattermapbox"
           }
          ],
          "scatterpolar": [
           {
            "marker": {
             "colorbar": {
              "outlinewidth": 0,
              "ticks": ""
             }
            },
            "type": "scatterpolar"
           }
          ],
          "scatterpolargl": [
           {
            "marker": {
             "colorbar": {
              "outlinewidth": 0,
              "ticks": ""
             }
            },
            "type": "scatterpolargl"
           }
          ],
          "scatterternary": [
           {
            "marker": {
             "colorbar": {
              "outlinewidth": 0,
              "ticks": ""
             }
            },
            "type": "scatterternary"
           }
          ],
          "surface": [
           {
            "colorbar": {
             "outlinewidth": 0,
             "ticks": ""
            },
            "colorscale": [
             [
              0,
              "#0d0887"
             ],
             [
              0.1111111111111111,
              "#46039f"
             ],
             [
              0.2222222222222222,
              "#7201a8"
             ],
             [
              0.3333333333333333,
              "#9c179e"
             ],
             [
              0.4444444444444444,
              "#bd3786"
             ],
             [
              0.5555555555555556,
              "#d8576b"
             ],
             [
              0.6666666666666666,
              "#ed7953"
             ],
             [
              0.7777777777777778,
              "#fb9f3a"
             ],
             [
              0.8888888888888888,
              "#fdca26"
             ],
             [
              1,
              "#f0f921"
             ]
            ],
            "type": "surface"
           }
          ],
          "table": [
           {
            "cells": {
             "fill": {
              "color": "#EBF0F8"
             },
             "line": {
              "color": "white"
             }
            },
            "header": {
             "fill": {
              "color": "#C8D4E3"
             },
             "line": {
              "color": "white"
             }
            },
            "type": "table"
           }
          ]
         },
         "layout": {
          "annotationdefaults": {
           "arrowcolor": "#2a3f5f",
           "arrowhead": 0,
           "arrowwidth": 1
          },
          "autotypenumbers": "strict",
          "coloraxis": {
           "colorbar": {
            "outlinewidth": 0,
            "ticks": ""
           }
          },
          "colorscale": {
           "diverging": [
            [
             0,
             "#8e0152"
            ],
            [
             0.1,
             "#c51b7d"
            ],
            [
             0.2,
             "#de77ae"
            ],
            [
             0.3,
             "#f1b6da"
            ],
            [
             0.4,
             "#fde0ef"
            ],
            [
             0.5,
             "#f7f7f7"
            ],
            [
             0.6,
             "#e6f5d0"
            ],
            [
             0.7,
             "#b8e186"
            ],
            [
             0.8,
             "#7fbc41"
            ],
            [
             0.9,
             "#4d9221"
            ],
            [
             1,
             "#276419"
            ]
           ],
           "sequential": [
            [
             0,
             "#0d0887"
            ],
            [
             0.1111111111111111,
             "#46039f"
            ],
            [
             0.2222222222222222,
             "#7201a8"
            ],
            [
             0.3333333333333333,
             "#9c179e"
            ],
            [
             0.4444444444444444,
             "#bd3786"
            ],
            [
             0.5555555555555556,
             "#d8576b"
            ],
            [
             0.6666666666666666,
             "#ed7953"
            ],
            [
             0.7777777777777778,
             "#fb9f3a"
            ],
            [
             0.8888888888888888,
             "#fdca26"
            ],
            [
             1,
             "#f0f921"
            ]
           ],
           "sequentialminus": [
            [
             0,
             "#0d0887"
            ],
            [
             0.1111111111111111,
             "#46039f"
            ],
            [
             0.2222222222222222,
             "#7201a8"
            ],
            [
             0.3333333333333333,
             "#9c179e"
            ],
            [
             0.4444444444444444,
             "#bd3786"
            ],
            [
             0.5555555555555556,
             "#d8576b"
            ],
            [
             0.6666666666666666,
             "#ed7953"
            ],
            [
             0.7777777777777778,
             "#fb9f3a"
            ],
            [
             0.8888888888888888,
             "#fdca26"
            ],
            [
             1,
             "#f0f921"
            ]
           ]
          },
          "colorway": [
           "#636efa",
           "#EF553B",
           "#00cc96",
           "#ab63fa",
           "#FFA15A",
           "#19d3f3",
           "#FF6692",
           "#B6E880",
           "#FF97FF",
           "#FECB52"
          ],
          "font": {
           "color": "#2a3f5f"
          },
          "geo": {
           "bgcolor": "white",
           "lakecolor": "white",
           "landcolor": "#E5ECF6",
           "showlakes": true,
           "showland": true,
           "subunitcolor": "white"
          },
          "hoverlabel": {
           "align": "left"
          },
          "hovermode": "closest",
          "mapbox": {
           "style": "light"
          },
          "paper_bgcolor": "white",
          "plot_bgcolor": "#E5ECF6",
          "polar": {
           "angularaxis": {
            "gridcolor": "white",
            "linecolor": "white",
            "ticks": ""
           },
           "bgcolor": "#E5ECF6",
           "radialaxis": {
            "gridcolor": "white",
            "linecolor": "white",
            "ticks": ""
           }
          },
          "scene": {
           "xaxis": {
            "backgroundcolor": "#E5ECF6",
            "gridcolor": "white",
            "gridwidth": 2,
            "linecolor": "white",
            "showbackground": true,
            "ticks": "",
            "zerolinecolor": "white"
           },
           "yaxis": {
            "backgroundcolor": "#E5ECF6",
            "gridcolor": "white",
            "gridwidth": 2,
            "linecolor": "white",
            "showbackground": true,
            "ticks": "",
            "zerolinecolor": "white"
           },
           "zaxis": {
            "backgroundcolor": "#E5ECF6",
            "gridcolor": "white",
            "gridwidth": 2,
            "linecolor": "white",
            "showbackground": true,
            "ticks": "",
            "zerolinecolor": "white"
           }
          },
          "shapedefaults": {
           "line": {
            "color": "#2a3f5f"
           }
          },
          "ternary": {
           "aaxis": {
            "gridcolor": "white",
            "linecolor": "white",
            "ticks": ""
           },
           "baxis": {
            "gridcolor": "white",
            "linecolor": "white",
            "ticks": ""
           },
           "bgcolor": "#E5ECF6",
           "caxis": {
            "gridcolor": "white",
            "linecolor": "white",
            "ticks": ""
           }
          },
          "title": {
           "x": 0.05
          },
          "xaxis": {
           "automargin": true,
           "gridcolor": "white",
           "linecolor": "white",
           "ticks": "",
           "title": {
            "standoff": 15
           },
           "zerolinecolor": "white",
           "zerolinewidth": 2
          },
          "yaxis": {
           "automargin": true,
           "gridcolor": "white",
           "linecolor": "white",
           "ticks": "",
           "title": {
            "standoff": 15
           },
           "zerolinecolor": "white",
           "zerolinewidth": 2
          }
         }
        },
        "title": {
         "text": "Hierarquia de ['Disaster Subgroup', 'Disaster Type', 'Disaster Subtype']"
        }
       }
      }
     },
     "metadata": {},
     "output_type": "display_data"
    }
   ],
   "source": [
    "plot_suburst(disaster_variables,df)"
   ]
  },
  {
   "cell_type": "markdown",
   "id": "df3d252c",
   "metadata": {},
   "source": [
    "Podemos agopra trabalhar a nível de Disaster Subtype."
   ]
  },
  {
   "cell_type": "code",
   "execution_count": 57,
   "id": "16819292",
   "metadata": {},
   "outputs": [],
   "source": [
    "df = df.drop(columns=['Disaster Subgroup','Disaster Type'])"
   ]
  },
  {
   "cell_type": "markdown",
   "id": "588f450a",
   "metadata": {},
   "source": [
    "E podemos fazer uma análise parecida com relação às variáveis regionais."
   ]
  },
  {
   "cell_type": "code",
   "execution_count": 58,
   "id": "5731cdd7",
   "metadata": {},
   "outputs": [
    {
     "data": {
      "application/vnd.plotly.v1+json": {
       "config": {
        "plotlyServerURL": "https://plot.ly"
       },
       "data": [
        {
         "branchvalues": "total",
         "domain": {
          "x": [
           0,
           1
          ],
          "y": [
           0,
           1
          ]
         },
         "hovertemplate": "labels=%{label}<br>count=%{value}<br>parent=%{parent}<br>id=%{id}<extra></extra>",
         "ids": [
          "Asia/Southern Asia/Afghanistan",
          "Europe/Southern Europe/Albania",
          "Africa/Northern Africa/Algeria",
          "Oceania/Polynesia/American Samoa",
          "Africa/Sub-Saharan Africa/Angola",
          "Americas/Latin America and the Caribbean/Anguilla",
          "Americas/Latin America and the Caribbean/Antigua and Barbuda",
          "Americas/Latin America and the Caribbean/Argentina",
          "Asia/Western Asia/Armenia",
          "Oceania/Australia and New Zealand/Australia",
          "Europe/Western Europe/Austria",
          "Asia/Western Asia/Azerbaijan",
          "Americas/Latin America and the Caribbean/Bahamas",
          "Asia/Southern Asia/Bangladesh",
          "Americas/Latin America and the Caribbean/Barbados",
          "Europe/Eastern Europe/Belarus",
          "Europe/Western Europe/Belgium",
          "Americas/Latin America and the Caribbean/Belize",
          "Africa/Sub-Saharan Africa/Benin",
          "Americas/Northern America/Bermuda",
          "Asia/Southern Asia/Bhutan",
          "Americas/Latin America and the Caribbean/Bolivia (Plurinational State of)",
          "Europe/Southern Europe/Bosnia and Herzegovina",
          "Africa/Sub-Saharan Africa/Botswana",
          "Americas/Latin America and the Caribbean/Brazil",
          "Americas/Latin America and the Caribbean/British Virgin Islands",
          "Europe/Eastern Europe/Bulgaria",
          "Africa/Sub-Saharan Africa/Burkina Faso",
          "Africa/Sub-Saharan Africa/Burundi",
          "Africa/Sub-Saharan Africa/Cabo Verde",
          "Asia/South-eastern Asia/Cambodia",
          "Africa/Sub-Saharan Africa/Cameroon",
          "Americas/Northern America/Canada",
          "Africa/Northern Africa/Canary Islands",
          "Americas/Latin America and the Caribbean/Cayman Islands",
          "Africa/Sub-Saharan Africa/Central African Republic",
          "Africa/Sub-Saharan Africa/Chad",
          "Americas/Latin America and the Caribbean/Chile",
          "Asia/Eastern Asia/China",
          "Asia/Eastern Asia/China, Hong Kong Special Administrative Region",
          "Asia/Eastern Asia/China, Macao Special Administrative Region",
          "Americas/Latin America and the Caribbean/Colombia",
          "Africa/Sub-Saharan Africa/Comoros",
          "Africa/Sub-Saharan Africa/Congo",
          "Oceania/Polynesia/Cook Islands",
          "Americas/Latin America and the Caribbean/Costa Rica",
          "Europe/Southern Europe/Croatia",
          "Americas/Latin America and the Caribbean/Cuba",
          "Asia/Western Asia/Cyprus",
          "Europe/Eastern Europe/Czechia",
          "Africa/Sub-Saharan Africa/Côte dIvoire",
          "Asia/Eastern Asia/Democratic People's Republic of Korea",
          "Africa/Sub-Saharan Africa/Democratic Republic of the Congo",
          "Europe/Northern Europe/Denmark",
          "Africa/Sub-Saharan Africa/Djibouti",
          "Americas/Latin America and the Caribbean/Dominica",
          "Americas/Latin America and the Caribbean/Dominican Republic",
          "Americas/Latin America and the Caribbean/Ecuador",
          "Africa/Northern Africa/Egypt",
          "Americas/Latin America and the Caribbean/El Salvador",
          "Africa/Sub-Saharan Africa/Equatorial Guinea",
          "Africa/Sub-Saharan Africa/Eritrea",
          "Europe/Northern Europe/Estonia",
          "Africa/Sub-Saharan Africa/Eswatini",
          "Africa/Sub-Saharan Africa/Ethiopia",
          "Oceania/Melanesia/Fiji",
          "Europe/Northern Europe/Finland",
          "Europe/Western Europe/France",
          "Americas/Latin America and the Caribbean/French Guiana",
          "Oceania/Polynesia/French Polynesia",
          "Africa/Sub-Saharan Africa/Gabon",
          "Africa/Sub-Saharan Africa/Gambia",
          "Asia/Western Asia/Georgia",
          "Europe/Western Europe/Germany",
          "Africa/Sub-Saharan Africa/Ghana",
          "Europe/Southern Europe/Greece",
          "Americas/Latin America and the Caribbean/Grenada",
          "Americas/Latin America and the Caribbean/Guadeloupe",
          "Oceania/Micronesia/Guam",
          "Americas/Latin America and the Caribbean/Guatemala",
          "Africa/Sub-Saharan Africa/Guinea",
          "Africa/Sub-Saharan Africa/Guinea-Bissau",
          "Americas/Latin America and the Caribbean/Guyana",
          "Americas/Latin America and the Caribbean/Haiti",
          "Americas/Latin America and the Caribbean/Honduras",
          "Europe/Eastern Europe/Hungary",
          "Europe/Northern Europe/Iceland",
          "Asia/Southern Asia/India",
          "Asia/South-eastern Asia/Indonesia",
          "Asia/Southern Asia/Iran (Islamic Republic of)",
          "Asia/Western Asia/Iraq",
          "Europe/Northern Europe/Ireland",
          "Europe/Northern Europe/Isle of Man",
          "Asia/Western Asia/Israel",
          "Europe/Southern Europe/Italy",
          "Americas/Latin America and the Caribbean/Jamaica",
          "Asia/Eastern Asia/Japan",
          "Asia/Western Asia/Jordan",
          "Asia/Central Asia/Kazakhstan",
          "Africa/Sub-Saharan Africa/Kenya",
          "Oceania/Micronesia/Kiribati",
          "Asia/Western Asia/Kuwait",
          "Asia/Central Asia/Kyrgyzstan",
          "Asia/South-eastern Asia/Lao People's Democratic Republic",
          "Europe/Northern Europe/Latvia",
          "Asia/Western Asia/Lebanon",
          "Africa/Sub-Saharan Africa/Lesotho",
          "Africa/Sub-Saharan Africa/Liberia",
          "Africa/Northern Africa/Libya",
          "Europe/Northern Europe/Lithuania",
          "Europe/Western Europe/Luxembourg",
          "Africa/Sub-Saharan Africa/Madagascar",
          "Africa/Sub-Saharan Africa/Malawi",
          "Asia/South-eastern Asia/Malaysia",
          "Asia/Southern Asia/Maldives",
          "Africa/Sub-Saharan Africa/Mali",
          "Europe/Southern Europe/Malta",
          "Oceania/Micronesia/Marshall Islands",
          "Americas/Latin America and the Caribbean/Martinique",
          "Africa/Sub-Saharan Africa/Mauritania",
          "Africa/Sub-Saharan Africa/Mauritius",
          "Americas/Latin America and the Caribbean/Mexico",
          "Oceania/Micronesia/Micronesia (Federated States of)",
          "Asia/Eastern Asia/Mongolia",
          "Europe/Southern Europe/Montenegro",
          "Americas/Latin America and the Caribbean/Montserrat",
          "Africa/Northern Africa/Morocco",
          "Africa/Sub-Saharan Africa/Mozambique",
          "Asia/South-eastern Asia/Myanmar",
          "Africa/Sub-Saharan Africa/Namibia",
          "Asia/Southern Asia/Nepal",
          "Europe/Western Europe/Netherlands (Kingdom of the)",
          "Oceania/Melanesia/New Caledonia",
          "Oceania/Australia and New Zealand/New Zealand",
          "Americas/Latin America and the Caribbean/Nicaragua",
          "Africa/Sub-Saharan Africa/Niger",
          "Africa/Sub-Saharan Africa/Nigeria",
          "Oceania/Polynesia/Niue",
          "Europe/Southern Europe/North Macedonia",
          "Oceania/Micronesia/Northern Mariana Islands",
          "Europe/Northern Europe/Norway",
          "Asia/Western Asia/Oman",
          "Asia/Southern Asia/Pakistan",
          "Oceania/Micronesia/Palau",
          "Americas/Latin America and the Caribbean/Panama",
          "Oceania/Melanesia/Papua New Guinea",
          "Americas/Latin America and the Caribbean/Paraguay",
          "Americas/Latin America and the Caribbean/Peru",
          "Asia/South-eastern Asia/Philippines",
          "Europe/Eastern Europe/Poland",
          "Europe/Southern Europe/Portugal",
          "Americas/Latin America and the Caribbean/Puerto Rico",
          "Asia/Western Asia/Qatar",
          "Asia/Eastern Asia/Republic of Korea",
          "Europe/Eastern Europe/Republic of Moldova",
          "Europe/Eastern Europe/Romania",
          "Europe/Eastern Europe/Russian Federation",
          "Africa/Sub-Saharan Africa/Rwanda",
          "Africa/Sub-Saharan Africa/Réunion",
          "Americas/Latin America and the Caribbean/Saint Barthélemy",
          "Africa/Sub-Saharan Africa/Saint Helena",
          "Americas/Latin America and the Caribbean/Saint Kitts and Nevis",
          "Americas/Latin America and the Caribbean/Saint Lucia",
          "Americas/Latin America and the Caribbean/Saint Martin (French Part)",
          "Americas/Latin America and the Caribbean/Saint Vincent and the Grenadines",
          "Oceania/Polynesia/Samoa",
          "Africa/Sub-Saharan Africa/Sao Tome and Principe",
          "Asia/Western Asia/Saudi Arabia",
          "Africa/Sub-Saharan Africa/Senegal",
          "Europe/Southern Europe/Serbia",
          "Europe/Southern Europe/Serbia Montenegro",
          "Africa/Sub-Saharan Africa/Seychelles",
          "Africa/Sub-Saharan Africa/Sierra Leone",
          "Asia/South-eastern Asia/Singapore",
          "Americas/Latin America and the Caribbean/Sint Maarten (Dutch part)",
          "Europe/Eastern Europe/Slovakia",
          "Europe/Southern Europe/Slovenia",
          "Oceania/Melanesia/Solomon Islands",
          "Africa/Sub-Saharan Africa/Somalia",
          "Africa/Sub-Saharan Africa/South Africa",
          "Africa/Sub-Saharan Africa/South Sudan",
          "Europe/Southern Europe/Spain",
          "Asia/Southern Asia/Sri Lanka",
          "Asia/Western Asia/State of Palestine",
          "Africa/Northern Africa/Sudan",
          "Americas/Latin America and the Caribbean/Suriname",
          "Europe/Northern Europe/Sweden",
          "Europe/Western Europe/Switzerland",
          "Asia/Western Asia/Syrian Arab Republic",
          "Asia/Eastern Asia/Taiwan (Province of China)",
          "Asia/Central Asia/Tajikistan",
          "Asia/South-eastern Asia/Thailand",
          "Asia/South-eastern Asia/Timor-Leste",
          "Africa/Sub-Saharan Africa/Togo",
          "Oceania/Polynesia/Tokelau",
          "Oceania/Polynesia/Tonga",
          "Americas/Latin America and the Caribbean/Trinidad and Tobago",
          "Africa/Northern Africa/Tunisia",
          "Asia/Central Asia/Turkmenistan",
          "Americas/Latin America and the Caribbean/Turks and Caicos Islands",
          "Oceania/Polynesia/Tuvalu",
          "Asia/Western Asia/Türkiye",
          "Africa/Sub-Saharan Africa/Uganda",
          "Europe/Eastern Europe/Ukraine",
          "Asia/Western Asia/United Arab Emirates",
          "Europe/Northern Europe/United Kingdom of Great Britain and Northern Ireland",
          "Africa/Sub-Saharan Africa/United Republic of Tanzania",
          "Americas/Latin America and the Caribbean/United States Virgin Islands",
          "Americas/Northern America/United States of America",
          "Americas/Latin America and the Caribbean/Uruguay",
          "Asia/Central Asia/Uzbekistan",
          "Oceania/Melanesia/Vanuatu",
          "Americas/Latin America and the Caribbean/Venezuela (Bolivarian Republic of)",
          "Asia/South-eastern Asia/Viet Nam",
          "Oceania/Polynesia/Wallis and Futuna Islands",
          "Asia/Western Asia/Yemen",
          "Africa/Sub-Saharan Africa/Zambia",
          "Africa/Sub-Saharan Africa/Zimbabwe",
          "Oceania/Australia and New Zealand",
          "Asia/Central Asia",
          "Asia/Eastern Asia",
          "Europe/Eastern Europe",
          "Americas/Latin America and the Caribbean",
          "Oceania/Melanesia",
          "Oceania/Micronesia",
          "Africa/Northern Africa",
          "Americas/Northern America",
          "Europe/Northern Europe",
          "Oceania/Polynesia",
          "Asia/South-eastern Asia",
          "Asia/Southern Asia",
          "Europe/Southern Europe",
          "Africa/Sub-Saharan Africa",
          "Asia/Western Asia",
          "Europe/Western Europe",
          "Africa",
          "Americas",
          "Asia",
          "Europe",
          "Oceania"
         ],
         "insidetextorientation": "radial",
         "labels": [
          "Afghanistan",
          "Albania",
          "Algeria",
          "American Samoa",
          "Angola",
          "Anguilla",
          "Antigua and Barbuda",
          "Argentina",
          "Armenia",
          "Australia",
          "Austria",
          "Azerbaijan",
          "Bahamas",
          "Bangladesh",
          "Barbados",
          "Belarus",
          "Belgium",
          "Belize",
          "Benin",
          "Bermuda",
          "Bhutan",
          "Bolivia (Plurinational State of)",
          "Bosnia and Herzegovina",
          "Botswana",
          "Brazil",
          "British Virgin Islands",
          "Bulgaria",
          "Burkina Faso",
          "Burundi",
          "Cabo Verde",
          "Cambodia",
          "Cameroon",
          "Canada",
          "Canary Islands",
          "Cayman Islands",
          "Central African Republic",
          "Chad",
          "Chile",
          "China",
          "China, Hong Kong Special Administrative Region",
          "China, Macao Special Administrative Region",
          "Colombia",
          "Comoros",
          "Congo",
          "Cook Islands",
          "Costa Rica",
          "Croatia",
          "Cuba",
          "Cyprus",
          "Czechia",
          "Côte dIvoire",
          "Democratic People's Republic of Korea",
          "Democratic Republic of the Congo",
          "Denmark",
          "Djibouti",
          "Dominica",
          "Dominican Republic",
          "Ecuador",
          "Egypt",
          "El Salvador",
          "Equatorial Guinea",
          "Eritrea",
          "Estonia",
          "Eswatini",
          "Ethiopia",
          "Fiji",
          "Finland",
          "France",
          "French Guiana",
          "French Polynesia",
          "Gabon",
          "Gambia",
          "Georgia",
          "Germany",
          "Ghana",
          "Greece",
          "Grenada",
          "Guadeloupe",
          "Guam",
          "Guatemala",
          "Guinea",
          "Guinea-Bissau",
          "Guyana",
          "Haiti",
          "Honduras",
          "Hungary",
          "Iceland",
          "India",
          "Indonesia",
          "Iran (Islamic Republic of)",
          "Iraq",
          "Ireland",
          "Isle of Man",
          "Israel",
          "Italy",
          "Jamaica",
          "Japan",
          "Jordan",
          "Kazakhstan",
          "Kenya",
          "Kiribati",
          "Kuwait",
          "Kyrgyzstan",
          "Lao People's Democratic Republic",
          "Latvia",
          "Lebanon",
          "Lesotho",
          "Liberia",
          "Libya",
          "Lithuania",
          "Luxembourg",
          "Madagascar",
          "Malawi",
          "Malaysia",
          "Maldives",
          "Mali",
          "Malta",
          "Marshall Islands",
          "Martinique",
          "Mauritania",
          "Mauritius",
          "Mexico",
          "Micronesia (Federated States of)",
          "Mongolia",
          "Montenegro",
          "Montserrat",
          "Morocco",
          "Mozambique",
          "Myanmar",
          "Namibia",
          "Nepal",
          "Netherlands (Kingdom of the)",
          "New Caledonia",
          "New Zealand",
          "Nicaragua",
          "Niger",
          "Nigeria",
          "Niue",
          "North Macedonia",
          "Northern Mariana Islands",
          "Norway",
          "Oman",
          "Pakistan",
          "Palau",
          "Panama",
          "Papua New Guinea",
          "Paraguay",
          "Peru",
          "Philippines",
          "Poland",
          "Portugal",
          "Puerto Rico",
          "Qatar",
          "Republic of Korea",
          "Republic of Moldova",
          "Romania",
          "Russian Federation",
          "Rwanda",
          "Réunion",
          "Saint Barthélemy",
          "Saint Helena",
          "Saint Kitts and Nevis",
          "Saint Lucia",
          "Saint Martin (French Part)",
          "Saint Vincent and the Grenadines",
          "Samoa",
          "Sao Tome and Principe",
          "Saudi Arabia",
          "Senegal",
          "Serbia",
          "Serbia Montenegro",
          "Seychelles",
          "Sierra Leone",
          "Singapore",
          "Sint Maarten (Dutch part)",
          "Slovakia",
          "Slovenia",
          "Solomon Islands",
          "Somalia",
          "South Africa",
          "South Sudan",
          "Spain",
          "Sri Lanka",
          "State of Palestine",
          "Sudan",
          "Suriname",
          "Sweden",
          "Switzerland",
          "Syrian Arab Republic",
          "Taiwan (Province of China)",
          "Tajikistan",
          "Thailand",
          "Timor-Leste",
          "Togo",
          "Tokelau",
          "Tonga",
          "Trinidad and Tobago",
          "Tunisia",
          "Turkmenistan",
          "Turks and Caicos Islands",
          "Tuvalu",
          "Türkiye",
          "Uganda",
          "Ukraine",
          "United Arab Emirates",
          "United Kingdom of Great Britain and Northern Ireland",
          "United Republic of Tanzania",
          "United States Virgin Islands",
          "United States of America",
          "Uruguay",
          "Uzbekistan",
          "Vanuatu",
          "Venezuela (Bolivarian Republic of)",
          "Viet Nam",
          "Wallis and Futuna Islands",
          "Yemen",
          "Zambia",
          "Zimbabwe",
          "Australia and New Zealand",
          "Central Asia",
          "Eastern Asia",
          "Eastern Europe",
          "Latin America and the Caribbean",
          "Melanesia",
          "Micronesia",
          "Northern Africa",
          "Northern America",
          "Northern Europe",
          "Polynesia",
          "South-eastern Asia",
          "Southern Asia",
          "Southern Europe",
          "Sub-Saharan Africa",
          "Western Asia",
          "Western Europe",
          "Africa",
          "Americas",
          "Asia",
          "Europe",
          "Oceania"
         ],
         "maxdepth": -1,
         "name": "",
         "parents": [
          "Asia/Southern Asia",
          "Europe/Southern Europe",
          "Africa/Northern Africa",
          "Oceania/Polynesia",
          "Africa/Sub-Saharan Africa",
          "Americas/Latin America and the Caribbean",
          "Americas/Latin America and the Caribbean",
          "Americas/Latin America and the Caribbean",
          "Asia/Western Asia",
          "Oceania/Australia and New Zealand",
          "Europe/Western Europe",
          "Asia/Western Asia",
          "Americas/Latin America and the Caribbean",
          "Asia/Southern Asia",
          "Americas/Latin America and the Caribbean",
          "Europe/Eastern Europe",
          "Europe/Western Europe",
          "Americas/Latin America and the Caribbean",
          "Africa/Sub-Saharan Africa",
          "Americas/Northern America",
          "Asia/Southern Asia",
          "Americas/Latin America and the Caribbean",
          "Europe/Southern Europe",
          "Africa/Sub-Saharan Africa",
          "Americas/Latin America and the Caribbean",
          "Americas/Latin America and the Caribbean",
          "Europe/Eastern Europe",
          "Africa/Sub-Saharan Africa",
          "Africa/Sub-Saharan Africa",
          "Africa/Sub-Saharan Africa",
          "Asia/South-eastern Asia",
          "Africa/Sub-Saharan Africa",
          "Americas/Northern America",
          "Africa/Northern Africa",
          "Americas/Latin America and the Caribbean",
          "Africa/Sub-Saharan Africa",
          "Africa/Sub-Saharan Africa",
          "Americas/Latin America and the Caribbean",
          "Asia/Eastern Asia",
          "Asia/Eastern Asia",
          "Asia/Eastern Asia",
          "Americas/Latin America and the Caribbean",
          "Africa/Sub-Saharan Africa",
          "Africa/Sub-Saharan Africa",
          "Oceania/Polynesia",
          "Americas/Latin America and the Caribbean",
          "Europe/Southern Europe",
          "Americas/Latin America and the Caribbean",
          "Asia/Western Asia",
          "Europe/Eastern Europe",
          "Africa/Sub-Saharan Africa",
          "Asia/Eastern Asia",
          "Africa/Sub-Saharan Africa",
          "Europe/Northern Europe",
          "Africa/Sub-Saharan Africa",
          "Americas/Latin America and the Caribbean",
          "Americas/Latin America and the Caribbean",
          "Americas/Latin America and the Caribbean",
          "Africa/Northern Africa",
          "Americas/Latin America and the Caribbean",
          "Africa/Sub-Saharan Africa",
          "Africa/Sub-Saharan Africa",
          "Europe/Northern Europe",
          "Africa/Sub-Saharan Africa",
          "Africa/Sub-Saharan Africa",
          "Oceania/Melanesia",
          "Europe/Northern Europe",
          "Europe/Western Europe",
          "Americas/Latin America and the Caribbean",
          "Oceania/Polynesia",
          "Africa/Sub-Saharan Africa",
          "Africa/Sub-Saharan Africa",
          "Asia/Western Asia",
          "Europe/Western Europe",
          "Africa/Sub-Saharan Africa",
          "Europe/Southern Europe",
          "Americas/Latin America and the Caribbean",
          "Americas/Latin America and the Caribbean",
          "Oceania/Micronesia",
          "Americas/Latin America and the Caribbean",
          "Africa/Sub-Saharan Africa",
          "Africa/Sub-Saharan Africa",
          "Americas/Latin America and the Caribbean",
          "Americas/Latin America and the Caribbean",
          "Americas/Latin America and the Caribbean",
          "Europe/Eastern Europe",
          "Europe/Northern Europe",
          "Asia/Southern Asia",
          "Asia/South-eastern Asia",
          "Asia/Southern Asia",
          "Asia/Western Asia",
          "Europe/Northern Europe",
          "Europe/Northern Europe",
          "Asia/Western Asia",
          "Europe/Southern Europe",
          "Americas/Latin America and the Caribbean",
          "Asia/Eastern Asia",
          "Asia/Western Asia",
          "Asia/Central Asia",
          "Africa/Sub-Saharan Africa",
          "Oceania/Micronesia",
          "Asia/Western Asia",
          "Asia/Central Asia",
          "Asia/South-eastern Asia",
          "Europe/Northern Europe",
          "Asia/Western Asia",
          "Africa/Sub-Saharan Africa",
          "Africa/Sub-Saharan Africa",
          "Africa/Northern Africa",
          "Europe/Northern Europe",
          "Europe/Western Europe",
          "Africa/Sub-Saharan Africa",
          "Africa/Sub-Saharan Africa",
          "Asia/South-eastern Asia",
          "Asia/Southern Asia",
          "Africa/Sub-Saharan Africa",
          "Europe/Southern Europe",
          "Oceania/Micronesia",
          "Americas/Latin America and the Caribbean",
          "Africa/Sub-Saharan Africa",
          "Africa/Sub-Saharan Africa",
          "Americas/Latin America and the Caribbean",
          "Oceania/Micronesia",
          "Asia/Eastern Asia",
          "Europe/Southern Europe",
          "Americas/Latin America and the Caribbean",
          "Africa/Northern Africa",
          "Africa/Sub-Saharan Africa",
          "Asia/South-eastern Asia",
          "Africa/Sub-Saharan Africa",
          "Asia/Southern Asia",
          "Europe/Western Europe",
          "Oceania/Melanesia",
          "Oceania/Australia and New Zealand",
          "Americas/Latin America and the Caribbean",
          "Africa/Sub-Saharan Africa",
          "Africa/Sub-Saharan Africa",
          "Oceania/Polynesia",
          "Europe/Southern Europe",
          "Oceania/Micronesia",
          "Europe/Northern Europe",
          "Asia/Western Asia",
          "Asia/Southern Asia",
          "Oceania/Micronesia",
          "Americas/Latin America and the Caribbean",
          "Oceania/Melanesia",
          "Americas/Latin America and the Caribbean",
          "Americas/Latin America and the Caribbean",
          "Asia/South-eastern Asia",
          "Europe/Eastern Europe",
          "Europe/Southern Europe",
          "Americas/Latin America and the Caribbean",
          "Asia/Western Asia",
          "Asia/Eastern Asia",
          "Europe/Eastern Europe",
          "Europe/Eastern Europe",
          "Europe/Eastern Europe",
          "Africa/Sub-Saharan Africa",
          "Africa/Sub-Saharan Africa",
          "Americas/Latin America and the Caribbean",
          "Africa/Sub-Saharan Africa",
          "Americas/Latin America and the Caribbean",
          "Americas/Latin America and the Caribbean",
          "Americas/Latin America and the Caribbean",
          "Americas/Latin America and the Caribbean",
          "Oceania/Polynesia",
          "Africa/Sub-Saharan Africa",
          "Asia/Western Asia",
          "Africa/Sub-Saharan Africa",
          "Europe/Southern Europe",
          "Europe/Southern Europe",
          "Africa/Sub-Saharan Africa",
          "Africa/Sub-Saharan Africa",
          "Asia/South-eastern Asia",
          "Americas/Latin America and the Caribbean",
          "Europe/Eastern Europe",
          "Europe/Southern Europe",
          "Oceania/Melanesia",
          "Africa/Sub-Saharan Africa",
          "Africa/Sub-Saharan Africa",
          "Africa/Sub-Saharan Africa",
          "Europe/Southern Europe",
          "Asia/Southern Asia",
          "Asia/Western Asia",
          "Africa/Northern Africa",
          "Americas/Latin America and the Caribbean",
          "Europe/Northern Europe",
          "Europe/Western Europe",
          "Asia/Western Asia",
          "Asia/Eastern Asia",
          "Asia/Central Asia",
          "Asia/South-eastern Asia",
          "Asia/South-eastern Asia",
          "Africa/Sub-Saharan Africa",
          "Oceania/Polynesia",
          "Oceania/Polynesia",
          "Americas/Latin America and the Caribbean",
          "Africa/Northern Africa",
          "Asia/Central Asia",
          "Americas/Latin America and the Caribbean",
          "Oceania/Polynesia",
          "Asia/Western Asia",
          "Africa/Sub-Saharan Africa",
          "Europe/Eastern Europe",
          "Asia/Western Asia",
          "Europe/Northern Europe",
          "Africa/Sub-Saharan Africa",
          "Americas/Latin America and the Caribbean",
          "Americas/Northern America",
          "Americas/Latin America and the Caribbean",
          "Asia/Central Asia",
          "Oceania/Melanesia",
          "Americas/Latin America and the Caribbean",
          "Asia/South-eastern Asia",
          "Oceania/Polynesia",
          "Asia/Western Asia",
          "Africa/Sub-Saharan Africa",
          "Africa/Sub-Saharan Africa",
          "Oceania",
          "Asia",
          "Asia",
          "Europe",
          "Americas",
          "Oceania",
          "Oceania",
          "Africa",
          "Americas",
          "Europe",
          "Oceania",
          "Asia",
          "Asia",
          "Europe",
          "Africa",
          "Asia",
          "Europe",
          "",
          "",
          "",
          "",
          ""
         ],
         "type": "sunburst",
         "values": [
          141,
          22,
          49,
          3,
          64,
          1,
          3,
          79,
          4,
          101,
          25,
          8,
          15,
          139,
          8,
          5,
          39,
          13,
          30,
          1,
          7,
          71,
          29,
          11,
          153,
          2,
          40,
          35,
          55,
          7,
          33,
          37,
          73,
          6,
          7,
          36,
          42,
          49,
          614,
          17,
          3,
          126,
          13,
          31,
          4,
          37,
          31,
          42,
          9,
          29,
          25,
          35,
          119,
          8,
          12,
          5,
          60,
          59,
          15,
          46,
          1,
          3,
          4,
          12,
          73,
          30,
          2,
          114,
          2,
          2,
          10,
          19,
          23,
          60,
          37,
          57,
          3,
          5,
          5,
          82,
          31,
          10,
          7,
          93,
          56,
          24,
          4,
          379,
          370,
          110,
          21,
          15,
          1,
          8,
          93,
          20,
          166,
          7,
          19,
          90,
          1,
          2,
          25,
          27,
          9,
          10,
          14,
          13,
          3,
          11,
          5,
          71,
          60,
          76,
          3,
          37,
          1,
          6,
          5,
          24,
          8,
          156,
          9,
          26,
          7,
          1,
          31,
          83,
          53,
          27,
          74,
          22,
          3,
          37,
          45,
          66,
          97,
          1,
          19,
          5,
          9,
          16,
          150,
          5,
          39,
          53,
          40,
          102,
          350,
          45,
          33,
          20,
          1,
          62,
          10,
          67,
          113,
          41,
          9,
          1,
          1,
          2,
          11,
          1,
          12,
          7,
          3,
          26,
          27,
          28,
          11,
          5,
          18,
          3,
          1,
          20,
          12,
          20,
          71,
          78,
          26,
          60,
          80,
          8,
          55,
          4,
          8,
          30,
          15,
          69,
          49,
          113,
          14,
          17,
          1,
          13,
          5,
          12,
          1,
          5,
          4,
          92,
          81,
          28,
          3,
          63,
          72,
          3,
          549,
          30,
          5,
          26,
          38,
          175,
          1,
          51,
          38,
          46,
          138,
          99,
          992,
          381,
          1565,
          132,
          31,
          171,
          623,
          134,
          36,
          1214,
          1083,
          403,
          1836,
          304,
          295,
          2007,
          2188,
          3692,
          1213,
          337
         ]
        }
       ],
       "layout": {
        "legend": {
         "tracegroupgap": 0
        },
        "template": {
         "data": {
          "bar": [
           {
            "error_x": {
             "color": "#2a3f5f"
            },
            "error_y": {
             "color": "#2a3f5f"
            },
            "marker": {
             "line": {
              "color": "#E5ECF6",
              "width": 0.5
             },
             "pattern": {
              "fillmode": "overlay",
              "size": 10,
              "solidity": 0.2
             }
            },
            "type": "bar"
           }
          ],
          "barpolar": [
           {
            "marker": {
             "line": {
              "color": "#E5ECF6",
              "width": 0.5
             },
             "pattern": {
              "fillmode": "overlay",
              "size": 10,
              "solidity": 0.2
             }
            },
            "type": "barpolar"
           }
          ],
          "carpet": [
           {
            "aaxis": {
             "endlinecolor": "#2a3f5f",
             "gridcolor": "white",
             "linecolor": "white",
             "minorgridcolor": "white",
             "startlinecolor": "#2a3f5f"
            },
            "baxis": {
             "endlinecolor": "#2a3f5f",
             "gridcolor": "white",
             "linecolor": "white",
             "minorgridcolor": "white",
             "startlinecolor": "#2a3f5f"
            },
            "type": "carpet"
           }
          ],
          "choropleth": [
           {
            "colorbar": {
             "outlinewidth": 0,
             "ticks": ""
            },
            "type": "choropleth"
           }
          ],
          "contour": [
           {
            "colorbar": {
             "outlinewidth": 0,
             "ticks": ""
            },
            "colorscale": [
             [
              0,
              "#0d0887"
             ],
             [
              0.1111111111111111,
              "#46039f"
             ],
             [
              0.2222222222222222,
              "#7201a8"
             ],
             [
              0.3333333333333333,
              "#9c179e"
             ],
             [
              0.4444444444444444,
              "#bd3786"
             ],
             [
              0.5555555555555556,
              "#d8576b"
             ],
             [
              0.6666666666666666,
              "#ed7953"
             ],
             [
              0.7777777777777778,
              "#fb9f3a"
             ],
             [
              0.8888888888888888,
              "#fdca26"
             ],
             [
              1,
              "#f0f921"
             ]
            ],
            "type": "contour"
           }
          ],
          "contourcarpet": [
           {
            "colorbar": {
             "outlinewidth": 0,
             "ticks": ""
            },
            "type": "contourcarpet"
           }
          ],
          "heatmap": [
           {
            "colorbar": {
             "outlinewidth": 0,
             "ticks": ""
            },
            "colorscale": [
             [
              0,
              "#0d0887"
             ],
             [
              0.1111111111111111,
              "#46039f"
             ],
             [
              0.2222222222222222,
              "#7201a8"
             ],
             [
              0.3333333333333333,
              "#9c179e"
             ],
             [
              0.4444444444444444,
              "#bd3786"
             ],
             [
              0.5555555555555556,
              "#d8576b"
             ],
             [
              0.6666666666666666,
              "#ed7953"
             ],
             [
              0.7777777777777778,
              "#fb9f3a"
             ],
             [
              0.8888888888888888,
              "#fdca26"
             ],
             [
              1,
              "#f0f921"
             ]
            ],
            "type": "heatmap"
           }
          ],
          "heatmapgl": [
           {
            "colorbar": {
             "outlinewidth": 0,
             "ticks": ""
            },
            "colorscale": [
             [
              0,
              "#0d0887"
             ],
             [
              0.1111111111111111,
              "#46039f"
             ],
             [
              0.2222222222222222,
              "#7201a8"
             ],
             [
              0.3333333333333333,
              "#9c179e"
             ],
             [
              0.4444444444444444,
              "#bd3786"
             ],
             [
              0.5555555555555556,
              "#d8576b"
             ],
             [
              0.6666666666666666,
              "#ed7953"
             ],
             [
              0.7777777777777778,
              "#fb9f3a"
             ],
             [
              0.8888888888888888,
              "#fdca26"
             ],
             [
              1,
              "#f0f921"
             ]
            ],
            "type": "heatmapgl"
           }
          ],
          "histogram": [
           {
            "marker": {
             "pattern": {
              "fillmode": "overlay",
              "size": 10,
              "solidity": 0.2
             }
            },
            "type": "histogram"
           }
          ],
          "histogram2d": [
           {
            "colorbar": {
             "outlinewidth": 0,
             "ticks": ""
            },
            "colorscale": [
             [
              0,
              "#0d0887"
             ],
             [
              0.1111111111111111,
              "#46039f"
             ],
             [
              0.2222222222222222,
              "#7201a8"
             ],
             [
              0.3333333333333333,
              "#9c179e"
             ],
             [
              0.4444444444444444,
              "#bd3786"
             ],
             [
              0.5555555555555556,
              "#d8576b"
             ],
             [
              0.6666666666666666,
              "#ed7953"
             ],
             [
              0.7777777777777778,
              "#fb9f3a"
             ],
             [
              0.8888888888888888,
              "#fdca26"
             ],
             [
              1,
              "#f0f921"
             ]
            ],
            "type": "histogram2d"
           }
          ],
          "histogram2dcontour": [
           {
            "colorbar": {
             "outlinewidth": 0,
             "ticks": ""
            },
            "colorscale": [
             [
              0,
              "#0d0887"
             ],
             [
              0.1111111111111111,
              "#46039f"
             ],
             [
              0.2222222222222222,
              "#7201a8"
             ],
             [
              0.3333333333333333,
              "#9c179e"
             ],
             [
              0.4444444444444444,
              "#bd3786"
             ],
             [
              0.5555555555555556,
              "#d8576b"
             ],
             [
              0.6666666666666666,
              "#ed7953"
             ],
             [
              0.7777777777777778,
              "#fb9f3a"
             ],
             [
              0.8888888888888888,
              "#fdca26"
             ],
             [
              1,
              "#f0f921"
             ]
            ],
            "type": "histogram2dcontour"
           }
          ],
          "mesh3d": [
           {
            "colorbar": {
             "outlinewidth": 0,
             "ticks": ""
            },
            "type": "mesh3d"
           }
          ],
          "parcoords": [
           {
            "line": {
             "colorbar": {
              "outlinewidth": 0,
              "ticks": ""
             }
            },
            "type": "parcoords"
           }
          ],
          "pie": [
           {
            "automargin": true,
            "type": "pie"
           }
          ],
          "scatter": [
           {
            "fillpattern": {
             "fillmode": "overlay",
             "size": 10,
             "solidity": 0.2
            },
            "type": "scatter"
           }
          ],
          "scatter3d": [
           {
            "line": {
             "colorbar": {
              "outlinewidth": 0,
              "ticks": ""
             }
            },
            "marker": {
             "colorbar": {
              "outlinewidth": 0,
              "ticks": ""
             }
            },
            "type": "scatter3d"
           }
          ],
          "scattercarpet": [
           {
            "marker": {
             "colorbar": {
              "outlinewidth": 0,
              "ticks": ""
             }
            },
            "type": "scattercarpet"
           }
          ],
          "scattergeo": [
           {
            "marker": {
             "colorbar": {
              "outlinewidth": 0,
              "ticks": ""
             }
            },
            "type": "scattergeo"
           }
          ],
          "scattergl": [
           {
            "marker": {
             "colorbar": {
              "outlinewidth": 0,
              "ticks": ""
             }
            },
            "type": "scattergl"
           }
          ],
          "scattermapbox": [
           {
            "marker": {
             "colorbar": {
              "outlinewidth": 0,
              "ticks": ""
             }
            },
            "type": "scattermapbox"
           }
          ],
          "scatterpolar": [
           {
            "marker": {
             "colorbar": {
              "outlinewidth": 0,
              "ticks": ""
             }
            },
            "type": "scatterpolar"
           }
          ],
          "scatterpolargl": [
           {
            "marker": {
             "colorbar": {
              "outlinewidth": 0,
              "ticks": ""
             }
            },
            "type": "scatterpolargl"
           }
          ],
          "scatterternary": [
           {
            "marker": {
             "colorbar": {
              "outlinewidth": 0,
              "ticks": ""
             }
            },
            "type": "scatterternary"
           }
          ],
          "surface": [
           {
            "colorbar": {
             "outlinewidth": 0,
             "ticks": ""
            },
            "colorscale": [
             [
              0,
              "#0d0887"
             ],
             [
              0.1111111111111111,
              "#46039f"
             ],
             [
              0.2222222222222222,
              "#7201a8"
             ],
             [
              0.3333333333333333,
              "#9c179e"
             ],
             [
              0.4444444444444444,
              "#bd3786"
             ],
             [
              0.5555555555555556,
              "#d8576b"
             ],
             [
              0.6666666666666666,
              "#ed7953"
             ],
             [
              0.7777777777777778,
              "#fb9f3a"
             ],
             [
              0.8888888888888888,
              "#fdca26"
             ],
             [
              1,
              "#f0f921"
             ]
            ],
            "type": "surface"
           }
          ],
          "table": [
           {
            "cells": {
             "fill": {
              "color": "#EBF0F8"
             },
             "line": {
              "color": "white"
             }
            },
            "header": {
             "fill": {
              "color": "#C8D4E3"
             },
             "line": {
              "color": "white"
             }
            },
            "type": "table"
           }
          ]
         },
         "layout": {
          "annotationdefaults": {
           "arrowcolor": "#2a3f5f",
           "arrowhead": 0,
           "arrowwidth": 1
          },
          "autotypenumbers": "strict",
          "coloraxis": {
           "colorbar": {
            "outlinewidth": 0,
            "ticks": ""
           }
          },
          "colorscale": {
           "diverging": [
            [
             0,
             "#8e0152"
            ],
            [
             0.1,
             "#c51b7d"
            ],
            [
             0.2,
             "#de77ae"
            ],
            [
             0.3,
             "#f1b6da"
            ],
            [
             0.4,
             "#fde0ef"
            ],
            [
             0.5,
             "#f7f7f7"
            ],
            [
             0.6,
             "#e6f5d0"
            ],
            [
             0.7,
             "#b8e186"
            ],
            [
             0.8,
             "#7fbc41"
            ],
            [
             0.9,
             "#4d9221"
            ],
            [
             1,
             "#276419"
            ]
           ],
           "sequential": [
            [
             0,
             "#0d0887"
            ],
            [
             0.1111111111111111,
             "#46039f"
            ],
            [
             0.2222222222222222,
             "#7201a8"
            ],
            [
             0.3333333333333333,
             "#9c179e"
            ],
            [
             0.4444444444444444,
             "#bd3786"
            ],
            [
             0.5555555555555556,
             "#d8576b"
            ],
            [
             0.6666666666666666,
             "#ed7953"
            ],
            [
             0.7777777777777778,
             "#fb9f3a"
            ],
            [
             0.8888888888888888,
             "#fdca26"
            ],
            [
             1,
             "#f0f921"
            ]
           ],
           "sequentialminus": [
            [
             0,
             "#0d0887"
            ],
            [
             0.1111111111111111,
             "#46039f"
            ],
            [
             0.2222222222222222,
             "#7201a8"
            ],
            [
             0.3333333333333333,
             "#9c179e"
            ],
            [
             0.4444444444444444,
             "#bd3786"
            ],
            [
             0.5555555555555556,
             "#d8576b"
            ],
            [
             0.6666666666666666,
             "#ed7953"
            ],
            [
             0.7777777777777778,
             "#fb9f3a"
            ],
            [
             0.8888888888888888,
             "#fdca26"
            ],
            [
             1,
             "#f0f921"
            ]
           ]
          },
          "colorway": [
           "#636efa",
           "#EF553B",
           "#00cc96",
           "#ab63fa",
           "#FFA15A",
           "#19d3f3",
           "#FF6692",
           "#B6E880",
           "#FF97FF",
           "#FECB52"
          ],
          "font": {
           "color": "#2a3f5f"
          },
          "geo": {
           "bgcolor": "white",
           "lakecolor": "white",
           "landcolor": "#E5ECF6",
           "showlakes": true,
           "showland": true,
           "subunitcolor": "white"
          },
          "hoverlabel": {
           "align": "left"
          },
          "hovermode": "closest",
          "mapbox": {
           "style": "light"
          },
          "paper_bgcolor": "white",
          "plot_bgcolor": "#E5ECF6",
          "polar": {
           "angularaxis": {
            "gridcolor": "white",
            "linecolor": "white",
            "ticks": ""
           },
           "bgcolor": "#E5ECF6",
           "radialaxis": {
            "gridcolor": "white",
            "linecolor": "white",
            "ticks": ""
           }
          },
          "scene": {
           "xaxis": {
            "backgroundcolor": "#E5ECF6",
            "gridcolor": "white",
            "gridwidth": 2,
            "linecolor": "white",
            "showbackground": true,
            "ticks": "",
            "zerolinecolor": "white"
           },
           "yaxis": {
            "backgroundcolor": "#E5ECF6",
            "gridcolor": "white",
            "gridwidth": 2,
            "linecolor": "white",
            "showbackground": true,
            "ticks": "",
            "zerolinecolor": "white"
           },
           "zaxis": {
            "backgroundcolor": "#E5ECF6",
            "gridcolor": "white",
            "gridwidth": 2,
            "linecolor": "white",
            "showbackground": true,
            "ticks": "",
            "zerolinecolor": "white"
           }
          },
          "shapedefaults": {
           "line": {
            "color": "#2a3f5f"
           }
          },
          "ternary": {
           "aaxis": {
            "gridcolor": "white",
            "linecolor": "white",
            "ticks": ""
           },
           "baxis": {
            "gridcolor": "white",
            "linecolor": "white",
            "ticks": ""
           },
           "bgcolor": "#E5ECF6",
           "caxis": {
            "gridcolor": "white",
            "linecolor": "white",
            "ticks": ""
           }
          },
          "title": {
           "x": 0.05
          },
          "xaxis": {
           "automargin": true,
           "gridcolor": "white",
           "linecolor": "white",
           "ticks": "",
           "title": {
            "standoff": 15
           },
           "zerolinecolor": "white",
           "zerolinewidth": 2
          },
          "yaxis": {
           "automargin": true,
           "gridcolor": "white",
           "linecolor": "white",
           "ticks": "",
           "title": {
            "standoff": 15
           },
           "zerolinecolor": "white",
           "zerolinewidth": 2
          }
         }
        },
        "title": {
         "text": "Hierarquia de ['Region', 'Subregion', 'Country']"
        }
       }
      }
     },
     "metadata": {},
     "output_type": "display_data"
    }
   ],
   "source": [
    "plot_suburst(region_variables,df)"
   ]
  },
  {
   "cell_type": "markdown",
   "id": "ebc20a32",
   "metadata": {},
   "source": [
    "Dada a alta granularidade em Country, podemos trabalhar a nível de Subregion, excluindo Region e aquele."
   ]
  },
  {
   "cell_type": "code",
   "execution_count": 59,
   "id": "dde08cde",
   "metadata": {},
   "outputs": [],
   "source": [
    "df = df.drop(columns=['Region','Country'])"
   ]
  },
  {
   "cell_type": "markdown",
   "id": "818db74b",
   "metadata": {},
   "source": [
    "Vamos ver como está por ora nosso dataset analisando-o segundo a quantidade de nulls por variável"
   ]
  },
  {
   "cell_type": "code",
   "execution_count": 60,
   "id": "63440b2a",
   "metadata": {},
   "outputs": [
    {
     "name": "stdout",
     "output_type": "stream",
     "text": [
      "Disaster Subtype       0\n",
      "Subregion              0\n",
      "Magnitude           6192\n",
      "Magnitude Scale      885\n",
      "Start Month           65\n",
      "Total Deaths        2708\n",
      "Total Affected      1792\n",
      "dtype: int64\n",
      "(9437, 7)\n"
     ]
    }
   ],
   "source": [
    "print(df.isnull().sum())\n",
    "print(df.shape)"
   ]
  },
  {
   "cell_type": "markdown",
   "id": "c28324c6",
   "metadata": {},
   "source": [
    "Vamos analisar se 'Magnitude' está associada a Disaster Subtypes em especifico para usá-la em alguma engenharia de feature caso venha ao caso."
   ]
  },
  {
   "cell_type": "code",
   "execution_count": 61,
   "id": "8a2b7462",
   "metadata": {},
   "outputs": [
    {
     "data": {
      "text/html": [
       "<div>\n",
       "<style scoped>\n",
       "    .dataframe tbody tr th:only-of-type {\n",
       "        vertical-align: middle;\n",
       "    }\n",
       "\n",
       "    .dataframe tbody tr th {\n",
       "        vertical-align: top;\n",
       "    }\n",
       "\n",
       "    .dataframe thead th {\n",
       "        text-align: right;\n",
       "    }\n",
       "</style>\n",
       "<table border=\"1\" class=\"dataframe\">\n",
       "  <thead>\n",
       "    <tr style=\"text-align: right;\">\n",
       "      <th></th>\n",
       "      <th>count</th>\n",
       "      <th>mean</th>\n",
       "      <th>std</th>\n",
       "      <th>min</th>\n",
       "      <th>25%</th>\n",
       "      <th>50%</th>\n",
       "      <th>75%</th>\n",
       "      <th>max</th>\n",
       "      <th>count_nulls</th>\n",
       "    </tr>\n",
       "    <tr>\n",
       "      <th>Disaster Subtype</th>\n",
       "      <th></th>\n",
       "      <th></th>\n",
       "      <th></th>\n",
       "      <th></th>\n",
       "      <th></th>\n",
       "      <th></th>\n",
       "      <th></th>\n",
       "      <th></th>\n",
       "      <th></th>\n",
       "    </tr>\n",
       "  </thead>\n",
       "  <tbody>\n",
       "    <tr>\n",
       "      <th>Ash fall</th>\n",
       "      <td>0.0</td>\n",
       "      <td>NaN</td>\n",
       "      <td>NaN</td>\n",
       "      <td>NaN</td>\n",
       "      <td>NaN</td>\n",
       "      <td>NaN</td>\n",
       "      <td>NaN</td>\n",
       "      <td>NaN</td>\n",
       "      <td>102.0</td>\n",
       "    </tr>\n",
       "    <tr>\n",
       "      <th>Bacterial disease</th>\n",
       "      <td>0.0</td>\n",
       "      <td>NaN</td>\n",
       "      <td>NaN</td>\n",
       "      <td>NaN</td>\n",
       "      <td>NaN</td>\n",
       "      <td>NaN</td>\n",
       "      <td>NaN</td>\n",
       "      <td>NaN</td>\n",
       "      <td>421.0</td>\n",
       "    </tr>\n",
       "    <tr>\n",
       "      <th>Blizzard/Winter storm</th>\n",
       "      <td>19.0</td>\n",
       "      <td>89.684211</td>\n",
       "      <td>6.403476e+01</td>\n",
       "      <td>0.0</td>\n",
       "      <td>32.000</td>\n",
       "      <td>110.0</td>\n",
       "      <td>120.000</td>\n",
       "      <td>230.00</td>\n",
       "      <td>164.0</td>\n",
       "    </tr>\n",
       "    <tr>\n",
       "      <th>Cold wave</th>\n",
       "      <td>114.0</td>\n",
       "      <td>-16.817544</td>\n",
       "      <td>1.603001e+01</td>\n",
       "      <td>-57.0</td>\n",
       "      <td>-30.000</td>\n",
       "      <td>-19.0</td>\n",
       "      <td>0.000</td>\n",
       "      <td>10.00</td>\n",
       "      <td>111.0</td>\n",
       "    </tr>\n",
       "    <tr>\n",
       "      <th>Drought</th>\n",
       "      <td>27.0</td>\n",
       "      <td>52981.666667</td>\n",
       "      <td>1.447961e+05</td>\n",
       "      <td>0.0</td>\n",
       "      <td>554.500</td>\n",
       "      <td>1720.0</td>\n",
       "      <td>15100.000</td>\n",
       "      <td>560000.00</td>\n",
       "      <td>381.0</td>\n",
       "    </tr>\n",
       "    <tr>\n",
       "      <th>Extra-tropical storm</th>\n",
       "      <td>51.0</td>\n",
       "      <td>152.058824</td>\n",
       "      <td>3.190449e+01</td>\n",
       "      <td>80.0</td>\n",
       "      <td>130.000</td>\n",
       "      <td>150.0</td>\n",
       "      <td>173.000</td>\n",
       "      <td>220.00</td>\n",
       "      <td>93.0</td>\n",
       "    </tr>\n",
       "    <tr>\n",
       "      <th>Flash flood</th>\n",
       "      <td>251.0</td>\n",
       "      <td>70159.581036</td>\n",
       "      <td>1.892695e+05</td>\n",
       "      <td>0.0</td>\n",
       "      <td>3429.500</td>\n",
       "      <td>15490.0</td>\n",
       "      <td>65475.805</td>\n",
       "      <td>2440002.48</td>\n",
       "      <td>451.0</td>\n",
       "    </tr>\n",
       "    <tr>\n",
       "      <th>Flood (General)</th>\n",
       "      <td>193.0</td>\n",
       "      <td>116425.372953</td>\n",
       "      <td>1.889938e+05</td>\n",
       "      <td>0.0</td>\n",
       "      <td>13364.220</td>\n",
       "      <td>50430.4</td>\n",
       "      <td>144300.000</td>\n",
       "      <td>1834048.30</td>\n",
       "      <td>1110.0</td>\n",
       "    </tr>\n",
       "    <tr>\n",
       "      <th>Forest fire</th>\n",
       "      <td>79.0</td>\n",
       "      <td>10298.867089</td>\n",
       "      <td>7.644385e+04</td>\n",
       "      <td>0.0</td>\n",
       "      <td>114.000</td>\n",
       "      <td>400.0</td>\n",
       "      <td>1161.500</td>\n",
       "      <td>680000.00</td>\n",
       "      <td>115.0</td>\n",
       "    </tr>\n",
       "    <tr>\n",
       "      <th>Ground movement</th>\n",
       "      <td>633.0</td>\n",
       "      <td>6.134471</td>\n",
       "      <td>8.688020e-01</td>\n",
       "      <td>4.1</td>\n",
       "      <td>5.500</td>\n",
       "      <td>6.1</td>\n",
       "      <td>6.700</td>\n",
       "      <td>8.60</td>\n",
       "      <td>2.0</td>\n",
       "    </tr>\n",
       "    <tr>\n",
       "      <th>Heat wave</th>\n",
       "      <td>135.0</td>\n",
       "      <td>42.315556</td>\n",
       "      <td>5.445645e+00</td>\n",
       "      <td>25.0</td>\n",
       "      <td>38.850</td>\n",
       "      <td>42.0</td>\n",
       "      <td>46.000</td>\n",
       "      <td>60.00</td>\n",
       "      <td>57.0</td>\n",
       "    </tr>\n",
       "    <tr>\n",
       "      <th>Landslide (wet)</th>\n",
       "      <td>0.0</td>\n",
       "      <td>NaN</td>\n",
       "      <td>NaN</td>\n",
       "      <td>NaN</td>\n",
       "      <td>NaN</td>\n",
       "      <td>NaN</td>\n",
       "      <td>NaN</td>\n",
       "      <td>NaN</td>\n",
       "      <td>362.0</td>\n",
       "    </tr>\n",
       "    <tr>\n",
       "      <th>Lightning/Thunderstorms</th>\n",
       "      <td>20.0</td>\n",
       "      <td>118.700000</td>\n",
       "      <td>6.002464e+01</td>\n",
       "      <td>0.0</td>\n",
       "      <td>99.000</td>\n",
       "      <td>105.0</td>\n",
       "      <td>131.250</td>\n",
       "      <td>320.00</td>\n",
       "      <td>151.0</td>\n",
       "    </tr>\n",
       "    <tr>\n",
       "      <th>Riverine flood</th>\n",
       "      <td>971.0</td>\n",
       "      <td>98178.096704</td>\n",
       "      <td>2.231133e+05</td>\n",
       "      <td>0.0</td>\n",
       "      <td>6840.615</td>\n",
       "      <td>29770.0</td>\n",
       "      <td>85509.500</td>\n",
       "      <td>2857000.00</td>\n",
       "      <td>1053.0</td>\n",
       "    </tr>\n",
       "    <tr>\n",
       "      <th>Severe weather</th>\n",
       "      <td>41.0</td>\n",
       "      <td>141.517073</td>\n",
       "      <td>4.867938e+01</td>\n",
       "      <td>56.0</td>\n",
       "      <td>110.000</td>\n",
       "      <td>139.0</td>\n",
       "      <td>160.000</td>\n",
       "      <td>320.00</td>\n",
       "      <td>167.0</td>\n",
       "    </tr>\n",
       "    <tr>\n",
       "      <th>Storm (General)</th>\n",
       "      <td>71.0</td>\n",
       "      <td>109.436620</td>\n",
       "      <td>6.426724e+01</td>\n",
       "      <td>0.0</td>\n",
       "      <td>80.000</td>\n",
       "      <td>120.0</td>\n",
       "      <td>150.000</td>\n",
       "      <td>320.00</td>\n",
       "      <td>249.0</td>\n",
       "    </tr>\n",
       "    <tr>\n",
       "      <th>Tornado</th>\n",
       "      <td>54.0</td>\n",
       "      <td>190.851852</td>\n",
       "      <td>8.826684e+01</td>\n",
       "      <td>0.0</td>\n",
       "      <td>130.750</td>\n",
       "      <td>200.0</td>\n",
       "      <td>263.750</td>\n",
       "      <td>331.00</td>\n",
       "      <td>112.0</td>\n",
       "    </tr>\n",
       "    <tr>\n",
       "      <th>Tropical cyclone</th>\n",
       "      <td>558.0</td>\n",
       "      <td>159.860215</td>\n",
       "      <td>6.436826e+01</td>\n",
       "      <td>0.0</td>\n",
       "      <td>110.000</td>\n",
       "      <td>150.0</td>\n",
       "      <td>210.000</td>\n",
       "      <td>315.00</td>\n",
       "      <td>743.0</td>\n",
       "    </tr>\n",
       "    <tr>\n",
       "      <th>Viral disease</th>\n",
       "      <td>28.0</td>\n",
       "      <td>844850.142857</td>\n",
       "      <td>2.500667e+06</td>\n",
       "      <td>0.0</td>\n",
       "      <td>0.000</td>\n",
       "      <td>66023.0</td>\n",
       "      <td>300444.750</td>\n",
       "      <td>13025874.00</td>\n",
       "      <td>348.0</td>\n",
       "    </tr>\n",
       "  </tbody>\n",
       "</table>\n",
       "</div>"
      ],
      "text/plain": [
       "                         count           mean           std   min        25%  \\\n",
       "Disaster Subtype                                                               \n",
       "Ash fall                   0.0            NaN           NaN   NaN        NaN   \n",
       "Bacterial disease          0.0            NaN           NaN   NaN        NaN   \n",
       "Blizzard/Winter storm     19.0      89.684211  6.403476e+01   0.0     32.000   \n",
       "Cold wave                114.0     -16.817544  1.603001e+01 -57.0    -30.000   \n",
       "Drought                   27.0   52981.666667  1.447961e+05   0.0    554.500   \n",
       "Extra-tropical storm      51.0     152.058824  3.190449e+01  80.0    130.000   \n",
       "Flash flood              251.0   70159.581036  1.892695e+05   0.0   3429.500   \n",
       "Flood (General)          193.0  116425.372953  1.889938e+05   0.0  13364.220   \n",
       "Forest fire               79.0   10298.867089  7.644385e+04   0.0    114.000   \n",
       "Ground movement          633.0       6.134471  8.688020e-01   4.1      5.500   \n",
       "Heat wave                135.0      42.315556  5.445645e+00  25.0     38.850   \n",
       "Landslide (wet)            0.0            NaN           NaN   NaN        NaN   \n",
       "Lightning/Thunderstorms   20.0     118.700000  6.002464e+01   0.0     99.000   \n",
       "Riverine flood           971.0   98178.096704  2.231133e+05   0.0   6840.615   \n",
       "Severe weather            41.0     141.517073  4.867938e+01  56.0    110.000   \n",
       "Storm (General)           71.0     109.436620  6.426724e+01   0.0     80.000   \n",
       "Tornado                   54.0     190.851852  8.826684e+01   0.0    130.750   \n",
       "Tropical cyclone         558.0     159.860215  6.436826e+01   0.0    110.000   \n",
       "Viral disease             28.0  844850.142857  2.500667e+06   0.0      0.000   \n",
       "\n",
       "                             50%         75%          max  count_nulls  \n",
       "Disaster Subtype                                                        \n",
       "Ash fall                     NaN         NaN          NaN        102.0  \n",
       "Bacterial disease            NaN         NaN          NaN        421.0  \n",
       "Blizzard/Winter storm      110.0     120.000       230.00        164.0  \n",
       "Cold wave                  -19.0       0.000        10.00        111.0  \n",
       "Drought                   1720.0   15100.000    560000.00        381.0  \n",
       "Extra-tropical storm       150.0     173.000       220.00         93.0  \n",
       "Flash flood              15490.0   65475.805   2440002.48        451.0  \n",
       "Flood (General)          50430.4  144300.000   1834048.30       1110.0  \n",
       "Forest fire                400.0    1161.500    680000.00        115.0  \n",
       "Ground movement              6.1       6.700         8.60          2.0  \n",
       "Heat wave                   42.0      46.000        60.00         57.0  \n",
       "Landslide (wet)              NaN         NaN          NaN        362.0  \n",
       "Lightning/Thunderstorms    105.0     131.250       320.00        151.0  \n",
       "Riverine flood           29770.0   85509.500   2857000.00       1053.0  \n",
       "Severe weather             139.0     160.000       320.00        167.0  \n",
       "Storm (General)            120.0     150.000       320.00        249.0  \n",
       "Tornado                    200.0     263.750       331.00        112.0  \n",
       "Tropical cyclone           150.0     210.000       315.00        743.0  \n",
       "Viral disease            66023.0  300444.750  13025874.00        348.0  "
      ]
     },
     "execution_count": 61,
     "metadata": {},
     "output_type": "execute_result"
    }
   ],
   "source": [
    "stats = df.groupby('Disaster Subtype')['Magnitude'].describe()\n",
    "total_counts = df['Disaster Subtype'].value_counts()\n",
    "\n",
    "# Contagem de não nulos por Disaster Subtype (já está no 'count' da estatística descritiva)\n",
    "non_null_counts = stats['count']\n",
    "\n",
    "# Cálculo dos nulos por subtração\n",
    "count_nulls = total_counts - non_null_counts\n",
    "stats['count_nulls'] = count_nulls\n",
    "\n",
    "stats"
   ]
  },
  {
   "cell_type": "markdown",
   "id": "ed422284",
   "metadata": {},
   "source": [
    "Infelizmente a variável está muito distribuída entre as classes de desastre, as quais igualmente contém muitos nulos para essa variável mesmo nos casos em que ela é melhor representada.\n",
    "\n",
    "Temos de decidir por descartar mais essa variável da nossa análise"
   ]
  },
  {
   "cell_type": "code",
   "execution_count": 62,
   "id": "7760df43",
   "metadata": {},
   "outputs": [],
   "source": [
    "df = df.drop(columns=['Magnitude', 'Magnitude Scale'])"
   ]
  },
  {
   "cell_type": "code",
   "execution_count": 63,
   "id": "ed5b3e34",
   "metadata": {},
   "outputs": [
    {
     "name": "stdout",
     "output_type": "stream",
     "text": [
      "Disaster Subtype       0\n",
      "Subregion              0\n",
      "Start Month           65\n",
      "Total Deaths        2708\n",
      "Total Affected      1792\n",
      "dtype: int64\n"
     ]
    }
   ],
   "source": [
    "print(df.isnull().sum())"
   ]
  },
  {
   "cell_type": "code",
   "execution_count": 64,
   "id": "5f73a609",
   "metadata": {},
   "outputs": [],
   "source": [
    "#Dado que são poucas linhas, podemos descartar os nulos de Start Month\n",
    "df = df.dropna(subset=['Start Month'])"
   ]
  },
  {
   "cell_type": "markdown",
   "id": "fb776315",
   "metadata": {},
   "source": [
    "Cumpre enfim segmentar as classes que vamos prever nas nossas colunas target, dado que visamos abordar problemas de classificação.\n",
    "\n",
    "Cabe para tanto visualizar a distribuição de cada qual."
   ]
  },
  {
   "cell_type": "code",
   "execution_count": 65,
   "id": "87023e33",
   "metadata": {},
   "outputs": [
    {
     "data": {
      "image/png": "[encoded data removed]",
      "text/plain": [
       "<Figure size 1000x600 with 1 Axes>"
      ]
     },
     "metadata": {},
     "output_type": "display_data"
    },
    {
     "data": {
      "image/png": "[encoded data removed]",
      "text/plain": [
       "<Figure size 1000x600 with 1 Axes>"
      ]
     },
     "metadata": {},
     "output_type": "display_data"
    }
   ],
   "source": [
    "\n",
    "def plot_histogram(df, col, bins=30, title=None):\n",
    "    \"\"\"\n",
    "    Plota um histograma da coluna especificada de um DataFrame.\n",
    "\n",
    "    Parâmetros:\n",
    "        df (pd.DataFrame): O DataFrame com os dados.\n",
    "        col (str): Nome da coluna numérica para o histograma.\n",
    "        bins (int): Número de bins (opcional, padrão: 30).\n",
    "        title (str): Título do gráfico (opcional).\n",
    "    \"\"\"\n",
    "    if col not in df.columns:\n",
    "        print(f\"Coluna '{col}' não encontrada no DataFrame.\")\n",
    "        return\n",
    "\n",
    "    if not pd.api.types.is_numeric_dtype(df[col]):\n",
    "        print(f\"Coluna '{col}' não é numérica.\")\n",
    "        return\n",
    "\n",
    "    plt.figure(figsize=(10, 6))\n",
    "    plt.hist(df[col].dropna(), bins=bins, color='skyblue', edgecolor='black')\n",
    "    plt.xlabel(col)\n",
    "    plt.ylabel('Frequência')\n",
    "    plt.title(title if title else f'Histograma de {col}')\n",
    "    plt.grid(True)\n",
    "    plt.show()\n",
    "\n",
    "plot_histogram(df, 'Total Deaths')\n",
    "plot_histogram(df, 'Total Affected')\n"
   ]
  },
  {
   "cell_type": "markdown",
   "id": "f2780085",
   "metadata": {},
   "source": [
    "Dado que a distribuição dessas variáveis é altamente concentrada, vamos ter que dividir ambas as categorias em um número mínimo de classes.\n",
    "\n",
    "Com a seguinte abordagem, decidiremos se vamos dividir em 2 classes cada (dois problemas de classificação binária), ou mais, observando para tanto como ficaria uma divisão em três quartis."
   ]
  },
  {
   "cell_type": "code",
   "execution_count": 66,
   "id": "af0eb45c",
   "metadata": {},
   "outputs": [
    {
     "name": "stdout",
     "output_type": "stream",
     "text": [
      "\n",
      "Total Deaths – classes dos quantis (nulos desconsiderados):\n",
      "Total Deaths_quantile_bin\n",
      "(-0.001, 12.0]      3459\n",
      "(12.0, 222570.0]    3255\n",
      "Name: count, dtype: int64\n",
      "\n",
      "Total Deaths – classes dos quantis (nulos desconsiderados):\n",
      "Total Deaths_quantile_bin\n",
      "(-0.001, 6.0]       2364\n",
      "(22.0, 222570.0]    2231\n",
      "(6.0, 22.0]         2119\n",
      "Name: count, dtype: int64\n",
      "\n",
      "Total Deaths – classes dos quantis (nulos desconsiderados):\n",
      "Total Deaths_quantile_bin\n",
      "(-0.001, 4.0]       1869\n",
      "(34.0, 222570.0]    1640\n",
      "(12.0, 34.0]        1615\n",
      "(4.0, 12.0]         1590\n",
      "Name: count, dtype: int64\n",
      "\n",
      "Total Affected – classes dos quantis (nulos desconsiderados):\n",
      "Total Affected_quantile_bin\n",
      "(5251.0, 330000000.0]    3793\n",
      "(0.999, 5251.0]          3793\n",
      "Name: count, dtype: int64\n",
      "\n",
      "Total Affected – classes dos quantis (nulos desconsiderados):\n",
      "Total Affected_quantile_bin\n",
      "(21403.333, 330000000.0]    2529\n",
      "(0.999, 1374.333]           2529\n",
      "(1374.333, 21403.333]       2528\n",
      "Name: count, dtype: int64\n",
      "\n",
      "Total Affected – classes dos quantis (nulos desconsiderados):\n",
      "Total Affected_quantile_bin\n",
      "(5251.0, 50000.0]         1909\n",
      "(0.999, 600.0]            1901\n",
      "(600.0, 5251.0]           1892\n",
      "(50000.0, 330000000.0]    1884\n",
      "Name: count, dtype: int64\n"
     ]
    }
   ],
   "source": [
    "def create_quantile_bins(df, col, q=8):\n",
    "    \"\"\"\n",
    "    Cria uma nova coluna no DataFrame com binagem por quantis,\n",
    "    desconsiderando nulos durante a criação, mas preenchendo a coluna toda.\n",
    "    \"\"\"\n",
    "    bin_col = f\"{col}_quantile_bin\"\n",
    "\n",
    "    # Aplicar qcut apenas nos valores não nulos\n",
    "    mask = df[col].notna()\n",
    "    bins = pd.qcut(df.loc[mask, col], q=q, duplicates='drop')\n",
    "\n",
    "    # Inicializa a nova coluna com NaNs\n",
    "    df[bin_col] = pd.NA\n",
    "\n",
    "    # Preenche apenas os valores não nulos com os bins\n",
    "    df.loc[mask, bin_col] = bins\n",
    "\n",
    "    print(f\"\\n{col} – classes dos quantis (nulos desconsiderados):\")\n",
    "    print(df.loc[mask, bin_col].value_counts())\n",
    "\n",
    "    return df\n",
    "\n",
    "\n",
    "\n",
    "df_deathsQ2 = create_quantile_bins(df, 'Total Deaths', q=2)\n",
    "df_deathsQ3 = create_quantile_bins(df, 'Total Deaths', q=3)\n",
    "df_deathsQ4 = create_quantile_bins(df, 'Total Deaths', q=4)\n",
    "\n",
    "df_affecteQ2 = create_quantile_bins(df, 'Total Affected', q=2)\n",
    "df_affectedQ3 = create_quantile_bins(df, 'Total Affected', q=3)\n",
    "df_affectedQ4 = create_quantile_bins(df, 'Total Affected', q=4)"
   ]
  },
  {
   "cell_type": "markdown",
   "id": "a30a0a41",
   "metadata": {},
   "source": [
    "Dada a alta concentração das variáveis, a divisão em três classes gera cortes pouco discriminativos nas faixas inferiores. A divisão binária, por sua vez, garante separação mais clara entre baixos e altos valores, sendo, portanto, a estratégia mais adequada.\n",
    "\n",
    "Abaixo estabelecemos nossa proposta de abordagem do problema em duas classificações binárias"
   ]
  },
  {
   "cell_type": "code",
   "execution_count": 67,
   "id": "6bce45a1",
   "metadata": {},
   "outputs": [
    {
     "name": "stdout",
     "output_type": "stream",
     "text": [
      "DeathCountAbove10\n",
      "1.0    3607\n",
      "0.0    3107\n",
      "NaN    2658\n",
      "Name: count, dtype: int64\n",
      "AffectedCountAbove1000\n",
      "1.0    5274\n",
      "0.0    2312\n",
      "NaN    1786\n",
      "Name: count, dtype: int64\n"
     ]
    }
   ],
   "source": [
    "\n",
    "df['DeathCountAbove10'] = np.where(df['Total Deaths'].isna(), np.nan,\n",
    "                                           np.where(df['Total Deaths'] > 10, 1, 0))\n",
    "\n",
    "df['AffectedCountAbove1000'] = np.where(df['Total Affected'].isna(), np.nan,\n",
    "                                          np.where(df['Total Affected'] > 1000, 1, 0))\n",
    "\n",
    "\n",
    "print(df['DeathCountAbove10'].value_counts(dropna=False))\n",
    "print(df['AffectedCountAbove1000'].value_counts(dropna=False))\n"
   ]
  },
  {
   "cell_type": "markdown",
   "id": "171cfd96",
   "metadata": {},
   "source": [
    "## Consolidação dos dados de treino e teste\n",
    "Após dropar as variáveis que não mais utilizaremos, vamos ver o estado atual do nosso dataset"
   ]
  },
  {
   "cell_type": "code",
   "execution_count": 68,
   "id": "0e004554",
   "metadata": {},
   "outputs": [
    {
     "data": {
      "text/html": [
       "<div>\n",
       "<style scoped>\n",
       "    .dataframe tbody tr th:only-of-type {\n",
       "        vertical-align: middle;\n",
       "    }\n",
       "\n",
       "    .dataframe tbody tr th {\n",
       "        vertical-align: top;\n",
       "    }\n",
       "\n",
       "    .dataframe thead th {\n",
       "        text-align: right;\n",
       "    }\n",
       "</style>\n",
       "<table border=\"1\" class=\"dataframe\">\n",
       "  <thead>\n",
       "    <tr style=\"text-align: right;\">\n",
       "      <th></th>\n",
       "      <th>Disaster Subtype</th>\n",
       "      <th>Subregion</th>\n",
       "      <th>Start Month</th>\n",
       "      <th>DeathCountAbove10</th>\n",
       "      <th>AffectedCountAbove1000</th>\n",
       "    </tr>\n",
       "  </thead>\n",
       "  <tbody>\n",
       "    <tr>\n",
       "      <th>0</th>\n",
       "      <td>Drought</td>\n",
       "      <td>Sub-Saharan Africa</td>\n",
       "      <td>6.0</td>\n",
       "      <td>NaN</td>\n",
       "      <td>1.0</td>\n",
       "    </tr>\n",
       "    <tr>\n",
       "      <th>1</th>\n",
       "      <td>Drought</td>\n",
       "      <td>Northern Africa</td>\n",
       "      <td>1.0</td>\n",
       "      <td>NaN</td>\n",
       "      <td>1.0</td>\n",
       "    </tr>\n",
       "    <tr>\n",
       "      <th>2</th>\n",
       "      <td>Drought</td>\n",
       "      <td>Sub-Saharan Africa</td>\n",
       "      <td>1.0</td>\n",
       "      <td>1.0</td>\n",
       "      <td>1.0</td>\n",
       "    </tr>\n",
       "    <tr>\n",
       "      <th>4</th>\n",
       "      <td>Riverine flood</td>\n",
       "      <td>Sub-Saharan Africa</td>\n",
       "      <td>1.0</td>\n",
       "      <td>1.0</td>\n",
       "      <td>1.0</td>\n",
       "    </tr>\n",
       "    <tr>\n",
       "      <th>5</th>\n",
       "      <td>Cold wave</td>\n",
       "      <td>Southern Asia</td>\n",
       "      <td>1.0</td>\n",
       "      <td>1.0</td>\n",
       "      <td>NaN</td>\n",
       "    </tr>\n",
       "  </tbody>\n",
       "</table>\n",
       "</div>"
      ],
      "text/plain": [
       "  Disaster Subtype           Subregion  Start Month  DeathCountAbove10  \\\n",
       "0          Drought  Sub-Saharan Africa          6.0                NaN   \n",
       "1          Drought     Northern Africa          1.0                NaN   \n",
       "2          Drought  Sub-Saharan Africa          1.0                1.0   \n",
       "4   Riverine flood  Sub-Saharan Africa          1.0                1.0   \n",
       "5        Cold wave       Southern Asia          1.0                1.0   \n",
       "\n",
       "   AffectedCountAbove1000  \n",
       "0                     1.0  \n",
       "1                     1.0  \n",
       "2                     1.0  \n",
       "4                     1.0  \n",
       "5                     NaN  "
      ]
     },
     "execution_count": 68,
     "metadata": {},
     "output_type": "execute_result"
    }
   ],
   "source": [
    "\n",
    "df = df.drop(columns=['Total Deaths', 'Total Affected','Total Deaths_quantile_bin', 'Total Affected_quantile_bin'])\n",
    "df.head()"
   ]
  },
  {
   "cell_type": "markdown",
   "id": "6e456b23",
   "metadata": {},
   "source": [
    "Finalmente vamos aplicar o One-Hot-Encoding nas colunas objeto, e salvá-lo para uso no app, sem chamá-lo adiante no pycaret.\n",
    "\n",
    "**Atenção**: ler comentário sobre alteração na célula abaixo."
   ]
  },
  {
   "cell_type": "code",
   "execution_count": 69,
   "id": "0956e9ac",
   "metadata": {},
   "outputs": [
    {
     "data": {
      "text/plain": [
       "Index(['Disaster Subtype', 'Subregion'], dtype='object')"
      ]
     },
     "execution_count": 69,
     "metadata": {},
     "output_type": "execute_result"
    }
   ],
   "source": [
    "df['Start Month'] = df['Start Month'].astype('int')\n",
    "df['Start Month'] = df['Start Month'].astype('object')\n",
    "\n",
    "# Estávamos com dúvida sobre o quanto a variável em questão afetaria o desempenho do modelo e rodamos portanto a linha de drop abaixo com o Run All do VSCode\n",
    "# Confirmando nossa suspeita, a variável ligeiramente piora a performance do melhor modelo. Por isso, não a manteremos.\n",
    "df = df.drop(columns=['Start Month'])\n",
    "\n",
    "object_cols = df.select_dtypes(include='object').columns\n",
    "object_cols"
   ]
  },
  {
   "cell_type": "markdown",
   "id": "ae6740e2",
   "metadata": {},
   "source": [
    "Este é um bom momento para extrairmos um dataset de treino para o app final."
   ]
  },
  {
   "cell_type": "code",
   "execution_count": 70,
   "id": "e0c8f376",
   "metadata": {},
   "outputs": [],
   "source": [
    "sample = df.sample(500)\n",
    "app_test = sample.drop(columns=['AffectedCountAbove1000', 'DeathCountAbove10'])\n",
    "app_test.to_csv(\"../data/processed/app_test.csv\", index=False)\n",
    "\n",
    "#Vamos tambem salvar um json que será usado em uma etapa de desenvolvimento do app\n",
    "import json\n",
    "valores_distintos = {col: app_test[col].dropna().unique().tolist() for col in app_test.columns}\n",
    "with open(\"../data/processed/distinct_values.json\", \"w\", encoding=\"utf-8\") as f:\n",
    "    json.dump(valores_distintos, f, ensure_ascii=False, indent=4)\n"
   ]
  },
  {
   "cell_type": "code",
   "execution_count": 71,
   "id": "492d02f3",
   "metadata": {},
   "outputs": [
    {
     "name": "stdout",
     "output_type": "stream",
     "text": [
      "Index(['DeathCountAbove10', 'AffectedCountAbove1000',\n",
      "       'Disaster Subtype_Bacterial disease',\n",
      "       'Disaster Subtype_Blizzard/Winter storm', 'Disaster Subtype_Cold wave',\n",
      "       'Disaster Subtype_Drought', 'Disaster Subtype_Extra-tropical storm',\n",
      "       'Disaster Subtype_Flash flood', 'Disaster Subtype_Flood (General)',\n",
      "       'Disaster Subtype_Forest fire', 'Disaster Subtype_Ground movement',\n",
      "       'Disaster Subtype_Heat wave', 'Disaster Subtype_Landslide (wet)',\n",
      "       'Disaster Subtype_Lightning/Thunderstorms',\n",
      "       'Disaster Subtype_Riverine flood', 'Disaster Subtype_Severe weather',\n",
      "       'Disaster Subtype_Storm (General)', 'Disaster Subtype_Tornado',\n",
      "       'Disaster Subtype_Tropical cyclone', 'Disaster Subtype_Viral disease',\n",
      "       'Subregion_Central Asia', 'Subregion_Eastern Asia',\n",
      "       'Subregion_Eastern Europe', 'Subregion_Latin America and the Caribbean',\n",
      "       'Subregion_Melanesia', 'Subregion_Micronesia',\n",
      "       'Subregion_Northern Africa', 'Subregion_Northern America',\n",
      "       'Subregion_Northern Europe', 'Subregion_Polynesia',\n",
      "       'Subregion_South-eastern Asia', 'Subregion_Southern Asia',\n",
      "       'Subregion_Southern Europe', 'Subregion_Sub-Saharan Africa',\n",
      "       'Subregion_Western Asia', 'Subregion_Western Europe'],\n",
      "      dtype='object')\n"
     ]
    }
   ],
   "source": [
    "encoder = OneHotEncoder(drop='first', sparse_output=False)\n",
    "\n",
    "df_encoded = encoder.fit_transform(df[object_cols])\n",
    "df_encoded = pd.DataFrame(df_encoded, columns=encoder.get_feature_names_out(object_cols), index=df.index)\n",
    "df_final = pd.concat([df.drop(columns=object_cols), df_encoded], axis=1)\n",
    "\n",
    "with open('../models/one-hot-encoder.pkl', 'wb') as f:\n",
    "    pickle.dump(encoder, f)\n",
    "\n",
    "processed_data_path = '../data/processed/'\n",
    "\n",
    "df_final.to_csv(f\"{processed_data_path}/df_final.csv\")\n",
    "print(df_final.columns)\n"
   ]
  },
  {
   "cell_type": "markdown",
   "id": "7f1bb3bb",
   "metadata": {},
   "source": [
    "Vamos por fim obter os dados de treino e teste."
   ]
  },
  {
   "cell_type": "code",
   "execution_count": 72,
   "id": "4b15f002",
   "metadata": {},
   "outputs": [
    {
     "name": "stdout",
     "output_type": "stream",
     "text": [
      "\n",
      "Distribuição das classes para o target 'DeathCountAbove10':\n",
      "DeathCountAbove10\n",
      "1.0    53.72\n",
      "0.0    46.28\n",
      "Name: proportion, dtype: float64\n",
      "train_deathcountabove10.shape = (5371, 35)\n",
      "test_deathcountabove10.shape = (1343, 35)\n",
      "\n",
      "Distribuição das classes para o target 'AffectedCountAbove1000':\n",
      "AffectedCountAbove1000\n",
      "1.0    69.52\n",
      "0.0    30.48\n",
      "Name: proportion, dtype: float64\n",
      "train_affectedcountabove1000.shape = (6068, 35)\n",
      "test_affectedcountabove1000.shape = (1518, 35)\n"
     ]
    }
   ],
   "source": [
    "# Targets e a outra variável que deve ser excluída\n",
    "targets = {\n",
    "    'DeathCountAbove10': 'AffectedCountAbove1000',\n",
    "    'AffectedCountAbove1000': 'DeathCountAbove10'\n",
    "}\n",
    "\n",
    "for target, to_drop in targets.items():\n",
    "    df_target = df_final.drop(columns=[to_drop]).dropna(subset=[target])\n",
    "    print(f\"\\nDistribuição das classes para o target '{target}':\")\n",
    "    print(df_target[target].value_counts(normalize=True).round(4) * 100)\n",
    "    train, test = train_test_split(df_target, test_size=0.2, random_state=42)\n",
    "    base_name = target.lower()\n",
    "    train.to_csv(f'{processed_data_path}train_{base_name}.csv', index=False)\n",
    "    test.to_csv(f'{processed_data_path}test_{base_name}.csv', index=False)\n",
    "    print(f\"train_{base_name}.shape = {train.shape}\")\n",
    "    print(f\"test_{base_name}.shape = {test.shape}\")"
   ]
  },
  {
   "cell_type": "markdown",
   "id": "b633bdf5",
   "metadata": {},
   "source": [
    "## Modelagem\n",
    "\n",
    "Para maior praticidade, faremos a etapa de treino com AutoML.\n",
    "\n",
    "Mas a avaliação faremos por fora sobre os dados de teste que separamos anteriormente."
   ]
  },
  {
   "cell_type": "code",
   "execution_count": 73,
   "id": "b24890ea",
   "metadata": {},
   "outputs": [],
   "source": [
    "\n",
    "def avaliar_modelo_teste(modelo, df_test, target_col):\n",
    "    \"\"\"\n",
    "    Avalia um modelo PyCaret nos dados de teste e retorna um dicionário com métricas.\n",
    "\n",
    "    Parâmetros:\n",
    "        modelo: modelo treinado (PyCaret)\n",
    "        df_test: DataFrame com dados de teste (contendo a coluna target_col)\n",
    "        target_col: string, nome da coluna alvo (binária)\n",
    "        scaler: objeto scaler usado no treino, se aplicável (pode ser None)\n",
    "\n",
    "    Retorna:\n",
    "        dict com métricas: AUC, Accuracy, Recall, Precision, F1\n",
    "    \"\"\"\n",
    "    df_test_sem_target = df_test.drop(columns=[target_col], errors='ignore').copy()\n",
    "    y_true = df_test[target_col].values\n",
    "\n",
    "    try:\n",
    "        y_pred_labels = modelo.predict(df_test_sem_target)\n",
    "    except Exception as e:\n",
    "        print(f\"Erro ao prever labels: {e}\")\n",
    "        y_pred_labels = np.zeros_like(y_true)\n",
    "\n",
    "    try:\n",
    "        if hasattr(modelo, 'predict_proba'):\n",
    "            y_scores = modelo.predict_proba(df_test_sem_target)[:, 1]\n",
    "        else:\n",
    "            y_scores = y_pred_labels\n",
    "    except Exception as e:\n",
    "        print(f\"Erro ao prever scores: {e}\")\n",
    "        y_scores = np.zeros_like(y_true)\n",
    "    resultado = {\n",
    "        'Test_AUC': roc_auc_score(y_true, y_scores) if len(np.unique(y_scores)) > 1 else 0,\n",
    "        'Test_Accuracy': accuracy_score(y_true, y_pred_labels),\n",
    "        'Test_Recall': recall_score(y_true, y_pred_labels),\n",
    "        'Test_Precision': precision_score(y_true, y_pred_labels),\n",
    "        'Test_F1': f1_score(y_true, y_pred_labels)\n",
    "    }\n",
    "    return resultado"
   ]
  },
  {
   "cell_type": "code",
   "execution_count": 74,
   "id": "a67cefa9",
   "metadata": {},
   "outputs": [
    {
     "name": "stdout",
     "output_type": "stream",
     "text": [
      "\n",
      "\n",
      "=== TREINAMENTO E AVALIAÇÃO PARA O TARGET: 'DeathCountAbove10' ===\n",
      "[LightGBM] [Warning] There are no meaningful features which satisfy the provided configuration. Decreasing Dataset parameters min_data_in_bin or min_data_in_leaf and re-constructing Dataset might resolve this warning.\n",
      "[LightGBM] [Info] Number of positive: 1, number of negative: 1\n",
      "[LightGBM] [Info] This is the GPU trainer!!\n",
      "[LightGBM] [Info] Total Bins 0\n",
      "[LightGBM] [Info] Number of data points in the train set: 2, number of used features: 0\n",
      "[LightGBM] [Info] Using GPU Device: Intel(R) UHD Graphics 770, Vendor: Intel(R) Corporation\n",
      "[LightGBM] [Info] Compiling OpenCL Kernel with 16 bins...\n",
      "[LightGBM] [Info] GPU programs have been built\n",
      "[LightGBM] [Warning] GPU acceleration is disabled because no non-trivial dense features can be found\n",
      "[LightGBM] [Info] [binary:BoostFromScore]: pavg=0.500000 -> initscore=0.000000\n",
      "[LightGBM] [Warning] Stopped training because there are no more leaves that meet the split requirements\n",
      "[LightGBM] [Warning] Stopped training because there are no more leaves that meet the split requirements\n",
      "[LightGBM] [Warning] Stopped training because there are no more leaves that meet the split requirements\n",
      "[LightGBM] [Warning] Stopped training because there are no more leaves that meet the split requirements\n",
      "[LightGBM] [Warning] Stopped training because there are no more leaves that meet the split requirements\n",
      "[LightGBM] [Warning] Stopped training because there are no more leaves that meet the split requirements\n",
      "[LightGBM] [Warning] Stopped training because there are no more leaves that meet the split requirements\n",
      "[LightGBM] [Warning] Stopped training because there are no more leaves that meet the split requirements\n",
      "[LightGBM] [Warning] Stopped training because there are no more leaves that meet the split requirements\n",
      "[LightGBM] [Warning] Stopped training because there are no more leaves that meet the split requirements\n",
      "[LightGBM] [Warning] Stopped training because there are no more leaves that meet the split requirements\n",
      "[LightGBM] [Warning] Stopped training because there are no more leaves that meet the split requirements\n",
      "[LightGBM] [Warning] Stopped training because there are no more leaves that meet the split requirements\n",
      "[LightGBM] [Warning] Stopped training because there are no more leaves that meet the split requirements\n",
      "[LightGBM] [Warning] Stopped training because there are no more leaves that meet the split requirements\n",
      "[LightGBM] [Warning] Stopped training because there are no more leaves that meet the split requirements\n",
      "[LightGBM] [Warning] Stopped training because there are no more leaves that meet the split requirements\n",
      "[LightGBM] [Warning] Stopped training because there are no more leaves that meet the split requirements\n",
      "[LightGBM] [Warning] Stopped training because there are no more leaves that meet the split requirements\n",
      "[LightGBM] [Warning] Stopped training because there are no more leaves that meet the split requirements\n",
      "[LightGBM] [Warning] Stopped training because there are no more leaves that meet the split requirements\n",
      "[LightGBM] [Warning] Stopped training because there are no more leaves that meet the split requirements\n",
      "[LightGBM] [Warning] Stopped training because there are no more leaves that meet the split requirements\n",
      "[LightGBM] [Warning] Stopped training because there are no more leaves that meet the split requirements\n",
      "[LightGBM] [Warning] Stopped training because there are no more leaves that meet the split requirements\n",
      "[LightGBM] [Warning] Stopped training because there are no more leaves that meet the split requirements\n",
      "[LightGBM] [Warning] Stopped training because there are no more leaves that meet the split requirements\n",
      "[LightGBM] [Warning] Stopped training because there are no more leaves that meet the split requirements\n",
      "[LightGBM] [Warning] Stopped training because there are no more leaves that meet the split requirements\n",
      "[LightGBM] [Warning] Stopped training because there are no more leaves that meet the split requirements\n",
      "[LightGBM] [Warning] Stopped training because there are no more leaves that meet the split requirements\n",
      "[LightGBM] [Warning] Stopped training because there are no more leaves that meet the split requirements\n",
      "[LightGBM] [Warning] Stopped training because there are no more leaves that meet the split requirements\n",
      "[LightGBM] [Warning] Stopped training because there are no more leaves that meet the split requirements\n",
      "[LightGBM] [Warning] Stopped training because there are no more leaves that meet the split requirements\n",
      "[LightGBM] [Warning] Stopped training because there are no more leaves that meet the split requirements\n",
      "[LightGBM] [Warning] Stopped training because there are no more leaves that meet the split requirements\n",
      "[LightGBM] [Warning] Stopped training because there are no more leaves that meet the split requirements\n",
      "[LightGBM] [Warning] Stopped training because there are no more leaves that meet the split requirements\n",
      "[LightGBM] [Warning] Stopped training because there are no more leaves that meet the split requirements\n",
      "[LightGBM] [Warning] Stopped training because there are no more leaves that meet the split requirements\n",
      "[LightGBM] [Warning] Stopped training because there are no more leaves that meet the split requirements\n",
      "[LightGBM] [Warning] Stopped training because there are no more leaves that meet the split requirements\n",
      "[LightGBM] [Warning] Stopped training because there are no more leaves that meet the split requirements\n",
      "[LightGBM] [Warning] Stopped training because there are no more leaves that meet the split requirements\n",
      "[LightGBM] [Warning] Stopped training because there are no more leaves that meet the split requirements\n",
      "[LightGBM] [Warning] Stopped training because there are no more leaves that meet the split requirements\n",
      "[LightGBM] [Warning] Stopped training because there are no more leaves that meet the split requirements\n",
      "[LightGBM] [Warning] Stopped training because there are no more leaves that meet the split requirements\n",
      "[LightGBM] [Warning] Stopped training because there are no more leaves that meet the split requirements\n",
      "[LightGBM] [Warning] Stopped training because there are no more leaves that meet the split requirements\n",
      "[LightGBM] [Warning] Stopped training because there are no more leaves that meet the split requirements\n",
      "[LightGBM] [Warning] Stopped training because there are no more leaves that meet the split requirements\n",
      "[LightGBM] [Warning] Stopped training because there are no more leaves that meet the split requirements\n",
      "[LightGBM] [Warning] Stopped training because there are no more leaves that meet the split requirements\n",
      "[LightGBM] [Warning] Stopped training because there are no more leaves that meet the split requirements\n",
      "[LightGBM] [Warning] Stopped training because there are no more leaves that meet the split requirements\n",
      "[LightGBM] [Warning] Stopped training because there are no more leaves that meet the split requirements\n",
      "[LightGBM] [Warning] Stopped training because there are no more leaves that meet the split requirements\n",
      "[LightGBM] [Warning] Stopped training because there are no more leaves that meet the split requirements\n",
      "[LightGBM] [Warning] Stopped training because there are no more leaves that meet the split requirements\n",
      "[LightGBM] [Warning] Stopped training because there are no more leaves that meet the split requirements\n",
      "[LightGBM] [Warning] Stopped training because there are no more leaves that meet the split requirements\n",
      "[LightGBM] [Warning] Stopped training because there are no more leaves that meet the split requirements\n",
      "[LightGBM] [Warning] Stopped training because there are no more leaves that meet the split requirements\n",
      "[LightGBM] [Warning] Stopped training because there are no more leaves that meet the split requirements\n",
      "[LightGBM] [Warning] Stopped training because there are no more leaves that meet the split requirements\n",
      "[LightGBM] [Warning] Stopped training because there are no more leaves that meet the split requirements\n",
      "[LightGBM] [Warning] Stopped training because there are no more leaves that meet the split requirements\n",
      "[LightGBM] [Warning] Stopped training because there are no more leaves that meet the split requirements\n",
      "[LightGBM] [Warning] Stopped training because there are no more leaves that meet the split requirements\n",
      "[LightGBM] [Warning] Stopped training because there are no more leaves that meet the split requirements\n",
      "[LightGBM] [Warning] Stopped training because there are no more leaves that meet the split requirements\n",
      "[LightGBM] [Warning] Stopped training because there are no more leaves that meet the split requirements\n",
      "[LightGBM] [Warning] Stopped training because there are no more leaves that meet the split requirements\n",
      "[LightGBM] [Warning] Stopped training because there are no more leaves that meet the split requirements\n",
      "[LightGBM] [Warning] Stopped training because there are no more leaves that meet the split requirements\n",
      "[LightGBM] [Warning] Stopped training because there are no more leaves that meet the split requirements\n",
      "[LightGBM] [Warning] Stopped training because there are no more leaves that meet the split requirements\n",
      "[LightGBM] [Warning] Stopped training because there are no more leaves that meet the split requirements\n",
      "[LightGBM] [Warning] Stopped training because there are no more leaves that meet the split requirements\n",
      "[LightGBM] [Warning] Stopped training because there are no more leaves that meet the split requirements\n",
      "[LightGBM] [Warning] Stopped training because there are no more leaves that meet the split requirements\n",
      "[LightGBM] [Warning] Stopped training because there are no more leaves that meet the split requirements\n",
      "[LightGBM] [Warning] Stopped training because there are no more leaves that meet the split requirements\n",
      "[LightGBM] [Warning] Stopped training because there are no more leaves that meet the split requirements\n",
      "[LightGBM] [Warning] Stopped training because there are no more leaves that meet the split requirements\n",
      "[LightGBM] [Warning] Stopped training because there are no more leaves that meet the split requirements\n",
      "[LightGBM] [Warning] Stopped training because there are no more leaves that meet the split requirements\n",
      "[LightGBM] [Warning] Stopped training because there are no more leaves that meet the split requirements\n",
      "[LightGBM] [Warning] Stopped training because there are no more leaves that meet the split requirements\n",
      "[LightGBM] [Warning] Stopped training because there are no more leaves that meet the split requirements\n",
      "[LightGBM] [Warning] Stopped training because there are no more leaves that meet the split requirements\n",
      "[LightGBM] [Warning] Stopped training because there are no more leaves that meet the split requirements\n",
      "[LightGBM] [Warning] Stopped training because there are no more leaves that meet the split requirements\n",
      "[LightGBM] [Warning] Stopped training because there are no more leaves that meet the split requirements\n",
      "[LightGBM] [Warning] Stopped training because there are no more leaves that meet the split requirements\n",
      "[LightGBM] [Warning] Stopped training because there are no more leaves that meet the split requirements\n",
      "[LightGBM] [Warning] Stopped training because there are no more leaves that meet the split requirements\n",
      "[LightGBM] [Warning] Stopped training because there are no more leaves that meet the split requirements\n",
      "[LightGBM] [Warning] There are no meaningful features which satisfy the provided configuration. Decreasing Dataset parameters min_data_in_bin or min_data_in_leaf and re-constructing Dataset might resolve this warning.\n",
      "[LightGBM] [Info] Number of positive: 1, number of negative: 1\n",
      "[LightGBM] [Info] This is the GPU trainer!!\n",
      "[LightGBM] [Info] Total Bins 0\n",
      "[LightGBM] [Info] Number of data points in the train set: 2, number of used features: 0\n",
      "[LightGBM] [Info] Using GPU Device: Intel(R) UHD Graphics 770, Vendor: Intel(R) Corporation\n",
      "[LightGBM] [Info] Compiling OpenCL Kernel with 16 bins...\n",
      "[LightGBM] [Info] GPU programs have been built\n",
      "[LightGBM] [Warning] GPU acceleration is disabled because no non-trivial dense features can be found\n",
      "[LightGBM] [Info] [binary:BoostFromScore]: pavg=0.500000 -> initscore=0.000000\n",
      "[LightGBM] [Warning] Stopped training because there are no more leaves that meet the split requirements\n",
      "[LightGBM] [Warning] Stopped training because there are no more leaves that meet the split requirements\n",
      "[LightGBM] [Warning] Stopped training because there are no more leaves that meet the split requirements\n",
      "[LightGBM] [Warning] Stopped training because there are no more leaves that meet the split requirements\n",
      "[LightGBM] [Warning] Stopped training because there are no more leaves that meet the split requirements\n",
      "[LightGBM] [Warning] Stopped training because there are no more leaves that meet the split requirements\n",
      "[LightGBM] [Warning] Stopped training because there are no more leaves that meet the split requirements\n",
      "[LightGBM] [Warning] Stopped training because there are no more leaves that meet the split requirements\n",
      "[LightGBM] [Warning] Stopped training because there are no more leaves that meet the split requirements\n",
      "[LightGBM] [Warning] Stopped training because there are no more leaves that meet the split requirements\n",
      "[LightGBM] [Warning] Stopped training because there are no more leaves that meet the split requirements\n",
      "[LightGBM] [Warning] Stopped training because there are no more leaves that meet the split requirements\n",
      "[LightGBM] [Warning] Stopped training because there are no more leaves that meet the split requirements\n",
      "[LightGBM] [Warning] Stopped training because there are no more leaves that meet the split requirements\n",
      "[LightGBM] [Warning] Stopped training because there are no more leaves that meet the split requirements\n",
      "[LightGBM] [Warning] Stopped training because there are no more leaves that meet the split requirements\n",
      "[LightGBM] [Warning] Stopped training because there are no more leaves that meet the split requirements\n",
      "[LightGBM] [Warning] Stopped training because there are no more leaves that meet the split requirements\n",
      "[LightGBM] [Warning] Stopped training because there are no more leaves that meet the split requirements\n",
      "[LightGBM] [Warning] Stopped training because there are no more leaves that meet the split requirements\n",
      "[LightGBM] [Warning] Stopped training because there are no more leaves that meet the split requirements\n",
      "[LightGBM] [Warning] Stopped training because there are no more leaves that meet the split requirements\n",
      "[LightGBM] [Warning] Stopped training because there are no more leaves that meet the split requirements\n",
      "[LightGBM] [Warning] Stopped training because there are no more leaves that meet the split requirements\n",
      "[LightGBM] [Warning] Stopped training because there are no more leaves that meet the split requirements\n",
      "[LightGBM] [Warning] Stopped training because there are no more leaves that meet the split requirements\n",
      "[LightGBM] [Warning] Stopped training because there are no more leaves that meet the split requirements\n",
      "[LightGBM] [Warning] Stopped training because there are no more leaves that meet the split requirements\n",
      "[LightGBM] [Warning] Stopped training because there are no more leaves that meet the split requirements\n",
      "[LightGBM] [Warning] Stopped training because there are no more leaves that meet the split requirements\n",
      "[LightGBM] [Warning] Stopped training because there are no more leaves that meet the split requirements\n",
      "[LightGBM] [Warning] Stopped training because there are no more leaves that meet the split requirements\n",
      "[LightGBM] [Warning] Stopped training because there are no more leaves that meet the split requirements\n",
      "[LightGBM] [Warning] Stopped training because there are no more leaves that meet the split requirements\n",
      "[LightGBM] [Warning] Stopped training because there are no more leaves that meet the split requirements\n",
      "[LightGBM] [Warning] Stopped training because there are no more leaves that meet the split requirements\n",
      "[LightGBM] [Warning] Stopped training because there are no more leaves that meet the split requirements\n",
      "[LightGBM] [Warning] Stopped training because there are no more leaves that meet the split requirements\n",
      "[LightGBM] [Warning] Stopped training because there are no more leaves that meet the split requirements\n",
      "[LightGBM] [Warning] Stopped training because there are no more leaves that meet the split requirements\n",
      "[LightGBM] [Warning] Stopped training because there are no more leaves that meet the split requirements\n",
      "[LightGBM] [Warning] Stopped training because there are no more leaves that meet the split requirements\n",
      "[LightGBM] [Warning] Stopped training because there are no more leaves that meet the split requirements\n",
      "[LightGBM] [Warning] Stopped training because there are no more leaves that meet the split requirements\n",
      "[LightGBM] [Warning] Stopped training because there are no more leaves that meet the split requirements\n",
      "[LightGBM] [Warning] Stopped training because there are no more leaves that meet the split requirements\n",
      "[LightGBM] [Warning] Stopped training because there are no more leaves that meet the split requirements\n",
      "[LightGBM] [Warning] Stopped training because there are no more leaves that meet the split requirements\n",
      "[LightGBM] [Warning] Stopped training because there are no more leaves that meet the split requirements\n",
      "[LightGBM] [Warning] Stopped training because there are no more leaves that meet the split requirements\n",
      "[LightGBM] [Warning] Stopped training because there are no more leaves that meet the split requirements\n",
      "[LightGBM] [Warning] Stopped training because there are no more leaves that meet the split requirements\n",
      "[LightGBM] [Warning] Stopped training because there are no more leaves that meet the split requirements\n",
      "[LightGBM] [Warning] Stopped training because there are no more leaves that meet the split requirements\n",
      "[LightGBM] [Warning] Stopped training because there are no more leaves that meet the split requirements\n",
      "[LightGBM] [Warning] Stopped training because there are no more leaves that meet the split requirements\n",
      "[LightGBM] [Warning] Stopped training because there are no more leaves that meet the split requirements\n",
      "[LightGBM] [Warning] Stopped training because there are no more leaves that meet the split requirements\n",
      "[LightGBM] [Warning] Stopped training because there are no more leaves that meet the split requirements\n",
      "[LightGBM] [Warning] Stopped training because there are no more leaves that meet the split requirements\n",
      "[LightGBM] [Warning] Stopped training because there are no more leaves that meet the split requirements\n",
      "[LightGBM] [Warning] Stopped training because there are no more leaves that meet the split requirements\n",
      "[LightGBM] [Warning] Stopped training because there are no more leaves that meet the split requirements\n",
      "[LightGBM] [Warning] Stopped training because there are no more leaves that meet the split requirements\n",
      "[LightGBM] [Warning] Stopped training because there are no more leaves that meet the split requirements\n",
      "[LightGBM] [Warning] Stopped training because there are no more leaves that meet the split requirements\n",
      "[LightGBM] [Warning] Stopped training because there are no more leaves that meet the split requirements\n",
      "[LightGBM] [Warning] Stopped training because there are no more leaves that meet the split requirements\n",
      "[LightGBM] [Warning] Stopped training because there are no more leaves that meet the split requirements\n",
      "[LightGBM] [Warning] Stopped training because there are no more leaves that meet the split requirements\n",
      "[LightGBM] [Warning] Stopped training because there are no more leaves that meet the split requirements\n",
      "[LightGBM] [Warning] Stopped training because there are no more leaves that meet the split requirements\n",
      "[LightGBM] [Warning] Stopped training because there are no more leaves that meet the split requirements\n",
      "[LightGBM] [Warning] Stopped training because there are no more leaves that meet the split requirements\n",
      "[LightGBM] [Warning] Stopped training because there are no more leaves that meet the split requirements\n",
      "[LightGBM] [Warning] Stopped training because there are no more leaves that meet the split requirements\n",
      "[LightGBM] [Warning] Stopped training because there are no more leaves that meet the split requirements\n",
      "[LightGBM] [Warning] Stopped training because there are no more leaves that meet the split requirements\n",
      "[LightGBM] [Warning] Stopped training because there are no more leaves that meet the split requirements\n",
      "[LightGBM] [Warning] Stopped training because there are no more leaves that meet the split requirements\n",
      "[LightGBM] [Warning] Stopped training because there are no more leaves that meet the split requirements\n",
      "[LightGBM] [Warning] Stopped training because there are no more leaves that meet the split requirements\n",
      "[LightGBM] [Warning] Stopped training because there are no more leaves that meet the split requirements\n",
      "[LightGBM] [Warning] Stopped training because there are no more leaves that meet the split requirements\n",
      "[LightGBM] [Warning] Stopped training because there are no more leaves that meet the split requirements\n",
      "[LightGBM] [Warning] Stopped training because there are no more leaves that meet the split requirements\n",
      "[LightGBM] [Warning] Stopped training because there are no more leaves that meet the split requirements\n",
      "[LightGBM] [Warning] Stopped training because there are no more leaves that meet the split requirements\n",
      "[LightGBM] [Warning] Stopped training because there are no more leaves that meet the split requirements\n",
      "[LightGBM] [Warning] Stopped training because there are no more leaves that meet the split requirements\n",
      "[LightGBM] [Warning] Stopped training because there are no more leaves that meet the split requirements\n",
      "[LightGBM] [Warning] Stopped training because there are no more leaves that meet the split requirements\n",
      "[LightGBM] [Warning] Stopped training because there are no more leaves that meet the split requirements\n",
      "[LightGBM] [Warning] Stopped training because there are no more leaves that meet the split requirements\n",
      "[LightGBM] [Warning] Stopped training because there are no more leaves that meet the split requirements\n",
      "[LightGBM] [Warning] Stopped training because there are no more leaves that meet the split requirements\n",
      "[LightGBM] [Warning] Stopped training because there are no more leaves that meet the split requirements\n",
      "[LightGBM] [Warning] Stopped training because there are no more leaves that meet the split requirements\n",
      "[LightGBM] [Warning] Stopped training because there are no more leaves that meet the split requirements\n",
      "[LightGBM] [Warning] Stopped training because there are no more leaves that meet the split requirements\n",
      "[LightGBM] [Warning] There are no meaningful features which satisfy the provided configuration. Decreasing Dataset parameters min_data_in_bin or min_data_in_leaf and re-constructing Dataset might resolve this warning.\n",
      "[LightGBM] [Info] Number of positive: 1, number of negative: 1\n",
      "[LightGBM] [Info] This is the GPU trainer!!\n",
      "[LightGBM] [Info] Total Bins 0\n",
      "[LightGBM] [Info] Number of data points in the train set: 2, number of used features: 0\n",
      "[LightGBM] [Info] Using GPU Device: Intel(R) UHD Graphics 770, Vendor: Intel(R) Corporation\n",
      "[LightGBM] [Info] Compiling OpenCL Kernel with 16 bins...\n",
      "[LightGBM] [Info] GPU programs have been built\n",
      "[LightGBM] [Warning] GPU acceleration is disabled because no non-trivial dense features can be found\n",
      "[LightGBM] [Info] [binary:BoostFromScore]: pavg=0.500000 -> initscore=0.000000\n",
      "[LightGBM] [Warning] Stopped training because there are no more leaves that meet the split requirements\n",
      "[LightGBM] [Warning] Stopped training because there are no more leaves that meet the split requirements\n",
      "[LightGBM] [Warning] Stopped training because there are no more leaves that meet the split requirements\n",
      "[LightGBM] [Warning] Stopped training because there are no more leaves that meet the split requirements\n",
      "[LightGBM] [Warning] Stopped training because there are no more leaves that meet the split requirements\n",
      "[LightGBM] [Warning] Stopped training because there are no more leaves that meet the split requirements\n",
      "[LightGBM] [Warning] Stopped training because there are no more leaves that meet the split requirements\n",
      "[LightGBM] [Warning] Stopped training because there are no more leaves that meet the split requirements\n",
      "[LightGBM] [Warning] Stopped training because there are no more leaves that meet the split requirements\n",
      "[LightGBM] [Warning] Stopped training because there are no more leaves that meet the split requirements\n",
      "[LightGBM] [Warning] Stopped training because there are no more leaves that meet the split requirements\n",
      "[LightGBM] [Warning] Stopped training because there are no more leaves that meet the split requirements\n",
      "[LightGBM] [Warning] Stopped training because there are no more leaves that meet the split requirements\n",
      "[LightGBM] [Warning] Stopped training because there are no more leaves that meet the split requirements\n",
      "[LightGBM] [Warning] Stopped training because there are no more leaves that meet the split requirements\n",
      "[LightGBM] [Warning] Stopped training because there are no more leaves that meet the split requirements\n",
      "[LightGBM] [Warning] Stopped training because there are no more leaves that meet the split requirements\n",
      "[LightGBM] [Warning] Stopped training because there are no more leaves that meet the split requirements\n",
      "[LightGBM] [Warning] Stopped training because there are no more leaves that meet the split requirements\n",
      "[LightGBM] [Warning] Stopped training because there are no more leaves that meet the split requirements\n",
      "[LightGBM] [Warning] Stopped training because there are no more leaves that meet the split requirements\n",
      "[LightGBM] [Warning] Stopped training because there are no more leaves that meet the split requirements\n",
      "[LightGBM] [Warning] Stopped training because there are no more leaves that meet the split requirements\n",
      "[LightGBM] [Warning] Stopped training because there are no more leaves that meet the split requirements\n",
      "[LightGBM] [Warning] Stopped training because there are no more leaves that meet the split requirements\n",
      "[LightGBM] [Warning] Stopped training because there are no more leaves that meet the split requirements\n",
      "[LightGBM] [Warning] Stopped training because there are no more leaves that meet the split requirements\n",
      "[LightGBM] [Warning] Stopped training because there are no more leaves that meet the split requirements\n",
      "[LightGBM] [Warning] Stopped training because there are no more leaves that meet the split requirements\n",
      "[LightGBM] [Warning] Stopped training because there are no more leaves that meet the split requirements\n",
      "[LightGBM] [Warning] Stopped training because there are no more leaves that meet the split requirements\n",
      "[LightGBM] [Warning] Stopped training because there are no more leaves that meet the split requirements\n",
      "[LightGBM] [Warning] Stopped training because there are no more leaves that meet the split requirements\n",
      "[LightGBM] [Warning] Stopped training because there are no more leaves that meet the split requirements\n",
      "[LightGBM] [Warning] Stopped training because there are no more leaves that meet the split requirements\n",
      "[LightGBM] [Warning] Stopped training because there are no more leaves that meet the split requirements\n",
      "[LightGBM] [Warning] Stopped training because there are no more leaves that meet the split requirements\n",
      "[LightGBM] [Warning] Stopped training because there are no more leaves that meet the split requirements\n",
      "[LightGBM] [Warning] Stopped training because there are no more leaves that meet the split requirements\n",
      "[LightGBM] [Warning] Stopped training because there are no more leaves that meet the split requirements\n",
      "[LightGBM] [Warning] Stopped training because there are no more leaves that meet the split requirements\n",
      "[LightGBM] [Warning] Stopped training because there are no more leaves that meet the split requirements\n",
      "[LightGBM] [Warning] Stopped training because there are no more leaves that meet the split requirements\n",
      "[LightGBM] [Warning] Stopped training because there are no more leaves that meet the split requirements\n",
      "[LightGBM] [Warning] Stopped training because there are no more leaves that meet the split requirements\n",
      "[LightGBM] [Warning] Stopped training because there are no more leaves that meet the split requirements\n",
      "[LightGBM] [Warning] Stopped training because there are no more leaves that meet the split requirements\n",
      "[LightGBM] [Warning] Stopped training because there are no more leaves that meet the split requirements\n",
      "[LightGBM] [Warning] Stopped training because there are no more leaves that meet the split requirements\n",
      "[LightGBM] [Warning] Stopped training because there are no more leaves that meet the split requirements\n",
      "[LightGBM] [Warning] Stopped training because there are no more leaves that meet the split requirements\n",
      "[LightGBM] [Warning] Stopped training because there are no more leaves that meet the split requirements\n",
      "[LightGBM] [Warning] Stopped training because there are no more leaves that meet the split requirements\n",
      "[LightGBM] [Warning] Stopped training because there are no more leaves that meet the split requirements\n",
      "[LightGBM] [Warning] Stopped training because there are no more leaves that meet the split requirements\n",
      "[LightGBM] [Warning] Stopped training because there are no more leaves that meet the split requirements\n",
      "[LightGBM] [Warning] Stopped training because there are no more leaves that meet the split requirements\n",
      "[LightGBM] [Warning] Stopped training because there are no more leaves that meet the split requirements\n",
      "[LightGBM] [Warning] Stopped training because there are no more leaves that meet the split requirements\n",
      "[LightGBM] [Warning] Stopped training because there are no more leaves that meet the split requirements\n",
      "[LightGBM] [Warning] Stopped training because there are no more leaves that meet the split requirements\n",
      "[LightGBM] [Warning] Stopped training because there are no more leaves that meet the split requirements\n",
      "[LightGBM] [Warning] Stopped training because there are no more leaves that meet the split requirements\n",
      "[LightGBM] [Warning] Stopped training because there are no more leaves that meet the split requirements\n",
      "[LightGBM] [Warning] Stopped training because there are no more leaves that meet the split requirements\n",
      "[LightGBM] [Warning] Stopped training because there are no more leaves that meet the split requirements\n",
      "[LightGBM] [Warning] Stopped training because there are no more leaves that meet the split requirements\n",
      "[LightGBM] [Warning] Stopped training because there are no more leaves that meet the split requirements\n",
      "[LightGBM] [Warning] Stopped training because there are no more leaves that meet the split requirements\n",
      "[LightGBM] [Warning] Stopped training because there are no more leaves that meet the split requirements\n",
      "[LightGBM] [Warning] Stopped training because there are no more leaves that meet the split requirements\n",
      "[LightGBM] [Warning] Stopped training because there are no more leaves that meet the split requirements\n",
      "[LightGBM] [Warning] Stopped training because there are no more leaves that meet the split requirements\n",
      "[LightGBM] [Warning] Stopped training because there are no more leaves that meet the split requirements\n",
      "[LightGBM] [Warning] Stopped training because there are no more leaves that meet the split requirements\n",
      "[LightGBM] [Warning] Stopped training because there are no more leaves that meet the split requirements\n",
      "[LightGBM] [Warning] Stopped training because there are no more leaves that meet the split requirements\n",
      "[LightGBM] [Warning] Stopped training because there are no more leaves that meet the split requirements\n",
      "[LightGBM] [Warning] Stopped training because there are no more leaves that meet the split requirements\n",
      "[LightGBM] [Warning] Stopped training because there are no more leaves that meet the split requirements\n",
      "[LightGBM] [Warning] Stopped training because there are no more leaves that meet the split requirements\n",
      "[LightGBM] [Warning] Stopped training because there are no more leaves that meet the split requirements\n",
      "[LightGBM] [Warning] Stopped training because there are no more leaves that meet the split requirements\n",
      "[LightGBM] [Warning] Stopped training because there are no more leaves that meet the split requirements\n",
      "[LightGBM] [Warning] Stopped training because there are no more leaves that meet the split requirements\n",
      "[LightGBM] [Warning] Stopped training because there are no more leaves that meet the split requirements\n",
      "[LightGBM] [Warning] Stopped training because there are no more leaves that meet the split requirements\n",
      "[LightGBM] [Warning] Stopped training because there are no more leaves that meet the split requirements\n",
      "[LightGBM] [Warning] Stopped training because there are no more leaves that meet the split requirements\n",
      "[LightGBM] [Warning] Stopped training because there are no more leaves that meet the split requirements\n",
      "[LightGBM] [Warning] Stopped training because there are no more leaves that meet the split requirements\n",
      "[LightGBM] [Warning] Stopped training because there are no more leaves that meet the split requirements\n",
      "[LightGBM] [Warning] Stopped training because there are no more leaves that meet the split requirements\n",
      "[LightGBM] [Warning] Stopped training because there are no more leaves that meet the split requirements\n",
      "[LightGBM] [Warning] Stopped training because there are no more leaves that meet the split requirements\n",
      "[LightGBM] [Warning] Stopped training because there are no more leaves that meet the split requirements\n",
      "[LightGBM] [Warning] Stopped training because there are no more leaves that meet the split requirements\n",
      "[LightGBM] [Warning] Stopped training because there are no more leaves that meet the split requirements\n",
      "[LightGBM] [Warning] Stopped training because there are no more leaves that meet the split requirements\n",
      "[LightGBM] [Warning] Stopped training because there are no more leaves that meet the split requirements\n",
      "[LightGBM] [Warning] There are no meaningful features which satisfy the provided configuration. Decreasing Dataset parameters min_data_in_bin or min_data_in_leaf and re-constructing Dataset might resolve this warning.\n",
      "[LightGBM] [Info] Number of positive: 1, number of negative: 1\n",
      "[LightGBM] [Info] This is the GPU trainer!!\n",
      "[LightGBM] [Info] Total Bins 0\n",
      "[LightGBM] [Info] Number of data points in the train set: 2, number of used features: 0\n",
      "[LightGBM] [Info] Using GPU Device: Intel(R) UHD Graphics 770, Vendor: Intel(R) Corporation\n",
      "[LightGBM] [Info] Compiling OpenCL Kernel with 16 bins...\n",
      "[LightGBM] [Info] GPU programs have been built\n",
      "[LightGBM] [Warning] GPU acceleration is disabled because no non-trivial dense features can be found\n",
      "[LightGBM] [Info] [binary:BoostFromScore]: pavg=0.500000 -> initscore=0.000000\n",
      "[LightGBM] [Warning] Stopped training because there are no more leaves that meet the split requirements\n",
      "[LightGBM] [Warning] Stopped training because there are no more leaves that meet the split requirements\n",
      "[LightGBM] [Warning] Stopped training because there are no more leaves that meet the split requirements\n",
      "[LightGBM] [Warning] Stopped training because there are no more leaves that meet the split requirements\n",
      "[LightGBM] [Warning] Stopped training because there are no more leaves that meet the split requirements\n",
      "[LightGBM] [Warning] Stopped training because there are no more leaves that meet the split requirements\n",
      "[LightGBM] [Warning] Stopped training because there are no more leaves that meet the split requirements\n",
      "[LightGBM] [Warning] Stopped training because there are no more leaves that meet the split requirements\n",
      "[LightGBM] [Warning] Stopped training because there are no more leaves that meet the split requirements\n",
      "[LightGBM] [Warning] Stopped training because there are no more leaves that meet the split requirements\n",
      "[LightGBM] [Warning] Stopped training because there are no more leaves that meet the split requirements\n",
      "[LightGBM] [Warning] Stopped training because there are no more leaves that meet the split requirements\n",
      "[LightGBM] [Warning] Stopped training because there are no more leaves that meet the split requirements\n",
      "[LightGBM] [Warning] Stopped training because there are no more leaves that meet the split requirements\n",
      "[LightGBM] [Warning] Stopped training because there are no more leaves that meet the split requirements\n",
      "[LightGBM] [Warning] Stopped training because there are no more leaves that meet the split requirements\n",
      "[LightGBM] [Warning] Stopped training because there are no more leaves that meet the split requirements\n",
      "[LightGBM] [Warning] Stopped training because there are no more leaves that meet the split requirements\n",
      "[LightGBM] [Warning] Stopped training because there are no more leaves that meet the split requirements\n",
      "[LightGBM] [Warning] Stopped training because there are no more leaves that meet the split requirements\n",
      "[LightGBM] [Warning] Stopped training because there are no more leaves that meet the split requirements\n",
      "[LightGBM] [Warning] Stopped training because there are no more leaves that meet the split requirements\n",
      "[LightGBM] [Warning] Stopped training because there are no more leaves that meet the split requirements\n",
      "[LightGBM] [Warning] Stopped training because there are no more leaves that meet the split requirements\n",
      "[LightGBM] [Warning] Stopped training because there are no more leaves that meet the split requirements\n",
      "[LightGBM] [Warning] Stopped training because there are no more leaves that meet the split requirements\n",
      "[LightGBM] [Warning] Stopped training because there are no more leaves that meet the split requirements\n",
      "[LightGBM] [Warning] Stopped training because there are no more leaves that meet the split requirements\n",
      "[LightGBM] [Warning] Stopped training because there are no more leaves that meet the split requirements\n",
      "[LightGBM] [Warning] Stopped training because there are no more leaves that meet the split requirements\n",
      "[LightGBM] [Warning] Stopped training because there are no more leaves that meet the split requirements\n",
      "[LightGBM] [Warning] Stopped training because there are no more leaves that meet the split requirements\n",
      "[LightGBM] [Warning] Stopped training because there are no more leaves that meet the split requirements\n",
      "[LightGBM] [Warning] Stopped training because there are no more leaves that meet the split requirements\n",
      "[LightGBM] [Warning] Stopped training because there are no more leaves that meet the split requirements\n",
      "[LightGBM] [Warning] Stopped training because there are no more leaves that meet the split requirements\n",
      "[LightGBM] [Warning] Stopped training because there are no more leaves that meet the split requirements\n",
      "[LightGBM] [Warning] Stopped training because there are no more leaves that meet the split requirements\n",
      "[LightGBM] [Warning] Stopped training because there are no more leaves that meet the split requirements\n",
      "[LightGBM] [Warning] Stopped training because there are no more leaves that meet the split requirements\n",
      "[LightGBM] [Warning] Stopped training because there are no more leaves that meet the split requirements\n",
      "[LightGBM] [Warning] Stopped training because there are no more leaves that meet the split requirements\n",
      "[LightGBM] [Warning] Stopped training because there are no more leaves that meet the split requirements\n",
      "[LightGBM] [Warning] Stopped training because there are no more leaves that meet the split requirements\n",
      "[LightGBM] [Warning] Stopped training because there are no more leaves that meet the split requirements\n",
      "[LightGBM] [Warning] Stopped training because there are no more leaves that meet the split requirements\n",
      "[LightGBM] [Warning] Stopped training because there are no more leaves that meet the split requirements\n",
      "[LightGBM] [Warning] Stopped training because there are no more leaves that meet the split requirements\n",
      "[LightGBM] [Warning] Stopped training because there are no more leaves that meet the split requirements\n",
      "[LightGBM] [Warning] Stopped training because there are no more leaves that meet the split requirements\n",
      "[LightGBM] [Warning] Stopped training because there are no more leaves that meet the split requirements\n",
      "[LightGBM] [Warning] Stopped training because there are no more leaves that meet the split requirements\n",
      "[LightGBM] [Warning] Stopped training because there are no more leaves that meet the split requirements\n",
      "[LightGBM] [Warning] Stopped training because there are no more leaves that meet the split requirements\n",
      "[LightGBM] [Warning] Stopped training because there are no more leaves that meet the split requirements\n",
      "[LightGBM] [Warning] Stopped training because there are no more leaves that meet the split requirements\n",
      "[LightGBM] [Warning] Stopped training because there are no more leaves that meet the split requirements\n",
      "[LightGBM] [Warning] Stopped training because there are no more leaves that meet the split requirements\n",
      "[LightGBM] [Warning] Stopped training because there are no more leaves that meet the split requirements\n",
      "[LightGBM] [Warning] Stopped training because there are no more leaves that meet the split requirements\n",
      "[LightGBM] [Warning] Stopped training because there are no more leaves that meet the split requirements\n",
      "[LightGBM] [Warning] Stopped training because there are no more leaves that meet the split requirements\n",
      "[LightGBM] [Warning] Stopped training because there are no more leaves that meet the split requirements\n",
      "[LightGBM] [Warning] Stopped training because there are no more leaves that meet the split requirements\n",
      "[LightGBM] [Warning] Stopped training because there are no more leaves that meet the split requirements\n",
      "[LightGBM] [Warning] Stopped training because there are no more leaves that meet the split requirements\n",
      "[LightGBM] [Warning] Stopped training because there are no more leaves that meet the split requirements\n",
      "[LightGBM] [Warning] Stopped training because there are no more leaves that meet the split requirements\n",
      "[LightGBM] [Warning] Stopped training because there are no more leaves that meet the split requirements\n",
      "[LightGBM] [Warning] Stopped training because there are no more leaves that meet the split requirements\n",
      "[LightGBM] [Warning] Stopped training because there are no more leaves that meet the split requirements\n",
      "[LightGBM] [Warning] Stopped training because there are no more leaves that meet the split requirements\n",
      "[LightGBM] [Warning] Stopped training because there are no more leaves that meet the split requirements\n",
      "[LightGBM] [Warning] Stopped training because there are no more leaves that meet the split requirements\n",
      "[LightGBM] [Warning] Stopped training because there are no more leaves that meet the split requirements\n",
      "[LightGBM] [Warning] Stopped training because there are no more leaves that meet the split requirements\n",
      "[LightGBM] [Warning] Stopped training because there are no more leaves that meet the split requirements\n",
      "[LightGBM] [Warning] Stopped training because there are no more leaves that meet the split requirements\n",
      "[LightGBM] [Warning] Stopped training because there are no more leaves that meet the split requirements\n",
      "[LightGBM] [Warning] Stopped training because there are no more leaves that meet the split requirements\n",
      "[LightGBM] [Warning] Stopped training because there are no more leaves that meet the split requirements\n",
      "[LightGBM] [Warning] Stopped training because there are no more leaves that meet the split requirements\n",
      "[LightGBM] [Warning] Stopped training because there are no more leaves that meet the split requirements\n",
      "[LightGBM] [Warning] Stopped training because there are no more leaves that meet the split requirements\n",
      "[LightGBM] [Warning] Stopped training because there are no more leaves that meet the split requirements\n",
      "[LightGBM] [Warning] Stopped training because there are no more leaves that meet the split requirements\n",
      "[LightGBM] [Warning] Stopped training because there are no more leaves that meet the split requirements\n",
      "[LightGBM] [Warning] Stopped training because there are no more leaves that meet the split requirements\n",
      "[LightGBM] [Warning] Stopped training because there are no more leaves that meet the split requirements\n",
      "[LightGBM] [Warning] Stopped training because there are no more leaves that meet the split requirements\n",
      "[LightGBM] [Warning] Stopped training because there are no more leaves that meet the split requirements\n",
      "[LightGBM] [Warning] Stopped training because there are no more leaves that meet the split requirements\n",
      "[LightGBM] [Warning] Stopped training because there are no more leaves that meet the split requirements\n",
      "[LightGBM] [Warning] Stopped training because there are no more leaves that meet the split requirements\n",
      "[LightGBM] [Warning] Stopped training because there are no more leaves that meet the split requirements\n",
      "[LightGBM] [Warning] Stopped training because there are no more leaves that meet the split requirements\n",
      "[LightGBM] [Warning] Stopped training because there are no more leaves that meet the split requirements\n",
      "[LightGBM] [Warning] Stopped training because there are no more leaves that meet the split requirements\n",
      "[LightGBM] [Warning] Stopped training because there are no more leaves that meet the split requirements\n",
      "[LightGBM] [Warning] Stopped training because there are no more leaves that meet the split requirements\n",
      "[LightGBM] [Warning] There are no meaningful features which satisfy the provided configuration. Decreasing Dataset parameters min_data_in_bin or min_data_in_leaf and re-constructing Dataset might resolve this warning.\n",
      "[LightGBM] [Info] Number of positive: 1, number of negative: 1\n",
      "[LightGBM] [Info] This is the GPU trainer!!\n",
      "[LightGBM] [Info] Total Bins 0\n",
      "[LightGBM] [Info] Number of data points in the train set: 2, number of used features: 0\n",
      "[LightGBM] [Info] Using GPU Device: Intel(R) UHD Graphics 770, Vendor: Intel(R) Corporation\n",
      "[LightGBM] [Info] Compiling OpenCL Kernel with 16 bins...\n",
      "[LightGBM] [Info] GPU programs have been built\n",
      "[LightGBM] [Warning] GPU acceleration is disabled because no non-trivial dense features can be found\n",
      "[LightGBM] [Info] [binary:BoostFromScore]: pavg=0.500000 -> initscore=0.000000\n",
      "[LightGBM] [Warning] Stopped training because there are no more leaves that meet the split requirements\n",
      "[LightGBM] [Warning] Stopped training because there are no more leaves that meet the split requirements\n",
      "[LightGBM] [Warning] Stopped training because there are no more leaves that meet the split requirements\n",
      "[LightGBM] [Warning] Stopped training because there are no more leaves that meet the split requirements\n",
      "[LightGBM] [Warning] Stopped training because there are no more leaves that meet the split requirements\n",
      "[LightGBM] [Warning] Stopped training because there are no more leaves that meet the split requirements\n",
      "[LightGBM] [Warning] Stopped training because there are no more leaves that meet the split requirements\n",
      "[LightGBM] [Warning] Stopped training because there are no more leaves that meet the split requirements\n",
      "[LightGBM] [Warning] Stopped training because there are no more leaves that meet the split requirements\n",
      "[LightGBM] [Warning] Stopped training because there are no more leaves that meet the split requirements\n",
      "[LightGBM] [Warning] Stopped training because there are no more leaves that meet the split requirements\n",
      "[LightGBM] [Warning] Stopped training because there are no more leaves that meet the split requirements\n",
      "[LightGBM] [Warning] Stopped training because there are no more leaves that meet the split requirements\n",
      "[LightGBM] [Warning] Stopped training because there are no more leaves that meet the split requirements\n",
      "[LightGBM] [Warning] Stopped training because there are no more leaves that meet the split requirements\n",
      "[LightGBM] [Warning] Stopped training because there are no more leaves that meet the split requirements\n",
      "[LightGBM] [Warning] Stopped training because there are no more leaves that meet the split requirements\n",
      "[LightGBM] [Warning] Stopped training because there are no more leaves that meet the split requirements\n",
      "[LightGBM] [Warning] Stopped training because there are no more leaves that meet the split requirements\n",
      "[LightGBM] [Warning] Stopped training because there are no more leaves that meet the split requirements\n",
      "[LightGBM] [Warning] Stopped training because there are no more leaves that meet the split requirements\n",
      "[LightGBM] [Warning] Stopped training because there are no more leaves that meet the split requirements\n",
      "[LightGBM] [Warning] Stopped training because there are no more leaves that meet the split requirements\n",
      "[LightGBM] [Warning] Stopped training because there are no more leaves that meet the split requirements\n",
      "[LightGBM] [Warning] Stopped training because there are no more leaves that meet the split requirements\n",
      "[LightGBM] [Warning] Stopped training because there are no more leaves that meet the split requirements\n",
      "[LightGBM] [Warning] Stopped training because there are no more leaves that meet the split requirements\n",
      "[LightGBM] [Warning] Stopped training because there are no more leaves that meet the split requirements\n",
      "[LightGBM] [Warning] Stopped training because there are no more leaves that meet the split requirements\n",
      "[LightGBM] [Warning] Stopped training because there are no more leaves that meet the split requirements\n",
      "[LightGBM] [Warning] Stopped training because there are no more leaves that meet the split requirements\n",
      "[LightGBM] [Warning] Stopped training because there are no more leaves that meet the split requirements\n",
      "[LightGBM] [Warning] Stopped training because there are no more leaves that meet the split requirements\n",
      "[LightGBM] [Warning] Stopped training because there are no more leaves that meet the split requirements\n",
      "[LightGBM] [Warning] Stopped training because there are no more leaves that meet the split requirements\n",
      "[LightGBM] [Warning] Stopped training because there are no more leaves that meet the split requirements\n",
      "[LightGBM] [Warning] Stopped training because there are no more leaves that meet the split requirements\n",
      "[LightGBM] [Warning] Stopped training because there are no more leaves that meet the split requirements\n",
      "[LightGBM] [Warning] Stopped training because there are no more leaves that meet the split requirements\n",
      "[LightGBM] [Warning] Stopped training because there are no more leaves that meet the split requirements\n",
      "[LightGBM] [Warning] Stopped training because there are no more leaves that meet the split requirements\n",
      "[LightGBM] [Warning] Stopped training because there are no more leaves that meet the split requirements\n",
      "[LightGBM] [Warning] Stopped training because there are no more leaves that meet the split requirements\n",
      "[LightGBM] [Warning] Stopped training because there are no more leaves that meet the split requirements\n",
      "[LightGBM] [Warning] Stopped training because there are no more leaves that meet the split requirements\n",
      "[LightGBM] [Warning] Stopped training because there are no more leaves that meet the split requirements\n",
      "[LightGBM] [Warning] Stopped training because there are no more leaves that meet the split requirements\n",
      "[LightGBM] [Warning] Stopped training because there are no more leaves that meet the split requirements\n",
      "[LightGBM] [Warning] Stopped training because there are no more leaves that meet the split requirements\n",
      "[LightGBM] [Warning] Stopped training because there are no more leaves that meet the split requirements\n",
      "[LightGBM] [Warning] Stopped training because there are no more leaves that meet the split requirements\n",
      "[LightGBM] [Warning] Stopped training because there are no more leaves that meet the split requirements\n",
      "[LightGBM] [Warning] Stopped training because there are no more leaves that meet the split requirements\n",
      "[LightGBM] [Warning] Stopped training because there are no more leaves that meet the split requirements\n",
      "[LightGBM] [Warning] Stopped training because there are no more leaves that meet the split requirements\n",
      "[LightGBM] [Warning] Stopped training because there are no more leaves that meet the split requirements\n",
      "[LightGBM] [Warning] Stopped training because there are no more leaves that meet the split requirements\n",
      "[LightGBM] [Warning] Stopped training because there are no more leaves that meet the split requirements\n",
      "[LightGBM] [Warning] Stopped training because there are no more leaves that meet the split requirements\n",
      "[LightGBM] [Warning] Stopped training because there are no more leaves that meet the split requirements\n",
      "[LightGBM] [Warning] Stopped training because there are no more leaves that meet the split requirements\n",
      "[LightGBM] [Warning] Stopped training because there are no more leaves that meet the split requirements\n",
      "[LightGBM] [Warning] Stopped training because there are no more leaves that meet the split requirements\n",
      "[LightGBM] [Warning] Stopped training because there are no more leaves that meet the split requirements\n",
      "[LightGBM] [Warning] Stopped training because there are no more leaves that meet the split requirements\n",
      "[LightGBM] [Warning] Stopped training because there are no more leaves that meet the split requirements\n",
      "[LightGBM] [Warning] Stopped training because there are no more leaves that meet the split requirements\n",
      "[LightGBM] [Warning] Stopped training because there are no more leaves that meet the split requirements\n",
      "[LightGBM] [Warning] Stopped training because there are no more leaves that meet the split requirements\n",
      "[LightGBM] [Warning] Stopped training because there are no more leaves that meet the split requirements\n",
      "[LightGBM] [Warning] Stopped training because there are no more leaves that meet the split requirements\n",
      "[LightGBM] [Warning] Stopped training because there are no more leaves that meet the split requirements\n",
      "[LightGBM] [Warning] Stopped training because there are no more leaves that meet the split requirements\n",
      "[LightGBM] [Warning] Stopped training because there are no more leaves that meet the split requirements\n",
      "[LightGBM] [Warning] Stopped training because there are no more leaves that meet the split requirements\n",
      "[LightGBM] [Warning] Stopped training because there are no more leaves that meet the split requirements\n",
      "[LightGBM] [Warning] Stopped training because there are no more leaves that meet the split requirements\n",
      "[LightGBM] [Warning] Stopped training because there are no more leaves that meet the split requirements\n",
      "[LightGBM] [Warning] Stopped training because there are no more leaves that meet the split requirements\n",
      "[LightGBM] [Warning] Stopped training because there are no more leaves that meet the split requirements\n",
      "[LightGBM] [Warning] Stopped training because there are no more leaves that meet the split requirements\n",
      "[LightGBM] [Warning] Stopped training because there are no more leaves that meet the split requirements\n",
      "[LightGBM] [Warning] Stopped training because there are no more leaves that meet the split requirements\n",
      "[LightGBM] [Warning] Stopped training because there are no more leaves that meet the split requirements\n",
      "[LightGBM] [Warning] Stopped training because there are no more leaves that meet the split requirements\n",
      "[LightGBM] [Warning] Stopped training because there are no more leaves that meet the split requirements\n",
      "[LightGBM] [Warning] Stopped training because there are no more leaves that meet the split requirements\n",
      "[LightGBM] [Warning] Stopped training because there are no more leaves that meet the split requirements\n",
      "[LightGBM] [Warning] Stopped training because there are no more leaves that meet the split requirements\n",
      "[LightGBM] [Warning] Stopped training because there are no more leaves that meet the split requirements\n",
      "[LightGBM] [Warning] Stopped training because there are no more leaves that meet the split requirements\n",
      "[LightGBM] [Warning] Stopped training because there are no more leaves that meet the split requirements\n",
      "[LightGBM] [Warning] Stopped training because there are no more leaves that meet the split requirements\n",
      "[LightGBM] [Warning] Stopped training because there are no more leaves that meet the split requirements\n",
      "[LightGBM] [Warning] Stopped training because there are no more leaves that meet the split requirements\n",
      "[LightGBM] [Warning] Stopped training because there are no more leaves that meet the split requirements\n",
      "[LightGBM] [Warning] Stopped training because there are no more leaves that meet the split requirements\n",
      "[LightGBM] [Warning] Stopped training because there are no more leaves that meet the split requirements\n",
      "[LightGBM] [Warning] Stopped training because there are no more leaves that meet the split requirements\n",
      "[LightGBM] [Warning] Stopped training because there are no more leaves that meet the split requirements\n",
      "[LightGBM] [Warning] There are no meaningful features which satisfy the provided configuration. Decreasing Dataset parameters min_data_in_bin or min_data_in_leaf and re-constructing Dataset might resolve this warning.\n",
      "[LightGBM] [Info] Number of positive: 1, number of negative: 1\n",
      "[LightGBM] [Info] This is the GPU trainer!!\n",
      "[LightGBM] [Info] Total Bins 0\n",
      "[LightGBM] [Info] Number of data points in the train set: 2, number of used features: 0\n",
      "[LightGBM] [Info] Using GPU Device: Intel(R) UHD Graphics 770, Vendor: Intel(R) Corporation\n",
      "[LightGBM] [Info] Compiling OpenCL Kernel with 16 bins...\n",
      "[LightGBM] [Info] GPU programs have been built\n",
      "[LightGBM] [Warning] GPU acceleration is disabled because no non-trivial dense features can be found\n",
      "[LightGBM] [Info] [binary:BoostFromScore]: pavg=0.500000 -> initscore=0.000000\n",
      "[LightGBM] [Warning] Stopped training because there are no more leaves that meet the split requirements\n",
      "[LightGBM] [Warning] Stopped training because there are no more leaves that meet the split requirements\n",
      "[LightGBM] [Warning] Stopped training because there are no more leaves that meet the split requirements\n",
      "[LightGBM] [Warning] Stopped training because there are no more leaves that meet the split requirements\n",
      "[LightGBM] [Warning] Stopped training because there are no more leaves that meet the split requirements\n",
      "[LightGBM] [Warning] Stopped training because there are no more leaves that meet the split requirements\n",
      "[LightGBM] [Warning] Stopped training because there are no more leaves that meet the split requirements\n",
      "[LightGBM] [Warning] Stopped training because there are no more leaves that meet the split requirements\n",
      "[LightGBM] [Warning] Stopped training because there are no more leaves that meet the split requirements\n",
      "[LightGBM] [Warning] Stopped training because there are no more leaves that meet the split requirements\n",
      "[LightGBM] [Warning] Stopped training because there are no more leaves that meet the split requirements\n",
      "[LightGBM] [Warning] Stopped training because there are no more leaves that meet the split requirements\n",
      "[LightGBM] [Warning] Stopped training because there are no more leaves that meet the split requirements\n",
      "[LightGBM] [Warning] Stopped training because there are no more leaves that meet the split requirements\n",
      "[LightGBM] [Warning] Stopped training because there are no more leaves that meet the split requirements\n",
      "[LightGBM] [Warning] Stopped training because there are no more leaves that meet the split requirements\n",
      "[LightGBM] [Warning] Stopped training because there are no more leaves that meet the split requirements\n",
      "[LightGBM] [Warning] Stopped training because there are no more leaves that meet the split requirements\n",
      "[LightGBM] [Warning] Stopped training because there are no more leaves that meet the split requirements\n",
      "[LightGBM] [Warning] Stopped training because there are no more leaves that meet the split requirements\n",
      "[LightGBM] [Warning] Stopped training because there are no more leaves that meet the split requirements\n",
      "[LightGBM] [Warning] Stopped training because there are no more leaves that meet the split requirements\n",
      "[LightGBM] [Warning] Stopped training because there are no more leaves that meet the split requirements\n",
      "[LightGBM] [Warning] Stopped training because there are no more leaves that meet the split requirements\n",
      "[LightGBM] [Warning] Stopped training because there are no more leaves that meet the split requirements\n",
      "[LightGBM] [Warning] Stopped training because there are no more leaves that meet the split requirements\n",
      "[LightGBM] [Warning] Stopped training because there are no more leaves that meet the split requirements\n",
      "[LightGBM] [Warning] Stopped training because there are no more leaves that meet the split requirements\n",
      "[LightGBM] [Warning] Stopped training because there are no more leaves that meet the split requirements\n",
      "[LightGBM] [Warning] Stopped training because there are no more leaves that meet the split requirements\n",
      "[LightGBM] [Warning] Stopped training because there are no more leaves that meet the split requirements\n",
      "[LightGBM] [Warning] Stopped training because there are no more leaves that meet the split requirements\n",
      "[LightGBM] [Warning] Stopped training because there are no more leaves that meet the split requirements\n",
      "[LightGBM] [Warning] Stopped training because there are no more leaves that meet the split requirements\n",
      "[LightGBM] [Warning] Stopped training because there are no more leaves that meet the split requirements\n",
      "[LightGBM] [Warning] Stopped training because there are no more leaves that meet the split requirements\n",
      "[LightGBM] [Warning] Stopped training because there are no more leaves that meet the split requirements\n",
      "[LightGBM] [Warning] Stopped training because there are no more leaves that meet the split requirements\n",
      "[LightGBM] [Warning] Stopped training because there are no more leaves that meet the split requirements\n",
      "[LightGBM] [Warning] Stopped training because there are no more leaves that meet the split requirements\n",
      "[LightGBM] [Warning] Stopped training because there are no more leaves that meet the split requirements\n",
      "[LightGBM] [Warning] Stopped training because there are no more leaves that meet the split requirements\n",
      "[LightGBM] [Warning] Stopped training because there are no more leaves that meet the split requirements\n",
      "[LightGBM] [Warning] Stopped training because there are no more leaves that meet the split requirements\n",
      "[LightGBM] [Warning] Stopped training because there are no more leaves that meet the split requirements\n",
      "[LightGBM] [Warning] Stopped training because there are no more leaves that meet the split requirements\n",
      "[LightGBM] [Warning] Stopped training because there are no more leaves that meet the split requirements\n",
      "[LightGBM] [Warning] Stopped training because there are no more leaves that meet the split requirements\n",
      "[LightGBM] [Warning] Stopped training because there are no more leaves that meet the split requirements\n",
      "[LightGBM] [Warning] Stopped training because there are no more leaves that meet the split requirements\n",
      "[LightGBM] [Warning] Stopped training because there are no more leaves that meet the split requirements\n",
      "[LightGBM] [Warning] Stopped training because there are no more leaves that meet the split requirements\n",
      "[LightGBM] [Warning] Stopped training because there are no more leaves that meet the split requirements\n",
      "[LightGBM] [Warning] Stopped training because there are no more leaves that meet the split requirements\n",
      "[LightGBM] [Warning] Stopped training because there are no more leaves that meet the split requirements\n",
      "[LightGBM] [Warning] Stopped training because there are no more leaves that meet the split requirements\n",
      "[LightGBM] [Warning] Stopped training because there are no more leaves that meet the split requirements\n",
      "[LightGBM] [Warning] Stopped training because there are no more leaves that meet the split requirements\n",
      "[LightGBM] [Warning] Stopped training because there are no more leaves that meet the split requirements\n",
      "[LightGBM] [Warning] Stopped training because there are no more leaves that meet the split requirements\n",
      "[LightGBM] [Warning] Stopped training because there are no more leaves that meet the split requirements\n",
      "[LightGBM] [Warning] Stopped training because there are no more leaves that meet the split requirements\n",
      "[LightGBM] [Warning] Stopped training because there are no more leaves that meet the split requirements\n",
      "[LightGBM] [Warning] Stopped training because there are no more leaves that meet the split requirements\n",
      "[LightGBM] [Warning] Stopped training because there are no more leaves that meet the split requirements\n",
      "[LightGBM] [Warning] Stopped training because there are no more leaves that meet the split requirements\n",
      "[LightGBM] [Warning] Stopped training because there are no more leaves that meet the split requirements\n",
      "[LightGBM] [Warning] Stopped training because there are no more leaves that meet the split requirements\n",
      "[LightGBM] [Warning] Stopped training because there are no more leaves that meet the split requirements\n",
      "[LightGBM] [Warning] Stopped training because there are no more leaves that meet the split requirements\n",
      "[LightGBM] [Warning] Stopped training because there are no more leaves that meet the split requirements\n",
      "[LightGBM] [Warning] Stopped training because there are no more leaves that meet the split requirements\n",
      "[LightGBM] [Warning] Stopped training because there are no more leaves that meet the split requirements\n",
      "[LightGBM] [Warning] Stopped training because there are no more leaves that meet the split requirements\n",
      "[LightGBM] [Warning] Stopped training because there are no more leaves that meet the split requirements\n",
      "[LightGBM] [Warning] Stopped training because there are no more leaves that meet the split requirements\n",
      "[LightGBM] [Warning] Stopped training because there are no more leaves that meet the split requirements\n",
      "[LightGBM] [Warning] Stopped training because there are no more leaves that meet the split requirements\n",
      "[LightGBM] [Warning] Stopped training because there are no more leaves that meet the split requirements\n",
      "[LightGBM] [Warning] Stopped training because there are no more leaves that meet the split requirements\n",
      "[LightGBM] [Warning] Stopped training because there are no more leaves that meet the split requirements\n",
      "[LightGBM] [Warning] Stopped training because there are no more leaves that meet the split requirements\n",
      "[LightGBM] [Warning] Stopped training because there are no more leaves that meet the split requirements\n",
      "[LightGBM] [Warning] Stopped training because there are no more leaves that meet the split requirements\n",
      "[LightGBM] [Warning] Stopped training because there are no more leaves that meet the split requirements\n",
      "[LightGBM] [Warning] Stopped training because there are no more leaves that meet the split requirements\n",
      "[LightGBM] [Warning] Stopped training because there are no more leaves that meet the split requirements\n",
      "[LightGBM] [Warning] Stopped training because there are no more leaves that meet the split requirements\n",
      "[LightGBM] [Warning] Stopped training because there are no more leaves that meet the split requirements\n",
      "[LightGBM] [Warning] Stopped training because there are no more leaves that meet the split requirements\n",
      "[LightGBM] [Warning] Stopped training because there are no more leaves that meet the split requirements\n",
      "[LightGBM] [Warning] Stopped training because there are no more leaves that meet the split requirements\n",
      "[LightGBM] [Warning] Stopped training because there are no more leaves that meet the split requirements\n",
      "[LightGBM] [Warning] Stopped training because there are no more leaves that meet the split requirements\n",
      "[LightGBM] [Warning] Stopped training because there are no more leaves that meet the split requirements\n",
      "[LightGBM] [Warning] Stopped training because there are no more leaves that meet the split requirements\n",
      "[LightGBM] [Warning] Stopped training because there are no more leaves that meet the split requirements\n",
      "[LightGBM] [Warning] Stopped training because there are no more leaves that meet the split requirements\n",
      "[LightGBM] [Warning] Stopped training because there are no more leaves that meet the split requirements\n",
      "[LightGBM] [Warning] Stopped training because there are no more leaves that meet the split requirements\n",
      "[LightGBM] [Warning] There are no meaningful features which satisfy the provided configuration. Decreasing Dataset parameters min_data_in_bin or min_data_in_leaf and re-constructing Dataset might resolve this warning.\n",
      "[LightGBM] [Info] Number of positive: 1, number of negative: 1\n",
      "[LightGBM] [Info] This is the GPU trainer!!\n",
      "[LightGBM] [Info] Total Bins 0\n",
      "[LightGBM] [Info] Number of data points in the train set: 2, number of used features: 0\n",
      "[LightGBM] [Info] Using GPU Device: Intel(R) UHD Graphics 770, Vendor: Intel(R) Corporation\n",
      "[LightGBM] [Info] Compiling OpenCL Kernel with 16 bins...\n",
      "[LightGBM] [Info] GPU programs have been built\n",
      "[LightGBM] [Warning] GPU acceleration is disabled because no non-trivial dense features can be found\n",
      "[LightGBM] [Info] [binary:BoostFromScore]: pavg=0.500000 -> initscore=0.000000\n",
      "[LightGBM] [Warning] Stopped training because there are no more leaves that meet the split requirements\n",
      "[LightGBM] [Warning] Stopped training because there are no more leaves that meet the split requirements\n",
      "[LightGBM] [Warning] Stopped training because there are no more leaves that meet the split requirements\n",
      "[LightGBM] [Warning] Stopped training because there are no more leaves that meet the split requirements\n",
      "[LightGBM] [Warning] Stopped training because there are no more leaves that meet the split requirements\n",
      "[LightGBM] [Warning] Stopped training because there are no more leaves that meet the split requirements\n",
      "[LightGBM] [Warning] Stopped training because there are no more leaves that meet the split requirements\n",
      "[LightGBM] [Warning] Stopped training because there are no more leaves that meet the split requirements\n",
      "[LightGBM] [Warning] Stopped training because there are no more leaves that meet the split requirements\n",
      "[LightGBM] [Warning] Stopped training because there are no more leaves that meet the split requirements\n",
      "[LightGBM] [Warning] Stopped training because there are no more leaves that meet the split requirements\n",
      "[LightGBM] [Warning] Stopped training because there are no more leaves that meet the split requirements\n",
      "[LightGBM] [Warning] Stopped training because there are no more leaves that meet the split requirements\n",
      "[LightGBM] [Warning] Stopped training because there are no more leaves that meet the split requirements\n",
      "[LightGBM] [Warning] Stopped training because there are no more leaves that meet the split requirements\n",
      "[LightGBM] [Warning] Stopped training because there are no more leaves that meet the split requirements\n",
      "[LightGBM] [Warning] Stopped training because there are no more leaves that meet the split requirements\n",
      "[LightGBM] [Warning] Stopped training because there are no more leaves that meet the split requirements\n",
      "[LightGBM] [Warning] Stopped training because there are no more leaves that meet the split requirements\n",
      "[LightGBM] [Warning] Stopped training because there are no more leaves that meet the split requirements\n",
      "[LightGBM] [Warning] Stopped training because there are no more leaves that meet the split requirements\n",
      "[LightGBM] [Warning] Stopped training because there are no more leaves that meet the split requirements\n",
      "[LightGBM] [Warning] Stopped training because there are no more leaves that meet the split requirements\n",
      "[LightGBM] [Warning] Stopped training because there are no more leaves that meet the split requirements\n",
      "[LightGBM] [Warning] Stopped training because there are no more leaves that meet the split requirements\n",
      "[LightGBM] [Warning] Stopped training because there are no more leaves that meet the split requirements\n",
      "[LightGBM] [Warning] Stopped training because there are no more leaves that meet the split requirements\n",
      "[LightGBM] [Warning] Stopped training because there are no more leaves that meet the split requirements\n",
      "[LightGBM] [Warning] Stopped training because there are no more leaves that meet the split requirements\n",
      "[LightGBM] [Warning] Stopped training because there are no more leaves that meet the split requirements\n",
      "[LightGBM] [Warning] Stopped training because there are no more leaves that meet the split requirements\n",
      "[LightGBM] [Warning] Stopped training because there are no more leaves that meet the split requirements\n",
      "[LightGBM] [Warning] Stopped training because there are no more leaves that meet the split requirements\n",
      "[LightGBM] [Warning] Stopped training because there are no more leaves that meet the split requirements\n",
      "[LightGBM] [Warning] Stopped training because there are no more leaves that meet the split requirements\n",
      "[LightGBM] [Warning] Stopped training because there are no more leaves that meet the split requirements\n",
      "[LightGBM] [Warning] Stopped training because there are no more leaves that meet the split requirements\n",
      "[LightGBM] [Warning] Stopped training because there are no more leaves that meet the split requirements\n",
      "[LightGBM] [Warning] Stopped training because there are no more leaves that meet the split requirements\n",
      "[LightGBM] [Warning] Stopped training because there are no more leaves that meet the split requirements\n",
      "[LightGBM] [Warning] Stopped training because there are no more leaves that meet the split requirements\n",
      "[LightGBM] [Warning] Stopped training because there are no more leaves that meet the split requirements\n",
      "[LightGBM] [Warning] Stopped training because there are no more leaves that meet the split requirements\n",
      "[LightGBM] [Warning] Stopped training because there are no more leaves that meet the split requirements\n",
      "[LightGBM] [Warning] Stopped training because there are no more leaves that meet the split requirements\n",
      "[LightGBM] [Warning] Stopped training because there are no more leaves that meet the split requirements\n",
      "[LightGBM] [Warning] Stopped training because there are no more leaves that meet the split requirements\n",
      "[LightGBM] [Warning] Stopped training because there are no more leaves that meet the split requirements\n",
      "[LightGBM] [Warning] Stopped training because there are no more leaves that meet the split requirements\n",
      "[LightGBM] [Warning] Stopped training because there are no more leaves that meet the split requirements\n",
      "[LightGBM] [Warning] Stopped training because there are no more leaves that meet the split requirements\n",
      "[LightGBM] [Warning] Stopped training because there are no more leaves that meet the split requirements\n",
      "[LightGBM] [Warning] Stopped training because there are no more leaves that meet the split requirements\n",
      "[LightGBM] [Warning] Stopped training because there are no more leaves that meet the split requirements\n",
      "[LightGBM] [Warning] Stopped training because there are no more leaves that meet the split requirements\n",
      "[LightGBM] [Warning] Stopped training because there are no more leaves that meet the split requirements\n",
      "[LightGBM] [Warning] Stopped training because there are no more leaves that meet the split requirements\n",
      "[LightGBM] [Warning] Stopped training because there are no more leaves that meet the split requirements\n",
      "[LightGBM] [Warning] Stopped training because there are no more leaves that meet the split requirements\n",
      "[LightGBM] [Warning] Stopped training because there are no more leaves that meet the split requirements\n",
      "[LightGBM] [Warning] Stopped training because there are no more leaves that meet the split requirements\n",
      "[LightGBM] [Warning] Stopped training because there are no more leaves that meet the split requirements\n",
      "[LightGBM] [Warning] Stopped training because there are no more leaves that meet the split requirements\n",
      "[LightGBM] [Warning] Stopped training because there are no more leaves that meet the split requirements\n",
      "[LightGBM] [Warning] Stopped training because there are no more leaves that meet the split requirements\n",
      "[LightGBM] [Warning] Stopped training because there are no more leaves that meet the split requirements\n",
      "[LightGBM] [Warning] Stopped training because there are no more leaves that meet the split requirements\n",
      "[LightGBM] [Warning] Stopped training because there are no more leaves that meet the split requirements\n",
      "[LightGBM] [Warning] Stopped training because there are no more leaves that meet the split requirements\n",
      "[LightGBM] [Warning] Stopped training because there are no more leaves that meet the split requirements\n",
      "[LightGBM] [Warning] Stopped training because there are no more leaves that meet the split requirements\n",
      "[LightGBM] [Warning] Stopped training because there are no more leaves that meet the split requirements\n",
      "[LightGBM] [Warning] Stopped training because there are no more leaves that meet the split requirements\n",
      "[LightGBM] [Warning] Stopped training because there are no more leaves that meet the split requirements\n",
      "[LightGBM] [Warning] Stopped training because there are no more leaves that meet the split requirements\n",
      "[LightGBM] [Warning] Stopped training because there are no more leaves that meet the split requirements\n",
      "[LightGBM] [Warning] Stopped training because there are no more leaves that meet the split requirements\n",
      "[LightGBM] [Warning] Stopped training because there are no more leaves that meet the split requirements\n",
      "[LightGBM] [Warning] Stopped training because there are no more leaves that meet the split requirements\n",
      "[LightGBM] [Warning] Stopped training because there are no more leaves that meet the split requirements\n",
      "[LightGBM] [Warning] Stopped training because there are no more leaves that meet the split requirements\n",
      "[LightGBM] [Warning] Stopped training because there are no more leaves that meet the split requirements\n",
      "[LightGBM] [Warning] Stopped training because there are no more leaves that meet the split requirements\n",
      "[LightGBM] [Warning] Stopped training because there are no more leaves that meet the split requirements\n",
      "[LightGBM] [Warning] Stopped training because there are no more leaves that meet the split requirements\n",
      "[LightGBM] [Warning] Stopped training because there are no more leaves that meet the split requirements\n",
      "[LightGBM] [Warning] Stopped training because there are no more leaves that meet the split requirements\n",
      "[LightGBM] [Warning] Stopped training because there are no more leaves that meet the split requirements\n",
      "[LightGBM] [Warning] Stopped training because there are no more leaves that meet the split requirements\n",
      "[LightGBM] [Warning] Stopped training because there are no more leaves that meet the split requirements\n",
      "[LightGBM] [Warning] Stopped training because there are no more leaves that meet the split requirements\n",
      "[LightGBM] [Warning] Stopped training because there are no more leaves that meet the split requirements\n",
      "[LightGBM] [Warning] Stopped training because there are no more leaves that meet the split requirements\n",
      "[LightGBM] [Warning] Stopped training because there are no more leaves that meet the split requirements\n",
      "[LightGBM] [Warning] Stopped training because there are no more leaves that meet the split requirements\n",
      "[LightGBM] [Warning] Stopped training because there are no more leaves that meet the split requirements\n",
      "[LightGBM] [Warning] Stopped training because there are no more leaves that meet the split requirements\n",
      "[LightGBM] [Warning] Stopped training because there are no more leaves that meet the split requirements\n",
      "[LightGBM] [Warning] Stopped training because there are no more leaves that meet the split requirements\n",
      "[LightGBM] [Warning] Stopped training because there are no more leaves that meet the split requirements\n",
      "[LightGBM] [Warning] There are no meaningful features which satisfy the provided configuration. Decreasing Dataset parameters min_data_in_bin or min_data_in_leaf and re-constructing Dataset might resolve this warning.\n",
      "[LightGBM] [Info] Number of positive: 1, number of negative: 1\n",
      "[LightGBM] [Info] This is the GPU trainer!!\n",
      "[LightGBM] [Info] Total Bins 0\n",
      "[LightGBM] [Info] Number of data points in the train set: 2, number of used features: 0\n",
      "[LightGBM] [Info] Using GPU Device: Intel(R) UHD Graphics 770, Vendor: Intel(R) Corporation\n",
      "[LightGBM] [Info] Compiling OpenCL Kernel with 16 bins...\n",
      "[LightGBM] [Info] GPU programs have been built\n",
      "[LightGBM] [Warning] GPU acceleration is disabled because no non-trivial dense features can be found\n",
      "[LightGBM] [Info] [binary:BoostFromScore]: pavg=0.500000 -> initscore=0.000000\n",
      "[LightGBM] [Warning] Stopped training because there are no more leaves that meet the split requirements\n",
      "[LightGBM] [Warning] Stopped training because there are no more leaves that meet the split requirements\n",
      "[LightGBM] [Warning] Stopped training because there are no more leaves that meet the split requirements\n",
      "[LightGBM] [Warning] Stopped training because there are no more leaves that meet the split requirements\n",
      "[LightGBM] [Warning] Stopped training because there are no more leaves that meet the split requirements\n",
      "[LightGBM] [Warning] Stopped training because there are no more leaves that meet the split requirements\n",
      "[LightGBM] [Warning] Stopped training because there are no more leaves that meet the split requirements\n",
      "[LightGBM] [Warning] Stopped training because there are no more leaves that meet the split requirements\n",
      "[LightGBM] [Warning] Stopped training because there are no more leaves that meet the split requirements\n",
      "[LightGBM] [Warning] Stopped training because there are no more leaves that meet the split requirements\n",
      "[LightGBM] [Warning] Stopped training because there are no more leaves that meet the split requirements\n",
      "[LightGBM] [Warning] Stopped training because there are no more leaves that meet the split requirements\n",
      "[LightGBM] [Warning] Stopped training because there are no more leaves that meet the split requirements\n",
      "[LightGBM] [Warning] Stopped training because there are no more leaves that meet the split requirements\n",
      "[LightGBM] [Warning] Stopped training because there are no more leaves that meet the split requirements\n",
      "[LightGBM] [Warning] Stopped training because there are no more leaves that meet the split requirements\n",
      "[LightGBM] [Warning] Stopped training because there are no more leaves that meet the split requirements\n",
      "[LightGBM] [Warning] Stopped training because there are no more leaves that meet the split requirements\n",
      "[LightGBM] [Warning] Stopped training because there are no more leaves that meet the split requirements\n",
      "[LightGBM] [Warning] Stopped training because there are no more leaves that meet the split requirements\n",
      "[LightGBM] [Warning] Stopped training because there are no more leaves that meet the split requirements\n",
      "[LightGBM] [Warning] Stopped training because there are no more leaves that meet the split requirements\n",
      "[LightGBM] [Warning] Stopped training because there are no more leaves that meet the split requirements\n",
      "[LightGBM] [Warning] Stopped training because there are no more leaves that meet the split requirements\n",
      "[LightGBM] [Warning] Stopped training because there are no more leaves that meet the split requirements\n",
      "[LightGBM] [Warning] Stopped training because there are no more leaves that meet the split requirements\n",
      "[LightGBM] [Warning] Stopped training because there are no more leaves that meet the split requirements\n",
      "[LightGBM] [Warning] Stopped training because there are no more leaves that meet the split requirements\n",
      "[LightGBM] [Warning] Stopped training because there are no more leaves that meet the split requirements\n",
      "[LightGBM] [Warning] Stopped training because there are no more leaves that meet the split requirements\n",
      "[LightGBM] [Warning] Stopped training because there are no more leaves that meet the split requirements\n",
      "[LightGBM] [Warning] Stopped training because there are no more leaves that meet the split requirements\n",
      "[LightGBM] [Warning] Stopped training because there are no more leaves that meet the split requirements\n",
      "[LightGBM] [Warning] Stopped training because there are no more leaves that meet the split requirements\n",
      "[LightGBM] [Warning] Stopped training because there are no more leaves that meet the split requirements\n",
      "[LightGBM] [Warning] Stopped training because there are no more leaves that meet the split requirements\n",
      "[LightGBM] [Warning] Stopped training because there are no more leaves that meet the split requirements\n",
      "[LightGBM] [Warning] Stopped training because there are no more leaves that meet the split requirements\n",
      "[LightGBM] [Warning] Stopped training because there are no more leaves that meet the split requirements\n",
      "[LightGBM] [Warning] Stopped training because there are no more leaves that meet the split requirements\n",
      "[LightGBM] [Warning] Stopped training because there are no more leaves that meet the split requirements\n",
      "[LightGBM] [Warning] Stopped training because there are no more leaves that meet the split requirements\n",
      "[LightGBM] [Warning] Stopped training because there are no more leaves that meet the split requirements\n",
      "[LightGBM] [Warning] Stopped training because there are no more leaves that meet the split requirements\n",
      "[LightGBM] [Warning] Stopped training because there are no more leaves that meet the split requirements\n",
      "[LightGBM] [Warning] Stopped training because there are no more leaves that meet the split requirements\n",
      "[LightGBM] [Warning] Stopped training because there are no more leaves that meet the split requirements\n",
      "[LightGBM] [Warning] Stopped training because there are no more leaves that meet the split requirements\n",
      "[LightGBM] [Warning] Stopped training because there are no more leaves that meet the split requirements\n",
      "[LightGBM] [Warning] Stopped training because there are no more leaves that meet the split requirements\n",
      "[LightGBM] [Warning] Stopped training because there are no more leaves that meet the split requirements\n",
      "[LightGBM] [Warning] Stopped training because there are no more leaves that meet the split requirements\n",
      "[LightGBM] [Warning] Stopped training because there are no more leaves that meet the split requirements\n",
      "[LightGBM] [Warning] Stopped training because there are no more leaves that meet the split requirements\n",
      "[LightGBM] [Warning] Stopped training because there are no more leaves that meet the split requirements\n",
      "[LightGBM] [Warning] Stopped training because there are no more leaves that meet the split requirements\n",
      "[LightGBM] [Warning] Stopped training because there are no more leaves that meet the split requirements\n",
      "[LightGBM] [Warning] Stopped training because there are no more leaves that meet the split requirements\n",
      "[LightGBM] [Warning] Stopped training because there are no more leaves that meet the split requirements\n",
      "[LightGBM] [Warning] Stopped training because there are no more leaves that meet the split requirements\n",
      "[LightGBM] [Warning] Stopped training because there are no more leaves that meet the split requirements\n",
      "[LightGBM] [Warning] Stopped training because there are no more leaves that meet the split requirements\n",
      "[LightGBM] [Warning] Stopped training because there are no more leaves that meet the split requirements\n",
      "[LightGBM] [Warning] Stopped training because there are no more leaves that meet the split requirements\n",
      "[LightGBM] [Warning] Stopped training because there are no more leaves that meet the split requirements\n",
      "[LightGBM] [Warning] Stopped training because there are no more leaves that meet the split requirements\n",
      "[LightGBM] [Warning] Stopped training because there are no more leaves that meet the split requirements\n",
      "[LightGBM] [Warning] Stopped training because there are no more leaves that meet the split requirements\n",
      "[LightGBM] [Warning] Stopped training because there are no more leaves that meet the split requirements\n",
      "[LightGBM] [Warning] Stopped training because there are no more leaves that meet the split requirements\n",
      "[LightGBM] [Warning] Stopped training because there are no more leaves that meet the split requirements\n",
      "[LightGBM] [Warning] Stopped training because there are no more leaves that meet the split requirements\n",
      "[LightGBM] [Warning] Stopped training because there are no more leaves that meet the split requirements\n",
      "[LightGBM] [Warning] Stopped training because there are no more leaves that meet the split requirements\n",
      "[LightGBM] [Warning] Stopped training because there are no more leaves that meet the split requirements\n",
      "[LightGBM] [Warning] Stopped training because there are no more leaves that meet the split requirements\n",
      "[LightGBM] [Warning] Stopped training because there are no more leaves that meet the split requirements\n",
      "[LightGBM] [Warning] Stopped training because there are no more leaves that meet the split requirements\n",
      "[LightGBM] [Warning] Stopped training because there are no more leaves that meet the split requirements\n",
      "[LightGBM] [Warning] Stopped training because there are no more leaves that meet the split requirements\n",
      "[LightGBM] [Warning] Stopped training because there are no more leaves that meet the split requirements\n",
      "[LightGBM] [Warning] Stopped training because there are no more leaves that meet the split requirements\n",
      "[LightGBM] [Warning] Stopped training because there are no more leaves that meet the split requirements\n",
      "[LightGBM] [Warning] Stopped training because there are no more leaves that meet the split requirements\n",
      "[LightGBM] [Warning] Stopped training because there are no more leaves that meet the split requirements\n",
      "[LightGBM] [Warning] Stopped training because there are no more leaves that meet the split requirements\n",
      "[LightGBM] [Warning] Stopped training because there are no more leaves that meet the split requirements\n",
      "[LightGBM] [Warning] Stopped training because there are no more leaves that meet the split requirements\n",
      "[LightGBM] [Warning] Stopped training because there are no more leaves that meet the split requirements\n",
      "[LightGBM] [Warning] Stopped training because there are no more leaves that meet the split requirements\n",
      "[LightGBM] [Warning] Stopped training because there are no more leaves that meet the split requirements\n",
      "[LightGBM] [Warning] Stopped training because there are no more leaves that meet the split requirements\n",
      "[LightGBM] [Warning] Stopped training because there are no more leaves that meet the split requirements\n",
      "[LightGBM] [Warning] Stopped training because there are no more leaves that meet the split requirements\n",
      "[LightGBM] [Warning] Stopped training because there are no more leaves that meet the split requirements\n",
      "[LightGBM] [Warning] Stopped training because there are no more leaves that meet the split requirements\n",
      "[LightGBM] [Warning] Stopped training because there are no more leaves that meet the split requirements\n",
      "[LightGBM] [Warning] Stopped training because there are no more leaves that meet the split requirements\n",
      "[LightGBM] [Warning] Stopped training because there are no more leaves that meet the split requirements\n",
      "[LightGBM] [Warning] Stopped training because there are no more leaves that meet the split requirements\n"
     ]
    },
    {
     "data": {
      "text/html": [],
      "text/plain": [
       "<IPython.core.display.HTML object>"
      ]
     },
     "metadata": {},
     "output_type": "display_data"
    },
    {
     "data": {
      "text/html": [
       "<style type=\"text/css\">\n",
       "#T_a815c th {\n",
       "  text-align: left;\n",
       "}\n",
       "#T_a815c_row0_col0, #T_a815c_row0_col1, #T_a815c_row0_col3, #T_a815c_row0_col4, #T_a815c_row0_col5, #T_a815c_row0_col6, #T_a815c_row0_col7, #T_a815c_row1_col0, #T_a815c_row1_col1, #T_a815c_row1_col2, #T_a815c_row1_col3, #T_a815c_row1_col5, #T_a815c_row1_col6, #T_a815c_row1_col7, #T_a815c_row2_col0, #T_a815c_row2_col2, #T_a815c_row2_col3, #T_a815c_row2_col4, #T_a815c_row2_col5, #T_a815c_row3_col0, #T_a815c_row3_col1, #T_a815c_row3_col2, #T_a815c_row3_col3, #T_a815c_row3_col4, #T_a815c_row3_col5, #T_a815c_row3_col6, #T_a815c_row3_col7, #T_a815c_row4_col0, #T_a815c_row4_col1, #T_a815c_row4_col2, #T_a815c_row4_col3, #T_a815c_row4_col4, #T_a815c_row4_col5, #T_a815c_row4_col6, #T_a815c_row4_col7, #T_a815c_row5_col0, #T_a815c_row5_col1, #T_a815c_row5_col2, #T_a815c_row5_col3, #T_a815c_row5_col4, #T_a815c_row5_col5, #T_a815c_row5_col6, #T_a815c_row5_col7, #T_a815c_row6_col0, #T_a815c_row6_col1, #T_a815c_row6_col2, #T_a815c_row6_col3, #T_a815c_row6_col4, #T_a815c_row6_col5, #T_a815c_row6_col6, #T_a815c_row6_col7, #T_a815c_row7_col0, #T_a815c_row7_col1, #T_a815c_row7_col2, #T_a815c_row7_col3, #T_a815c_row7_col4, #T_a815c_row7_col5, #T_a815c_row7_col6, #T_a815c_row7_col7, #T_a815c_row8_col0, #T_a815c_row8_col1, #T_a815c_row8_col2, #T_a815c_row8_col3, #T_a815c_row8_col4, #T_a815c_row8_col5, #T_a815c_row8_col6, #T_a815c_row8_col7, #T_a815c_row9_col0, #T_a815c_row9_col1, #T_a815c_row9_col2, #T_a815c_row9_col4, #T_a815c_row9_col6, #T_a815c_row9_col7, #T_a815c_row10_col0, #T_a815c_row10_col1, #T_a815c_row10_col2, #T_a815c_row10_col3, #T_a815c_row10_col4, #T_a815c_row10_col5, #T_a815c_row10_col6, #T_a815c_row10_col7, #T_a815c_row11_col0, #T_a815c_row11_col1, #T_a815c_row11_col2, #T_a815c_row11_col3, #T_a815c_row11_col4, #T_a815c_row11_col5, #T_a815c_row11_col6, #T_a815c_row11_col7, #T_a815c_row12_col0, #T_a815c_row12_col1, #T_a815c_row12_col2, #T_a815c_row12_col3, #T_a815c_row12_col4, #T_a815c_row12_col5, #T_a815c_row12_col6, #T_a815c_row12_col7, #T_a815c_row13_col0, #T_a815c_row13_col1, #T_a815c_row13_col2, #T_a815c_row13_col3, #T_a815c_row13_col4, #T_a815c_row13_col5, #T_a815c_row13_col6, #T_a815c_row13_col7 {\n",
       "  text-align: left;\n",
       "}\n",
       "#T_a815c_row0_col2, #T_a815c_row1_col4, #T_a815c_row2_col1, #T_a815c_row2_col6, #T_a815c_row2_col7, #T_a815c_row9_col3, #T_a815c_row9_col5 {\n",
       "  text-align: left;\n",
       "  background-color: yellow;\n",
       "}\n",
       "#T_a815c_row0_col8, #T_a815c_row1_col8, #T_a815c_row2_col8, #T_a815c_row3_col8, #T_a815c_row4_col8, #T_a815c_row5_col8, #T_a815c_row6_col8, #T_a815c_row7_col8, #T_a815c_row8_col8, #T_a815c_row9_col8, #T_a815c_row10_col8, #T_a815c_row12_col8, #T_a815c_row13_col8 {\n",
       "  text-align: left;\n",
       "  background-color: lightgrey;\n",
       "}\n",
       "#T_a815c_row11_col8 {\n",
       "  text-align: left;\n",
       "  background-color: yellow;\n",
       "  background-color: lightgrey;\n",
       "}\n",
       "</style>\n",
       "<table id=\"T_a815c\">\n",
       "  <thead>\n",
       "    <tr>\n",
       "      <th class=\"blank level0\" >&nbsp;</th>\n",
       "      <th id=\"T_a815c_level0_col0\" class=\"col_heading level0 col0\" >Model</th>\n",
       "      <th id=\"T_a815c_level0_col1\" class=\"col_heading level0 col1\" >Accuracy</th>\n",
       "      <th id=\"T_a815c_level0_col2\" class=\"col_heading level0 col2\" >AUC</th>\n",
       "      <th id=\"T_a815c_level0_col3\" class=\"col_heading level0 col3\" >Recall</th>\n",
       "      <th id=\"T_a815c_level0_col4\" class=\"col_heading level0 col4\" >Prec.</th>\n",
       "      <th id=\"T_a815c_level0_col5\" class=\"col_heading level0 col5\" >F1</th>\n",
       "      <th id=\"T_a815c_level0_col6\" class=\"col_heading level0 col6\" >Kappa</th>\n",
       "      <th id=\"T_a815c_level0_col7\" class=\"col_heading level0 col7\" >MCC</th>\n",
       "      <th id=\"T_a815c_level0_col8\" class=\"col_heading level0 col8\" >TT (Sec)</th>\n",
       "    </tr>\n",
       "  </thead>\n",
       "  <tbody>\n",
       "    <tr>\n",
       "      <th id=\"T_a815c_level0_row0\" class=\"row_heading level0 row0\" >lightgbm</th>\n",
       "      <td id=\"T_a815c_row0_col0\" class=\"data row0 col0\" >Light Gradient Boosting Machine</td>\n",
       "      <td id=\"T_a815c_row0_col1\" class=\"data row0 col1\" >0.6853</td>\n",
       "      <td id=\"T_a815c_row0_col2\" class=\"data row0 col2\" >0.7507</td>\n",
       "      <td id=\"T_a815c_row0_col3\" class=\"data row0 col3\" >0.6719</td>\n",
       "      <td id=\"T_a815c_row0_col4\" class=\"data row0 col4\" >0.7263</td>\n",
       "      <td id=\"T_a815c_row0_col5\" class=\"data row0 col5\" >0.6975</td>\n",
       "      <td id=\"T_a815c_row0_col6\" class=\"data row0 col6\" >0.3706</td>\n",
       "      <td id=\"T_a815c_row0_col7\" class=\"data row0 col7\" >0.3723</td>\n",
       "      <td id=\"T_a815c_row0_col8\" class=\"data row0 col8\" >0.9050</td>\n",
       "    </tr>\n",
       "    <tr>\n",
       "      <th id=\"T_a815c_level0_row1\" class=\"row_heading level0 row1\" >gbc</th>\n",
       "      <td id=\"T_a815c_row1_col0\" class=\"data row1 col0\" >Gradient Boosting Classifier</td>\n",
       "      <td id=\"T_a815c_row1_col1\" class=\"data row1 col1\" >0.6720</td>\n",
       "      <td id=\"T_a815c_row1_col2\" class=\"data row1 col2\" >0.7489</td>\n",
       "      <td id=\"T_a815c_row1_col3\" class=\"data row1 col3\" >0.5973</td>\n",
       "      <td id=\"T_a815c_row1_col4\" class=\"data row1 col4\" >0.7458</td>\n",
       "      <td id=\"T_a815c_row1_col5\" class=\"data row1 col5\" >0.6621</td>\n",
       "      <td id=\"T_a815c_row1_col6\" class=\"data row1 col6\" >0.3514</td>\n",
       "      <td id=\"T_a815c_row1_col7\" class=\"data row1 col7\" >0.3601</td>\n",
       "      <td id=\"T_a815c_row1_col8\" class=\"data row1 col8\" >0.1760</td>\n",
       "    </tr>\n",
       "    <tr>\n",
       "      <th id=\"T_a815c_level0_row2\" class=\"row_heading level0 row2\" >rf</th>\n",
       "      <td id=\"T_a815c_row2_col0\" class=\"data row2 col0\" >Random Forest Classifier</td>\n",
       "      <td id=\"T_a815c_row2_col1\" class=\"data row2 col1\" >0.6866</td>\n",
       "      <td id=\"T_a815c_row2_col2\" class=\"data row2 col2\" >0.7414</td>\n",
       "      <td id=\"T_a815c_row2_col3\" class=\"data row2 col3\" >0.6803</td>\n",
       "      <td id=\"T_a815c_row2_col4\" class=\"data row2 col4\" >0.7241</td>\n",
       "      <td id=\"T_a815c_row2_col5\" class=\"data row2 col5\" >0.7011</td>\n",
       "      <td id=\"T_a815c_row2_col6\" class=\"data row2 col6\" >0.3724</td>\n",
       "      <td id=\"T_a815c_row2_col7\" class=\"data row2 col7\" >0.3735</td>\n",
       "      <td id=\"T_a815c_row2_col8\" class=\"data row2 col8\" >0.1980</td>\n",
       "    </tr>\n",
       "    <tr>\n",
       "      <th id=\"T_a815c_level0_row3\" class=\"row_heading level0 row3\" >lr</th>\n",
       "      <td id=\"T_a815c_row3_col0\" class=\"data row3 col0\" >Logistic Regression</td>\n",
       "      <td id=\"T_a815c_row3_col1\" class=\"data row3 col1\" >0.6723</td>\n",
       "      <td id=\"T_a815c_row3_col2\" class=\"data row3 col2\" >0.7403</td>\n",
       "      <td id=\"T_a815c_row3_col3\" class=\"data row3 col3\" >0.6591</td>\n",
       "      <td id=\"T_a815c_row3_col4\" class=\"data row3 col4\" >0.7140</td>\n",
       "      <td id=\"T_a815c_row3_col5\" class=\"data row3 col5\" >0.6852</td>\n",
       "      <td id=\"T_a815c_row3_col6\" class=\"data row3 col6\" >0.3445</td>\n",
       "      <td id=\"T_a815c_row3_col7\" class=\"data row3 col7\" >0.3460</td>\n",
       "      <td id=\"T_a815c_row3_col8\" class=\"data row3 col8\" >0.0690</td>\n",
       "    </tr>\n",
       "    <tr>\n",
       "      <th id=\"T_a815c_level0_row4\" class=\"row_heading level0 row4\" >et</th>\n",
       "      <td id=\"T_a815c_row4_col0\" class=\"data row4 col0\" >Extra Trees Classifier</td>\n",
       "      <td id=\"T_a815c_row4_col1\" class=\"data row4 col1\" >0.6810</td>\n",
       "      <td id=\"T_a815c_row4_col2\" class=\"data row4 col2\" >0.7393</td>\n",
       "      <td id=\"T_a815c_row4_col3\" class=\"data row4 col3\" >0.6621</td>\n",
       "      <td id=\"T_a815c_row4_col4\" class=\"data row4 col4\" >0.7250</td>\n",
       "      <td id=\"T_a815c_row4_col5\" class=\"data row4 col5\" >0.6915</td>\n",
       "      <td id=\"T_a815c_row4_col6\" class=\"data row4 col6\" >0.3628</td>\n",
       "      <td id=\"T_a815c_row4_col7\" class=\"data row4 col7\" >0.3649</td>\n",
       "      <td id=\"T_a815c_row4_col8\" class=\"data row4 col8\" >0.1680</td>\n",
       "    </tr>\n",
       "    <tr>\n",
       "      <th id=\"T_a815c_level0_row5\" class=\"row_heading level0 row5\" >ridge</th>\n",
       "      <td id=\"T_a815c_row5_col0\" class=\"data row5 col0\" >Ridge Classifier</td>\n",
       "      <td id=\"T_a815c_row5_col1\" class=\"data row5 col1\" >0.6717</td>\n",
       "      <td id=\"T_a815c_row5_col2\" class=\"data row5 col2\" >0.7391</td>\n",
       "      <td id=\"T_a815c_row5_col3\" class=\"data row5 col3\" >0.6591</td>\n",
       "      <td id=\"T_a815c_row5_col4\" class=\"data row5 col4\" >0.7134</td>\n",
       "      <td id=\"T_a815c_row5_col5\" class=\"data row5 col5\" >0.6849</td>\n",
       "      <td id=\"T_a815c_row5_col6\" class=\"data row5 col6\" >0.3434</td>\n",
       "      <td id=\"T_a815c_row5_col7\" class=\"data row5 col7\" >0.3448</td>\n",
       "      <td id=\"T_a815c_row5_col8\" class=\"data row5 col8\" >0.0530</td>\n",
       "    </tr>\n",
       "    <tr>\n",
       "      <th id=\"T_a815c_level0_row6\" class=\"row_heading level0 row6\" >lda</th>\n",
       "      <td id=\"T_a815c_row6_col0\" class=\"data row6 col0\" >Linear Discriminant Analysis</td>\n",
       "      <td id=\"T_a815c_row6_col1\" class=\"data row6 col1\" >0.6712</td>\n",
       "      <td id=\"T_a815c_row6_col2\" class=\"data row6 col2\" >0.7386</td>\n",
       "      <td id=\"T_a815c_row6_col3\" class=\"data row6 col3\" >0.6581</td>\n",
       "      <td id=\"T_a815c_row6_col4\" class=\"data row6 col4\" >0.7130</td>\n",
       "      <td id=\"T_a815c_row6_col5\" class=\"data row6 col5\" >0.6842</td>\n",
       "      <td id=\"T_a815c_row6_col6\" class=\"data row6 col6\" >0.3424</td>\n",
       "      <td id=\"T_a815c_row6_col7\" class=\"data row6 col7\" >0.3438</td>\n",
       "      <td id=\"T_a815c_row6_col8\" class=\"data row6 col8\" >0.0640</td>\n",
       "    </tr>\n",
       "    <tr>\n",
       "      <th id=\"T_a815c_level0_row7\" class=\"row_heading level0 row7\" >dt</th>\n",
       "      <td id=\"T_a815c_row7_col0\" class=\"data row7 col0\" >Decision Tree Classifier</td>\n",
       "      <td id=\"T_a815c_row7_col1\" class=\"data row7 col1\" >0.6805</td>\n",
       "      <td id=\"T_a815c_row7_col2\" class=\"data row7 col2\" >0.7380</td>\n",
       "      <td id=\"T_a815c_row7_col3\" class=\"data row7 col3\" >0.6621</td>\n",
       "      <td id=\"T_a815c_row7_col4\" class=\"data row7 col4\" >0.7242</td>\n",
       "      <td id=\"T_a815c_row7_col5\" class=\"data row7 col5\" >0.6911</td>\n",
       "      <td id=\"T_a815c_row7_col6\" class=\"data row7 col6\" >0.3617</td>\n",
       "      <td id=\"T_a815c_row7_col7\" class=\"data row7 col7\" >0.3637</td>\n",
       "      <td id=\"T_a815c_row7_col8\" class=\"data row7 col8\" >0.0530</td>\n",
       "    </tr>\n",
       "    <tr>\n",
       "      <th id=\"T_a815c_level0_row8\" class=\"row_heading level0 row8\" >ada</th>\n",
       "      <td id=\"T_a815c_row8_col0\" class=\"data row8 col0\" >Ada Boost Classifier</td>\n",
       "      <td id=\"T_a815c_row8_col1\" class=\"data row8 col1\" >0.6717</td>\n",
       "      <td id=\"T_a815c_row8_col2\" class=\"data row8 col2\" >0.7379</td>\n",
       "      <td id=\"T_a815c_row8_col3\" class=\"data row8 col3\" >0.6567</td>\n",
       "      <td id=\"T_a815c_row8_col4\" class=\"data row8 col4\" >0.7148</td>\n",
       "      <td id=\"T_a815c_row8_col5\" class=\"data row8 col5\" >0.6842</td>\n",
       "      <td id=\"T_a815c_row8_col6\" class=\"data row8 col6\" >0.3436</td>\n",
       "      <td id=\"T_a815c_row8_col7\" class=\"data row8 col7\" >0.3453</td>\n",
       "      <td id=\"T_a815c_row8_col8\" class=\"data row8 col8\" >0.1190</td>\n",
       "    </tr>\n",
       "    <tr>\n",
       "      <th id=\"T_a815c_level0_row9\" class=\"row_heading level0 row9\" >qda</th>\n",
       "      <td id=\"T_a815c_row9_col0\" class=\"data row9 col0\" >Quadratic Discriminant Analysis</td>\n",
       "      <td id=\"T_a815c_row9_col1\" class=\"data row9 col1\" >0.6270</td>\n",
       "      <td id=\"T_a815c_row9_col2\" class=\"data row9 col2\" >0.7308</td>\n",
       "      <td id=\"T_a815c_row9_col3\" class=\"data row9 col3\" >0.8747</td>\n",
       "      <td id=\"T_a815c_row9_col4\" class=\"data row9 col4\" >0.6104</td>\n",
       "      <td id=\"T_a815c_row9_col5\" class=\"data row9 col5\" >0.7176</td>\n",
       "      <td id=\"T_a815c_row9_col6\" class=\"data row9 col6\" >0.2168</td>\n",
       "      <td id=\"T_a815c_row9_col7\" class=\"data row9 col7\" >0.2498</td>\n",
       "      <td id=\"T_a815c_row9_col8\" class=\"data row9 col8\" >0.0610</td>\n",
       "    </tr>\n",
       "    <tr>\n",
       "      <th id=\"T_a815c_level0_row10\" class=\"row_heading level0 row10\" >svm</th>\n",
       "      <td id=\"T_a815c_row10_col0\" class=\"data row10 col0\" >SVM - Linear Kernel</td>\n",
       "      <td id=\"T_a815c_row10_col1\" class=\"data row10 col1\" >0.6619</td>\n",
       "      <td id=\"T_a815c_row10_col2\" class=\"data row10 col2\" >0.7300</td>\n",
       "      <td id=\"T_a815c_row10_col3\" class=\"data row10 col3\" >0.6447</td>\n",
       "      <td id=\"T_a815c_row10_col4\" class=\"data row10 col4\" >0.7144</td>\n",
       "      <td id=\"T_a815c_row10_col5\" class=\"data row10 col5\" >0.6704</td>\n",
       "      <td id=\"T_a815c_row10_col6\" class=\"data row10 col6\" >0.3239</td>\n",
       "      <td id=\"T_a815c_row10_col7\" class=\"data row10 col7\" >0.3329</td>\n",
       "      <td id=\"T_a815c_row10_col8\" class=\"data row10 col8\" >0.0600</td>\n",
       "    </tr>\n",
       "    <tr>\n",
       "      <th id=\"T_a815c_level0_row11\" class=\"row_heading level0 row11\" >nb</th>\n",
       "      <td id=\"T_a815c_row11_col0\" class=\"data row11 col0\" >Naive Bayes</td>\n",
       "      <td id=\"T_a815c_row11_col1\" class=\"data row11 col1\" >0.6308</td>\n",
       "      <td id=\"T_a815c_row11_col2\" class=\"data row11 col2\" >0.7194</td>\n",
       "      <td id=\"T_a815c_row11_col3\" class=\"data row11 col3\" >0.8516</td>\n",
       "      <td id=\"T_a815c_row11_col4\" class=\"data row11 col4\" >0.6152</td>\n",
       "      <td id=\"T_a815c_row11_col5\" class=\"data row11 col5\" >0.7139</td>\n",
       "      <td id=\"T_a815c_row11_col6\" class=\"data row11 col6\" >0.2293</td>\n",
       "      <td id=\"T_a815c_row11_col7\" class=\"data row11 col7\" >0.2568</td>\n",
       "      <td id=\"T_a815c_row11_col8\" class=\"data row11 col8\" >0.0490</td>\n",
       "    </tr>\n",
       "    <tr>\n",
       "      <th id=\"T_a815c_level0_row12\" class=\"row_heading level0 row12\" >knn</th>\n",
       "      <td id=\"T_a815c_row12_col0\" class=\"data row12 col0\" >K Neighbors Classifier</td>\n",
       "      <td id=\"T_a815c_row12_col1\" class=\"data row12 col1\" >0.6438</td>\n",
       "      <td id=\"T_a815c_row12_col2\" class=\"data row12 col2\" >0.7027</td>\n",
       "      <td id=\"T_a815c_row12_col3\" class=\"data row12 col3\" >0.6783</td>\n",
       "      <td id=\"T_a815c_row12_col4\" class=\"data row12 col4\" >0.6695</td>\n",
       "      <td id=\"T_a815c_row12_col5\" class=\"data row12 col5\" >0.6725</td>\n",
       "      <td id=\"T_a815c_row12_col6\" class=\"data row12 col6\" >0.2818</td>\n",
       "      <td id=\"T_a815c_row12_col7\" class=\"data row12 col7\" >0.2834</td>\n",
       "      <td id=\"T_a815c_row12_col8\" class=\"data row12 col8\" >0.0680</td>\n",
       "    </tr>\n",
       "    <tr>\n",
       "      <th id=\"T_a815c_level0_row13\" class=\"row_heading level0 row13\" >dummy</th>\n",
       "      <td id=\"T_a815c_row13_col0\" class=\"data row13 col0\" >Dummy Classifier</td>\n",
       "      <td id=\"T_a815c_row13_col1\" class=\"data row13 col1\" >0.4584</td>\n",
       "      <td id=\"T_a815c_row13_col2\" class=\"data row13 col2\" >0.5000</td>\n",
       "      <td id=\"T_a815c_row13_col3\" class=\"data row13 col3\" >0.0000</td>\n",
       "      <td id=\"T_a815c_row13_col4\" class=\"data row13 col4\" >0.0000</td>\n",
       "      <td id=\"T_a815c_row13_col5\" class=\"data row13 col5\" >0.0000</td>\n",
       "      <td id=\"T_a815c_row13_col6\" class=\"data row13 col6\" >0.0000</td>\n",
       "      <td id=\"T_a815c_row13_col7\" class=\"data row13 col7\" >0.0000</td>\n",
       "      <td id=\"T_a815c_row13_col8\" class=\"data row13 col8\" >0.0540</td>\n",
       "    </tr>\n",
       "  </tbody>\n",
       "</table>\n"
      ],
      "text/plain": [
       "<pandas.io.formats.style.Styler at 0x208e9e83d90>"
      ]
     },
     "metadata": {},
     "output_type": "display_data"
    },
    {
     "data": {
      "text/html": [],
      "text/plain": [
       "<IPython.core.display.HTML object>"
      ]
     },
     "metadata": {},
     "output_type": "display_data"
    },
    {
     "name": "stdout",
     "output_type": "stream",
     "text": [
      "\n",
      "\n",
      "=== TREINAMENTO E AVALIAÇÃO PARA O TARGET: 'AffectedCountAbove1000' ===\n",
      "[LightGBM] [Warning] There are no meaningful features which satisfy the provided configuration. Decreasing Dataset parameters min_data_in_bin or min_data_in_leaf and re-constructing Dataset might resolve this warning.\n",
      "[LightGBM] [Info] Number of positive: 1, number of negative: 1\n",
      "[LightGBM] [Info] This is the GPU trainer!!\n",
      "[LightGBM] [Info] Total Bins 0\n",
      "[LightGBM] [Info] Number of data points in the train set: 2, number of used features: 0\n",
      "[LightGBM] [Info] Using GPU Device: Intel(R) UHD Graphics 770, Vendor: Intel(R) Corporation\n",
      "[LightGBM] [Info] Compiling OpenCL Kernel with 16 bins...\n",
      "[LightGBM] [Info] GPU programs have been built\n",
      "[LightGBM] [Warning] GPU acceleration is disabled because no non-trivial dense features can be found\n",
      "[LightGBM] [Info] [binary:BoostFromScore]: pavg=0.500000 -> initscore=0.000000\n",
      "[LightGBM] [Warning] Stopped training because there are no more leaves that meet the split requirements\n",
      "[LightGBM] [Warning] Stopped training because there are no more leaves that meet the split requirements\n",
      "[LightGBM] [Warning] Stopped training because there are no more leaves that meet the split requirements\n",
      "[LightGBM] [Warning] Stopped training because there are no more leaves that meet the split requirements\n",
      "[LightGBM] [Warning] Stopped training because there are no more leaves that meet the split requirements\n",
      "[LightGBM] [Warning] Stopped training because there are no more leaves that meet the split requirements\n",
      "[LightGBM] [Warning] Stopped training because there are no more leaves that meet the split requirements\n",
      "[LightGBM] [Warning] Stopped training because there are no more leaves that meet the split requirements\n",
      "[LightGBM] [Warning] Stopped training because there are no more leaves that meet the split requirements\n",
      "[LightGBM] [Warning] Stopped training because there are no more leaves that meet the split requirements\n",
      "[LightGBM] [Warning] Stopped training because there are no more leaves that meet the split requirements\n",
      "[LightGBM] [Warning] Stopped training because there are no more leaves that meet the split requirements\n",
      "[LightGBM] [Warning] Stopped training because there are no more leaves that meet the split requirements\n",
      "[LightGBM] [Warning] Stopped training because there are no more leaves that meet the split requirements\n",
      "[LightGBM] [Warning] Stopped training because there are no more leaves that meet the split requirements\n",
      "[LightGBM] [Warning] Stopped training because there are no more leaves that meet the split requirements\n",
      "[LightGBM] [Warning] Stopped training because there are no more leaves that meet the split requirements\n",
      "[LightGBM] [Warning] Stopped training because there are no more leaves that meet the split requirements\n",
      "[LightGBM] [Warning] Stopped training because there are no more leaves that meet the split requirements\n",
      "[LightGBM] [Warning] Stopped training because there are no more leaves that meet the split requirements\n",
      "[LightGBM] [Warning] Stopped training because there are no more leaves that meet the split requirements\n",
      "[LightGBM] [Warning] Stopped training because there are no more leaves that meet the split requirements\n",
      "[LightGBM] [Warning] Stopped training because there are no more leaves that meet the split requirements\n",
      "[LightGBM] [Warning] Stopped training because there are no more leaves that meet the split requirements\n",
      "[LightGBM] [Warning] Stopped training because there are no more leaves that meet the split requirements\n",
      "[LightGBM] [Warning] Stopped training because there are no more leaves that meet the split requirements\n",
      "[LightGBM] [Warning] Stopped training because there are no more leaves that meet the split requirements\n",
      "[LightGBM] [Warning] Stopped training because there are no more leaves that meet the split requirements\n",
      "[LightGBM] [Warning] Stopped training because there are no more leaves that meet the split requirements\n",
      "[LightGBM] [Warning] Stopped training because there are no more leaves that meet the split requirements\n",
      "[LightGBM] [Warning] Stopped training because there are no more leaves that meet the split requirements\n",
      "[LightGBM] [Warning] Stopped training because there are no more leaves that meet the split requirements\n",
      "[LightGBM] [Warning] Stopped training because there are no more leaves that meet the split requirements\n",
      "[LightGBM] [Warning] Stopped training because there are no more leaves that meet the split requirements\n",
      "[LightGBM] [Warning] Stopped training because there are no more leaves that meet the split requirements\n",
      "[LightGBM] [Warning] Stopped training because there are no more leaves that meet the split requirements\n",
      "[LightGBM] [Warning] Stopped training because there are no more leaves that meet the split requirements\n",
      "[LightGBM] [Warning] Stopped training because there are no more leaves that meet the split requirements\n",
      "[LightGBM] [Warning] Stopped training because there are no more leaves that meet the split requirements\n",
      "[LightGBM] [Warning] Stopped training because there are no more leaves that meet the split requirements\n",
      "[LightGBM] [Warning] Stopped training because there are no more leaves that meet the split requirements\n",
      "[LightGBM] [Warning] Stopped training because there are no more leaves that meet the split requirements\n",
      "[LightGBM] [Warning] Stopped training because there are no more leaves that meet the split requirements\n",
      "[LightGBM] [Warning] Stopped training because there are no more leaves that meet the split requirements\n",
      "[LightGBM] [Warning] Stopped training because there are no more leaves that meet the split requirements\n",
      "[LightGBM] [Warning] Stopped training because there are no more leaves that meet the split requirements\n",
      "[LightGBM] [Warning] Stopped training because there are no more leaves that meet the split requirements\n",
      "[LightGBM] [Warning] Stopped training because there are no more leaves that meet the split requirements\n",
      "[LightGBM] [Warning] Stopped training because there are no more leaves that meet the split requirements\n",
      "[LightGBM] [Warning] Stopped training because there are no more leaves that meet the split requirements\n",
      "[LightGBM] [Warning] Stopped training because there are no more leaves that meet the split requirements\n",
      "[LightGBM] [Warning] Stopped training because there are no more leaves that meet the split requirements\n",
      "[LightGBM] [Warning] Stopped training because there are no more leaves that meet the split requirements\n",
      "[LightGBM] [Warning] Stopped training because there are no more leaves that meet the split requirements\n",
      "[LightGBM] [Warning] Stopped training because there are no more leaves that meet the split requirements\n",
      "[LightGBM] [Warning] Stopped training because there are no more leaves that meet the split requirements\n",
      "[LightGBM] [Warning] Stopped training because there are no more leaves that meet the split requirements\n",
      "[LightGBM] [Warning] Stopped training because there are no more leaves that meet the split requirements\n",
      "[LightGBM] [Warning] Stopped training because there are no more leaves that meet the split requirements\n",
      "[LightGBM] [Warning] Stopped training because there are no more leaves that meet the split requirements\n",
      "[LightGBM] [Warning] Stopped training because there are no more leaves that meet the split requirements\n",
      "[LightGBM] [Warning] Stopped training because there are no more leaves that meet the split requirements\n",
      "[LightGBM] [Warning] Stopped training because there are no more leaves that meet the split requirements\n",
      "[LightGBM] [Warning] Stopped training because there are no more leaves that meet the split requirements\n",
      "[LightGBM] [Warning] Stopped training because there are no more leaves that meet the split requirements\n",
      "[LightGBM] [Warning] Stopped training because there are no more leaves that meet the split requirements\n",
      "[LightGBM] [Warning] Stopped training because there are no more leaves that meet the split requirements\n",
      "[LightGBM] [Warning] Stopped training because there are no more leaves that meet the split requirements\n",
      "[LightGBM] [Warning] Stopped training because there are no more leaves that meet the split requirements\n",
      "[LightGBM] [Warning] Stopped training because there are no more leaves that meet the split requirements\n",
      "[LightGBM] [Warning] Stopped training because there are no more leaves that meet the split requirements\n",
      "[LightGBM] [Warning] Stopped training because there are no more leaves that meet the split requirements\n",
      "[LightGBM] [Warning] Stopped training because there are no more leaves that meet the split requirements\n",
      "[LightGBM] [Warning] Stopped training because there are no more leaves that meet the split requirements\n",
      "[LightGBM] [Warning] Stopped training because there are no more leaves that meet the split requirements\n",
      "[LightGBM] [Warning] Stopped training because there are no more leaves that meet the split requirements\n",
      "[LightGBM] [Warning] Stopped training because there are no more leaves that meet the split requirements\n",
      "[LightGBM] [Warning] Stopped training because there are no more leaves that meet the split requirements\n",
      "[LightGBM] [Warning] Stopped training because there are no more leaves that meet the split requirements\n",
      "[LightGBM] [Warning] Stopped training because there are no more leaves that meet the split requirements\n",
      "[LightGBM] [Warning] Stopped training because there are no more leaves that meet the split requirements\n",
      "[LightGBM] [Warning] Stopped training because there are no more leaves that meet the split requirements\n",
      "[LightGBM] [Warning] Stopped training because there are no more leaves that meet the split requirements\n",
      "[LightGBM] [Warning] Stopped training because there are no more leaves that meet the split requirements\n",
      "[LightGBM] [Warning] Stopped training because there are no more leaves that meet the split requirements\n",
      "[LightGBM] [Warning] Stopped training because there are no more leaves that meet the split requirements\n",
      "[LightGBM] [Warning] Stopped training because there are no more leaves that meet the split requirements\n",
      "[LightGBM] [Warning] Stopped training because there are no more leaves that meet the split requirements\n",
      "[LightGBM] [Warning] Stopped training because there are no more leaves that meet the split requirements\n",
      "[LightGBM] [Warning] Stopped training because there are no more leaves that meet the split requirements\n",
      "[LightGBM] [Warning] Stopped training because there are no more leaves that meet the split requirements\n",
      "[LightGBM] [Warning] Stopped training because there are no more leaves that meet the split requirements\n",
      "[LightGBM] [Warning] Stopped training because there are no more leaves that meet the split requirements\n",
      "[LightGBM] [Warning] Stopped training because there are no more leaves that meet the split requirements\n",
      "[LightGBM] [Warning] Stopped training because there are no more leaves that meet the split requirements\n",
      "[LightGBM] [Warning] Stopped training because there are no more leaves that meet the split requirements\n",
      "[LightGBM] [Warning] Stopped training because there are no more leaves that meet the split requirements\n",
      "[LightGBM] [Warning] Stopped training because there are no more leaves that meet the split requirements\n",
      "[LightGBM] [Warning] Stopped training because there are no more leaves that meet the split requirements\n",
      "[LightGBM] [Warning] Stopped training because there are no more leaves that meet the split requirements\n",
      "[LightGBM] [Warning] There are no meaningful features which satisfy the provided configuration. Decreasing Dataset parameters min_data_in_bin or min_data_in_leaf and re-constructing Dataset might resolve this warning.\n",
      "[LightGBM] [Info] Number of positive: 1, number of negative: 1\n",
      "[LightGBM] [Info] This is the GPU trainer!!\n",
      "[LightGBM] [Info] Total Bins 0\n",
      "[LightGBM] [Info] Number of data points in the train set: 2, number of used features: 0\n",
      "[LightGBM] [Info] Using GPU Device: Intel(R) UHD Graphics 770, Vendor: Intel(R) Corporation\n",
      "[LightGBM] [Info] Compiling OpenCL Kernel with 16 bins...\n",
      "[LightGBM] [Info] GPU programs have been built\n",
      "[LightGBM] [Warning] GPU acceleration is disabled because no non-trivial dense features can be found\n",
      "[LightGBM] [Info] [binary:BoostFromScore]: pavg=0.500000 -> initscore=0.000000\n",
      "[LightGBM] [Warning] Stopped training because there are no more leaves that meet the split requirements\n",
      "[LightGBM] [Warning] Stopped training because there are no more leaves that meet the split requirements\n",
      "[LightGBM] [Warning] Stopped training because there are no more leaves that meet the split requirements\n",
      "[LightGBM] [Warning] Stopped training because there are no more leaves that meet the split requirements\n",
      "[LightGBM] [Warning] Stopped training because there are no more leaves that meet the split requirements\n",
      "[LightGBM] [Warning] Stopped training because there are no more leaves that meet the split requirements\n",
      "[LightGBM] [Warning] Stopped training because there are no more leaves that meet the split requirements\n",
      "[LightGBM] [Warning] Stopped training because there are no more leaves that meet the split requirements\n",
      "[LightGBM] [Warning] Stopped training because there are no more leaves that meet the split requirements\n",
      "[LightGBM] [Warning] Stopped training because there are no more leaves that meet the split requirements\n",
      "[LightGBM] [Warning] Stopped training because there are no more leaves that meet the split requirements\n",
      "[LightGBM] [Warning] Stopped training because there are no more leaves that meet the split requirements\n",
      "[LightGBM] [Warning] Stopped training because there are no more leaves that meet the split requirements\n",
      "[LightGBM] [Warning] Stopped training because there are no more leaves that meet the split requirements\n",
      "[LightGBM] [Warning] Stopped training because there are no more leaves that meet the split requirements\n",
      "[LightGBM] [Warning] Stopped training because there are no more leaves that meet the split requirements\n",
      "[LightGBM] [Warning] Stopped training because there are no more leaves that meet the split requirements\n",
      "[LightGBM] [Warning] Stopped training because there are no more leaves that meet the split requirements\n",
      "[LightGBM] [Warning] Stopped training because there are no more leaves that meet the split requirements\n",
      "[LightGBM] [Warning] Stopped training because there are no more leaves that meet the split requirements\n",
      "[LightGBM] [Warning] Stopped training because there are no more leaves that meet the split requirements\n",
      "[LightGBM] [Warning] Stopped training because there are no more leaves that meet the split requirements\n",
      "[LightGBM] [Warning] Stopped training because there are no more leaves that meet the split requirements\n",
      "[LightGBM] [Warning] Stopped training because there are no more leaves that meet the split requirements\n",
      "[LightGBM] [Warning] Stopped training because there are no more leaves that meet the split requirements\n",
      "[LightGBM] [Warning] Stopped training because there are no more leaves that meet the split requirements\n",
      "[LightGBM] [Warning] Stopped training because there are no more leaves that meet the split requirements\n",
      "[LightGBM] [Warning] Stopped training because there are no more leaves that meet the split requirements\n",
      "[LightGBM] [Warning] Stopped training because there are no more leaves that meet the split requirements\n",
      "[LightGBM] [Warning] Stopped training because there are no more leaves that meet the split requirements\n",
      "[LightGBM] [Warning] Stopped training because there are no more leaves that meet the split requirements\n",
      "[LightGBM] [Warning] Stopped training because there are no more leaves that meet the split requirements\n",
      "[LightGBM] [Warning] Stopped training because there are no more leaves that meet the split requirements\n",
      "[LightGBM] [Warning] Stopped training because there are no more leaves that meet the split requirements\n",
      "[LightGBM] [Warning] Stopped training because there are no more leaves that meet the split requirements\n",
      "[LightGBM] [Warning] Stopped training because there are no more leaves that meet the split requirements\n",
      "[LightGBM] [Warning] Stopped training because there are no more leaves that meet the split requirements\n",
      "[LightGBM] [Warning] Stopped training because there are no more leaves that meet the split requirements\n",
      "[LightGBM] [Warning] Stopped training because there are no more leaves that meet the split requirements\n",
      "[LightGBM] [Warning] Stopped training because there are no more leaves that meet the split requirements\n",
      "[LightGBM] [Warning] Stopped training because there are no more leaves that meet the split requirements\n",
      "[LightGBM] [Warning] Stopped training because there are no more leaves that meet the split requirements\n",
      "[LightGBM] [Warning] Stopped training because there are no more leaves that meet the split requirements\n",
      "[LightGBM] [Warning] Stopped training because there are no more leaves that meet the split requirements\n",
      "[LightGBM] [Warning] Stopped training because there are no more leaves that meet the split requirements\n",
      "[LightGBM] [Warning] Stopped training because there are no more leaves that meet the split requirements\n",
      "[LightGBM] [Warning] Stopped training because there are no more leaves that meet the split requirements\n",
      "[LightGBM] [Warning] Stopped training because there are no more leaves that meet the split requirements\n",
      "[LightGBM] [Warning] Stopped training because there are no more leaves that meet the split requirements\n",
      "[LightGBM] [Warning] Stopped training because there are no more leaves that meet the split requirements\n",
      "[LightGBM] [Warning] Stopped training because there are no more leaves that meet the split requirements\n",
      "[LightGBM] [Warning] Stopped training because there are no more leaves that meet the split requirements\n",
      "[LightGBM] [Warning] Stopped training because there are no more leaves that meet the split requirements\n",
      "[LightGBM] [Warning] Stopped training because there are no more leaves that meet the split requirements\n",
      "[LightGBM] [Warning] Stopped training because there are no more leaves that meet the split requirements\n",
      "[LightGBM] [Warning] Stopped training because there are no more leaves that meet the split requirements\n",
      "[LightGBM] [Warning] Stopped training because there are no more leaves that meet the split requirements\n",
      "[LightGBM] [Warning] Stopped training because there are no more leaves that meet the split requirements\n",
      "[LightGBM] [Warning] Stopped training because there are no more leaves that meet the split requirements\n",
      "[LightGBM] [Warning] Stopped training because there are no more leaves that meet the split requirements\n",
      "[LightGBM] [Warning] Stopped training because there are no more leaves that meet the split requirements\n",
      "[LightGBM] [Warning] Stopped training because there are no more leaves that meet the split requirements\n",
      "[LightGBM] [Warning] Stopped training because there are no more leaves that meet the split requirements\n",
      "[LightGBM] [Warning] Stopped training because there are no more leaves that meet the split requirements\n",
      "[LightGBM] [Warning] Stopped training because there are no more leaves that meet the split requirements\n",
      "[LightGBM] [Warning] Stopped training because there are no more leaves that meet the split requirements\n",
      "[LightGBM] [Warning] Stopped training because there are no more leaves that meet the split requirements\n",
      "[LightGBM] [Warning] Stopped training because there are no more leaves that meet the split requirements\n",
      "[LightGBM] [Warning] Stopped training because there are no more leaves that meet the split requirements\n",
      "[LightGBM] [Warning] Stopped training because there are no more leaves that meet the split requirements\n",
      "[LightGBM] [Warning] Stopped training because there are no more leaves that meet the split requirements\n",
      "[LightGBM] [Warning] Stopped training because there are no more leaves that meet the split requirements\n",
      "[LightGBM] [Warning] Stopped training because there are no more leaves that meet the split requirements\n",
      "[LightGBM] [Warning] Stopped training because there are no more leaves that meet the split requirements\n",
      "[LightGBM] [Warning] Stopped training because there are no more leaves that meet the split requirements\n",
      "[LightGBM] [Warning] Stopped training because there are no more leaves that meet the split requirements\n",
      "[LightGBM] [Warning] Stopped training because there are no more leaves that meet the split requirements\n",
      "[LightGBM] [Warning] Stopped training because there are no more leaves that meet the split requirements\n",
      "[LightGBM] [Warning] Stopped training because there are no more leaves that meet the split requirements\n",
      "[LightGBM] [Warning] Stopped training because there are no more leaves that meet the split requirements\n",
      "[LightGBM] [Warning] Stopped training because there are no more leaves that meet the split requirements\n",
      "[LightGBM] [Warning] Stopped training because there are no more leaves that meet the split requirements\n",
      "[LightGBM] [Warning] Stopped training because there are no more leaves that meet the split requirements\n",
      "[LightGBM] [Warning] Stopped training because there are no more leaves that meet the split requirements\n",
      "[LightGBM] [Warning] Stopped training because there are no more leaves that meet the split requirements\n",
      "[LightGBM] [Warning] Stopped training because there are no more leaves that meet the split requirements\n",
      "[LightGBM] [Warning] Stopped training because there are no more leaves that meet the split requirements\n",
      "[LightGBM] [Warning] Stopped training because there are no more leaves that meet the split requirements\n",
      "[LightGBM] [Warning] Stopped training because there are no more leaves that meet the split requirements\n",
      "[LightGBM] [Warning] Stopped training because there are no more leaves that meet the split requirements\n",
      "[LightGBM] [Warning] Stopped training because there are no more leaves that meet the split requirements\n",
      "[LightGBM] [Warning] Stopped training because there are no more leaves that meet the split requirements\n",
      "[LightGBM] [Warning] Stopped training because there are no more leaves that meet the split requirements\n",
      "[LightGBM] [Warning] Stopped training because there are no more leaves that meet the split requirements\n",
      "[LightGBM] [Warning] Stopped training because there are no more leaves that meet the split requirements\n",
      "[LightGBM] [Warning] Stopped training because there are no more leaves that meet the split requirements\n",
      "[LightGBM] [Warning] Stopped training because there are no more leaves that meet the split requirements\n",
      "[LightGBM] [Warning] Stopped training because there are no more leaves that meet the split requirements\n",
      "[LightGBM] [Warning] Stopped training because there are no more leaves that meet the split requirements\n",
      "[LightGBM] [Warning] Stopped training because there are no more leaves that meet the split requirements\n",
      "[LightGBM] [Warning] There are no meaningful features which satisfy the provided configuration. Decreasing Dataset parameters min_data_in_bin or min_data_in_leaf and re-constructing Dataset might resolve this warning.\n",
      "[LightGBM] [Info] Number of positive: 1, number of negative: 1\n",
      "[LightGBM] [Info] This is the GPU trainer!!\n",
      "[LightGBM] [Info] Total Bins 0\n",
      "[LightGBM] [Info] Number of data points in the train set: 2, number of used features: 0\n",
      "[LightGBM] [Info] Using GPU Device: Intel(R) UHD Graphics 770, Vendor: Intel(R) Corporation\n",
      "[LightGBM] [Info] Compiling OpenCL Kernel with 16 bins...\n",
      "[LightGBM] [Info] GPU programs have been built\n",
      "[LightGBM] [Warning] GPU acceleration is disabled because no non-trivial dense features can be found\n",
      "[LightGBM] [Info] [binary:BoostFromScore]: pavg=0.500000 -> initscore=0.000000\n",
      "[LightGBM] [Warning] Stopped training because there are no more leaves that meet the split requirements\n",
      "[LightGBM] [Warning] Stopped training because there are no more leaves that meet the split requirements\n",
      "[LightGBM] [Warning] Stopped training because there are no more leaves that meet the split requirements\n",
      "[LightGBM] [Warning] Stopped training because there are no more leaves that meet the split requirements\n",
      "[LightGBM] [Warning] Stopped training because there are no more leaves that meet the split requirements\n",
      "[LightGBM] [Warning] Stopped training because there are no more leaves that meet the split requirements\n",
      "[LightGBM] [Warning] Stopped training because there are no more leaves that meet the split requirements\n",
      "[LightGBM] [Warning] Stopped training because there are no more leaves that meet the split requirements\n",
      "[LightGBM] [Warning] Stopped training because there are no more leaves that meet the split requirements\n",
      "[LightGBM] [Warning] Stopped training because there are no more leaves that meet the split requirements\n",
      "[LightGBM] [Warning] Stopped training because there are no more leaves that meet the split requirements\n",
      "[LightGBM] [Warning] Stopped training because there are no more leaves that meet the split requirements\n",
      "[LightGBM] [Warning] Stopped training because there are no more leaves that meet the split requirements\n",
      "[LightGBM] [Warning] Stopped training because there are no more leaves that meet the split requirements\n",
      "[LightGBM] [Warning] Stopped training because there are no more leaves that meet the split requirements\n",
      "[LightGBM] [Warning] Stopped training because there are no more leaves that meet the split requirements\n",
      "[LightGBM] [Warning] Stopped training because there are no more leaves that meet the split requirements\n",
      "[LightGBM] [Warning] Stopped training because there are no more leaves that meet the split requirements\n",
      "[LightGBM] [Warning] Stopped training because there are no more leaves that meet the split requirements\n",
      "[LightGBM] [Warning] Stopped training because there are no more leaves that meet the split requirements\n",
      "[LightGBM] [Warning] Stopped training because there are no more leaves that meet the split requirements\n",
      "[LightGBM] [Warning] Stopped training because there are no more leaves that meet the split requirements\n",
      "[LightGBM] [Warning] Stopped training because there are no more leaves that meet the split requirements\n",
      "[LightGBM] [Warning] Stopped training because there are no more leaves that meet the split requirements\n",
      "[LightGBM] [Warning] Stopped training because there are no more leaves that meet the split requirements\n",
      "[LightGBM] [Warning] Stopped training because there are no more leaves that meet the split requirements\n",
      "[LightGBM] [Warning] Stopped training because there are no more leaves that meet the split requirements\n",
      "[LightGBM] [Warning] Stopped training because there are no more leaves that meet the split requirements\n",
      "[LightGBM] [Warning] Stopped training because there are no more leaves that meet the split requirements\n",
      "[LightGBM] [Warning] Stopped training because there are no more leaves that meet the split requirements\n",
      "[LightGBM] [Warning] Stopped training because there are no more leaves that meet the split requirements\n",
      "[LightGBM] [Warning] Stopped training because there are no more leaves that meet the split requirements\n",
      "[LightGBM] [Warning] Stopped training because there are no more leaves that meet the split requirements\n",
      "[LightGBM] [Warning] Stopped training because there are no more leaves that meet the split requirements\n",
      "[LightGBM] [Warning] Stopped training because there are no more leaves that meet the split requirements\n",
      "[LightGBM] [Warning] Stopped training because there are no more leaves that meet the split requirements\n",
      "[LightGBM] [Warning] Stopped training because there are no more leaves that meet the split requirements\n",
      "[LightGBM] [Warning] Stopped training because there are no more leaves that meet the split requirements\n",
      "[LightGBM] [Warning] Stopped training because there are no more leaves that meet the split requirements\n",
      "[LightGBM] [Warning] Stopped training because there are no more leaves that meet the split requirements\n",
      "[LightGBM] [Warning] Stopped training because there are no more leaves that meet the split requirements\n",
      "[LightGBM] [Warning] Stopped training because there are no more leaves that meet the split requirements\n",
      "[LightGBM] [Warning] Stopped training because there are no more leaves that meet the split requirements\n",
      "[LightGBM] [Warning] Stopped training because there are no more leaves that meet the split requirements\n",
      "[LightGBM] [Warning] Stopped training because there are no more leaves that meet the split requirements\n",
      "[LightGBM] [Warning] Stopped training because there are no more leaves that meet the split requirements\n",
      "[LightGBM] [Warning] Stopped training because there are no more leaves that meet the split requirements\n",
      "[LightGBM] [Warning] Stopped training because there are no more leaves that meet the split requirements\n",
      "[LightGBM] [Warning] Stopped training because there are no more leaves that meet the split requirements\n",
      "[LightGBM] [Warning] Stopped training because there are no more leaves that meet the split requirements\n",
      "[LightGBM] [Warning] Stopped training because there are no more leaves that meet the split requirements\n",
      "[LightGBM] [Warning] Stopped training because there are no more leaves that meet the split requirements\n",
      "[LightGBM] [Warning] Stopped training because there are no more leaves that meet the split requirements\n",
      "[LightGBM] [Warning] Stopped training because there are no more leaves that meet the split requirements\n",
      "[LightGBM] [Warning] Stopped training because there are no more leaves that meet the split requirements\n",
      "[LightGBM] [Warning] Stopped training because there are no more leaves that meet the split requirements\n",
      "[LightGBM] [Warning] Stopped training because there are no more leaves that meet the split requirements\n",
      "[LightGBM] [Warning] Stopped training because there are no more leaves that meet the split requirements\n",
      "[LightGBM] [Warning] Stopped training because there are no more leaves that meet the split requirements\n",
      "[LightGBM] [Warning] Stopped training because there are no more leaves that meet the split requirements\n",
      "[LightGBM] [Warning] Stopped training because there are no more leaves that meet the split requirements\n",
      "[LightGBM] [Warning] Stopped training because there are no more leaves that meet the split requirements\n",
      "[LightGBM] [Warning] Stopped training because there are no more leaves that meet the split requirements\n",
      "[LightGBM] [Warning] Stopped training because there are no more leaves that meet the split requirements\n",
      "[LightGBM] [Warning] Stopped training because there are no more leaves that meet the split requirements\n",
      "[LightGBM] [Warning] Stopped training because there are no more leaves that meet the split requirements\n",
      "[LightGBM] [Warning] Stopped training because there are no more leaves that meet the split requirements\n",
      "[LightGBM] [Warning] Stopped training because there are no more leaves that meet the split requirements\n",
      "[LightGBM] [Warning] Stopped training because there are no more leaves that meet the split requirements\n",
      "[LightGBM] [Warning] Stopped training because there are no more leaves that meet the split requirements\n",
      "[LightGBM] [Warning] Stopped training because there are no more leaves that meet the split requirements\n",
      "[LightGBM] [Warning] Stopped training because there are no more leaves that meet the split requirements\n",
      "[LightGBM] [Warning] Stopped training because there are no more leaves that meet the split requirements\n",
      "[LightGBM] [Warning] Stopped training because there are no more leaves that meet the split requirements\n",
      "[LightGBM] [Warning] Stopped training because there are no more leaves that meet the split requirements\n",
      "[LightGBM] [Warning] Stopped training because there are no more leaves that meet the split requirements\n",
      "[LightGBM] [Warning] Stopped training because there are no more leaves that meet the split requirements\n",
      "[LightGBM] [Warning] Stopped training because there are no more leaves that meet the split requirements\n",
      "[LightGBM] [Warning] Stopped training because there are no more leaves that meet the split requirements\n",
      "[LightGBM] [Warning] Stopped training because there are no more leaves that meet the split requirements\n",
      "[LightGBM] [Warning] Stopped training because there are no more leaves that meet the split requirements\n",
      "[LightGBM] [Warning] Stopped training because there are no more leaves that meet the split requirements\n",
      "[LightGBM] [Warning] Stopped training because there are no more leaves that meet the split requirements\n",
      "[LightGBM] [Warning] Stopped training because there are no more leaves that meet the split requirements\n",
      "[LightGBM] [Warning] Stopped training because there are no more leaves that meet the split requirements\n",
      "[LightGBM] [Warning] Stopped training because there are no more leaves that meet the split requirements\n",
      "[LightGBM] [Warning] Stopped training because there are no more leaves that meet the split requirements\n",
      "[LightGBM] [Warning] Stopped training because there are no more leaves that meet the split requirements\n",
      "[LightGBM] [Warning] Stopped training because there are no more leaves that meet the split requirements\n",
      "[LightGBM] [Warning] Stopped training because there are no more leaves that meet the split requirements\n",
      "[LightGBM] [Warning] Stopped training because there are no more leaves that meet the split requirements\n",
      "[LightGBM] [Warning] Stopped training because there are no more leaves that meet the split requirements\n",
      "[LightGBM] [Warning] Stopped training because there are no more leaves that meet the split requirements\n",
      "[LightGBM] [Warning] Stopped training because there are no more leaves that meet the split requirements\n",
      "[LightGBM] [Warning] Stopped training because there are no more leaves that meet the split requirements\n",
      "[LightGBM] [Warning] Stopped training because there are no more leaves that meet the split requirements\n",
      "[LightGBM] [Warning] Stopped training because there are no more leaves that meet the split requirements\n",
      "[LightGBM] [Warning] Stopped training because there are no more leaves that meet the split requirements\n",
      "[LightGBM] [Warning] Stopped training because there are no more leaves that meet the split requirements\n",
      "[LightGBM] [Warning] Stopped training because there are no more leaves that meet the split requirements\n",
      "[LightGBM] [Warning] There are no meaningful features which satisfy the provided configuration. Decreasing Dataset parameters min_data_in_bin or min_data_in_leaf and re-constructing Dataset might resolve this warning.\n",
      "[LightGBM] [Info] Number of positive: 1, number of negative: 1\n",
      "[LightGBM] [Info] This is the GPU trainer!!\n",
      "[LightGBM] [Info] Total Bins 0\n",
      "[LightGBM] [Info] Number of data points in the train set: 2, number of used features: 0\n",
      "[LightGBM] [Info] Using GPU Device: Intel(R) UHD Graphics 770, Vendor: Intel(R) Corporation\n",
      "[LightGBM] [Info] Compiling OpenCL Kernel with 16 bins...\n",
      "[LightGBM] [Info] GPU programs have been built\n",
      "[LightGBM] [Warning] GPU acceleration is disabled because no non-trivial dense features can be found\n",
      "[LightGBM] [Info] [binary:BoostFromScore]: pavg=0.500000 -> initscore=0.000000\n",
      "[LightGBM] [Warning] Stopped training because there are no more leaves that meet the split requirements\n",
      "[LightGBM] [Warning] Stopped training because there are no more leaves that meet the split requirements\n",
      "[LightGBM] [Warning] Stopped training because there are no more leaves that meet the split requirements\n",
      "[LightGBM] [Warning] Stopped training because there are no more leaves that meet the split requirements\n",
      "[LightGBM] [Warning] Stopped training because there are no more leaves that meet the split requirements\n",
      "[LightGBM] [Warning] Stopped training because there are no more leaves that meet the split requirements\n",
      "[LightGBM] [Warning] Stopped training because there are no more leaves that meet the split requirements\n",
      "[LightGBM] [Warning] Stopped training because there are no more leaves that meet the split requirements\n",
      "[LightGBM] [Warning] Stopped training because there are no more leaves that meet the split requirements\n",
      "[LightGBM] [Warning] Stopped training because there are no more leaves that meet the split requirements\n",
      "[LightGBM] [Warning] Stopped training because there are no more leaves that meet the split requirements\n",
      "[LightGBM] [Warning] Stopped training because there are no more leaves that meet the split requirements\n",
      "[LightGBM] [Warning] Stopped training because there are no more leaves that meet the split requirements\n",
      "[LightGBM] [Warning] Stopped training because there are no more leaves that meet the split requirements\n",
      "[LightGBM] [Warning] Stopped training because there are no more leaves that meet the split requirements\n",
      "[LightGBM] [Warning] Stopped training because there are no more leaves that meet the split requirements\n",
      "[LightGBM] [Warning] Stopped training because there are no more leaves that meet the split requirements\n",
      "[LightGBM] [Warning] Stopped training because there are no more leaves that meet the split requirements\n",
      "[LightGBM] [Warning] Stopped training because there are no more leaves that meet the split requirements\n",
      "[LightGBM] [Warning] Stopped training because there are no more leaves that meet the split requirements\n",
      "[LightGBM] [Warning] Stopped training because there are no more leaves that meet the split requirements\n",
      "[LightGBM] [Warning] Stopped training because there are no more leaves that meet the split requirements\n",
      "[LightGBM] [Warning] Stopped training because there are no more leaves that meet the split requirements\n",
      "[LightGBM] [Warning] Stopped training because there are no more leaves that meet the split requirements\n",
      "[LightGBM] [Warning] Stopped training because there are no more leaves that meet the split requirements\n",
      "[LightGBM] [Warning] Stopped training because there are no more leaves that meet the split requirements\n",
      "[LightGBM] [Warning] Stopped training because there are no more leaves that meet the split requirements\n",
      "[LightGBM] [Warning] Stopped training because there are no more leaves that meet the split requirements\n",
      "[LightGBM] [Warning] Stopped training because there are no more leaves that meet the split requirements\n",
      "[LightGBM] [Warning] Stopped training because there are no more leaves that meet the split requirements\n",
      "[LightGBM] [Warning] Stopped training because there are no more leaves that meet the split requirements\n",
      "[LightGBM] [Warning] Stopped training because there are no more leaves that meet the split requirements\n",
      "[LightGBM] [Warning] Stopped training because there are no more leaves that meet the split requirements\n",
      "[LightGBM] [Warning] Stopped training because there are no more leaves that meet the split requirements\n",
      "[LightGBM] [Warning] Stopped training because there are no more leaves that meet the split requirements\n",
      "[LightGBM] [Warning] Stopped training because there are no more leaves that meet the split requirements\n",
      "[LightGBM] [Warning] Stopped training because there are no more leaves that meet the split requirements\n",
      "[LightGBM] [Warning] Stopped training because there are no more leaves that meet the split requirements\n",
      "[LightGBM] [Warning] Stopped training because there are no more leaves that meet the split requirements\n",
      "[LightGBM] [Warning] Stopped training because there are no more leaves that meet the split requirements\n",
      "[LightGBM] [Warning] Stopped training because there are no more leaves that meet the split requirements\n",
      "[LightGBM] [Warning] Stopped training because there are no more leaves that meet the split requirements\n",
      "[LightGBM] [Warning] Stopped training because there are no more leaves that meet the split requirements\n",
      "[LightGBM] [Warning] Stopped training because there are no more leaves that meet the split requirements\n",
      "[LightGBM] [Warning] Stopped training because there are no more leaves that meet the split requirements\n",
      "[LightGBM] [Warning] Stopped training because there are no more leaves that meet the split requirements\n",
      "[LightGBM] [Warning] Stopped training because there are no more leaves that meet the split requirements\n",
      "[LightGBM] [Warning] Stopped training because there are no more leaves that meet the split requirements\n",
      "[LightGBM] [Warning] Stopped training because there are no more leaves that meet the split requirements\n",
      "[LightGBM] [Warning] Stopped training because there are no more leaves that meet the split requirements\n",
      "[LightGBM] [Warning] Stopped training because there are no more leaves that meet the split requirements\n",
      "[LightGBM] [Warning] Stopped training because there are no more leaves that meet the split requirements\n",
      "[LightGBM] [Warning] Stopped training because there are no more leaves that meet the split requirements\n",
      "[LightGBM] [Warning] Stopped training because there are no more leaves that meet the split requirements\n",
      "[LightGBM] [Warning] Stopped training because there are no more leaves that meet the split requirements\n",
      "[LightGBM] [Warning] Stopped training because there are no more leaves that meet the split requirements\n",
      "[LightGBM] [Warning] Stopped training because there are no more leaves that meet the split requirements\n",
      "[LightGBM] [Warning] Stopped training because there are no more leaves that meet the split requirements\n",
      "[LightGBM] [Warning] Stopped training because there are no more leaves that meet the split requirements\n",
      "[LightGBM] [Warning] Stopped training because there are no more leaves that meet the split requirements\n",
      "[LightGBM] [Warning] Stopped training because there are no more leaves that meet the split requirements\n",
      "[LightGBM] [Warning] Stopped training because there are no more leaves that meet the split requirements\n",
      "[LightGBM] [Warning] Stopped training because there are no more leaves that meet the split requirements\n",
      "[LightGBM] [Warning] Stopped training because there are no more leaves that meet the split requirements\n",
      "[LightGBM] [Warning] Stopped training because there are no more leaves that meet the split requirements\n",
      "[LightGBM] [Warning] Stopped training because there are no more leaves that meet the split requirements\n",
      "[LightGBM] [Warning] Stopped training because there are no more leaves that meet the split requirements\n",
      "[LightGBM] [Warning] Stopped training because there are no more leaves that meet the split requirements\n",
      "[LightGBM] [Warning] Stopped training because there are no more leaves that meet the split requirements\n",
      "[LightGBM] [Warning] Stopped training because there are no more leaves that meet the split requirements\n",
      "[LightGBM] [Warning] Stopped training because there are no more leaves that meet the split requirements\n",
      "[LightGBM] [Warning] Stopped training because there are no more leaves that meet the split requirements\n",
      "[LightGBM] [Warning] Stopped training because there are no more leaves that meet the split requirements\n",
      "[LightGBM] [Warning] Stopped training because there are no more leaves that meet the split requirements\n",
      "[LightGBM] [Warning] Stopped training because there are no more leaves that meet the split requirements\n",
      "[LightGBM] [Warning] Stopped training because there are no more leaves that meet the split requirements\n",
      "[LightGBM] [Warning] Stopped training because there are no more leaves that meet the split requirements\n",
      "[LightGBM] [Warning] Stopped training because there are no more leaves that meet the split requirements\n",
      "[LightGBM] [Warning] Stopped training because there are no more leaves that meet the split requirements\n",
      "[LightGBM] [Warning] Stopped training because there are no more leaves that meet the split requirements\n",
      "[LightGBM] [Warning] Stopped training because there are no more leaves that meet the split requirements\n",
      "[LightGBM] [Warning] Stopped training because there are no more leaves that meet the split requirements\n",
      "[LightGBM] [Warning] Stopped training because there are no more leaves that meet the split requirements\n",
      "[LightGBM] [Warning] Stopped training because there are no more leaves that meet the split requirements\n",
      "[LightGBM] [Warning] Stopped training because there are no more leaves that meet the split requirements\n",
      "[LightGBM] [Warning] Stopped training because there are no more leaves that meet the split requirements\n",
      "[LightGBM] [Warning] Stopped training because there are no more leaves that meet the split requirements\n",
      "[LightGBM] [Warning] Stopped training because there are no more leaves that meet the split requirements\n",
      "[LightGBM] [Warning] Stopped training because there are no more leaves that meet the split requirements\n",
      "[LightGBM] [Warning] Stopped training because there are no more leaves that meet the split requirements\n",
      "[LightGBM] [Warning] Stopped training because there are no more leaves that meet the split requirements\n",
      "[LightGBM] [Warning] Stopped training because there are no more leaves that meet the split requirements\n",
      "[LightGBM] [Warning] Stopped training because there are no more leaves that meet the split requirements\n",
      "[LightGBM] [Warning] Stopped training because there are no more leaves that meet the split requirements\n",
      "[LightGBM] [Warning] Stopped training because there are no more leaves that meet the split requirements\n",
      "[LightGBM] [Warning] Stopped training because there are no more leaves that meet the split requirements\n",
      "[LightGBM] [Warning] Stopped training because there are no more leaves that meet the split requirements\n",
      "[LightGBM] [Warning] Stopped training because there are no more leaves that meet the split requirements\n",
      "[LightGBM] [Warning] Stopped training because there are no more leaves that meet the split requirements\n",
      "[LightGBM] [Warning] Stopped training because there are no more leaves that meet the split requirements\n",
      "[LightGBM] [Warning] There are no meaningful features which satisfy the provided configuration. Decreasing Dataset parameters min_data_in_bin or min_data_in_leaf and re-constructing Dataset might resolve this warning.\n",
      "[LightGBM] [Info] Number of positive: 1, number of negative: 1\n",
      "[LightGBM] [Info] This is the GPU trainer!!\n",
      "[LightGBM] [Info] Total Bins 0\n",
      "[LightGBM] [Info] Number of data points in the train set: 2, number of used features: 0\n",
      "[LightGBM] [Info] Using GPU Device: Intel(R) UHD Graphics 770, Vendor: Intel(R) Corporation\n",
      "[LightGBM] [Info] Compiling OpenCL Kernel with 16 bins...\n",
      "[LightGBM] [Info] GPU programs have been built\n",
      "[LightGBM] [Warning] GPU acceleration is disabled because no non-trivial dense features can be found\n",
      "[LightGBM] [Info] [binary:BoostFromScore]: pavg=0.500000 -> initscore=0.000000\n",
      "[LightGBM] [Warning] Stopped training because there are no more leaves that meet the split requirements\n",
      "[LightGBM] [Warning] Stopped training because there are no more leaves that meet the split requirements\n",
      "[LightGBM] [Warning] Stopped training because there are no more leaves that meet the split requirements\n",
      "[LightGBM] [Warning] Stopped training because there are no more leaves that meet the split requirements\n",
      "[LightGBM] [Warning] Stopped training because there are no more leaves that meet the split requirements\n",
      "[LightGBM] [Warning] Stopped training because there are no more leaves that meet the split requirements\n",
      "[LightGBM] [Warning] Stopped training because there are no more leaves that meet the split requirements\n",
      "[LightGBM] [Warning] Stopped training because there are no more leaves that meet the split requirements\n",
      "[LightGBM] [Warning] Stopped training because there are no more leaves that meet the split requirements\n",
      "[LightGBM] [Warning] Stopped training because there are no more leaves that meet the split requirements\n",
      "[LightGBM] [Warning] Stopped training because there are no more leaves that meet the split requirements\n",
      "[LightGBM] [Warning] Stopped training because there are no more leaves that meet the split requirements\n",
      "[LightGBM] [Warning] Stopped training because there are no more leaves that meet the split requirements\n",
      "[LightGBM] [Warning] Stopped training because there are no more leaves that meet the split requirements\n",
      "[LightGBM] [Warning] Stopped training because there are no more leaves that meet the split requirements\n",
      "[LightGBM] [Warning] Stopped training because there are no more leaves that meet the split requirements\n",
      "[LightGBM] [Warning] Stopped training because there are no more leaves that meet the split requirements\n",
      "[LightGBM] [Warning] Stopped training because there are no more leaves that meet the split requirements\n",
      "[LightGBM] [Warning] Stopped training because there are no more leaves that meet the split requirements\n",
      "[LightGBM] [Warning] Stopped training because there are no more leaves that meet the split requirements\n",
      "[LightGBM] [Warning] Stopped training because there are no more leaves that meet the split requirements\n",
      "[LightGBM] [Warning] Stopped training because there are no more leaves that meet the split requirements\n",
      "[LightGBM] [Warning] Stopped training because there are no more leaves that meet the split requirements\n",
      "[LightGBM] [Warning] Stopped training because there are no more leaves that meet the split requirements\n",
      "[LightGBM] [Warning] Stopped training because there are no more leaves that meet the split requirements\n",
      "[LightGBM] [Warning] Stopped training because there are no more leaves that meet the split requirements\n",
      "[LightGBM] [Warning] Stopped training because there are no more leaves that meet the split requirements\n",
      "[LightGBM] [Warning] Stopped training because there are no more leaves that meet the split requirements\n",
      "[LightGBM] [Warning] Stopped training because there are no more leaves that meet the split requirements\n",
      "[LightGBM] [Warning] Stopped training because there are no more leaves that meet the split requirements\n",
      "[LightGBM] [Warning] Stopped training because there are no more leaves that meet the split requirements\n",
      "[LightGBM] [Warning] Stopped training because there are no more leaves that meet the split requirements\n",
      "[LightGBM] [Warning] Stopped training because there are no more leaves that meet the split requirements\n",
      "[LightGBM] [Warning] Stopped training because there are no more leaves that meet the split requirements\n",
      "[LightGBM] [Warning] Stopped training because there are no more leaves that meet the split requirements\n",
      "[LightGBM] [Warning] Stopped training because there are no more leaves that meet the split requirements\n",
      "[LightGBM] [Warning] Stopped training because there are no more leaves that meet the split requirements\n",
      "[LightGBM] [Warning] Stopped training because there are no more leaves that meet the split requirements\n",
      "[LightGBM] [Warning] Stopped training because there are no more leaves that meet the split requirements\n",
      "[LightGBM] [Warning] Stopped training because there are no more leaves that meet the split requirements\n",
      "[LightGBM] [Warning] Stopped training because there are no more leaves that meet the split requirements\n",
      "[LightGBM] [Warning] Stopped training because there are no more leaves that meet the split requirements\n",
      "[LightGBM] [Warning] Stopped training because there are no more leaves that meet the split requirements\n",
      "[LightGBM] [Warning] Stopped training because there are no more leaves that meet the split requirements\n",
      "[LightGBM] [Warning] Stopped training because there are no more leaves that meet the split requirements\n",
      "[LightGBM] [Warning] Stopped training because there are no more leaves that meet the split requirements\n",
      "[LightGBM] [Warning] Stopped training because there are no more leaves that meet the split requirements\n",
      "[LightGBM] [Warning] Stopped training because there are no more leaves that meet the split requirements\n",
      "[LightGBM] [Warning] Stopped training because there are no more leaves that meet the split requirements\n",
      "[LightGBM] [Warning] Stopped training because there are no more leaves that meet the split requirements\n",
      "[LightGBM] [Warning] Stopped training because there are no more leaves that meet the split requirements\n",
      "[LightGBM] [Warning] Stopped training because there are no more leaves that meet the split requirements\n",
      "[LightGBM] [Warning] Stopped training because there are no more leaves that meet the split requirements\n",
      "[LightGBM] [Warning] Stopped training because there are no more leaves that meet the split requirements\n",
      "[LightGBM] [Warning] Stopped training because there are no more leaves that meet the split requirements\n",
      "[LightGBM] [Warning] Stopped training because there are no more leaves that meet the split requirements\n",
      "[LightGBM] [Warning] Stopped training because there are no more leaves that meet the split requirements\n",
      "[LightGBM] [Warning] Stopped training because there are no more leaves that meet the split requirements\n",
      "[LightGBM] [Warning] Stopped training because there are no more leaves that meet the split requirements\n",
      "[LightGBM] [Warning] Stopped training because there are no more leaves that meet the split requirements\n",
      "[LightGBM] [Warning] Stopped training because there are no more leaves that meet the split requirements\n",
      "[LightGBM] [Warning] Stopped training because there are no more leaves that meet the split requirements\n",
      "[LightGBM] [Warning] Stopped training because there are no more leaves that meet the split requirements\n",
      "[LightGBM] [Warning] Stopped training because there are no more leaves that meet the split requirements\n",
      "[LightGBM] [Warning] Stopped training because there are no more leaves that meet the split requirements\n",
      "[LightGBM] [Warning] Stopped training because there are no more leaves that meet the split requirements\n",
      "[LightGBM] [Warning] Stopped training because there are no more leaves that meet the split requirements\n",
      "[LightGBM] [Warning] Stopped training because there are no more leaves that meet the split requirements\n",
      "[LightGBM] [Warning] Stopped training because there are no more leaves that meet the split requirements\n",
      "[LightGBM] [Warning] Stopped training because there are no more leaves that meet the split requirements\n",
      "[LightGBM] [Warning] Stopped training because there are no more leaves that meet the split requirements\n",
      "[LightGBM] [Warning] Stopped training because there are no more leaves that meet the split requirements\n",
      "[LightGBM] [Warning] Stopped training because there are no more leaves that meet the split requirements\n",
      "[LightGBM] [Warning] Stopped training because there are no more leaves that meet the split requirements\n",
      "[LightGBM] [Warning] Stopped training because there are no more leaves that meet the split requirements\n",
      "[LightGBM] [Warning] Stopped training because there are no more leaves that meet the split requirements\n",
      "[LightGBM] [Warning] Stopped training because there are no more leaves that meet the split requirements\n",
      "[LightGBM] [Warning] Stopped training because there are no more leaves that meet the split requirements\n",
      "[LightGBM] [Warning] Stopped training because there are no more leaves that meet the split requirements\n",
      "[LightGBM] [Warning] Stopped training because there are no more leaves that meet the split requirements\n",
      "[LightGBM] [Warning] Stopped training because there are no more leaves that meet the split requirements\n",
      "[LightGBM] [Warning] Stopped training because there are no more leaves that meet the split requirements\n",
      "[LightGBM] [Warning] Stopped training because there are no more leaves that meet the split requirements\n",
      "[LightGBM] [Warning] Stopped training because there are no more leaves that meet the split requirements\n",
      "[LightGBM] [Warning] Stopped training because there are no more leaves that meet the split requirements\n",
      "[LightGBM] [Warning] Stopped training because there are no more leaves that meet the split requirements\n",
      "[LightGBM] [Warning] Stopped training because there are no more leaves that meet the split requirements\n",
      "[LightGBM] [Warning] Stopped training because there are no more leaves that meet the split requirements\n",
      "[LightGBM] [Warning] Stopped training because there are no more leaves that meet the split requirements\n",
      "[LightGBM] [Warning] Stopped training because there are no more leaves that meet the split requirements\n",
      "[LightGBM] [Warning] Stopped training because there are no more leaves that meet the split requirements\n",
      "[LightGBM] [Warning] Stopped training because there are no more leaves that meet the split requirements\n",
      "[LightGBM] [Warning] Stopped training because there are no more leaves that meet the split requirements\n",
      "[LightGBM] [Warning] Stopped training because there are no more leaves that meet the split requirements\n",
      "[LightGBM] [Warning] Stopped training because there are no more leaves that meet the split requirements\n",
      "[LightGBM] [Warning] Stopped training because there are no more leaves that meet the split requirements\n",
      "[LightGBM] [Warning] Stopped training because there are no more leaves that meet the split requirements\n",
      "[LightGBM] [Warning] Stopped training because there are no more leaves that meet the split requirements\n",
      "[LightGBM] [Warning] Stopped training because there are no more leaves that meet the split requirements\n",
      "[LightGBM] [Warning] Stopped training because there are no more leaves that meet the split requirements\n",
      "[LightGBM] [Warning] There are no meaningful features which satisfy the provided configuration. Decreasing Dataset parameters min_data_in_bin or min_data_in_leaf and re-constructing Dataset might resolve this warning.\n",
      "[LightGBM] [Info] Number of positive: 1, number of negative: 1\n",
      "[LightGBM] [Info] This is the GPU trainer!!\n",
      "[LightGBM] [Info] Total Bins 0\n",
      "[LightGBM] [Info] Number of data points in the train set: 2, number of used features: 0\n",
      "[LightGBM] [Info] Using GPU Device: Intel(R) UHD Graphics 770, Vendor: Intel(R) Corporation\n",
      "[LightGBM] [Info] Compiling OpenCL Kernel with 16 bins...\n",
      "[LightGBM] [Info] GPU programs have been built\n",
      "[LightGBM] [Warning] GPU acceleration is disabled because no non-trivial dense features can be found\n",
      "[LightGBM] [Info] [binary:BoostFromScore]: pavg=0.500000 -> initscore=0.000000\n",
      "[LightGBM] [Warning] Stopped training because there are no more leaves that meet the split requirements\n",
      "[LightGBM] [Warning] Stopped training because there are no more leaves that meet the split requirements\n",
      "[LightGBM] [Warning] Stopped training because there are no more leaves that meet the split requirements\n",
      "[LightGBM] [Warning] Stopped training because there are no more leaves that meet the split requirements\n",
      "[LightGBM] [Warning] Stopped training because there are no more leaves that meet the split requirements\n",
      "[LightGBM] [Warning] Stopped training because there are no more leaves that meet the split requirements\n",
      "[LightGBM] [Warning] Stopped training because there are no more leaves that meet the split requirements\n",
      "[LightGBM] [Warning] Stopped training because there are no more leaves that meet the split requirements\n",
      "[LightGBM] [Warning] Stopped training because there are no more leaves that meet the split requirements\n",
      "[LightGBM] [Warning] Stopped training because there are no more leaves that meet the split requirements\n",
      "[LightGBM] [Warning] Stopped training because there are no more leaves that meet the split requirements\n",
      "[LightGBM] [Warning] Stopped training because there are no more leaves that meet the split requirements\n",
      "[LightGBM] [Warning] Stopped training because there are no more leaves that meet the split requirements\n",
      "[LightGBM] [Warning] Stopped training because there are no more leaves that meet the split requirements\n",
      "[LightGBM] [Warning] Stopped training because there are no more leaves that meet the split requirements\n",
      "[LightGBM] [Warning] Stopped training because there are no more leaves that meet the split requirements\n",
      "[LightGBM] [Warning] Stopped training because there are no more leaves that meet the split requirements\n",
      "[LightGBM] [Warning] Stopped training because there are no more leaves that meet the split requirements\n",
      "[LightGBM] [Warning] Stopped training because there are no more leaves that meet the split requirements\n",
      "[LightGBM] [Warning] Stopped training because there are no more leaves that meet the split requirements\n",
      "[LightGBM] [Warning] Stopped training because there are no more leaves that meet the split requirements\n",
      "[LightGBM] [Warning] Stopped training because there are no more leaves that meet the split requirements\n",
      "[LightGBM] [Warning] Stopped training because there are no more leaves that meet the split requirements\n",
      "[LightGBM] [Warning] Stopped training because there are no more leaves that meet the split requirements\n",
      "[LightGBM] [Warning] Stopped training because there are no more leaves that meet the split requirements\n",
      "[LightGBM] [Warning] Stopped training because there are no more leaves that meet the split requirements\n",
      "[LightGBM] [Warning] Stopped training because there are no more leaves that meet the split requirements\n",
      "[LightGBM] [Warning] Stopped training because there are no more leaves that meet the split requirements\n",
      "[LightGBM] [Warning] Stopped training because there are no more leaves that meet the split requirements\n",
      "[LightGBM] [Warning] Stopped training because there are no more leaves that meet the split requirements\n",
      "[LightGBM] [Warning] Stopped training because there are no more leaves that meet the split requirements\n",
      "[LightGBM] [Warning] Stopped training because there are no more leaves that meet the split requirements\n",
      "[LightGBM] [Warning] Stopped training because there are no more leaves that meet the split requirements\n",
      "[LightGBM] [Warning] Stopped training because there are no more leaves that meet the split requirements\n",
      "[LightGBM] [Warning] Stopped training because there are no more leaves that meet the split requirements\n",
      "[LightGBM] [Warning] Stopped training because there are no more leaves that meet the split requirements\n",
      "[LightGBM] [Warning] Stopped training because there are no more leaves that meet the split requirements\n",
      "[LightGBM] [Warning] Stopped training because there are no more leaves that meet the split requirements\n",
      "[LightGBM] [Warning] Stopped training because there are no more leaves that meet the split requirements\n",
      "[LightGBM] [Warning] Stopped training because there are no more leaves that meet the split requirements\n",
      "[LightGBM] [Warning] Stopped training because there are no more leaves that meet the split requirements\n",
      "[LightGBM] [Warning] Stopped training because there are no more leaves that meet the split requirements\n",
      "[LightGBM] [Warning] Stopped training because there are no more leaves that meet the split requirements\n",
      "[LightGBM] [Warning] Stopped training because there are no more leaves that meet the split requirements\n",
      "[LightGBM] [Warning] Stopped training because there are no more leaves that meet the split requirements\n",
      "[LightGBM] [Warning] Stopped training because there are no more leaves that meet the split requirements\n",
      "[LightGBM] [Warning] Stopped training because there are no more leaves that meet the split requirements\n",
      "[LightGBM] [Warning] Stopped training because there are no more leaves that meet the split requirements\n",
      "[LightGBM] [Warning] Stopped training because there are no more leaves that meet the split requirements\n",
      "[LightGBM] [Warning] Stopped training because there are no more leaves that meet the split requirements\n",
      "[LightGBM] [Warning] Stopped training because there are no more leaves that meet the split requirements\n",
      "[LightGBM] [Warning] Stopped training because there are no more leaves that meet the split requirements\n",
      "[LightGBM] [Warning] Stopped training because there are no more leaves that meet the split requirements\n",
      "[LightGBM] [Warning] Stopped training because there are no more leaves that meet the split requirements\n",
      "[LightGBM] [Warning] Stopped training because there are no more leaves that meet the split requirements\n",
      "[LightGBM] [Warning] Stopped training because there are no more leaves that meet the split requirements\n",
      "[LightGBM] [Warning] Stopped training because there are no more leaves that meet the split requirements\n",
      "[LightGBM] [Warning] Stopped training because there are no more leaves that meet the split requirements\n",
      "[LightGBM] [Warning] Stopped training because there are no more leaves that meet the split requirements\n",
      "[LightGBM] [Warning] Stopped training because there are no more leaves that meet the split requirements\n",
      "[LightGBM] [Warning] Stopped training because there are no more leaves that meet the split requirements\n",
      "[LightGBM] [Warning] Stopped training because there are no more leaves that meet the split requirements\n",
      "[LightGBM] [Warning] Stopped training because there are no more leaves that meet the split requirements\n",
      "[LightGBM] [Warning] Stopped training because there are no more leaves that meet the split requirements\n",
      "[LightGBM] [Warning] Stopped training because there are no more leaves that meet the split requirements\n",
      "[LightGBM] [Warning] Stopped training because there are no more leaves that meet the split requirements\n",
      "[LightGBM] [Warning] Stopped training because there are no more leaves that meet the split requirements\n",
      "[LightGBM] [Warning] Stopped training because there are no more leaves that meet the split requirements\n",
      "[LightGBM] [Warning] Stopped training because there are no more leaves that meet the split requirements\n",
      "[LightGBM] [Warning] Stopped training because there are no more leaves that meet the split requirements\n",
      "[LightGBM] [Warning] Stopped training because there are no more leaves that meet the split requirements\n",
      "[LightGBM] [Warning] Stopped training because there are no more leaves that meet the split requirements\n",
      "[LightGBM] [Warning] Stopped training because there are no more leaves that meet the split requirements\n",
      "[LightGBM] [Warning] Stopped training because there are no more leaves that meet the split requirements\n",
      "[LightGBM] [Warning] Stopped training because there are no more leaves that meet the split requirements\n",
      "[LightGBM] [Warning] Stopped training because there are no more leaves that meet the split requirements\n",
      "[LightGBM] [Warning] Stopped training because there are no more leaves that meet the split requirements\n",
      "[LightGBM] [Warning] Stopped training because there are no more leaves that meet the split requirements\n",
      "[LightGBM] [Warning] Stopped training because there are no more leaves that meet the split requirements\n",
      "[LightGBM] [Warning] Stopped training because there are no more leaves that meet the split requirements\n",
      "[LightGBM] [Warning] Stopped training because there are no more leaves that meet the split requirements\n",
      "[LightGBM] [Warning] Stopped training because there are no more leaves that meet the split requirements\n",
      "[LightGBM] [Warning] Stopped training because there are no more leaves that meet the split requirements\n",
      "[LightGBM] [Warning] Stopped training because there are no more leaves that meet the split requirements\n",
      "[LightGBM] [Warning] Stopped training because there are no more leaves that meet the split requirements\n",
      "[LightGBM] [Warning] Stopped training because there are no more leaves that meet the split requirements\n",
      "[LightGBM] [Warning] Stopped training because there are no more leaves that meet the split requirements\n",
      "[LightGBM] [Warning] Stopped training because there are no more leaves that meet the split requirements\n",
      "[LightGBM] [Warning] Stopped training because there are no more leaves that meet the split requirements\n",
      "[LightGBM] [Warning] Stopped training because there are no more leaves that meet the split requirements\n",
      "[LightGBM] [Warning] Stopped training because there are no more leaves that meet the split requirements\n",
      "[LightGBM] [Warning] Stopped training because there are no more leaves that meet the split requirements\n",
      "[LightGBM] [Warning] Stopped training because there are no more leaves that meet the split requirements\n",
      "[LightGBM] [Warning] Stopped training because there are no more leaves that meet the split requirements\n",
      "[LightGBM] [Warning] Stopped training because there are no more leaves that meet the split requirements\n",
      "[LightGBM] [Warning] Stopped training because there are no more leaves that meet the split requirements\n",
      "[LightGBM] [Warning] Stopped training because there are no more leaves that meet the split requirements\n",
      "[LightGBM] [Warning] Stopped training because there are no more leaves that meet the split requirements\n",
      "[LightGBM] [Warning] Stopped training because there are no more leaves that meet the split requirements\n",
      "[LightGBM] [Warning] Stopped training because there are no more leaves that meet the split requirements\n",
      "[LightGBM] [Warning] There are no meaningful features which satisfy the provided configuration. Decreasing Dataset parameters min_data_in_bin or min_data_in_leaf and re-constructing Dataset might resolve this warning.\n",
      "[LightGBM] [Info] Number of positive: 1, number of negative: 1\n",
      "[LightGBM] [Info] This is the GPU trainer!!\n",
      "[LightGBM] [Info] Total Bins 0\n",
      "[LightGBM] [Info] Number of data points in the train set: 2, number of used features: 0\n",
      "[LightGBM] [Info] Using GPU Device: Intel(R) UHD Graphics 770, Vendor: Intel(R) Corporation\n",
      "[LightGBM] [Info] Compiling OpenCL Kernel with 16 bins...\n",
      "[LightGBM] [Info] GPU programs have been built\n",
      "[LightGBM] [Warning] GPU acceleration is disabled because no non-trivial dense features can be found\n",
      "[LightGBM] [Info] [binary:BoostFromScore]: pavg=0.500000 -> initscore=0.000000\n",
      "[LightGBM] [Warning] Stopped training because there are no more leaves that meet the split requirements\n",
      "[LightGBM] [Warning] Stopped training because there are no more leaves that meet the split requirements\n",
      "[LightGBM] [Warning] Stopped training because there are no more leaves that meet the split requirements\n",
      "[LightGBM] [Warning] Stopped training because there are no more leaves that meet the split requirements\n",
      "[LightGBM] [Warning] Stopped training because there are no more leaves that meet the split requirements\n",
      "[LightGBM] [Warning] Stopped training because there are no more leaves that meet the split requirements\n",
      "[LightGBM] [Warning] Stopped training because there are no more leaves that meet the split requirements\n",
      "[LightGBM] [Warning] Stopped training because there are no more leaves that meet the split requirements\n",
      "[LightGBM] [Warning] Stopped training because there are no more leaves that meet the split requirements\n",
      "[LightGBM] [Warning] Stopped training because there are no more leaves that meet the split requirements\n",
      "[LightGBM] [Warning] Stopped training because there are no more leaves that meet the split requirements\n",
      "[LightGBM] [Warning] Stopped training because there are no more leaves that meet the split requirements\n",
      "[LightGBM] [Warning] Stopped training because there are no more leaves that meet the split requirements\n",
      "[LightGBM] [Warning] Stopped training because there are no more leaves that meet the split requirements\n",
      "[LightGBM] [Warning] Stopped training because there are no more leaves that meet the split requirements\n",
      "[LightGBM] [Warning] Stopped training because there are no more leaves that meet the split requirements\n",
      "[LightGBM] [Warning] Stopped training because there are no more leaves that meet the split requirements\n",
      "[LightGBM] [Warning] Stopped training because there are no more leaves that meet the split requirements\n",
      "[LightGBM] [Warning] Stopped training because there are no more leaves that meet the split requirements\n",
      "[LightGBM] [Warning] Stopped training because there are no more leaves that meet the split requirements\n",
      "[LightGBM] [Warning] Stopped training because there are no more leaves that meet the split requirements\n",
      "[LightGBM] [Warning] Stopped training because there are no more leaves that meet the split requirements\n",
      "[LightGBM] [Warning] Stopped training because there are no more leaves that meet the split requirements\n",
      "[LightGBM] [Warning] Stopped training because there are no more leaves that meet the split requirements\n",
      "[LightGBM] [Warning] Stopped training because there are no more leaves that meet the split requirements\n",
      "[LightGBM] [Warning] Stopped training because there are no more leaves that meet the split requirements\n",
      "[LightGBM] [Warning] Stopped training because there are no more leaves that meet the split requirements\n",
      "[LightGBM] [Warning] Stopped training because there are no more leaves that meet the split requirements\n",
      "[LightGBM] [Warning] Stopped training because there are no more leaves that meet the split requirements\n",
      "[LightGBM] [Warning] Stopped training because there are no more leaves that meet the split requirements\n",
      "[LightGBM] [Warning] Stopped training because there are no more leaves that meet the split requirements\n",
      "[LightGBM] [Warning] Stopped training because there are no more leaves that meet the split requirements\n",
      "[LightGBM] [Warning] Stopped training because there are no more leaves that meet the split requirements\n",
      "[LightGBM] [Warning] Stopped training because there are no more leaves that meet the split requirements\n",
      "[LightGBM] [Warning] Stopped training because there are no more leaves that meet the split requirements\n",
      "[LightGBM] [Warning] Stopped training because there are no more leaves that meet the split requirements\n",
      "[LightGBM] [Warning] Stopped training because there are no more leaves that meet the split requirements\n",
      "[LightGBM] [Warning] Stopped training because there are no more leaves that meet the split requirements\n",
      "[LightGBM] [Warning] Stopped training because there are no more leaves that meet the split requirements\n",
      "[LightGBM] [Warning] Stopped training because there are no more leaves that meet the split requirements\n",
      "[LightGBM] [Warning] Stopped training because there are no more leaves that meet the split requirements\n",
      "[LightGBM] [Warning] Stopped training because there are no more leaves that meet the split requirements\n",
      "[LightGBM] [Warning] Stopped training because there are no more leaves that meet the split requirements\n",
      "[LightGBM] [Warning] Stopped training because there are no more leaves that meet the split requirements\n",
      "[LightGBM] [Warning] Stopped training because there are no more leaves that meet the split requirements\n",
      "[LightGBM] [Warning] Stopped training because there are no more leaves that meet the split requirements\n",
      "[LightGBM] [Warning] Stopped training because there are no more leaves that meet the split requirements\n",
      "[LightGBM] [Warning] Stopped training because there are no more leaves that meet the split requirements\n",
      "[LightGBM] [Warning] Stopped training because there are no more leaves that meet the split requirements\n",
      "[LightGBM] [Warning] Stopped training because there are no more leaves that meet the split requirements\n",
      "[LightGBM] [Warning] Stopped training because there are no more leaves that meet the split requirements\n",
      "[LightGBM] [Warning] Stopped training because there are no more leaves that meet the split requirements\n",
      "[LightGBM] [Warning] Stopped training because there are no more leaves that meet the split requirements\n",
      "[LightGBM] [Warning] Stopped training because there are no more leaves that meet the split requirements\n",
      "[LightGBM] [Warning] Stopped training because there are no more leaves that meet the split requirements\n",
      "[LightGBM] [Warning] Stopped training because there are no more leaves that meet the split requirements\n",
      "[LightGBM] [Warning] Stopped training because there are no more leaves that meet the split requirements\n",
      "[LightGBM] [Warning] Stopped training because there are no more leaves that meet the split requirements\n",
      "[LightGBM] [Warning] Stopped training because there are no more leaves that meet the split requirements\n",
      "[LightGBM] [Warning] Stopped training because there are no more leaves that meet the split requirements\n",
      "[LightGBM] [Warning] Stopped training because there are no more leaves that meet the split requirements\n",
      "[LightGBM] [Warning] Stopped training because there are no more leaves that meet the split requirements\n",
      "[LightGBM] [Warning] Stopped training because there are no more leaves that meet the split requirements\n",
      "[LightGBM] [Warning] Stopped training because there are no more leaves that meet the split requirements\n",
      "[LightGBM] [Warning] Stopped training because there are no more leaves that meet the split requirements\n",
      "[LightGBM] [Warning] Stopped training because there are no more leaves that meet the split requirements\n",
      "[LightGBM] [Warning] Stopped training because there are no more leaves that meet the split requirements\n",
      "[LightGBM] [Warning] Stopped training because there are no more leaves that meet the split requirements\n",
      "[LightGBM] [Warning] Stopped training because there are no more leaves that meet the split requirements\n",
      "[LightGBM] [Warning] Stopped training because there are no more leaves that meet the split requirements\n",
      "[LightGBM] [Warning] Stopped training because there are no more leaves that meet the split requirements\n",
      "[LightGBM] [Warning] Stopped training because there are no more leaves that meet the split requirements\n",
      "[LightGBM] [Warning] Stopped training because there are no more leaves that meet the split requirements\n",
      "[LightGBM] [Warning] Stopped training because there are no more leaves that meet the split requirements\n",
      "[LightGBM] [Warning] Stopped training because there are no more leaves that meet the split requirements\n",
      "[LightGBM] [Warning] Stopped training because there are no more leaves that meet the split requirements\n",
      "[LightGBM] [Warning] Stopped training because there are no more leaves that meet the split requirements\n",
      "[LightGBM] [Warning] Stopped training because there are no more leaves that meet the split requirements\n",
      "[LightGBM] [Warning] Stopped training because there are no more leaves that meet the split requirements\n",
      "[LightGBM] [Warning] Stopped training because there are no more leaves that meet the split requirements\n",
      "[LightGBM] [Warning] Stopped training because there are no more leaves that meet the split requirements\n",
      "[LightGBM] [Warning] Stopped training because there are no more leaves that meet the split requirements\n",
      "[LightGBM] [Warning] Stopped training because there are no more leaves that meet the split requirements\n",
      "[LightGBM] [Warning] Stopped training because there are no more leaves that meet the split requirements\n",
      "[LightGBM] [Warning] Stopped training because there are no more leaves that meet the split requirements\n",
      "[LightGBM] [Warning] Stopped training because there are no more leaves that meet the split requirements\n",
      "[LightGBM] [Warning] Stopped training because there are no more leaves that meet the split requirements\n",
      "[LightGBM] [Warning] Stopped training because there are no more leaves that meet the split requirements\n",
      "[LightGBM] [Warning] Stopped training because there are no more leaves that meet the split requirements\n",
      "[LightGBM] [Warning] Stopped training because there are no more leaves that meet the split requirements\n",
      "[LightGBM] [Warning] Stopped training because there are no more leaves that meet the split requirements\n",
      "[LightGBM] [Warning] Stopped training because there are no more leaves that meet the split requirements\n",
      "[LightGBM] [Warning] Stopped training because there are no more leaves that meet the split requirements\n",
      "[LightGBM] [Warning] Stopped training because there are no more leaves that meet the split requirements\n",
      "[LightGBM] [Warning] Stopped training because there are no more leaves that meet the split requirements\n",
      "[LightGBM] [Warning] Stopped training because there are no more leaves that meet the split requirements\n",
      "[LightGBM] [Warning] Stopped training because there are no more leaves that meet the split requirements\n",
      "[LightGBM] [Warning] Stopped training because there are no more leaves that meet the split requirements\n",
      "[LightGBM] [Warning] Stopped training because there are no more leaves that meet the split requirements\n",
      "[LightGBM] [Warning] Stopped training because there are no more leaves that meet the split requirements\n",
      "[LightGBM] [Warning] There are no meaningful features which satisfy the provided configuration. Decreasing Dataset parameters min_data_in_bin or min_data_in_leaf and re-constructing Dataset might resolve this warning.\n",
      "[LightGBM] [Info] Number of positive: 1, number of negative: 1\n",
      "[LightGBM] [Info] This is the GPU trainer!!\n",
      "[LightGBM] [Info] Total Bins 0\n",
      "[LightGBM] [Info] Number of data points in the train set: 2, number of used features: 0\n",
      "[LightGBM] [Info] Using GPU Device: Intel(R) UHD Graphics 770, Vendor: Intel(R) Corporation\n",
      "[LightGBM] [Info] Compiling OpenCL Kernel with 16 bins...\n",
      "[LightGBM] [Info] GPU programs have been built\n",
      "[LightGBM] [Warning] GPU acceleration is disabled because no non-trivial dense features can be found\n",
      "[LightGBM] [Info] [binary:BoostFromScore]: pavg=0.500000 -> initscore=0.000000\n",
      "[LightGBM] [Warning] Stopped training because there are no more leaves that meet the split requirements\n",
      "[LightGBM] [Warning] Stopped training because there are no more leaves that meet the split requirements\n",
      "[LightGBM] [Warning] Stopped training because there are no more leaves that meet the split requirements\n",
      "[LightGBM] [Warning] Stopped training because there are no more leaves that meet the split requirements\n",
      "[LightGBM] [Warning] Stopped training because there are no more leaves that meet the split requirements\n",
      "[LightGBM] [Warning] Stopped training because there are no more leaves that meet the split requirements\n",
      "[LightGBM] [Warning] Stopped training because there are no more leaves that meet the split requirements\n",
      "[LightGBM] [Warning] Stopped training because there are no more leaves that meet the split requirements\n",
      "[LightGBM] [Warning] Stopped training because there are no more leaves that meet the split requirements\n",
      "[LightGBM] [Warning] Stopped training because there are no more leaves that meet the split requirements\n",
      "[LightGBM] [Warning] Stopped training because there are no more leaves that meet the split requirements\n",
      "[LightGBM] [Warning] Stopped training because there are no more leaves that meet the split requirements\n",
      "[LightGBM] [Warning] Stopped training because there are no more leaves that meet the split requirements\n",
      "[LightGBM] [Warning] Stopped training because there are no more leaves that meet the split requirements\n",
      "[LightGBM] [Warning] Stopped training because there are no more leaves that meet the split requirements\n",
      "[LightGBM] [Warning] Stopped training because there are no more leaves that meet the split requirements\n",
      "[LightGBM] [Warning] Stopped training because there are no more leaves that meet the split requirements\n",
      "[LightGBM] [Warning] Stopped training because there are no more leaves that meet the split requirements\n",
      "[LightGBM] [Warning] Stopped training because there are no more leaves that meet the split requirements\n",
      "[LightGBM] [Warning] Stopped training because there are no more leaves that meet the split requirements\n",
      "[LightGBM] [Warning] Stopped training because there are no more leaves that meet the split requirements\n",
      "[LightGBM] [Warning] Stopped training because there are no more leaves that meet the split requirements\n",
      "[LightGBM] [Warning] Stopped training because there are no more leaves that meet the split requirements\n",
      "[LightGBM] [Warning] Stopped training because there are no more leaves that meet the split requirements\n",
      "[LightGBM] [Warning] Stopped training because there are no more leaves that meet the split requirements\n",
      "[LightGBM] [Warning] Stopped training because there are no more leaves that meet the split requirements\n",
      "[LightGBM] [Warning] Stopped training because there are no more leaves that meet the split requirements\n",
      "[LightGBM] [Warning] Stopped training because there are no more leaves that meet the split requirements\n",
      "[LightGBM] [Warning] Stopped training because there are no more leaves that meet the split requirements\n",
      "[LightGBM] [Warning] Stopped training because there are no more leaves that meet the split requirements\n",
      "[LightGBM] [Warning] Stopped training because there are no more leaves that meet the split requirements\n",
      "[LightGBM] [Warning] Stopped training because there are no more leaves that meet the split requirements\n",
      "[LightGBM] [Warning] Stopped training because there are no more leaves that meet the split requirements\n",
      "[LightGBM] [Warning] Stopped training because there are no more leaves that meet the split requirements\n",
      "[LightGBM] [Warning] Stopped training because there are no more leaves that meet the split requirements\n",
      "[LightGBM] [Warning] Stopped training because there are no more leaves that meet the split requirements\n",
      "[LightGBM] [Warning] Stopped training because there are no more leaves that meet the split requirements\n",
      "[LightGBM] [Warning] Stopped training because there are no more leaves that meet the split requirements\n",
      "[LightGBM] [Warning] Stopped training because there are no more leaves that meet the split requirements\n",
      "[LightGBM] [Warning] Stopped training because there are no more leaves that meet the split requirements\n",
      "[LightGBM] [Warning] Stopped training because there are no more leaves that meet the split requirements\n",
      "[LightGBM] [Warning] Stopped training because there are no more leaves that meet the split requirements\n",
      "[LightGBM] [Warning] Stopped training because there are no more leaves that meet the split requirements\n",
      "[LightGBM] [Warning] Stopped training because there are no more leaves that meet the split requirements\n",
      "[LightGBM] [Warning] Stopped training because there are no more leaves that meet the split requirements\n",
      "[LightGBM] [Warning] Stopped training because there are no more leaves that meet the split requirements\n",
      "[LightGBM] [Warning] Stopped training because there are no more leaves that meet the split requirements\n",
      "[LightGBM] [Warning] Stopped training because there are no more leaves that meet the split requirements\n",
      "[LightGBM] [Warning] Stopped training because there are no more leaves that meet the split requirements\n",
      "[LightGBM] [Warning] Stopped training because there are no more leaves that meet the split requirements\n",
      "[LightGBM] [Warning] Stopped training because there are no more leaves that meet the split requirements\n",
      "[LightGBM] [Warning] Stopped training because there are no more leaves that meet the split requirements\n",
      "[LightGBM] [Warning] Stopped training because there are no more leaves that meet the split requirements\n",
      "[LightGBM] [Warning] Stopped training because there are no more leaves that meet the split requirements\n",
      "[LightGBM] [Warning] Stopped training because there are no more leaves that meet the split requirements\n",
      "[LightGBM] [Warning] Stopped training because there are no more leaves that meet the split requirements\n",
      "[LightGBM] [Warning] Stopped training because there are no more leaves that meet the split requirements\n",
      "[LightGBM] [Warning] Stopped training because there are no more leaves that meet the split requirements\n",
      "[LightGBM] [Warning] Stopped training because there are no more leaves that meet the split requirements\n",
      "[LightGBM] [Warning] Stopped training because there are no more leaves that meet the split requirements\n",
      "[LightGBM] [Warning] Stopped training because there are no more leaves that meet the split requirements\n",
      "[LightGBM] [Warning] Stopped training because there are no more leaves that meet the split requirements\n",
      "[LightGBM] [Warning] Stopped training because there are no more leaves that meet the split requirements\n",
      "[LightGBM] [Warning] Stopped training because there are no more leaves that meet the split requirements\n",
      "[LightGBM] [Warning] Stopped training because there are no more leaves that meet the split requirements\n",
      "[LightGBM] [Warning] Stopped training because there are no more leaves that meet the split requirements\n",
      "[LightGBM] [Warning] Stopped training because there are no more leaves that meet the split requirements\n",
      "[LightGBM] [Warning] Stopped training because there are no more leaves that meet the split requirements\n",
      "[LightGBM] [Warning] Stopped training because there are no more leaves that meet the split requirements\n",
      "[LightGBM] [Warning] Stopped training because there are no more leaves that meet the split requirements\n",
      "[LightGBM] [Warning] Stopped training because there are no more leaves that meet the split requirements\n",
      "[LightGBM] [Warning] Stopped training because there are no more leaves that meet the split requirements\n",
      "[LightGBM] [Warning] Stopped training because there are no more leaves that meet the split requirements\n",
      "[LightGBM] [Warning] Stopped training because there are no more leaves that meet the split requirements\n",
      "[LightGBM] [Warning] Stopped training because there are no more leaves that meet the split requirements\n",
      "[LightGBM] [Warning] Stopped training because there are no more leaves that meet the split requirements\n",
      "[LightGBM] [Warning] Stopped training because there are no more leaves that meet the split requirements\n",
      "[LightGBM] [Warning] Stopped training because there are no more leaves that meet the split requirements\n",
      "[LightGBM] [Warning] Stopped training because there are no more leaves that meet the split requirements\n",
      "[LightGBM] [Warning] Stopped training because there are no more leaves that meet the split requirements\n",
      "[LightGBM] [Warning] Stopped training because there are no more leaves that meet the split requirements\n",
      "[LightGBM] [Warning] Stopped training because there are no more leaves that meet the split requirements\n",
      "[LightGBM] [Warning] Stopped training because there are no more leaves that meet the split requirements\n",
      "[LightGBM] [Warning] Stopped training because there are no more leaves that meet the split requirements\n",
      "[LightGBM] [Warning] Stopped training because there are no more leaves that meet the split requirements\n",
      "[LightGBM] [Warning] Stopped training because there are no more leaves that meet the split requirements\n",
      "[LightGBM] [Warning] Stopped training because there are no more leaves that meet the split requirements\n",
      "[LightGBM] [Warning] Stopped training because there are no more leaves that meet the split requirements\n",
      "[LightGBM] [Warning] Stopped training because there are no more leaves that meet the split requirements\n",
      "[LightGBM] [Warning] Stopped training because there are no more leaves that meet the split requirements\n",
      "[LightGBM] [Warning] Stopped training because there are no more leaves that meet the split requirements\n",
      "[LightGBM] [Warning] Stopped training because there are no more leaves that meet the split requirements\n",
      "[LightGBM] [Warning] Stopped training because there are no more leaves that meet the split requirements\n",
      "[LightGBM] [Warning] Stopped training because there are no more leaves that meet the split requirements\n",
      "[LightGBM] [Warning] Stopped training because there are no more leaves that meet the split requirements\n",
      "[LightGBM] [Warning] Stopped training because there are no more leaves that meet the split requirements\n",
      "[LightGBM] [Warning] Stopped training because there are no more leaves that meet the split requirements\n",
      "[LightGBM] [Warning] Stopped training because there are no more leaves that meet the split requirements\n",
      "[LightGBM] [Warning] Stopped training because there are no more leaves that meet the split requirements\n",
      "[LightGBM] [Warning] Stopped training because there are no more leaves that meet the split requirements\n"
     ]
    },
    {
     "data": {
      "text/html": [],
      "text/plain": [
       "<IPython.core.display.HTML object>"
      ]
     },
     "metadata": {},
     "output_type": "display_data"
    },
    {
     "data": {
      "text/html": [
       "<style type=\"text/css\">\n",
       "#T_865a8 th {\n",
       "  text-align: left;\n",
       "}\n",
       "#T_865a8_row0_col0, #T_865a8_row0_col1, #T_865a8_row0_col3, #T_865a8_row0_col4, #T_865a8_row0_col5, #T_865a8_row0_col6, #T_865a8_row0_col7, #T_865a8_row1_col0, #T_865a8_row1_col1, #T_865a8_row1_col2, #T_865a8_row1_col3, #T_865a8_row1_col4, #T_865a8_row1_col5, #T_865a8_row1_col6, #T_865a8_row1_col7, #T_865a8_row2_col0, #T_865a8_row2_col1, #T_865a8_row2_col2, #T_865a8_row2_col3, #T_865a8_row2_col4, #T_865a8_row2_col5, #T_865a8_row2_col6, #T_865a8_row3_col0, #T_865a8_row3_col1, #T_865a8_row3_col2, #T_865a8_row3_col3, #T_865a8_row3_col4, #T_865a8_row3_col5, #T_865a8_row3_col6, #T_865a8_row3_col7, #T_865a8_row4_col0, #T_865a8_row4_col2, #T_865a8_row4_col3, #T_865a8_row4_col4, #T_865a8_row4_col7, #T_865a8_row5_col0, #T_865a8_row5_col1, #T_865a8_row5_col2, #T_865a8_row5_col3, #T_865a8_row5_col4, #T_865a8_row5_col5, #T_865a8_row5_col6, #T_865a8_row5_col7, #T_865a8_row6_col0, #T_865a8_row6_col1, #T_865a8_row6_col2, #T_865a8_row6_col3, #T_865a8_row6_col4, #T_865a8_row6_col5, #T_865a8_row6_col6, #T_865a8_row6_col7, #T_865a8_row7_col0, #T_865a8_row7_col1, #T_865a8_row7_col2, #T_865a8_row7_col3, #T_865a8_row7_col4, #T_865a8_row7_col5, #T_865a8_row7_col6, #T_865a8_row7_col7, #T_865a8_row8_col0, #T_865a8_row8_col1, #T_865a8_row8_col2, #T_865a8_row8_col3, #T_865a8_row8_col4, #T_865a8_row8_col5, #T_865a8_row8_col6, #T_865a8_row8_col7, #T_865a8_row9_col0, #T_865a8_row9_col1, #T_865a8_row9_col2, #T_865a8_row9_col3, #T_865a8_row9_col4, #T_865a8_row9_col5, #T_865a8_row9_col6, #T_865a8_row9_col7, #T_865a8_row10_col0, #T_865a8_row10_col1, #T_865a8_row10_col2, #T_865a8_row10_col3, #T_865a8_row10_col4, #T_865a8_row10_col5, #T_865a8_row10_col6, #T_865a8_row10_col7, #T_865a8_row11_col0, #T_865a8_row11_col1, #T_865a8_row11_col2, #T_865a8_row11_col3, #T_865a8_row11_col5, #T_865a8_row11_col6, #T_865a8_row11_col7, #T_865a8_row12_col0, #T_865a8_row12_col1, #T_865a8_row12_col2, #T_865a8_row12_col4, #T_865a8_row12_col5, #T_865a8_row12_col6, #T_865a8_row12_col7, #T_865a8_row13_col0, #T_865a8_row13_col1, #T_865a8_row13_col2, #T_865a8_row13_col3, #T_865a8_row13_col4, #T_865a8_row13_col5, #T_865a8_row13_col6, #T_865a8_row13_col7 {\n",
       "  text-align: left;\n",
       "}\n",
       "#T_865a8_row0_col2, #T_865a8_row2_col7, #T_865a8_row4_col1, #T_865a8_row4_col5, #T_865a8_row4_col6, #T_865a8_row11_col4, #T_865a8_row12_col3 {\n",
       "  text-align: left;\n",
       "  background-color: yellow;\n",
       "}\n",
       "#T_865a8_row0_col8, #T_865a8_row1_col8, #T_865a8_row2_col8, #T_865a8_row3_col8, #T_865a8_row4_col8, #T_865a8_row5_col8, #T_865a8_row6_col8, #T_865a8_row7_col8, #T_865a8_row8_col8, #T_865a8_row9_col8, #T_865a8_row10_col8, #T_865a8_row11_col8, #T_865a8_row12_col8 {\n",
       "  text-align: left;\n",
       "  background-color: lightgrey;\n",
       "}\n",
       "#T_865a8_row13_col8 {\n",
       "  text-align: left;\n",
       "  background-color: yellow;\n",
       "  background-color: lightgrey;\n",
       "}\n",
       "</style>\n",
       "<table id=\"T_865a8\">\n",
       "  <thead>\n",
       "    <tr>\n",
       "      <th class=\"blank level0\" >&nbsp;</th>\n",
       "      <th id=\"T_865a8_level0_col0\" class=\"col_heading level0 col0\" >Model</th>\n",
       "      <th id=\"T_865a8_level0_col1\" class=\"col_heading level0 col1\" >Accuracy</th>\n",
       "      <th id=\"T_865a8_level0_col2\" class=\"col_heading level0 col2\" >AUC</th>\n",
       "      <th id=\"T_865a8_level0_col3\" class=\"col_heading level0 col3\" >Recall</th>\n",
       "      <th id=\"T_865a8_level0_col4\" class=\"col_heading level0 col4\" >Prec.</th>\n",
       "      <th id=\"T_865a8_level0_col5\" class=\"col_heading level0 col5\" >F1</th>\n",
       "      <th id=\"T_865a8_level0_col6\" class=\"col_heading level0 col6\" >Kappa</th>\n",
       "      <th id=\"T_865a8_level0_col7\" class=\"col_heading level0 col7\" >MCC</th>\n",
       "      <th id=\"T_865a8_level0_col8\" class=\"col_heading level0 col8\" >TT (Sec)</th>\n",
       "    </tr>\n",
       "  </thead>\n",
       "  <tbody>\n",
       "    <tr>\n",
       "      <th id=\"T_865a8_level0_row0\" class=\"row_heading level0 row0\" >lr</th>\n",
       "      <td id=\"T_865a8_row0_col0\" class=\"data row0 col0\" >Logistic Regression</td>\n",
       "      <td id=\"T_865a8_row0_col1\" class=\"data row0 col1\" >0.7019</td>\n",
       "      <td id=\"T_865a8_row0_col2\" class=\"data row0 col2\" >0.7339</td>\n",
       "      <td id=\"T_865a8_row0_col3\" class=\"data row0 col3\" >0.7300</td>\n",
       "      <td id=\"T_865a8_row0_col4\" class=\"data row0 col4\" >0.8198</td>\n",
       "      <td id=\"T_865a8_row0_col5\" class=\"data row0 col5\" >0.7720</td>\n",
       "      <td id=\"T_865a8_row0_col6\" class=\"data row0 col6\" >0.3453</td>\n",
       "      <td id=\"T_865a8_row0_col7\" class=\"data row0 col7\" >0.3505</td>\n",
       "      <td id=\"T_865a8_row0_col8\" class=\"data row0 col8\" >0.0560</td>\n",
       "    </tr>\n",
       "    <tr>\n",
       "      <th id=\"T_865a8_level0_row1\" class=\"row_heading level0 row1\" >ridge</th>\n",
       "      <td id=\"T_865a8_row1_col0\" class=\"data row1 col0\" >Ridge Classifier</td>\n",
       "      <td id=\"T_865a8_row1_col1\" class=\"data row1 col1\" >0.7033</td>\n",
       "      <td id=\"T_865a8_row1_col2\" class=\"data row1 col2\" >0.7333</td>\n",
       "      <td id=\"T_865a8_row1_col3\" class=\"data row1 col3\" >0.7351</td>\n",
       "      <td id=\"T_865a8_row1_col4\" class=\"data row1 col4\" >0.8180</td>\n",
       "      <td id=\"T_865a8_row1_col5\" class=\"data row1 col5\" >0.7741</td>\n",
       "      <td id=\"T_865a8_row1_col6\" class=\"data row1 col6\" >0.3453</td>\n",
       "      <td id=\"T_865a8_row1_col7\" class=\"data row1 col7\" >0.3498</td>\n",
       "      <td id=\"T_865a8_row1_col8\" class=\"data row1 col8\" >0.0480</td>\n",
       "    </tr>\n",
       "    <tr>\n",
       "      <th id=\"T_865a8_level0_row2\" class=\"row_heading level0 row2\" >lda</th>\n",
       "      <td id=\"T_865a8_row2_col0\" class=\"data row2 col0\" >Linear Discriminant Analysis</td>\n",
       "      <td id=\"T_865a8_row2_col1\" class=\"data row2 col1\" >0.7036</td>\n",
       "      <td id=\"T_865a8_row2_col2\" class=\"data row2 col2\" >0.7326</td>\n",
       "      <td id=\"T_865a8_row2_col3\" class=\"data row2 col3\" >0.7344</td>\n",
       "      <td id=\"T_865a8_row2_col4\" class=\"data row2 col4\" >0.8188</td>\n",
       "      <td id=\"T_865a8_row2_col5\" class=\"data row2 col5\" >0.7741</td>\n",
       "      <td id=\"T_865a8_row2_col6\" class=\"data row2 col6\" >0.3465</td>\n",
       "      <td id=\"T_865a8_row2_col7\" class=\"data row2 col7\" >0.3511</td>\n",
       "      <td id=\"T_865a8_row2_col8\" class=\"data row2 col8\" >0.0490</td>\n",
       "    </tr>\n",
       "    <tr>\n",
       "      <th id=\"T_865a8_level0_row3\" class=\"row_heading level0 row3\" >gbc</th>\n",
       "      <td id=\"T_865a8_row3_col0\" class=\"data row3 col0\" >Gradient Boosting Classifier</td>\n",
       "      <td id=\"T_865a8_row3_col1\" class=\"data row3 col1\" >0.7015</td>\n",
       "      <td id=\"T_865a8_row3_col2\" class=\"data row3 col2\" >0.7311</td>\n",
       "      <td id=\"T_865a8_row3_col3\" class=\"data row3 col3\" >0.7494</td>\n",
       "      <td id=\"T_865a8_row3_col4\" class=\"data row3 col4\" >0.8059</td>\n",
       "      <td id=\"T_865a8_row3_col5\" class=\"data row3 col5\" >0.7764</td>\n",
       "      <td id=\"T_865a8_row3_col6\" class=\"data row3 col6\" >0.3288</td>\n",
       "      <td id=\"T_865a8_row3_col7\" class=\"data row3 col7\" >0.3310</td>\n",
       "      <td id=\"T_865a8_row3_col8\" class=\"data row3 col8\" >0.2170</td>\n",
       "    </tr>\n",
       "    <tr>\n",
       "      <th id=\"T_865a8_level0_row4\" class=\"row_heading level0 row4\" >svm</th>\n",
       "      <td id=\"T_865a8_row4_col0\" class=\"data row4 col0\" >SVM - Linear Kernel</td>\n",
       "      <td id=\"T_865a8_row4_col1\" class=\"data row4 col1\" >0.7106</td>\n",
       "      <td id=\"T_865a8_row4_col2\" class=\"data row4 col2\" >0.7294</td>\n",
       "      <td id=\"T_865a8_row4_col3\" class=\"data row4 col3\" >0.7566</td>\n",
       "      <td id=\"T_865a8_row4_col4\" class=\"data row4 col4\" >0.8129</td>\n",
       "      <td id=\"T_865a8_row4_col5\" class=\"data row4 col5\" >0.7835</td>\n",
       "      <td id=\"T_865a8_row4_col6\" class=\"data row4 col6\" >0.3486</td>\n",
       "      <td id=\"T_865a8_row4_col7\" class=\"data row4 col7\" >0.3510</td>\n",
       "      <td id=\"T_865a8_row4_col8\" class=\"data row4 col8\" >0.0610</td>\n",
       "    </tr>\n",
       "    <tr>\n",
       "      <th id=\"T_865a8_level0_row5\" class=\"row_heading level0 row5\" >lightgbm</th>\n",
       "      <td id=\"T_865a8_row5_col0\" class=\"data row5 col0\" >Light Gradient Boosting Machine</td>\n",
       "      <td id=\"T_865a8_row5_col1\" class=\"data row5 col1\" >0.6835</td>\n",
       "      <td id=\"T_865a8_row5_col2\" class=\"data row5 col2\" >0.7287</td>\n",
       "      <td id=\"T_865a8_row5_col3\" class=\"data row5 col3\" >0.7022</td>\n",
       "      <td id=\"T_865a8_row5_col4\" class=\"data row5 col4\" >0.8153</td>\n",
       "      <td id=\"T_865a8_row5_col5\" class=\"data row5 col5\" >0.7541</td>\n",
       "      <td id=\"T_865a8_row5_col6\" class=\"data row5 col6\" >0.3168</td>\n",
       "      <td id=\"T_865a8_row5_col7\" class=\"data row5 col7\" >0.3242</td>\n",
       "      <td id=\"T_865a8_row5_col8\" class=\"data row5 col8\" >0.7080</td>\n",
       "    </tr>\n",
       "    <tr>\n",
       "      <th id=\"T_865a8_level0_row6\" class=\"row_heading level0 row6\" >ada</th>\n",
       "      <td id=\"T_865a8_row6_col0\" class=\"data row6 col0\" >Ada Boost Classifier</td>\n",
       "      <td id=\"T_865a8_row6_col1\" class=\"data row6 col1\" >0.7050</td>\n",
       "      <td id=\"T_865a8_row6_col2\" class=\"data row6 col2\" >0.7279</td>\n",
       "      <td id=\"T_865a8_row6_col3\" class=\"data row6 col3\" >0.7423</td>\n",
       "      <td id=\"T_865a8_row6_col4\" class=\"data row6 col4\" >0.8154</td>\n",
       "      <td id=\"T_865a8_row6_col5\" class=\"data row6 col5\" >0.7768</td>\n",
       "      <td id=\"T_865a8_row6_col6\" class=\"data row6 col6\" >0.3441</td>\n",
       "      <td id=\"T_865a8_row6_col7\" class=\"data row6 col7\" >0.3479</td>\n",
       "      <td id=\"T_865a8_row6_col8\" class=\"data row6 col8\" >0.1290</td>\n",
       "    </tr>\n",
       "    <tr>\n",
       "      <th id=\"T_865a8_level0_row7\" class=\"row_heading level0 row7\" >rf</th>\n",
       "      <td id=\"T_865a8_row7_col0\" class=\"data row7 col0\" >Random Forest Classifier</td>\n",
       "      <td id=\"T_865a8_row7_col1\" class=\"data row7 col1\" >0.6793</td>\n",
       "      <td id=\"T_865a8_row7_col2\" class=\"data row7 col2\" >0.7124</td>\n",
       "      <td id=\"T_865a8_row7_col3\" class=\"data row7 col3\" >0.7151</td>\n",
       "      <td id=\"T_865a8_row7_col4\" class=\"data row7 col4\" >0.8008</td>\n",
       "      <td id=\"T_865a8_row7_col5\" class=\"data row7 col5\" >0.7551</td>\n",
       "      <td id=\"T_865a8_row7_col6\" class=\"data row7 col6\" >0.2944</td>\n",
       "      <td id=\"T_865a8_row7_col7\" class=\"data row7 col7\" >0.2988</td>\n",
       "      <td id=\"T_865a8_row7_col8\" class=\"data row7 col8\" >0.1800</td>\n",
       "    </tr>\n",
       "    <tr>\n",
       "      <th id=\"T_865a8_level0_row8\" class=\"row_heading level0 row8\" >et</th>\n",
       "      <td id=\"T_865a8_row8_col0\" class=\"data row8 col0\" >Extra Trees Classifier</td>\n",
       "      <td id=\"T_865a8_row8_col1\" class=\"data row8 col1\" >0.6805</td>\n",
       "      <td id=\"T_865a8_row8_col2\" class=\"data row8 col2\" >0.7091</td>\n",
       "      <td id=\"T_865a8_row8_col3\" class=\"data row8 col3\" >0.7117</td>\n",
       "      <td id=\"T_865a8_row8_col4\" class=\"data row8 col4\" >0.8046</td>\n",
       "      <td id=\"T_865a8_row8_col5\" class=\"data row8 col5\" >0.7550</td>\n",
       "      <td id=\"T_865a8_row8_col6\" class=\"data row8 col6\" >0.3004</td>\n",
       "      <td id=\"T_865a8_row8_col7\" class=\"data row8 col7\" >0.3055</td>\n",
       "      <td id=\"T_865a8_row8_col8\" class=\"data row8 col8\" >0.1620</td>\n",
       "    </tr>\n",
       "    <tr>\n",
       "      <th id=\"T_865a8_level0_row9\" class=\"row_heading level0 row9\" >dt</th>\n",
       "      <td id=\"T_865a8_row9_col0\" class=\"data row9 col0\" >Decision Tree Classifier</td>\n",
       "      <td id=\"T_865a8_row9_col1\" class=\"data row9 col1\" >0.6802</td>\n",
       "      <td id=\"T_865a8_row9_col2\" class=\"data row9 col2\" >0.7074</td>\n",
       "      <td id=\"T_865a8_row9_col3\" class=\"data row9 col3\" >0.7117</td>\n",
       "      <td id=\"T_865a8_row9_col4\" class=\"data row9 col4\" >0.8043</td>\n",
       "      <td id=\"T_865a8_row9_col5\" class=\"data row9 col5\" >0.7548</td>\n",
       "      <td id=\"T_865a8_row9_col6\" class=\"data row9 col6\" >0.2997</td>\n",
       "      <td id=\"T_865a8_row9_col7\" class=\"data row9 col7\" >0.3048</td>\n",
       "      <td id=\"T_865a8_row9_col8\" class=\"data row9 col8\" >0.0460</td>\n",
       "    </tr>\n",
       "    <tr>\n",
       "      <th id=\"T_865a8_level0_row10\" class=\"row_heading level0 row10\" >nb</th>\n",
       "      <td id=\"T_865a8_row10_col0\" class=\"data row10 col0\" >Naive Bayes</td>\n",
       "      <td id=\"T_865a8_row10_col1\" class=\"data row10 col1\" >0.4975</td>\n",
       "      <td id=\"T_865a8_row10_col2\" class=\"data row10 col2\" >0.7038</td>\n",
       "      <td id=\"T_865a8_row10_col3\" class=\"data row10 col3\" >0.3475</td>\n",
       "      <td id=\"T_865a8_row10_col4\" class=\"data row10 col4\" >0.8264</td>\n",
       "      <td id=\"T_865a8_row10_col5\" class=\"data row10 col5\" >0.4858</td>\n",
       "      <td id=\"T_865a8_row10_col6\" class=\"data row10 col6\" >0.1353</td>\n",
       "      <td id=\"T_865a8_row10_col7\" class=\"data row10 col7\" >0.1862</td>\n",
       "      <td id=\"T_865a8_row10_col8\" class=\"data row10 col8\" >0.0420</td>\n",
       "    </tr>\n",
       "    <tr>\n",
       "      <th id=\"T_865a8_level0_row11\" class=\"row_heading level0 row11\" >qda</th>\n",
       "      <td id=\"T_865a8_row11_col0\" class=\"data row11 col0\" >Quadratic Discriminant Analysis</td>\n",
       "      <td id=\"T_865a8_row11_col1\" class=\"data row11 col1\" >0.3841</td>\n",
       "      <td id=\"T_865a8_row11_col2\" class=\"data row11 col2\" >0.6671</td>\n",
       "      <td id=\"T_865a8_row11_col3\" class=\"data row11 col3\" >0.1588</td>\n",
       "      <td id=\"T_865a8_row11_col4\" class=\"data row11 col4\" >0.8327</td>\n",
       "      <td id=\"T_865a8_row11_col5\" class=\"data row11 col5\" >0.2473</td>\n",
       "      <td id=\"T_865a8_row11_col6\" class=\"data row11 col6\" >0.0336</td>\n",
       "      <td id=\"T_865a8_row11_col7\" class=\"data row11 col7\" >0.0832</td>\n",
       "      <td id=\"T_865a8_row11_col8\" class=\"data row11 col8\" >0.0560</td>\n",
       "    </tr>\n",
       "    <tr>\n",
       "      <th id=\"T_865a8_level0_row12\" class=\"row_heading level0 row12\" >knn</th>\n",
       "      <td id=\"T_865a8_row12_col0\" class=\"data row12 col0\" >K Neighbors Classifier</td>\n",
       "      <td id=\"T_865a8_row12_col1\" class=\"data row12 col1\" >0.6777</td>\n",
       "      <td id=\"T_865a8_row12_col2\" class=\"data row12 col2\" >0.6621</td>\n",
       "      <td id=\"T_865a8_row12_col3\" class=\"data row12 col3\" >0.7848</td>\n",
       "      <td id=\"T_865a8_row12_col4\" class=\"data row12 col4\" >0.7582</td>\n",
       "      <td id=\"T_865a8_row12_col5\" class=\"data row12 col5\" >0.7710</td>\n",
       "      <td id=\"T_865a8_row12_col6\" class=\"data row12 col6\" >0.2265</td>\n",
       "      <td id=\"T_865a8_row12_col7\" class=\"data row12 col7\" >0.2275</td>\n",
       "      <td id=\"T_865a8_row12_col8\" class=\"data row12 col8\" >0.0640</td>\n",
       "    </tr>\n",
       "    <tr>\n",
       "      <th id=\"T_865a8_level0_row13\" class=\"row_heading level0 row13\" >dummy</th>\n",
       "      <td id=\"T_865a8_row13_col0\" class=\"data row13 col0\" >Dummy Classifier</td>\n",
       "      <td id=\"T_865a8_row13_col1\" class=\"data row13 col1\" >0.3075</td>\n",
       "      <td id=\"T_865a8_row13_col2\" class=\"data row13 col2\" >0.5000</td>\n",
       "      <td id=\"T_865a8_row13_col3\" class=\"data row13 col3\" >0.0000</td>\n",
       "      <td id=\"T_865a8_row13_col4\" class=\"data row13 col4\" >0.0000</td>\n",
       "      <td id=\"T_865a8_row13_col5\" class=\"data row13 col5\" >0.0000</td>\n",
       "      <td id=\"T_865a8_row13_col6\" class=\"data row13 col6\" >0.0000</td>\n",
       "      <td id=\"T_865a8_row13_col7\" class=\"data row13 col7\" >0.0000</td>\n",
       "      <td id=\"T_865a8_row13_col8\" class=\"data row13 col8\" >0.0410</td>\n",
       "    </tr>\n",
       "  </tbody>\n",
       "</table>\n"
      ],
      "text/plain": [
       "<pandas.io.formats.style.Styler at 0x208e98d33d0>"
      ]
     },
     "metadata": {},
     "output_type": "display_data"
    },
    {
     "data": {
      "text/html": [],
      "text/plain": [
       "<IPython.core.display.HTML object>"
      ]
     },
     "metadata": {},
     "output_type": "display_data"
    },
    {
     "name": "stdout",
     "output_type": "stream",
     "text": [
      "\n",
      "##### RESULTADO FINAL DAS AVALIAÇÕES #####\n"
     ]
    },
    {
     "data": {
      "text/html": [
       "<div>\n",
       "<style scoped>\n",
       "    .dataframe tbody tr th:only-of-type {\n",
       "        vertical-align: middle;\n",
       "    }\n",
       "\n",
       "    .dataframe tbody tr th {\n",
       "        vertical-align: top;\n",
       "    }\n",
       "\n",
       "    .dataframe thead th {\n",
       "        text-align: right;\n",
       "    }\n",
       "</style>\n",
       "<table border=\"1\" class=\"dataframe\">\n",
       "  <thead>\n",
       "    <tr style=\"text-align: right;\">\n",
       "      <th></th>\n",
       "      <th>Test_AUC</th>\n",
       "      <th>Test_Accuracy</th>\n",
       "      <th>Test_Recall</th>\n",
       "      <th>Test_Precision</th>\n",
       "      <th>Test_F1</th>\n",
       "      <th>Target</th>\n",
       "      <th>Model</th>\n",
       "    </tr>\n",
       "  </thead>\n",
       "  <tbody>\n",
       "    <tr>\n",
       "      <th>0</th>\n",
       "      <td>0.768133</td>\n",
       "      <td>0.723979</td>\n",
       "      <td>0.746269</td>\n",
       "      <td>0.844773</td>\n",
       "      <td>0.792472</td>\n",
       "      <td>AffectedCountAbove1000</td>\n",
       "      <td>LinearDiscriminantAnalysis(covariance_estimato...</td>\n",
       "    </tr>\n",
       "    <tr>\n",
       "      <th>1</th>\n",
       "      <td>0.763881</td>\n",
       "      <td>0.722003</td>\n",
       "      <td>0.741604</td>\n",
       "      <td>0.845745</td>\n",
       "      <td>0.790258</td>\n",
       "      <td>AffectedCountAbove1000</td>\n",
       "      <td>LogisticRegression(C=1.0, class_weight=None, d...</td>\n",
       "    </tr>\n",
       "    <tr>\n",
       "      <th>2</th>\n",
       "      <td>0.763761</td>\n",
       "      <td>0.730567</td>\n",
       "      <td>0.766791</td>\n",
       "      <td>0.837920</td>\n",
       "      <td>0.800779</td>\n",
       "      <td>AffectedCountAbove1000</td>\n",
       "      <td>GradientBoostingClassifier(ccp_alpha=0.0, crit...</td>\n",
       "    </tr>\n",
       "    <tr>\n",
       "      <th>3</th>\n",
       "      <td>0.756542</td>\n",
       "      <td>0.715415</td>\n",
       "      <td>0.736007</td>\n",
       "      <td>0.841151</td>\n",
       "      <td>0.785075</td>\n",
       "      <td>AffectedCountAbove1000</td>\n",
       "      <td>AdaBoostClassifier(algorithm='SAMME.R', estima...</td>\n",
       "    </tr>\n",
       "    <tr>\n",
       "      <th>4</th>\n",
       "      <td>0.755733</td>\n",
       "      <td>0.715415</td>\n",
       "      <td>0.733209</td>\n",
       "      <td>0.843348</td>\n",
       "      <td>0.784431</td>\n",
       "      <td>AffectedCountAbove1000</td>\n",
       "      <td>LGBMClassifier(boosting_type='gbdt', class_wei...</td>\n",
       "    </tr>\n",
       "    <tr>\n",
       "      <th>5</th>\n",
       "      <td>0.743055</td>\n",
       "      <td>0.718050</td>\n",
       "      <td>0.750933</td>\n",
       "      <td>0.833333</td>\n",
       "      <td>0.789990</td>\n",
       "      <td>AffectedCountAbove1000</td>\n",
       "      <td>RandomForestClassifier(bootstrap=True, ccp_alp...</td>\n",
       "    </tr>\n",
       "    <tr>\n",
       "      <th>6</th>\n",
       "      <td>0.739723</td>\n",
       "      <td>0.701581</td>\n",
       "      <td>0.706157</td>\n",
       "      <td>0.845810</td>\n",
       "      <td>0.769700</td>\n",
       "      <td>AffectedCountAbove1000</td>\n",
       "      <td>ExtraTreesClassifier(bootstrap=False, ccp_alph...</td>\n",
       "    </tr>\n",
       "    <tr>\n",
       "      <th>7</th>\n",
       "      <td>0.739319</td>\n",
       "      <td>0.698946</td>\n",
       "      <td>0.701493</td>\n",
       "      <td>0.845894</td>\n",
       "      <td>0.766956</td>\n",
       "      <td>AffectedCountAbove1000</td>\n",
       "      <td>DecisionTreeClassifier(ccp_alpha=0.0, class_we...</td>\n",
       "    </tr>\n",
       "    <tr>\n",
       "      <th>8</th>\n",
       "      <td>0.707403</td>\n",
       "      <td>0.722661</td>\n",
       "      <td>0.744403</td>\n",
       "      <td>0.844444</td>\n",
       "      <td>0.791274</td>\n",
       "      <td>AffectedCountAbove1000</td>\n",
       "      <td>RidgeClassifier(alpha=1.0, class_weight=None, ...</td>\n",
       "    </tr>\n",
       "    <tr>\n",
       "      <th>9</th>\n",
       "      <td>0.707108</td>\n",
       "      <td>0.730567</td>\n",
       "      <td>0.763993</td>\n",
       "      <td>0.840000</td>\n",
       "      <td>0.800195</td>\n",
       "      <td>AffectedCountAbove1000</td>\n",
       "      <td>SGDClassifier(alpha=0.0001, average=False, cla...</td>\n",
       "    </tr>\n",
       "    <tr>\n",
       "      <th>10</th>\n",
       "      <td>0.747807</td>\n",
       "      <td>0.688757</td>\n",
       "      <td>0.679083</td>\n",
       "      <td>0.709581</td>\n",
       "      <td>0.693997</td>\n",
       "      <td>DeathCountAbove10</td>\n",
       "      <td>LGBMClassifier(boosting_type='gbdt', class_wei...</td>\n",
       "    </tr>\n",
       "    <tr>\n",
       "      <th>11</th>\n",
       "      <td>0.744188</td>\n",
       "      <td>0.674609</td>\n",
       "      <td>0.581662</td>\n",
       "      <td>0.736842</td>\n",
       "      <td>0.650120</td>\n",
       "      <td>DeathCountAbove10</td>\n",
       "      <td>GradientBoostingClassifier(ccp_alpha=0.0, crit...</td>\n",
       "    </tr>\n",
       "    <tr>\n",
       "      <th>12</th>\n",
       "      <td>0.740010</td>\n",
       "      <td>0.664929</td>\n",
       "      <td>0.650430</td>\n",
       "      <td>0.687879</td>\n",
       "      <td>0.668630</td>\n",
       "      <td>DeathCountAbove10</td>\n",
       "      <td>LinearDiscriminantAnalysis(covariance_estimato...</td>\n",
       "    </tr>\n",
       "    <tr>\n",
       "      <th>13</th>\n",
       "      <td>0.739889</td>\n",
       "      <td>0.687267</td>\n",
       "      <td>0.689112</td>\n",
       "      <td>0.703216</td>\n",
       "      <td>0.696093</td>\n",
       "      <td>DeathCountAbove10</td>\n",
       "      <td>RandomForestClassifier(bootstrap=True, ccp_alp...</td>\n",
       "    </tr>\n",
       "    <tr>\n",
       "      <th>14</th>\n",
       "      <td>0.739215</td>\n",
       "      <td>0.688757</td>\n",
       "      <td>0.683381</td>\n",
       "      <td>0.707715</td>\n",
       "      <td>0.695335</td>\n",
       "      <td>DeathCountAbove10</td>\n",
       "      <td>ExtraTreesClassifier(bootstrap=False, ccp_alph...</td>\n",
       "    </tr>\n",
       "    <tr>\n",
       "      <th>15</th>\n",
       "      <td>0.738669</td>\n",
       "      <td>0.688757</td>\n",
       "      <td>0.684814</td>\n",
       "      <td>0.707101</td>\n",
       "      <td>0.695779</td>\n",
       "      <td>DeathCountAbove10</td>\n",
       "      <td>DecisionTreeClassifier(ccp_alpha=0.0, class_we...</td>\n",
       "    </tr>\n",
       "    <tr>\n",
       "      <th>16</th>\n",
       "      <td>0.736490</td>\n",
       "      <td>0.663440</td>\n",
       "      <td>0.647564</td>\n",
       "      <td>0.686930</td>\n",
       "      <td>0.666667</td>\n",
       "      <td>DeathCountAbove10</td>\n",
       "      <td>LogisticRegression(C=1.0, class_weight=None, d...</td>\n",
       "    </tr>\n",
       "    <tr>\n",
       "      <th>17</th>\n",
       "      <td>0.734243</td>\n",
       "      <td>0.645570</td>\n",
       "      <td>0.842407</td>\n",
       "      <td>0.616352</td>\n",
       "      <td>0.711864</td>\n",
       "      <td>DeathCountAbove10</td>\n",
       "      <td>QuadraticDiscriminantAnalysis(priors=None, reg...</td>\n",
       "    </tr>\n",
       "    <tr>\n",
       "      <th>18</th>\n",
       "      <td>0.733761</td>\n",
       "      <td>0.660462</td>\n",
       "      <td>0.638968</td>\n",
       "      <td>0.686154</td>\n",
       "      <td>0.661721</td>\n",
       "      <td>DeathCountAbove10</td>\n",
       "      <td>AdaBoostClassifier(algorithm='SAMME.R', estima...</td>\n",
       "    </tr>\n",
       "    <tr>\n",
       "      <th>19</th>\n",
       "      <td>0.665525</td>\n",
       "      <td>0.664929</td>\n",
       "      <td>0.650430</td>\n",
       "      <td>0.687879</td>\n",
       "      <td>0.668630</td>\n",
       "      <td>DeathCountAbove10</td>\n",
       "      <td>RidgeClassifier(alpha=1.0, class_weight=None, ...</td>\n",
       "    </tr>\n",
       "  </tbody>\n",
       "</table>\n",
       "</div>"
      ],
      "text/plain": [
       "    Test_AUC  Test_Accuracy  Test_Recall  Test_Precision   Test_F1  \\\n",
       "0   0.768133       0.723979     0.746269        0.844773  0.792472   \n",
       "1   0.763881       0.722003     0.741604        0.845745  0.790258   \n",
       "2   0.763761       0.730567     0.766791        0.837920  0.800779   \n",
       "3   0.756542       0.715415     0.736007        0.841151  0.785075   \n",
       "4   0.755733       0.715415     0.733209        0.843348  0.784431   \n",
       "5   0.743055       0.718050     0.750933        0.833333  0.789990   \n",
       "6   0.739723       0.701581     0.706157        0.845810  0.769700   \n",
       "7   0.739319       0.698946     0.701493        0.845894  0.766956   \n",
       "8   0.707403       0.722661     0.744403        0.844444  0.791274   \n",
       "9   0.707108       0.730567     0.763993        0.840000  0.800195   \n",
       "10  0.747807       0.688757     0.679083        0.709581  0.693997   \n",
       "11  0.744188       0.674609     0.581662        0.736842  0.650120   \n",
       "12  0.740010       0.664929     0.650430        0.687879  0.668630   \n",
       "13  0.739889       0.687267     0.689112        0.703216  0.696093   \n",
       "14  0.739215       0.688757     0.683381        0.707715  0.695335   \n",
       "15  0.738669       0.688757     0.684814        0.707101  0.695779   \n",
       "16  0.736490       0.663440     0.647564        0.686930  0.666667   \n",
       "17  0.734243       0.645570     0.842407        0.616352  0.711864   \n",
       "18  0.733761       0.660462     0.638968        0.686154  0.661721   \n",
       "19  0.665525       0.664929     0.650430        0.687879  0.668630   \n",
       "\n",
       "                    Target                                              Model  \n",
       "0   AffectedCountAbove1000  LinearDiscriminantAnalysis(covariance_estimato...  \n",
       "1   AffectedCountAbove1000  LogisticRegression(C=1.0, class_weight=None, d...  \n",
       "2   AffectedCountAbove1000  GradientBoostingClassifier(ccp_alpha=0.0, crit...  \n",
       "3   AffectedCountAbove1000  AdaBoostClassifier(algorithm='SAMME.R', estima...  \n",
       "4   AffectedCountAbove1000  LGBMClassifier(boosting_type='gbdt', class_wei...  \n",
       "5   AffectedCountAbove1000  RandomForestClassifier(bootstrap=True, ccp_alp...  \n",
       "6   AffectedCountAbove1000  ExtraTreesClassifier(bootstrap=False, ccp_alph...  \n",
       "7   AffectedCountAbove1000  DecisionTreeClassifier(ccp_alpha=0.0, class_we...  \n",
       "8   AffectedCountAbove1000  RidgeClassifier(alpha=1.0, class_weight=None, ...  \n",
       "9   AffectedCountAbove1000  SGDClassifier(alpha=0.0001, average=False, cla...  \n",
       "10       DeathCountAbove10  LGBMClassifier(boosting_type='gbdt', class_wei...  \n",
       "11       DeathCountAbove10  GradientBoostingClassifier(ccp_alpha=0.0, crit...  \n",
       "12       DeathCountAbove10  LinearDiscriminantAnalysis(covariance_estimato...  \n",
       "13       DeathCountAbove10  RandomForestClassifier(bootstrap=True, ccp_alp...  \n",
       "14       DeathCountAbove10  ExtraTreesClassifier(bootstrap=False, ccp_alph...  \n",
       "15       DeathCountAbove10  DecisionTreeClassifier(ccp_alpha=0.0, class_we...  \n",
       "16       DeathCountAbove10  LogisticRegression(C=1.0, class_weight=None, d...  \n",
       "17       DeathCountAbove10  QuadraticDiscriminantAnalysis(priors=None, reg...  \n",
       "18       DeathCountAbove10  AdaBoostClassifier(algorithm='SAMME.R', estima...  \n",
       "19       DeathCountAbove10  RidgeClassifier(alpha=1.0, class_weight=None, ...  "
      ]
     },
     "metadata": {},
     "output_type": "display_data"
    }
   ],
   "source": [
    "avaliacoes_completas = [] \n",
    "targets\n",
    "for target in ['DeathCountAbove10', 'AffectedCountAbove1000']:\n",
    "    base_name = target.lower()\n",
    "    train_path = f'{processed_data_path}train_{base_name}.csv'\n",
    "    test_path = f'{processed_data_path}test_{base_name}.csv'\n",
    "    \n",
    "    print(f\"\\n\\n=== TREINAMENTO E AVALIAÇÃO PARA O TARGET: '{target}' ===\")\n",
    "    \n",
    "    df_train = pd.read_csv(train_path)\n",
    "    clf_setup = setup(\n",
    "        data=df_train,\n",
    "        target=target,\n",
    "        session_id=42,\n",
    "        verbose=False,\n",
    "        use_gpu=True,\n",
    "        fix_imbalance = True\n",
    "    )\n",
    "    \n",
    "    # Linha abaixo usada para debug no processo (argumento model.feature_names_in_ retornando a target)\n",
    "    #print(\"###\", get_config(\"X_train\").columns)\n",
    "\n",
    "    best_models = compare_models(n_select=10, sort=\"AUC\")\n",
    "    \n",
    "    \n",
    "    df_test = pd.read_csv(test_path)\n",
    "    \n",
    "    for modelo in best_models:\n",
    "        resultados = avaliar_modelo_teste(\n",
    "            modelo=modelo,\n",
    "            df_test=df_test,\n",
    "            target_col=target,\n",
    "        )\n",
    "        resultados['Target'] = target\n",
    "        resultados['Model'] = str(modelo) \n",
    "        avaliacoes_completas.append(resultados)\n",
    "\n",
    "df_avaliacoes = pd.DataFrame(avaliacoes_completas)\n",
    "df_avaliacoes = df_avaliacoes.sort_values(\n",
    "    by=['Target', 'Test_AUC'], ascending=[True, False]\n",
    ").reset_index(drop=True)\n",
    "\n",
    "print(\"\\n##### RESULTADO FINAL DAS AVALIAÇÕES #####\")\n",
    "display(df_avaliacoes)"
   ]
  },
  {
   "cell_type": "markdown",
   "id": "ca04d77b",
   "metadata": {},
   "source": [
    "## Conclusão\n",
    "\n",
    "Pretendíamos fazer uso de dois classificadores sobre os dados de entrada na nossa aplicação de modo a retornar mais informações, porém, ao avaliarmos as métricas das predições em teste para DeathCountAbove10, apesar de termos um valor próximo do aceitável em AUC, notamos que a performance nas demais métricas é muito baixa, incluindo Precision, o que é inaceitável no nosso contexto.\n",
    "\n",
    "Por esse motivo, tomamos a decisão de operar com apenas uma métrica-alvo, AffectedCountAbove1000, fazendo uso do modelo LinearDiscriminantAnalysis que melhor performou em AUC de teste. Além do AUC, o modelo teve bom equilíbrio nas demais métricas, principalmente Precision, que é essencial no nosso caso, onde não deveríamos levar a muitos falsos positivos. \n",
    "\n",
    "\n",
    "Com isso, seguimos apenas com AffectedCountAbove1000 e o modelo escolhido, com maior alinhamento ao propósito da aplicação.\n",
    "\n",
    "\n",
    "\n",
    "\n",
    "\n",
    "\n",
    "\n",
    "\n"
   ]
  },
  {
   "cell_type": "code",
   "execution_count": 75,
   "id": "c9d0c492",
   "metadata": {},
   "outputs": [
    {
     "name": "stdout",
     "output_type": "stream",
     "text": [
      "Melhor modelo: LinearDiscriminantAnalysis(covariance_estimator=None, n_components=None,\n",
      "                           priors=None, shrinkage=None, solver='svd',\n",
      "                           store_covariance=False, tol=0.0001)\n",
      "Transformation Pipeline and Model Successfully Saved\n",
      "Modelo salvo com sucesso em: ../models/selected_model.pkl\n"
     ]
    }
   ],
   "source": [
    "\n",
    "output_path = '../models/'\n",
    "nome_arquivo = 'selected_model'\n",
    "caminho_completo = os.path.join(output_path, nome_arquivo)\n",
    "\n",
    "df_avaliacoes = df_avaliacoes.sort_values(by='Test_AUC', ascending=False)\n",
    "melhor_modelo_nome = df_avaliacoes.iloc[0]['Model']\n",
    "print(f\"Melhor modelo: {melhor_modelo_nome}\")\n",
    "\n",
    "melhor_modelo = None\n",
    "for modelo in best_models:\n",
    "    if str(modelo) == melhor_modelo_nome:\n",
    "        melhor_modelo = modelo\n",
    "        break\n",
    "\n",
    "if melhor_modelo:\n",
    "    save_model(melhor_modelo, caminho_completo)\n",
    "    print(f\"Modelo salvo com sucesso em: {caminho_completo}.pkl\")"
   ]
  },
  {
   "cell_type": "markdown",
   "id": "9a7b9c7b",
   "metadata": {},
   "source": [
    "## Teste de predições com o modelo escolhido"
   ]
  },
  {
   "cell_type": "code",
   "execution_count": 76,
   "id": "b82d9a4c",
   "metadata": {},
   "outputs": [
    {
     "name": "stdout",
     "output_type": "stream",
     "text": [
      "{'predicted_label': 1.0, 'probability_score': [0.386725277499961, 0.613274722500039]}\n"
     ]
    },
    {
     "data": {
      "text/html": [
       "<div>\n",
       "<style scoped>\n",
       "    .dataframe tbody tr th:only-of-type {\n",
       "        vertical-align: middle;\n",
       "    }\n",
       "\n",
       "    .dataframe tbody tr th {\n",
       "        vertical-align: top;\n",
       "    }\n",
       "\n",
       "    .dataframe thead th {\n",
       "        text-align: right;\n",
       "    }\n",
       "</style>\n",
       "<table border=\"1\" class=\"dataframe\">\n",
       "  <thead>\n",
       "    <tr style=\"text-align: right;\">\n",
       "      <th></th>\n",
       "      <th>Disaster Subtype</th>\n",
       "      <th>Subregion</th>\n",
       "      <th>predicted_label</th>\n",
       "      <th>probability_class_0</th>\n",
       "      <th>probability_class_1</th>\n",
       "    </tr>\n",
       "  </thead>\n",
       "  <tbody>\n",
       "    <tr>\n",
       "      <th>0</th>\n",
       "      <td>Flood (General)</td>\n",
       "      <td>Sub-Saharan Africa</td>\n",
       "      <td>1.0</td>\n",
       "      <td>0.394236</td>\n",
       "      <td>0.605764</td>\n",
       "    </tr>\n",
       "    <tr>\n",
       "      <th>1</th>\n",
       "      <td>Flood (General)</td>\n",
       "      <td>South-eastern Asia</td>\n",
       "      <td>1.0</td>\n",
       "      <td>0.272926</td>\n",
       "      <td>0.727074</td>\n",
       "    </tr>\n",
       "    <tr>\n",
       "      <th>2</th>\n",
       "      <td>Riverine flood</td>\n",
       "      <td>South-eastern Asia</td>\n",
       "      <td>1.0</td>\n",
       "      <td>0.181813</td>\n",
       "      <td>0.818187</td>\n",
       "    </tr>\n",
       "    <tr>\n",
       "      <th>3</th>\n",
       "      <td>Riverine flood</td>\n",
       "      <td>Eastern Europe</td>\n",
       "      <td>0.0</td>\n",
       "      <td>0.506853</td>\n",
       "      <td>0.493147</td>\n",
       "    </tr>\n",
       "    <tr>\n",
       "      <th>4</th>\n",
       "      <td>Flash flood</td>\n",
       "      <td>Western Asia</td>\n",
       "      <td>0.0</td>\n",
       "      <td>0.635767</td>\n",
       "      <td>0.364233</td>\n",
       "    </tr>\n",
       "  </tbody>\n",
       "</table>\n",
       "</div>"
      ],
      "text/plain": [
       "  Disaster Subtype           Subregion  predicted_label  probability_class_0  \\\n",
       "0  Flood (General)  Sub-Saharan Africa              1.0             0.394236   \n",
       "1  Flood (General)  South-eastern Asia              1.0             0.272926   \n",
       "2   Riverine flood  South-eastern Asia              1.0             0.181813   \n",
       "3   Riverine flood      Eastern Europe              0.0             0.506853   \n",
       "4      Flash flood        Western Asia              0.0             0.635767   \n",
       "\n",
       "   probability_class_1  \n",
       "0             0.605764  \n",
       "1             0.727074  \n",
       "2             0.818187  \n",
       "3             0.493147  \n",
       "4             0.364233  "
      ]
     },
     "execution_count": 76,
     "metadata": {},
     "output_type": "execute_result"
    }
   ],
   "source": [
    "import sys\n",
    "import os\n",
    "\n",
    "sys.path.append(os.path.abspath(\"../\"))\n",
    "\n",
    "from models.classifier import RiskClassifier\n",
    "\n",
    "classifier = RiskClassifier()\n",
    "\n",
    "# Online prediction\n",
    "sample = {\n",
    "    \"Disaster Subtype\": \"Flood (General)\",\n",
    "    \"Subregion\": \"Latin America and the Caribbean\"\n",
    "}\n",
    "result = classifier.predict_online(sample)\n",
    "print(result)\n",
    "\n",
    "df = pd.read_csv(\"../data/processed/app_test.csv\", encoding='latin1')\n",
    "batch_result = classifier.predict_batch(df)\n",
    "batch_result.head()\n"
   ]
  }
 ],
 "metadata": {
  "kernelspec": {
   "display_name": ".venv",
   "language": "python",
   "name": "python3"
  },
  "language_info": {
   "codemirror_mode": {
    "name": "ipython",
    "version": 3
   },
   "file_extension": ".py",
   "mimetype": "text/x-python",
   "name": "python",
   "nbconvert_exporter": "python",
   "pygments_lexer": "ipython3",
   "version": "3.11.9"
  }
 },
 "nbformat": 4,
 "nbformat_minor": 5
}
